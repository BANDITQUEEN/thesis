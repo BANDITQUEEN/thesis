{
  "nbformat": 4,
  "nbformat_minor": 0,
  "metadata": {
    "kernelspec": {
      "display_name": "Python 3",
      "language": "python",
      "name": "python3"
    },
    "language_info": {
      "codemirror_mode": {
        "name": "ipython",
        "version": 3
      },
      "file_extension": ".py",
      "mimetype": "text/x-python",
      "name": "python",
      "nbconvert_exporter": "python",
      "pygments_lexer": "ipython3",
      "version": "3.7.7"
    },
    "colab": {
      "name": "FINAL_test_ClassificationLR_DT_RF_News.ipynb",
      "provenance": [],
      "collapsed_sections": []
    }
  },
  "cells": [
    {
      "cell_type": "code",
      "metadata": {
        "id": "mIN-3_f8Rlbi"
      },
      "source": [
        "import pandas as pd\n",
        "import numpy as np\n",
        "import matplotlib.pyplot as plt\n",
        "from sklearn.model_selection import RepeatedKFold, train_test_split\n",
        "from sklearn import datasets"
      ],
      "execution_count": null,
      "outputs": []
    },
    {
      "cell_type": "code",
      "metadata": {
        "id": "eWGuSzn8A3El",
        "colab": {
          "base_uri": "https://localhost:8080/"
        },
        "outputId": "186054ee-1152-49f8-888c-763cb06d47f0"
      },
      "source": [
        "from google.colab import drive\n",
        "drive.mount('/gdrive')"
      ],
      "execution_count": null,
      "outputs": [
        {
          "output_type": "stream",
          "text": [
            "Mounted at /gdrive\n"
          ],
          "name": "stdout"
        }
      ]
    },
    {
      "cell_type": "code",
      "metadata": {
        "id": "zGQbKxETA4GM",
        "colab": {
          "base_uri": "https://localhost:8080/",
          "height": 642
        },
        "outputId": "2ebf7bb6-4df7-40dc-ddca-22f3794b1071"
      },
      "source": [
        "import csv\n",
        "data = pd.read_csv(\"/gdrive/My Drive/Colab Notebooks/analyze_fake_news_stories.csv\", error_bad_lines= False)\n",
        "data.head()"
      ],
      "execution_count": null,
      "outputs": [
        {
          "output_type": "execute_result",
          "data": {
            "text/html": [
              "<div>\n",
              "<style scoped>\n",
              "    .dataframe tbody tr th:only-of-type {\n",
              "        vertical-align: middle;\n",
              "    }\n",
              "\n",
              "    .dataframe tbody tr th {\n",
              "        vertical-align: top;\n",
              "    }\n",
              "\n",
              "    .dataframe thead th {\n",
              "        text-align: right;\n",
              "    }\n",
              "</style>\n",
              "<table border=\"1\" class=\"dataframe\">\n",
              "  <thead>\n",
              "    <tr style=\"text-align: right;\">\n",
              "      <th></th>\n",
              "      <th>title</th>\n",
              "      <th>link</th>\n",
              "      <th>body</th>\n",
              "      <th>tokenized_title</th>\n",
              "      <th>tokenized_body</th>\n",
              "      <th>num_wds</th>\n",
              "      <th>num_wds_title</th>\n",
              "      <th>uniq_wds_body</th>\n",
              "      <th>without_stopwords</th>\n",
              "      <th>lemmatized_body</th>\n",
              "      <th>anger</th>\n",
              "      <th>positivity</th>\n",
              "      <th>joy</th>\n",
              "      <th>disgust</th>\n",
              "      <th>surprise</th>\n",
              "      <th>trust</th>\n",
              "      <th>anticipation</th>\n",
              "      <th>sadness</th>\n",
              "      <th>negative</th>\n",
              "      <th>fear</th>\n",
              "      <th>title_clean</th>\n",
              "      <th>body_clean</th>\n",
              "      <th>Anger_intensity</th>\n",
              "      <th>Anger_int_Title</th>\n",
              "      <th>Fear_intensity</th>\n",
              "      <th>Fear_int_Title</th>\n",
              "      <th>Joy_intensity</th>\n",
              "      <th>Joy_int_Title</th>\n",
              "      <th>Sad_intensity</th>\n",
              "      <th>Sad_int_Title</th>\n",
              "      <th>words_pos</th>\n",
              "      <th>title_pos</th>\n",
              "      <th>nouns</th>\n",
              "      <th>verbs</th>\n",
              "      <th>adjectives</th>\n",
              "      <th>adverbs</th>\n",
              "      <th>pronouns</th>\n",
              "      <th>punctuation</th>\n",
              "      <th>verbs_title</th>\n",
              "      <th>ratio</th>\n",
              "      <th>comparative_no</th>\n",
              "      <th>superlative_no</th>\n",
              "      <th>curses</th>\n",
              "    </tr>\n",
              "  </thead>\n",
              "  <tbody>\n",
              "    <tr>\n",
              "      <th>0</th>\n",
              "      <td>«Κλείδωσε» η υποψηφιότητα Φουρθιώτη στο πλευρό...</td>\n",
              "      <td>https://www.newsbreak.gr/politiki/181856/kleid...</td>\n",
              "      <td>Όπως όλα δείχνουν, ο Μένιος Φουρθιώτης που ήδη...</td>\n",
              "      <td>κλείδωσε η υποψηφιότητα φουρθιώτη στο πλευρό ...</td>\n",
              "      <td>όπως όλα δείχνουν ο μένιος φουρθιώτης που ήδη ...</td>\n",
              "      <td>210</td>\n",
              "      <td>8</td>\n",
              "      <td>135</td>\n",
              "      <td>δείχνουν μένιος φουρθιώτης θέσει λειτουργία π...</td>\n",
              "      <td>δείχνω μένιος φουρθιώτη θέσω λειτουργία πολι...</td>\n",
              "      <td>3</td>\n",
              "      <td>17</td>\n",
              "      <td>5</td>\n",
              "      <td>1</td>\n",
              "      <td>4</td>\n",
              "      <td>6</td>\n",
              "      <td>7</td>\n",
              "      <td>2</td>\n",
              "      <td>9</td>\n",
              "      <td>6</td>\n",
              "      <td>« ΚΛΕΙΔΩΣ » Η ΥΠΟΨΗΦΙΟΤΗΤ ΦΟΥΡΘΙΩΤ ΣΤ ΠΛΕΥΡ ΤΟ...</td>\n",
              "      <td>ΔΕΙΧΝ ΜΕΝ ΦΟΥΡΘΙΩΤ ΘΕΣ ΛΕΙΤΟΥΡΓ ΠΟΛΙΤ ΓΡΑΦΕ...</td>\n",
              "      <td>0.083735</td>\n",
              "      <td>0.0000</td>\n",
              "      <td>0.064147</td>\n",
              "      <td>0.000000</td>\n",
              "      <td>0.184559</td>\n",
              "      <td>0.13300</td>\n",
              "      <td>0.049147</td>\n",
              "      <td>0.000</td>\n",
              "      <td>['SPACE', 'VERB', 'ADJ', 'NOUN', 'VERB', 'NOUN...</td>\n",
              "      <td>['PUNCT', 'VERB', 'PUNCT', 'DET', 'NOUN', 'X',...</td>\n",
              "      <td>51</td>\n",
              "      <td>21</td>\n",
              "      <td>23</td>\n",
              "      <td>4</td>\n",
              "      <td>0</td>\n",
              "      <td>0</td>\n",
              "      <td>1</td>\n",
              "      <td>2.428571</td>\n",
              "      <td>0</td>\n",
              "      <td>0</td>\n",
              "      <td>0</td>\n",
              "    </tr>\n",
              "    <tr>\n",
              "      <th>1</th>\n",
              "      <td>Θανάσης Καμηλάρης: “Λαθροδιακινητές ήταν οι κλ...</td>\n",
              "      <td>https://www.pentapostagma.gr/ethnika-themata/e...</td>\n",
              "      <td>Ακούστε τον Θανάση Καμηλάρη – κάτοικο του Δέλτ...</td>\n",
              "      <td>θανάσης καμηλάρης λαθροδιακινητές ήταν οι κλέφ...</td>\n",
              "      <td>ακούστε τον θανάση καμηλάρη κάτοικο του δέλτα ...</td>\n",
              "      <td>21</td>\n",
              "      <td>12</td>\n",
              "      <td>20</td>\n",
              "      <td>ακούστε θανάση καμηλάρη κάτοικο δέλτα έβρου αν...</td>\n",
              "      <td>ακούστε θανάση καμηλάρη κάτοικο δέλτα έβρου αν...</td>\n",
              "      <td>0</td>\n",
              "      <td>0</td>\n",
              "      <td>0</td>\n",
              "      <td>0</td>\n",
              "      <td>0</td>\n",
              "      <td>0</td>\n",
              "      <td>0</td>\n",
              "      <td>0</td>\n",
              "      <td>0</td>\n",
              "      <td>0</td>\n",
              "      <td>ΘΑΝΑΣ ΚΑΜΗΛΑΡ : \" ΛΑΘΡΟΔΙΑΚΙΝΗΤ ΗΤ Ο ΚΛΕΦΤ ΤΗΣ...</td>\n",
              "      <td>ΑΚΟΥΣΤ ΘΑΝΑΣ ΚΑΜΗΛΑΡ ΚΑΤΟΙΚ ΔΕΛΤ ΕΒΡ ΑΝΑΦΕΡ ΠΡ...</td>\n",
              "      <td>0.000000</td>\n",
              "      <td>0.5610</td>\n",
              "      <td>0.000000</td>\n",
              "      <td>0.547000</td>\n",
              "      <td>0.094000</td>\n",
              "      <td>0.00000</td>\n",
              "      <td>0.000000</td>\n",
              "      <td>0.422</td>\n",
              "      <td>['VERB', 'X', 'ADJ', 'NOUN', 'NOUN', 'PRON', '...</td>\n",
              "      <td>['PROPN', 'PROPN', 'PUNCT', 'PUNCT', 'X', 'AUX...</td>\n",
              "      <td>4</td>\n",
              "      <td>2</td>\n",
              "      <td>3</td>\n",
              "      <td>1</td>\n",
              "      <td>1</td>\n",
              "      <td>0</td>\n",
              "      <td>0</td>\n",
              "      <td>2.000000</td>\n",
              "      <td>0</td>\n",
              "      <td>0</td>\n",
              "      <td>0</td>\n",
              "    </tr>\n",
              "    <tr>\n",
              "      <th>2</th>\n",
              "      <td>Νέο σκάνδαλο με το εμβόλιο της Pfizer: Μειώνου...</td>\n",
              "      <td>https://www.pronews.gr/kosmos/eyropaiki-enosi/...</td>\n",
              "      <td>Ο Ευρωπαϊκός Οργανισμός Φαρμάκων ανακοίνωσε σή...</td>\n",
              "      <td>νέο σκάνδαλο με το εμβόλιο της pfizer μειώνουν...</td>\n",
              "      <td>ο ευρωπαϊκός οργανισμός φαρμάκων ανακοίνωσε σή...</td>\n",
              "      <td>267</td>\n",
              "      <td>19</td>\n",
              "      <td>164</td>\n",
              "      <td>ευρωπαϊκός οργανισμός φαρμάκων ανακοίνωσε σήμ...</td>\n",
              "      <td>ευρωπαϊκός οργανισμός φαρμάκας ανακοίνωσε σή...</td>\n",
              "      <td>0</td>\n",
              "      <td>13</td>\n",
              "      <td>2</td>\n",
              "      <td>0</td>\n",
              "      <td>1</td>\n",
              "      <td>9</td>\n",
              "      <td>5</td>\n",
              "      <td>1</td>\n",
              "      <td>3</td>\n",
              "      <td>3</td>\n",
              "      <td>ΝΕ ΣΚΑΝΔΑΛ ΜΕ ΤΟ ΕΜΒΟΛ ΤΗΣ PFIZER : ΜΕΙΩΝ ΤΗ Δ...</td>\n",
              "      <td>ΕΥΡΩΠΑΙΚ ΟΡΓΑΝΙΣΜ ΦΑΡΜΑΚ ΑΝΑΚΟΙΝΩΣ ΣΗΜΕΡ ΜΕ...</td>\n",
              "      <td>0.084833</td>\n",
              "      <td>0.1175</td>\n",
              "      <td>0.038611</td>\n",
              "      <td>0.136750</td>\n",
              "      <td>0.123889</td>\n",
              "      <td>0.23175</td>\n",
              "      <td>0.042333</td>\n",
              "      <td>0.000</td>\n",
              "      <td>['SPACE', 'ADJ', 'NOUN', 'NOUN', 'VERB', 'ADV'...</td>\n",
              "      <td>['ADJ', 'NOUN', 'ADP', 'DET', 'NOUN', 'DET', '...</td>\n",
              "      <td>55</td>\n",
              "      <td>34</td>\n",
              "      <td>15</td>\n",
              "      <td>6</td>\n",
              "      <td>2</td>\n",
              "      <td>0</td>\n",
              "      <td>2</td>\n",
              "      <td>1.617647</td>\n",
              "      <td>0</td>\n",
              "      <td>0</td>\n",
              "      <td>0</td>\n",
              "    </tr>\n",
              "    <tr>\n",
              "      <th>3</th>\n",
              "      <td>Η ΜΕΓΑΛΥΤΕΡΗ ΑΠΑΤΗ ΣΤΗΝ ΙΣΤΟΡΙΑ ΤΩΝ ΗΠΑ! – ΤΟ ...</td>\n",
              "      <td>https://www.makeleio.gr/εξωφυλλο/Η-ΜΕΓΑΛΥΤΕΡΗ-...</td>\n",
              "      <td>Διαβάστε το άρθρο του Αμερικανού οικονομολόγου...</td>\n",
              "      <td>η μεγαλυτερη απατη στην ιστορια των ηπα το λογ...</td>\n",
              "      <td>διαβάστε το άρθρο του αμερικανού οικονομολόγου...</td>\n",
              "      <td>967</td>\n",
              "      <td>39</td>\n",
              "      <td>492</td>\n",
              "      <td>διαβάστε άρθρο αμερικανού οικονομολόγου paul c...</td>\n",
              "      <td>διαβάμαι άρθρο αμερικανός οικονομολόγος paul c...</td>\n",
              "      <td>37</td>\n",
              "      <td>69</td>\n",
              "      <td>15</td>\n",
              "      <td>17</td>\n",
              "      <td>19</td>\n",
              "      <td>43</td>\n",
              "      <td>39</td>\n",
              "      <td>30</td>\n",
              "      <td>71</td>\n",
              "      <td>30</td>\n",
              "      <td>Η ΜΕΓΑΛ ΑΠΑΤ ΣΤΗΝ ΙΣΤΟΡ ΤΟ ΗΠ ! – ΤΟ ΛΟΓΙΣΜ ΠΟ...</td>\n",
              "      <td>ΔΙΑΒ ΑΡΘΡ ΑΜΕΡΙΚΑΝ ΟΙΚΟΝΟΜΟΛΟΓ PAUL CRAIG ROBE...</td>\n",
              "      <td>0.349924</td>\n",
              "      <td>0.2849</td>\n",
              "      <td>0.292826</td>\n",
              "      <td>0.143800</td>\n",
              "      <td>0.103652</td>\n",
              "      <td>0.07490</td>\n",
              "      <td>0.167408</td>\n",
              "      <td>0.164</td>\n",
              "      <td>['VERB', 'NOUN', 'PROPN', 'NOUN', 'X', 'ADP', ...</td>\n",
              "      <td>['DET', 'PROPN', 'X', 'PROPN', 'NOUN', 'NOUN',...</td>\n",
              "      <td>233</td>\n",
              "      <td>107</td>\n",
              "      <td>103</td>\n",
              "      <td>15</td>\n",
              "      <td>6</td>\n",
              "      <td>1</td>\n",
              "      <td>2</td>\n",
              "      <td>2.177570</td>\n",
              "      <td>0</td>\n",
              "      <td>0</td>\n",
              "      <td>9</td>\n",
              "    </tr>\n",
              "    <tr>\n",
              "      <th>4</th>\n",
              "      <td>Συγκλονιστικό βίντεο: Αρμένιος στρατιώτης αναφ...</td>\n",
              "      <td>https://www.pronews.gr/amyna-asfaleia/enoples-...</td>\n",
              "      <td>Ενα συγκλονιστικό βίντεο που δείχνει Αρμένιο σ...</td>\n",
              "      <td>συγκλονιστικό βίντεο αρμένιος στρατιώτης αναφέ...</td>\n",
              "      <td>ενα συγκλονιστικό βίντεο που δείχνει αρμένιο σ...</td>\n",
              "      <td>108</td>\n",
              "      <td>12</td>\n",
              "      <td>88</td>\n",
              "      <td>ενα συγκλονιστικό βίντεο δείχνει αρμένιο στρατ...</td>\n",
              "      <td>ενα συγκλονιστικό βίντεο δείχνω αρμένιος στρατ...</td>\n",
              "      <td>6</td>\n",
              "      <td>9</td>\n",
              "      <td>2</td>\n",
              "      <td>0</td>\n",
              "      <td>3</td>\n",
              "      <td>5</td>\n",
              "      <td>3</td>\n",
              "      <td>3</td>\n",
              "      <td>6</td>\n",
              "      <td>6</td>\n",
              "      <td>ΣΥΓΚΛΟΝΙΣΤ ΒΙΝΤΕ : ΑΡΜΕΝ ΣΤΡΑΤΙΩΤ ΑΝΑΦΕΡ ΣΕ ΑΞ...</td>\n",
              "      <td>ΕΝ ΣΥΓΚΛΟΝΙΣΤ ΒΙΝΤΕ ΔΕΙΧΝ ΑΡΜΕΝ ΣΤΡΑΤΙΩΤ Ν ΑΝΑ...</td>\n",
              "      <td>0.246294</td>\n",
              "      <td>0.2280</td>\n",
              "      <td>0.172765</td>\n",
              "      <td>0.166667</td>\n",
              "      <td>0.094588</td>\n",
              "      <td>0.00000</td>\n",
              "      <td>0.103353</td>\n",
              "      <td>0.091</td>\n",
              "      <td>['DET', 'ADJ', 'X', 'VERB', 'ADJ', 'NOUN', 'NO...</td>\n",
              "      <td>['ADJ', 'X', 'PUNCT', 'ADJ', 'NOUN', 'VERB', '...</td>\n",
              "      <td>24</td>\n",
              "      <td>12</td>\n",
              "      <td>14</td>\n",
              "      <td>1</td>\n",
              "      <td>0</td>\n",
              "      <td>0</td>\n",
              "      <td>1</td>\n",
              "      <td>2.000000</td>\n",
              "      <td>0</td>\n",
              "      <td>0</td>\n",
              "      <td>0</td>\n",
              "    </tr>\n",
              "  </tbody>\n",
              "</table>\n",
              "</div>"
            ],
            "text/plain": [
              "                                               title  ... curses\n",
              "0  «Κλείδωσε» η υποψηφιότητα Φουρθιώτη στο πλευρό...  ...      0\n",
              "1  Θανάσης Καμηλάρης: “Λαθροδιακινητές ήταν οι κλ...  ...      0\n",
              "2  Νέο σκάνδαλο με το εμβόλιο της Pfizer: Μειώνου...  ...      0\n",
              "3  Η ΜΕΓΑΛΥΤΕΡΗ ΑΠΑΤΗ ΣΤΗΝ ΙΣΤΟΡΙΑ ΤΩΝ ΗΠΑ! – ΤΟ ...  ...      9\n",
              "4  Συγκλονιστικό βίντεο: Αρμένιος στρατιώτης αναφ...  ...      0\n",
              "\n",
              "[5 rows x 43 columns]"
            ]
          },
          "metadata": {},
          "execution_count": 3
        }
      ]
    },
    {
      "cell_type": "code",
      "metadata": {
        "colab": {
          "base_uri": "https://localhost:8080/"
        },
        "id": "drXRE0NOjV3-",
        "outputId": "9cacfb22-93d3-4149-ad19-c482bf64a49f"
      },
      "source": [
        "data.shape"
      ],
      "execution_count": null,
      "outputs": [
        {
          "output_type": "execute_result",
          "data": {
            "text/plain": [
              "(1087, 43)"
            ]
          },
          "metadata": {},
          "execution_count": 4
        }
      ]
    },
    {
      "cell_type": "code",
      "metadata": {
        "colab": {
          "base_uri": "https://localhost:8080/"
        },
        "id": "gskTt2-ijOV_",
        "outputId": "ec1b2b69-8858-4672-e435-d5d7a8d53939"
      },
      "source": [
        "data.isnull().sum()"
      ],
      "execution_count": null,
      "outputs": [
        {
          "output_type": "execute_result",
          "data": {
            "text/plain": [
              "title                  0\n",
              "link                   0\n",
              "body                  15\n",
              "tokenized_title        0\n",
              "tokenized_body        15\n",
              "num_wds                0\n",
              "num_wds_title          0\n",
              "uniq_wds_body          0\n",
              "without_stopwords     15\n",
              "lemmatized_body       15\n",
              "anger                  0\n",
              "positivity             0\n",
              "joy                    0\n",
              "disgust                0\n",
              "surprise               0\n",
              "trust                  0\n",
              "anticipation           0\n",
              "sadness                0\n",
              "negative               0\n",
              "fear                   0\n",
              "title_clean            0\n",
              "body_clean             0\n",
              "Anger_intensity       30\n",
              "Anger_int_Title      112\n",
              "Fear_intensity        30\n",
              "Fear_int_Title       112\n",
              "Joy_intensity         30\n",
              "Joy_int_Title        112\n",
              "Sad_intensity         30\n",
              "Sad_int_Title        112\n",
              "words_pos              0\n",
              "title_pos              0\n",
              "nouns                  0\n",
              "verbs                  0\n",
              "adjectives             0\n",
              "adverbs                0\n",
              "pronouns               0\n",
              "punctuation            0\n",
              "verbs_title            0\n",
              "ratio                 10\n",
              "comparative_no         0\n",
              "superlative_no         0\n",
              "curses                 0\n",
              "dtype: int64"
            ]
          },
          "metadata": {},
          "execution_count": 5
        }
      ]
    },
    {
      "cell_type": "code",
      "metadata": {
        "colab": {
          "base_uri": "https://localhost:8080/",
          "height": 642
        },
        "id": "qYcTKiuSR2DR",
        "outputId": "92a527f5-6081-48b7-ddbe-294451ef4d85"
      },
      "source": [
        "data2 = pd.read_csv(\"/gdrive/My Drive/Colab Notebooks/analyze_cnn_stories.csv\", error_bad_lines= False)\n",
        "data2.head()"
      ],
      "execution_count": null,
      "outputs": [
        {
          "output_type": "execute_result",
          "data": {
            "text/html": [
              "<div>\n",
              "<style scoped>\n",
              "    .dataframe tbody tr th:only-of-type {\n",
              "        vertical-align: middle;\n",
              "    }\n",
              "\n",
              "    .dataframe tbody tr th {\n",
              "        vertical-align: top;\n",
              "    }\n",
              "\n",
              "    .dataframe thead th {\n",
              "        text-align: right;\n",
              "    }\n",
              "</style>\n",
              "<table border=\"1\" class=\"dataframe\">\n",
              "  <thead>\n",
              "    <tr style=\"text-align: right;\">\n",
              "      <th></th>\n",
              "      <th>title</th>\n",
              "      <th>link</th>\n",
              "      <th>body</th>\n",
              "      <th>tokenized_title</th>\n",
              "      <th>tokenized_body</th>\n",
              "      <th>num_wds</th>\n",
              "      <th>num_wds_title</th>\n",
              "      <th>uniq_wds_body</th>\n",
              "      <th>without_stopwords</th>\n",
              "      <th>lemmatized_body</th>\n",
              "      <th>anger</th>\n",
              "      <th>positivity</th>\n",
              "      <th>joy</th>\n",
              "      <th>disgust</th>\n",
              "      <th>surprise</th>\n",
              "      <th>trust</th>\n",
              "      <th>anticipation</th>\n",
              "      <th>sadness</th>\n",
              "      <th>negative</th>\n",
              "      <th>fear</th>\n",
              "      <th>title_clean</th>\n",
              "      <th>body_clean</th>\n",
              "      <th>Anger_intensity</th>\n",
              "      <th>Anger_int_Title</th>\n",
              "      <th>Fear_intensity</th>\n",
              "      <th>Fear_int_Title</th>\n",
              "      <th>Joy_intensity</th>\n",
              "      <th>Joy_int_Title</th>\n",
              "      <th>Sad_intensity</th>\n",
              "      <th>Sad_int_Title</th>\n",
              "      <th>words_pos</th>\n",
              "      <th>title_pos</th>\n",
              "      <th>noun</th>\n",
              "      <th>verbs</th>\n",
              "      <th>adjectives</th>\n",
              "      <th>adverbs</th>\n",
              "      <th>pronouns</th>\n",
              "      <th>punctuation</th>\n",
              "      <th>verbs_title</th>\n",
              "      <th>ratio</th>\n",
              "      <th>comparative_no</th>\n",
              "      <th>superlative_no</th>\n",
              "      <th>curses</th>\n",
              "    </tr>\n",
              "  </thead>\n",
              "  <tbody>\n",
              "    <tr>\n",
              "      <th>0</th>\n",
              "      <td>Θάνατος οπαδού στη Θεσσαλονίκη: Τι λέει το πόρ...</td>\n",
              "      <td>https://www.cnn.gr/ellada/story/203229/thanato...</td>\n",
              "      <td>Σε κακώσεις στην κοιλιά, που προκλήθηκαν από τ...</td>\n",
              "      <td>θάνατος οπαδού στη θεσσαλονίκη τι λέει το πόρι...</td>\n",
              "      <td>σε κακώσεις στην κοιλιά που προκλήθηκαν από τη...</td>\n",
              "      <td>203</td>\n",
              "      <td>13</td>\n",
              "      <td>145</td>\n",
              "      <td>κακώσεις κοιλιά προκλήθηκαν παράσυρσή αυτοκίν...</td>\n",
              "      <td>κακώση κοιλιά προκλούμαι παράσυρσή αυτοκίνητ...</td>\n",
              "      <td>7</td>\n",
              "      <td>12</td>\n",
              "      <td>4</td>\n",
              "      <td>8</td>\n",
              "      <td>8</td>\n",
              "      <td>7</td>\n",
              "      <td>7</td>\n",
              "      <td>9</td>\n",
              "      <td>16</td>\n",
              "      <td>12</td>\n",
              "      <td>ΘΑΝΑΤ ΟΠΑΔ ΣΤ ΘΕΣΣΑΛΟΝ : ΤΙ ΛΕ ΤΟ ΠΟΡΙΣΜ ΤΗΣ Ι...</td>\n",
              "      <td>ΚΑΚΩΣ ΚΟΙΛ ΠΡΟΚΛ ΠΑΡΑΣΥΡΣ ΑΥΤΟΚΙΝΗΤ ΦΕΡ ΑΠΟΔ...</td>\n",
              "      <td>0.282605</td>\n",
              "      <td>0.191333</td>\n",
              "      <td>0.384368</td>\n",
              "      <td>0.619667</td>\n",
              "      <td>0.140132</td>\n",
              "      <td>0.000000</td>\n",
              "      <td>0.343658</td>\n",
              "      <td>0.544000</td>\n",
              "      <td>['SPACE', 'NOUN', 'NOUN', 'VERB', 'ADV', 'NOUN...</td>\n",
              "      <td>['X', 'NOUN', 'ADP', 'PROPN', 'PUNCT', 'PRON',...</td>\n",
              "      <td>49</td>\n",
              "      <td>20</td>\n",
              "      <td>21</td>\n",
              "      <td>3</td>\n",
              "      <td>0</td>\n",
              "      <td>0</td>\n",
              "      <td>1</td>\n",
              "      <td>2.450000</td>\n",
              "      <td>0</td>\n",
              "      <td>0</td>\n",
              "      <td>1</td>\n",
              "    </tr>\n",
              "    <tr>\n",
              "      <th>1</th>\n",
              "      <td>Συναυλία με έργα Bach και Janáček από την Ελλη...</td>\n",
              "      <td>https://www.cnn.gr/style/politismos/story/2032...</td>\n",
              "      <td>Η Ελληνική Συμφωνική Ορχήστρα Νέων (ΕΛΣΟΝ) εμφ...</td>\n",
              "      <td>συναυλία με έργα bach και janáček από την ελλη...</td>\n",
              "      <td>η ελληνική συμφωνική ορχήστρα νέων ελσον εμφαν...</td>\n",
              "      <td>750</td>\n",
              "      <td>14</td>\n",
              "      <td>402</td>\n",
              "      <td>ελληνική συμφωνική ορχήστρα νέων ελσον εμφανί...</td>\n",
              "      <td>ελληνικός συμφωνικός ορχήστρα νέα ελσον εμφα...</td>\n",
              "      <td>27</td>\n",
              "      <td>65</td>\n",
              "      <td>48</td>\n",
              "      <td>1</td>\n",
              "      <td>17</td>\n",
              "      <td>46</td>\n",
              "      <td>17</td>\n",
              "      <td>30</td>\n",
              "      <td>2</td>\n",
              "      <td>2</td>\n",
              "      <td>ΣΥΝΑΥΛ ΜΕ ΕΡΓ BACH ΚΑΙ JANÁČEK ΑΠΟ ΤΗΝ ΕΛΛΗΝ Σ...</td>\n",
              "      <td>ΕΛΛΗΝ ΣΥΜΦΩΝ ΟΡΧΗΣΤΡ ΝΕ ΕΛΣΟΝ ΕΜΦΑΝΙΖ ΦΟΡ ΔΗ...</td>\n",
              "      <td>0.061512</td>\n",
              "      <td>0.044000</td>\n",
              "      <td>0.044851</td>\n",
              "      <td>0.000000</td>\n",
              "      <td>0.387835</td>\n",
              "      <td>0.429333</td>\n",
              "      <td>0.074868</td>\n",
              "      <td>0.036333</td>\n",
              "      <td>['SPACE', 'ADJ', 'ADJ', 'NOUN', 'NOUN', 'NOUN'...</td>\n",
              "      <td>['NOUN', 'ADP', 'NOUN', 'X', 'CCONJ', 'PROPN',...</td>\n",
              "      <td>163</td>\n",
              "      <td>42</td>\n",
              "      <td>123</td>\n",
              "      <td>25</td>\n",
              "      <td>5</td>\n",
              "      <td>3</td>\n",
              "      <td>0</td>\n",
              "      <td>3.880952</td>\n",
              "      <td>3</td>\n",
              "      <td>0</td>\n",
              "      <td>4</td>\n",
              "    </tr>\n",
              "    <tr>\n",
              "      <th>2</th>\n",
              "      <td>Πρώτη των πρώτων η Πειραιώς Χρηματιστηριακή γι...</td>\n",
              "      <td>https://www.cnn.gr/oikonomia/story/203231/prot...</td>\n",
              "      <td>Στην κορυφή έφτασε η Πειραιώς ΑΕΠΕΥ ύστερα από...</td>\n",
              "      <td>πρώτη των πρώτων η πειραιώς χρηματιστηριακή γι...</td>\n",
              "      <td>στην κορυφή έφτασε η πειραιώς αεπευ ύστερα από...</td>\n",
              "      <td>190</td>\n",
              "      <td>11</td>\n",
              "      <td>138</td>\n",
              "      <td>κορυφή έφτασε πειραιώς αεπευ τριετία σταθερά ...</td>\n",
              "      <td>κορυφή έφτασε πειραιώς αεπευ τριετία σταθερά...</td>\n",
              "      <td>1</td>\n",
              "      <td>8</td>\n",
              "      <td>1</td>\n",
              "      <td>2</td>\n",
              "      <td>2</td>\n",
              "      <td>9</td>\n",
              "      <td>0</td>\n",
              "      <td>0</td>\n",
              "      <td>4</td>\n",
              "      <td>3</td>\n",
              "      <td>ΠΡΩΤ ΤΩΝ ΠΡΩΤ Η ΠΕΙΡΑΙΩΣ ΧΡΗΜΑΤΙΣΤΗΡΙΑΚ ΓΙΑ ΤΟ...</td>\n",
              "      <td>ΚΟΡΥΦ ΕΦΤΑΣ ΠΕΙΡΑΙΩΣ ΑΕΠΕ ΤΡΙΕΤ ΣΤΑΘΕΡ ΑΝΟΔ ...</td>\n",
              "      <td>0.080469</td>\n",
              "      <td>NaN</td>\n",
              "      <td>0.190656</td>\n",
              "      <td>NaN</td>\n",
              "      <td>0.134437</td>\n",
              "      <td>NaN</td>\n",
              "      <td>0.038562</td>\n",
              "      <td>NaN</td>\n",
              "      <td>['SPACE', 'NOUN', 'VERB', 'ADV', 'VERB', 'NOUN...</td>\n",
              "      <td>['NUM', 'DET', 'PROPN', 'DET', 'ADJ', 'NOUN', ...</td>\n",
              "      <td>38</td>\n",
              "      <td>19</td>\n",
              "      <td>30</td>\n",
              "      <td>7</td>\n",
              "      <td>0</td>\n",
              "      <td>0</td>\n",
              "      <td>0</td>\n",
              "      <td>2.000000</td>\n",
              "      <td>3</td>\n",
              "      <td>0</td>\n",
              "      <td>1</td>\n",
              "    </tr>\n",
              "    <tr>\n",
              "      <th>3</th>\n",
              "      <td>Πέντε χρόνια από την τραγωδία του Charlie Hebd...</td>\n",
              "      <td>https://www.cnn.gr/kosmos/story/203232/pente-x...</td>\n",
              "      <td>Πέντε χρόνια συμπληρώνονται σήμερα από την τρο...</td>\n",
              "      <td>πέντε χρόνια από την τραγωδία του charlie hebd...</td>\n",
              "      <td>πέντε χρόνια συμπληρώνονται σήμερα από την τρο...</td>\n",
              "      <td>403</td>\n",
              "      <td>14</td>\n",
              "      <td>243</td>\n",
              "      <td>πέντε χρόνια συμπληρώνονται σήμερα τρομοκρατικ...</td>\n",
              "      <td>πέντε χρόνια συμπληρώνομαι σήμερα τρομοκρατικό...</td>\n",
              "      <td>6</td>\n",
              "      <td>26</td>\n",
              "      <td>5</td>\n",
              "      <td>3</td>\n",
              "      <td>6</td>\n",
              "      <td>16</td>\n",
              "      <td>8</td>\n",
              "      <td>8</td>\n",
              "      <td>12</td>\n",
              "      <td>8</td>\n",
              "      <td>ΠΕΝΤ ΧΡΟΝ ΑΠΟ ΤΗΝ ΤΡΑΓΩΔ ΤΟΥ CHARLIE HEBDO : Τ...</td>\n",
              "      <td>ΠΕΝΤ ΧΡΟΝ ΣΥΜΠΛΗΡΩΝ ΣΗΜΕΡ ΤΡΟΜΟΚΡΑΤ ΕΠΙΘΕΣ ΓΡΑ...</td>\n",
              "      <td>0.344000</td>\n",
              "      <td>0.000000</td>\n",
              "      <td>0.364032</td>\n",
              "      <td>0.536333</td>\n",
              "      <td>0.138742</td>\n",
              "      <td>0.151667</td>\n",
              "      <td>0.198919</td>\n",
              "      <td>0.468667</td>\n",
              "      <td>['NUM', 'NOUN', 'VERB', 'ADV', 'ADJ', 'NOUN', ...</td>\n",
              "      <td>['NUM', 'NOUN', 'ADP', 'DET', 'NOUN', 'DET', '...</td>\n",
              "      <td>90</td>\n",
              "      <td>54</td>\n",
              "      <td>39</td>\n",
              "      <td>15</td>\n",
              "      <td>1</td>\n",
              "      <td>1</td>\n",
              "      <td>0</td>\n",
              "      <td>1.666667</td>\n",
              "      <td>0</td>\n",
              "      <td>0</td>\n",
              "      <td>2</td>\n",
              "    </tr>\n",
              "    <tr>\n",
              "      <th>4</th>\n",
              "      <td>Λάρισα: Έρευνα διέταξε ο Μητροπολίτης για τον ...</td>\n",
              "      <td>https://www.cnn.gr/ellada/story/203233/larisa-...</td>\n",
              "      <td>Μετά τις καταγγελίες για χειροδικία ιερέα εις ...</td>\n",
              "      <td>λάρισα έρευνα διέταξε ο μητροπολίτης για τον ι...</td>\n",
              "      <td>μετά τις καταγγελίες για χειροδικία ιερέα εις ...</td>\n",
              "      <td>206</td>\n",
              "      <td>15</td>\n",
              "      <td>141</td>\n",
              "      <td>καταγγελίες χειροδικία ιερέα βάρους 60χρονης ...</td>\n",
              "      <td>καταγγελία χειροδικία ιερέας βάρος 60χρονη λ...</td>\n",
              "      <td>7</td>\n",
              "      <td>16</td>\n",
              "      <td>8</td>\n",
              "      <td>5</td>\n",
              "      <td>7</td>\n",
              "      <td>14</td>\n",
              "      <td>9</td>\n",
              "      <td>4</td>\n",
              "      <td>9</td>\n",
              "      <td>12</td>\n",
              "      <td>ΛΑΡΙΣ : ΕΡΕΥΝ ΔΙΕΤΑΞ Ο ΜΗΤΡΟΠΟΛΙΤ ΓΙΑ ΤΟΝ ΙΕΡ ...</td>\n",
              "      <td>ΚΑΤΑΓΓΕΛ ΧΕΙΡΟΔΙΚ ΙΕΡ ΒΑΡ 60ΧΡΟΝΗΣ ΛΑΡΙΣ ΜΗΤ...</td>\n",
              "      <td>0.216222</td>\n",
              "      <td>0.000000</td>\n",
              "      <td>0.176600</td>\n",
              "      <td>0.000000</td>\n",
              "      <td>0.233356</td>\n",
              "      <td>0.000000</td>\n",
              "      <td>0.117578</td>\n",
              "      <td>0.000000</td>\n",
              "      <td>['SPACE', 'NOUN', 'NOUN', 'NOUN', 'NOUN', 'NOU...</td>\n",
              "      <td>['PROPN', 'PUNCT', 'NOUN', 'VERB', 'DET', 'PRO...</td>\n",
              "      <td>50</td>\n",
              "      <td>24</td>\n",
              "      <td>17</td>\n",
              "      <td>6</td>\n",
              "      <td>0</td>\n",
              "      <td>4</td>\n",
              "      <td>3</td>\n",
              "      <td>2.083333</td>\n",
              "      <td>1</td>\n",
              "      <td>0</td>\n",
              "      <td>1</td>\n",
              "    </tr>\n",
              "  </tbody>\n",
              "</table>\n",
              "</div>"
            ],
            "text/plain": [
              "                                               title  ... curses\n",
              "0  Θάνατος οπαδού στη Θεσσαλονίκη: Τι λέει το πόρ...  ...      1\n",
              "1  Συναυλία με έργα Bach και Janáček από την Ελλη...  ...      4\n",
              "2  Πρώτη των πρώτων η Πειραιώς Χρηματιστηριακή γι...  ...      1\n",
              "3  Πέντε χρόνια από την τραγωδία του Charlie Hebd...  ...      2\n",
              "4  Λάρισα: Έρευνα διέταξε ο Μητροπολίτης για τον ...  ...      1\n",
              "\n",
              "[5 rows x 43 columns]"
            ]
          },
          "metadata": {},
          "execution_count": 6
        }
      ]
    },
    {
      "cell_type": "code",
      "metadata": {
        "colab": {
          "base_uri": "https://localhost:8080/"
        },
        "id": "oxNtdJs5XdvM",
        "outputId": "ae5987ad-3ad6-4eee-f97d-08e26d10b48c"
      },
      "source": [
        "data2.shape"
      ],
      "execution_count": null,
      "outputs": [
        {
          "output_type": "execute_result",
          "data": {
            "text/plain": [
              "(2760, 43)"
            ]
          },
          "metadata": {},
          "execution_count": 7
        }
      ]
    },
    {
      "cell_type": "code",
      "metadata": {
        "id": "rNdAhoKp_k2f"
      },
      "source": [
        "data2.rename(columns = {'noun':'nouns'}, inplace = True)"
      ],
      "execution_count": null,
      "outputs": []
    },
    {
      "cell_type": "code",
      "metadata": {
        "colab": {
          "base_uri": "https://localhost:8080/",
          "height": 1000
        },
        "id": "z5ImVuQYAHnV",
        "outputId": "a4cebad6-1dbd-461b-9d6e-b5b1b85159a7"
      },
      "source": [
        "data2"
      ],
      "execution_count": null,
      "outputs": [
        {
          "output_type": "execute_result",
          "data": {
            "text/html": [
              "<div>\n",
              "<style scoped>\n",
              "    .dataframe tbody tr th:only-of-type {\n",
              "        vertical-align: middle;\n",
              "    }\n",
              "\n",
              "    .dataframe tbody tr th {\n",
              "        vertical-align: top;\n",
              "    }\n",
              "\n",
              "    .dataframe thead th {\n",
              "        text-align: right;\n",
              "    }\n",
              "</style>\n",
              "<table border=\"1\" class=\"dataframe\">\n",
              "  <thead>\n",
              "    <tr style=\"text-align: right;\">\n",
              "      <th></th>\n",
              "      <th>title</th>\n",
              "      <th>link</th>\n",
              "      <th>body</th>\n",
              "      <th>tokenized_title</th>\n",
              "      <th>tokenized_body</th>\n",
              "      <th>num_wds</th>\n",
              "      <th>num_wds_title</th>\n",
              "      <th>uniq_wds_body</th>\n",
              "      <th>without_stopwords</th>\n",
              "      <th>lemmatized_body</th>\n",
              "      <th>anger</th>\n",
              "      <th>positivity</th>\n",
              "      <th>joy</th>\n",
              "      <th>disgust</th>\n",
              "      <th>surprise</th>\n",
              "      <th>trust</th>\n",
              "      <th>anticipation</th>\n",
              "      <th>sadness</th>\n",
              "      <th>negative</th>\n",
              "      <th>fear</th>\n",
              "      <th>title_clean</th>\n",
              "      <th>body_clean</th>\n",
              "      <th>Anger_intensity</th>\n",
              "      <th>Anger_int_Title</th>\n",
              "      <th>Fear_intensity</th>\n",
              "      <th>Fear_int_Title</th>\n",
              "      <th>Joy_intensity</th>\n",
              "      <th>Joy_int_Title</th>\n",
              "      <th>Sad_intensity</th>\n",
              "      <th>Sad_int_Title</th>\n",
              "      <th>words_pos</th>\n",
              "      <th>title_pos</th>\n",
              "      <th>nouns</th>\n",
              "      <th>verbs</th>\n",
              "      <th>adjectives</th>\n",
              "      <th>adverbs</th>\n",
              "      <th>pronouns</th>\n",
              "      <th>punctuation</th>\n",
              "      <th>verbs_title</th>\n",
              "      <th>ratio</th>\n",
              "      <th>comparative_no</th>\n",
              "      <th>superlative_no</th>\n",
              "      <th>curses</th>\n",
              "    </tr>\n",
              "  </thead>\n",
              "  <tbody>\n",
              "    <tr>\n",
              "      <th>0</th>\n",
              "      <td>Θάνατος οπαδού στη Θεσσαλονίκη: Τι λέει το πόρ...</td>\n",
              "      <td>https://www.cnn.gr/ellada/story/203229/thanato...</td>\n",
              "      <td>Σε κακώσεις στην κοιλιά, που προκλήθηκαν από τ...</td>\n",
              "      <td>θάνατος οπαδού στη θεσσαλονίκη τι λέει το πόρι...</td>\n",
              "      <td>σε κακώσεις στην κοιλιά που προκλήθηκαν από τη...</td>\n",
              "      <td>203</td>\n",
              "      <td>13</td>\n",
              "      <td>145</td>\n",
              "      <td>κακώσεις κοιλιά προκλήθηκαν παράσυρσή αυτοκίν...</td>\n",
              "      <td>κακώση κοιλιά προκλούμαι παράσυρσή αυτοκίνητ...</td>\n",
              "      <td>7</td>\n",
              "      <td>12</td>\n",
              "      <td>4</td>\n",
              "      <td>8</td>\n",
              "      <td>8</td>\n",
              "      <td>7</td>\n",
              "      <td>7</td>\n",
              "      <td>9</td>\n",
              "      <td>16</td>\n",
              "      <td>12</td>\n",
              "      <td>ΘΑΝΑΤ ΟΠΑΔ ΣΤ ΘΕΣΣΑΛΟΝ : ΤΙ ΛΕ ΤΟ ΠΟΡΙΣΜ ΤΗΣ Ι...</td>\n",
              "      <td>ΚΑΚΩΣ ΚΟΙΛ ΠΡΟΚΛ ΠΑΡΑΣΥΡΣ ΑΥΤΟΚΙΝΗΤ ΦΕΡ ΑΠΟΔ...</td>\n",
              "      <td>0.282605</td>\n",
              "      <td>0.191333</td>\n",
              "      <td>0.384368</td>\n",
              "      <td>0.619667</td>\n",
              "      <td>0.140132</td>\n",
              "      <td>0.000000</td>\n",
              "      <td>0.343658</td>\n",
              "      <td>0.544000</td>\n",
              "      <td>['SPACE', 'NOUN', 'NOUN', 'VERB', 'ADV', 'NOUN...</td>\n",
              "      <td>['X', 'NOUN', 'ADP', 'PROPN', 'PUNCT', 'PRON',...</td>\n",
              "      <td>49</td>\n",
              "      <td>20</td>\n",
              "      <td>21</td>\n",
              "      <td>3</td>\n",
              "      <td>0</td>\n",
              "      <td>0</td>\n",
              "      <td>1</td>\n",
              "      <td>2.450000</td>\n",
              "      <td>0</td>\n",
              "      <td>0</td>\n",
              "      <td>1</td>\n",
              "    </tr>\n",
              "    <tr>\n",
              "      <th>1</th>\n",
              "      <td>Συναυλία με έργα Bach και Janáček από την Ελλη...</td>\n",
              "      <td>https://www.cnn.gr/style/politismos/story/2032...</td>\n",
              "      <td>Η Ελληνική Συμφωνική Ορχήστρα Νέων (ΕΛΣΟΝ) εμφ...</td>\n",
              "      <td>συναυλία με έργα bach και janáček από την ελλη...</td>\n",
              "      <td>η ελληνική συμφωνική ορχήστρα νέων ελσον εμφαν...</td>\n",
              "      <td>750</td>\n",
              "      <td>14</td>\n",
              "      <td>402</td>\n",
              "      <td>ελληνική συμφωνική ορχήστρα νέων ελσον εμφανί...</td>\n",
              "      <td>ελληνικός συμφωνικός ορχήστρα νέα ελσον εμφα...</td>\n",
              "      <td>27</td>\n",
              "      <td>65</td>\n",
              "      <td>48</td>\n",
              "      <td>1</td>\n",
              "      <td>17</td>\n",
              "      <td>46</td>\n",
              "      <td>17</td>\n",
              "      <td>30</td>\n",
              "      <td>2</td>\n",
              "      <td>2</td>\n",
              "      <td>ΣΥΝΑΥΛ ΜΕ ΕΡΓ BACH ΚΑΙ JANÁČEK ΑΠΟ ΤΗΝ ΕΛΛΗΝ Σ...</td>\n",
              "      <td>ΕΛΛΗΝ ΣΥΜΦΩΝ ΟΡΧΗΣΤΡ ΝΕ ΕΛΣΟΝ ΕΜΦΑΝΙΖ ΦΟΡ ΔΗ...</td>\n",
              "      <td>0.061512</td>\n",
              "      <td>0.044000</td>\n",
              "      <td>0.044851</td>\n",
              "      <td>0.000000</td>\n",
              "      <td>0.387835</td>\n",
              "      <td>0.429333</td>\n",
              "      <td>0.074868</td>\n",
              "      <td>0.036333</td>\n",
              "      <td>['SPACE', 'ADJ', 'ADJ', 'NOUN', 'NOUN', 'NOUN'...</td>\n",
              "      <td>['NOUN', 'ADP', 'NOUN', 'X', 'CCONJ', 'PROPN',...</td>\n",
              "      <td>163</td>\n",
              "      <td>42</td>\n",
              "      <td>123</td>\n",
              "      <td>25</td>\n",
              "      <td>5</td>\n",
              "      <td>3</td>\n",
              "      <td>0</td>\n",
              "      <td>3.880952</td>\n",
              "      <td>3</td>\n",
              "      <td>0</td>\n",
              "      <td>4</td>\n",
              "    </tr>\n",
              "    <tr>\n",
              "      <th>2</th>\n",
              "      <td>Πρώτη των πρώτων η Πειραιώς Χρηματιστηριακή γι...</td>\n",
              "      <td>https://www.cnn.gr/oikonomia/story/203231/prot...</td>\n",
              "      <td>Στην κορυφή έφτασε η Πειραιώς ΑΕΠΕΥ ύστερα από...</td>\n",
              "      <td>πρώτη των πρώτων η πειραιώς χρηματιστηριακή γι...</td>\n",
              "      <td>στην κορυφή έφτασε η πειραιώς αεπευ ύστερα από...</td>\n",
              "      <td>190</td>\n",
              "      <td>11</td>\n",
              "      <td>138</td>\n",
              "      <td>κορυφή έφτασε πειραιώς αεπευ τριετία σταθερά ...</td>\n",
              "      <td>κορυφή έφτασε πειραιώς αεπευ τριετία σταθερά...</td>\n",
              "      <td>1</td>\n",
              "      <td>8</td>\n",
              "      <td>1</td>\n",
              "      <td>2</td>\n",
              "      <td>2</td>\n",
              "      <td>9</td>\n",
              "      <td>0</td>\n",
              "      <td>0</td>\n",
              "      <td>4</td>\n",
              "      <td>3</td>\n",
              "      <td>ΠΡΩΤ ΤΩΝ ΠΡΩΤ Η ΠΕΙΡΑΙΩΣ ΧΡΗΜΑΤΙΣΤΗΡΙΑΚ ΓΙΑ ΤΟ...</td>\n",
              "      <td>ΚΟΡΥΦ ΕΦΤΑΣ ΠΕΙΡΑΙΩΣ ΑΕΠΕ ΤΡΙΕΤ ΣΤΑΘΕΡ ΑΝΟΔ ...</td>\n",
              "      <td>0.080469</td>\n",
              "      <td>NaN</td>\n",
              "      <td>0.190656</td>\n",
              "      <td>NaN</td>\n",
              "      <td>0.134437</td>\n",
              "      <td>NaN</td>\n",
              "      <td>0.038562</td>\n",
              "      <td>NaN</td>\n",
              "      <td>['SPACE', 'NOUN', 'VERB', 'ADV', 'VERB', 'NOUN...</td>\n",
              "      <td>['NUM', 'DET', 'PROPN', 'DET', 'ADJ', 'NOUN', ...</td>\n",
              "      <td>38</td>\n",
              "      <td>19</td>\n",
              "      <td>30</td>\n",
              "      <td>7</td>\n",
              "      <td>0</td>\n",
              "      <td>0</td>\n",
              "      <td>0</td>\n",
              "      <td>2.000000</td>\n",
              "      <td>3</td>\n",
              "      <td>0</td>\n",
              "      <td>1</td>\n",
              "    </tr>\n",
              "    <tr>\n",
              "      <th>3</th>\n",
              "      <td>Πέντε χρόνια από την τραγωδία του Charlie Hebd...</td>\n",
              "      <td>https://www.cnn.gr/kosmos/story/203232/pente-x...</td>\n",
              "      <td>Πέντε χρόνια συμπληρώνονται σήμερα από την τρο...</td>\n",
              "      <td>πέντε χρόνια από την τραγωδία του charlie hebd...</td>\n",
              "      <td>πέντε χρόνια συμπληρώνονται σήμερα από την τρο...</td>\n",
              "      <td>403</td>\n",
              "      <td>14</td>\n",
              "      <td>243</td>\n",
              "      <td>πέντε χρόνια συμπληρώνονται σήμερα τρομοκρατικ...</td>\n",
              "      <td>πέντε χρόνια συμπληρώνομαι σήμερα τρομοκρατικό...</td>\n",
              "      <td>6</td>\n",
              "      <td>26</td>\n",
              "      <td>5</td>\n",
              "      <td>3</td>\n",
              "      <td>6</td>\n",
              "      <td>16</td>\n",
              "      <td>8</td>\n",
              "      <td>8</td>\n",
              "      <td>12</td>\n",
              "      <td>8</td>\n",
              "      <td>ΠΕΝΤ ΧΡΟΝ ΑΠΟ ΤΗΝ ΤΡΑΓΩΔ ΤΟΥ CHARLIE HEBDO : Τ...</td>\n",
              "      <td>ΠΕΝΤ ΧΡΟΝ ΣΥΜΠΛΗΡΩΝ ΣΗΜΕΡ ΤΡΟΜΟΚΡΑΤ ΕΠΙΘΕΣ ΓΡΑ...</td>\n",
              "      <td>0.344000</td>\n",
              "      <td>0.000000</td>\n",
              "      <td>0.364032</td>\n",
              "      <td>0.536333</td>\n",
              "      <td>0.138742</td>\n",
              "      <td>0.151667</td>\n",
              "      <td>0.198919</td>\n",
              "      <td>0.468667</td>\n",
              "      <td>['NUM', 'NOUN', 'VERB', 'ADV', 'ADJ', 'NOUN', ...</td>\n",
              "      <td>['NUM', 'NOUN', 'ADP', 'DET', 'NOUN', 'DET', '...</td>\n",
              "      <td>90</td>\n",
              "      <td>54</td>\n",
              "      <td>39</td>\n",
              "      <td>15</td>\n",
              "      <td>1</td>\n",
              "      <td>1</td>\n",
              "      <td>0</td>\n",
              "      <td>1.666667</td>\n",
              "      <td>0</td>\n",
              "      <td>0</td>\n",
              "      <td>2</td>\n",
              "    </tr>\n",
              "    <tr>\n",
              "      <th>4</th>\n",
              "      <td>Λάρισα: Έρευνα διέταξε ο Μητροπολίτης για τον ...</td>\n",
              "      <td>https://www.cnn.gr/ellada/story/203233/larisa-...</td>\n",
              "      <td>Μετά τις καταγγελίες για χειροδικία ιερέα εις ...</td>\n",
              "      <td>λάρισα έρευνα διέταξε ο μητροπολίτης για τον ι...</td>\n",
              "      <td>μετά τις καταγγελίες για χειροδικία ιερέα εις ...</td>\n",
              "      <td>206</td>\n",
              "      <td>15</td>\n",
              "      <td>141</td>\n",
              "      <td>καταγγελίες χειροδικία ιερέα βάρους 60χρονης ...</td>\n",
              "      <td>καταγγελία χειροδικία ιερέας βάρος 60χρονη λ...</td>\n",
              "      <td>7</td>\n",
              "      <td>16</td>\n",
              "      <td>8</td>\n",
              "      <td>5</td>\n",
              "      <td>7</td>\n",
              "      <td>14</td>\n",
              "      <td>9</td>\n",
              "      <td>4</td>\n",
              "      <td>9</td>\n",
              "      <td>12</td>\n",
              "      <td>ΛΑΡΙΣ : ΕΡΕΥΝ ΔΙΕΤΑΞ Ο ΜΗΤΡΟΠΟΛΙΤ ΓΙΑ ΤΟΝ ΙΕΡ ...</td>\n",
              "      <td>ΚΑΤΑΓΓΕΛ ΧΕΙΡΟΔΙΚ ΙΕΡ ΒΑΡ 60ΧΡΟΝΗΣ ΛΑΡΙΣ ΜΗΤ...</td>\n",
              "      <td>0.216222</td>\n",
              "      <td>0.000000</td>\n",
              "      <td>0.176600</td>\n",
              "      <td>0.000000</td>\n",
              "      <td>0.233356</td>\n",
              "      <td>0.000000</td>\n",
              "      <td>0.117578</td>\n",
              "      <td>0.000000</td>\n",
              "      <td>['SPACE', 'NOUN', 'NOUN', 'NOUN', 'NOUN', 'NOU...</td>\n",
              "      <td>['PROPN', 'PUNCT', 'NOUN', 'VERB', 'DET', 'PRO...</td>\n",
              "      <td>50</td>\n",
              "      <td>24</td>\n",
              "      <td>17</td>\n",
              "      <td>6</td>\n",
              "      <td>0</td>\n",
              "      <td>4</td>\n",
              "      <td>3</td>\n",
              "      <td>2.083333</td>\n",
              "      <td>1</td>\n",
              "      <td>0</td>\n",
              "      <td>1</td>\n",
              "    </tr>\n",
              "    <tr>\n",
              "      <th>...</th>\n",
              "      <td>...</td>\n",
              "      <td>...</td>\n",
              "      <td>...</td>\n",
              "      <td>...</td>\n",
              "      <td>...</td>\n",
              "      <td>...</td>\n",
              "      <td>...</td>\n",
              "      <td>...</td>\n",
              "      <td>...</td>\n",
              "      <td>...</td>\n",
              "      <td>...</td>\n",
              "      <td>...</td>\n",
              "      <td>...</td>\n",
              "      <td>...</td>\n",
              "      <td>...</td>\n",
              "      <td>...</td>\n",
              "      <td>...</td>\n",
              "      <td>...</td>\n",
              "      <td>...</td>\n",
              "      <td>...</td>\n",
              "      <td>...</td>\n",
              "      <td>...</td>\n",
              "      <td>...</td>\n",
              "      <td>...</td>\n",
              "      <td>...</td>\n",
              "      <td>...</td>\n",
              "      <td>...</td>\n",
              "      <td>...</td>\n",
              "      <td>...</td>\n",
              "      <td>...</td>\n",
              "      <td>...</td>\n",
              "      <td>...</td>\n",
              "      <td>...</td>\n",
              "      <td>...</td>\n",
              "      <td>...</td>\n",
              "      <td>...</td>\n",
              "      <td>...</td>\n",
              "      <td>...</td>\n",
              "      <td>...</td>\n",
              "      <td>...</td>\n",
              "      <td>...</td>\n",
              "      <td>...</td>\n",
              "      <td>...</td>\n",
              "    </tr>\n",
              "    <tr>\n",
              "      <th>2755</th>\n",
              "      <td>Κρεμλίνο: Αντικρουόμενες οι πληροφορίες για το...</td>\n",
              "      <td>https://www.cnn.gr/kosmos/story/89487/kremlino...</td>\n",
              "      <td>Το Κρεμλίνο έχει στη διάθεσή του «αντικρουόμεν...</td>\n",
              "      <td>κρεμλίνο αντικρουόμενες οι πληροφορίες για τον...</td>\n",
              "      <td>το κρεμλίνο έχει στη διάθεσή του αντικρουόμενε...</td>\n",
              "      <td>229</td>\n",
              "      <td>16</td>\n",
              "      <td>154</td>\n",
              "      <td>κρεμλίνο διάθεσή αντικρουόμενες πληροφορίες θ...</td>\n",
              "      <td>κρεμλίνος διάθεσής αντικρουόμενες πληροφορία...</td>\n",
              "      <td>3</td>\n",
              "      <td>14</td>\n",
              "      <td>5</td>\n",
              "      <td>1</td>\n",
              "      <td>6</td>\n",
              "      <td>10</td>\n",
              "      <td>8</td>\n",
              "      <td>3</td>\n",
              "      <td>8</td>\n",
              "      <td>6</td>\n",
              "      <td>ΚΡΕΜΛΙΝ : ΑΝΤΙΚΡΟΥΟΜΕΝ ΟΙ ΠΛΗΡΟΦΟΡ ΓΙΑ ΤΟΝ ΘΑΝ...</td>\n",
              "      <td>ΚΡΕΜΛΙΝ ΔΙΑΘΕΣ ΑΝΤΙΚΡΟΥΟΜΕΝ ΠΛΗΡΟΦΟΡ ΘΑΝΑΤ Ε...</td>\n",
              "      <td>0.117955</td>\n",
              "      <td>0.191333</td>\n",
              "      <td>0.250864</td>\n",
              "      <td>0.494667</td>\n",
              "      <td>0.074295</td>\n",
              "      <td>0.000000</td>\n",
              "      <td>0.237409</td>\n",
              "      <td>0.544000</td>\n",
              "      <td>['SPACE', 'PROPN', 'NOUN', 'ADJ', 'NOUN', 'NOU...</td>\n",
              "      <td>['PROPN', 'PUNCT', 'ADJ', 'DET', 'NOUN', 'ADP'...</td>\n",
              "      <td>51</td>\n",
              "      <td>19</td>\n",
              "      <td>23</td>\n",
              "      <td>6</td>\n",
              "      <td>0</td>\n",
              "      <td>0</td>\n",
              "      <td>0</td>\n",
              "      <td>2.684211</td>\n",
              "      <td>0</td>\n",
              "      <td>0</td>\n",
              "      <td>0</td>\n",
              "    </tr>\n",
              "    <tr>\n",
              "      <th>2756</th>\n",
              "      <td>Η «Μέδουσα» χτύπησε και τη Θεσσαλονίκη - Προβλ...</td>\n",
              "      <td>https://www.cnn.gr/ellada/story/89488/h-medoys...</td>\n",
              "      <td>Μποτιλιαρισμένοι είναι οι κεντρικοί δρόμοι της...</td>\n",
              "      <td>η μέδουσα χτύπησε και τη θεσσαλονίκη προβλήματ...</td>\n",
              "      <td>μποτιλιαρισμένοι είναι οι κεντρικοί δρόμοι της...</td>\n",
              "      <td>228</td>\n",
              "      <td>15</td>\n",
              "      <td>152</td>\n",
              "      <td>μποτιλιαρισμένοι κεντρικοί δρόμοι θεσσαλονίκης...</td>\n",
              "      <td>μποτιλιαρισμένος κεντρικός δρόμος θεσσαλονίκη ...</td>\n",
              "      <td>1</td>\n",
              "      <td>5</td>\n",
              "      <td>0</td>\n",
              "      <td>0</td>\n",
              "      <td>1</td>\n",
              "      <td>2</td>\n",
              "      <td>2</td>\n",
              "      <td>4</td>\n",
              "      <td>7</td>\n",
              "      <td>3</td>\n",
              "      <td>Η « ΜΕΔΟΥΣ » ΧΤΥΠ ΚΑΙ ΤΗ ΘΕΣΣΑΛΟΝ - ΠΡΟΒΛΗΜ ΚΑ...</td>\n",
              "      <td>ΜΠΟΤΙΛΙΑΡΙΣΜΕΝ ΚΕΝΤΡ ΔΡΟΜ ΘΕΣΣΑΛΟΝ ΕΝΤΟΝ ΒΡΟΧΟ...</td>\n",
              "      <td>0.099343</td>\n",
              "      <td>0.287333</td>\n",
              "      <td>0.229714</td>\n",
              "      <td>0.260667</td>\n",
              "      <td>0.069286</td>\n",
              "      <td>0.020667</td>\n",
              "      <td>0.215200</td>\n",
              "      <td>0.331000</td>\n",
              "      <td>['ADJ', 'ADJ', 'NOUN', 'PROPN', 'ADJ', 'NOUN',...</td>\n",
              "      <td>['DET', 'PUNCT', 'ADJ', 'PUNCT', 'VERB', 'CCON...</td>\n",
              "      <td>61</td>\n",
              "      <td>24</td>\n",
              "      <td>34</td>\n",
              "      <td>3</td>\n",
              "      <td>0</td>\n",
              "      <td>0</td>\n",
              "      <td>1</td>\n",
              "      <td>2.541667</td>\n",
              "      <td>0</td>\n",
              "      <td>0</td>\n",
              "      <td>1</td>\n",
              "    </tr>\n",
              "    <tr>\n",
              "      <th>2757</th>\n",
              "      <td>Γιατί ο Γουίνι το αρκουδάκι είναι θύμα λογοκρι...</td>\n",
              "      <td>https://www.cnn.gr/kosmos/story/89490/giati-o-...</td>\n",
              "      <td>Ο Γουίνι το αρκουδάκι έχει αποκλειστεί από τα ...</td>\n",
              "      <td>γιατί ο γουίνι το αρκουδάκι είναι θύμα λογοκρι...</td>\n",
              "      <td>ο γουίνι το αρκουδάκι έχει αποκλειστεί από τα ...</td>\n",
              "      <td>208</td>\n",
              "      <td>12</td>\n",
              "      <td>146</td>\n",
              "      <td>γουίνι αρκουδάκι αποκλειστεί κοινωνικής δικτύ...</td>\n",
              "      <td>γουίνι αρκουδάκι αποκλειστώ κοινωνικός δικτύ...</td>\n",
              "      <td>3</td>\n",
              "      <td>13</td>\n",
              "      <td>4</td>\n",
              "      <td>1</td>\n",
              "      <td>0</td>\n",
              "      <td>11</td>\n",
              "      <td>3</td>\n",
              "      <td>1</td>\n",
              "      <td>4</td>\n",
              "      <td>3</td>\n",
              "      <td>ΓΙΑΤΙ Ο ΓΟΥΙΝ ΤΟ ΑΡΚΟΥΔΑΚ ΕΙΝΑΙ ΘΥΜ ΛΟΓΟΚΡΙΣ Σ...</td>\n",
              "      <td>ΓΟΥΙΝ ΑΡΚΟΥΔΑΚ ΑΠΟΚΛΕΙΣΤ ΚΟΙΝΩΝ ΔΙΚΤΥΩΣ ΚΙΝ ...</td>\n",
              "      <td>0.194818</td>\n",
              "      <td>2.336000</td>\n",
              "      <td>0.200061</td>\n",
              "      <td>1.406000</td>\n",
              "      <td>0.279636</td>\n",
              "      <td>0.000000</td>\n",
              "      <td>0.033152</td>\n",
              "      <td>1.453000</td>\n",
              "      <td>['SPACE', 'NOUN', 'NOUN', 'VERB', 'ADJ', 'NOUN...</td>\n",
              "      <td>['ADV', 'DET', 'PROPN', 'DET', 'NOUN', 'AUX', ...</td>\n",
              "      <td>52</td>\n",
              "      <td>16</td>\n",
              "      <td>18</td>\n",
              "      <td>6</td>\n",
              "      <td>3</td>\n",
              "      <td>0</td>\n",
              "      <td>0</td>\n",
              "      <td>3.250000</td>\n",
              "      <td>0</td>\n",
              "      <td>0</td>\n",
              "      <td>0</td>\n",
              "    </tr>\n",
              "    <tr>\n",
              "      <th>2758</th>\n",
              "      <td>Καλλιτεχνικά σχολεία: Μέχρι πότε ισχύουν οι υπ...</td>\n",
              "      <td>https://www.cnn.gr/ellada/story/89492/kallitex...</td>\n",
              "      <td>Από Δευτέρα 17 Ιουλίου μέχρι και την Πέμπτη 20...</td>\n",
              "      <td>καλλιτεχνικά σχολεία μέχρι πότε ισχύουν οι υπο...</td>\n",
              "      <td>από δευτέρα 17 ιουλίου μέχρι και την πέμπτη 20...</td>\n",
              "      <td>153</td>\n",
              "      <td>13</td>\n",
              "      <td>114</td>\n",
              "      <td>δευτέρα ιουλίου πέμπτη 20 ιουλίου ανοικτή πλα...</td>\n",
              "      <td>δευτέρας ιουλίος πέμπτη 20 ιουλίος ανοικτός ...</td>\n",
              "      <td>0</td>\n",
              "      <td>10</td>\n",
              "      <td>1</td>\n",
              "      <td>1</td>\n",
              "      <td>0</td>\n",
              "      <td>8</td>\n",
              "      <td>5</td>\n",
              "      <td>1</td>\n",
              "      <td>0</td>\n",
              "      <td>2</td>\n",
              "      <td>ΚΑΛΛΙΤΕΧΝ ΣΧΟΛΕΙ : ΜΕΧΡΙ ΠΟΤΕ ΙΣΧΥ ΟΙ ΥΠΟΒΟΛ Α...</td>\n",
              "      <td>ΔΕΥΤ ΙΟΥΛ ΠΕΜΠΤ 20 ΙΟΥΛ ΑΝΟΙΚΤ ΠΛΑΤΦΟΡΜ ΥΠΟΒ...</td>\n",
              "      <td>0.003778</td>\n",
              "      <td>0.000000</td>\n",
              "      <td>0.065407</td>\n",
              "      <td>0.130333</td>\n",
              "      <td>0.110333</td>\n",
              "      <td>0.000000</td>\n",
              "      <td>0.021963</td>\n",
              "      <td>0.000000</td>\n",
              "      <td>['SPACE', 'NOUN', 'NOUN', 'VERB', 'NUM', 'NOUN...</td>\n",
              "      <td>['ADJ', 'NOUN', 'PUNCT', 'ADP', 'ADV', 'VERB',...</td>\n",
              "      <td>51</td>\n",
              "      <td>6</td>\n",
              "      <td>25</td>\n",
              "      <td>3</td>\n",
              "      <td>0</td>\n",
              "      <td>0</td>\n",
              "      <td>1</td>\n",
              "      <td>8.500000</td>\n",
              "      <td>0</td>\n",
              "      <td>0</td>\n",
              "      <td>0</td>\n",
              "    </tr>\n",
              "    <tr>\n",
              "      <th>2759</th>\n",
              "      <td>Θεσσαλονίκη: Απόφαση των συμβολαιογράφων για α...</td>\n",
              "      <td>https://www.cnn.gr/ellada/story/89496/thessalo...</td>\n",
              "      <td>Την αποχή τους από τους πλειστηριασμούς έως τη...</td>\n",
              "      <td>θεσσαλονίκη απόφαση των συμβολαιογράφων για απ...</td>\n",
              "      <td>την αποχή τους από τους πλειστηριασμούς έως τη...</td>\n",
              "      <td>96</td>\n",
              "      <td>11</td>\n",
              "      <td>73</td>\n",
              "      <td>αποχή πλειστηριασμούς 1η οκτωβρίου 2017 αποφά...</td>\n",
              "      <td>αποχή πλειστηριασμού 1η οκτωβρίος 2017 αποφά...</td>\n",
              "      <td>1</td>\n",
              "      <td>10</td>\n",
              "      <td>2</td>\n",
              "      <td>0</td>\n",
              "      <td>1</td>\n",
              "      <td>8</td>\n",
              "      <td>3</td>\n",
              "      <td>2</td>\n",
              "      <td>2</td>\n",
              "      <td>1</td>\n",
              "      <td>ΘΕΣΣΑΛΟΝ : ΑΠΟΦΑΣ ΤΩΝ ΣΥΜΒΟΛΑΙΟΓΡΑΦ ΓΙΑ ΑΠΟΧ Α...</td>\n",
              "      <td>ΑΠΟΧ ΠΛΕΙΣΤΗΡΙΑΣΜ 1Η ΟΚΤΩΒΡ 2017 ΑΠΟΦΑΣΙΣ ΣΥ...</td>\n",
              "      <td>0.032176</td>\n",
              "      <td>0.000000</td>\n",
              "      <td>0.037706</td>\n",
              "      <td>0.000000</td>\n",
              "      <td>0.035235</td>\n",
              "      <td>0.000000</td>\n",
              "      <td>0.048706</td>\n",
              "      <td>0.000000</td>\n",
              "      <td>['SPACE', 'NOUN', 'NOUN', 'NUM', 'NOUN', 'NUM'...</td>\n",
              "      <td>['PROPN', 'PUNCT', 'NOUN', 'DET', 'NOUN', 'ADP...</td>\n",
              "      <td>26</td>\n",
              "      <td>8</td>\n",
              "      <td>10</td>\n",
              "      <td>3</td>\n",
              "      <td>0</td>\n",
              "      <td>0</td>\n",
              "      <td>0</td>\n",
              "      <td>3.250000</td>\n",
              "      <td>0</td>\n",
              "      <td>0</td>\n",
              "      <td>0</td>\n",
              "    </tr>\n",
              "  </tbody>\n",
              "</table>\n",
              "<p>2760 rows × 43 columns</p>\n",
              "</div>"
            ],
            "text/plain": [
              "                                                  title  ... curses\n",
              "0     Θάνατος οπαδού στη Θεσσαλονίκη: Τι λέει το πόρ...  ...      1\n",
              "1     Συναυλία με έργα Bach και Janáček από την Ελλη...  ...      4\n",
              "2     Πρώτη των πρώτων η Πειραιώς Χρηματιστηριακή γι...  ...      1\n",
              "3     Πέντε χρόνια από την τραγωδία του Charlie Hebd...  ...      2\n",
              "4     Λάρισα: Έρευνα διέταξε ο Μητροπολίτης για τον ...  ...      1\n",
              "...                                                 ...  ...    ...\n",
              "2755  Κρεμλίνο: Αντικρουόμενες οι πληροφορίες για το...  ...      0\n",
              "2756  Η «Μέδουσα» χτύπησε και τη Θεσσαλονίκη - Προβλ...  ...      1\n",
              "2757  Γιατί ο Γουίνι το αρκουδάκι είναι θύμα λογοκρι...  ...      0\n",
              "2758  Καλλιτεχνικά σχολεία: Μέχρι πότε ισχύουν οι υπ...  ...      0\n",
              "2759  Θεσσαλονίκη: Απόφαση των συμβολαιογράφων για α...  ...      0\n",
              "\n",
              "[2760 rows x 43 columns]"
            ]
          },
          "metadata": {},
          "execution_count": 9
        }
      ]
    },
    {
      "cell_type": "markdown",
      "metadata": {
        "id": "uvTwuWPjRlbx"
      },
      "source": [
        "**Preparing the data**"
      ]
    },
    {
      "cell_type": "code",
      "metadata": {
        "id": "f80BVCeQRlcU"
      },
      "source": [
        "fake = 0"
      ],
      "execution_count": null,
      "outputs": []
    },
    {
      "cell_type": "code",
      "metadata": {
        "id": "Dy0bTaNEYbLE"
      },
      "source": [
        "true = 1"
      ],
      "execution_count": null,
      "outputs": []
    },
    {
      "cell_type": "code",
      "metadata": {
        "id": "0XyagTA7CXu_"
      },
      "source": [
        "data['Is_Fake'] = true"
      ],
      "execution_count": null,
      "outputs": []
    },
    {
      "cell_type": "code",
      "metadata": {
        "id": "WR3popcVCe4A"
      },
      "source": [
        "data2['Is_Fake'] = fake"
      ],
      "execution_count": null,
      "outputs": []
    },
    {
      "cell_type": "code",
      "metadata": {
        "id": "sEq9pjD7Xv8z"
      },
      "source": [
        "all_data = pd.concat([data, data2], ignore_index=True)"
      ],
      "execution_count": null,
      "outputs": []
    },
    {
      "cell_type": "code",
      "metadata": {
        "colab": {
          "base_uri": "https://localhost:8080/",
          "height": 642
        },
        "id": "puSGbRnQY4q4",
        "outputId": "fe75f3fc-3bc3-4abb-feb6-9105d58f64f3"
      },
      "source": [
        "all_data.tail()"
      ],
      "execution_count": null,
      "outputs": [
        {
          "output_type": "execute_result",
          "data": {
            "text/html": [
              "<div>\n",
              "<style scoped>\n",
              "    .dataframe tbody tr th:only-of-type {\n",
              "        vertical-align: middle;\n",
              "    }\n",
              "\n",
              "    .dataframe tbody tr th {\n",
              "        vertical-align: top;\n",
              "    }\n",
              "\n",
              "    .dataframe thead th {\n",
              "        text-align: right;\n",
              "    }\n",
              "</style>\n",
              "<table border=\"1\" class=\"dataframe\">\n",
              "  <thead>\n",
              "    <tr style=\"text-align: right;\">\n",
              "      <th></th>\n",
              "      <th>title</th>\n",
              "      <th>link</th>\n",
              "      <th>body</th>\n",
              "      <th>tokenized_title</th>\n",
              "      <th>tokenized_body</th>\n",
              "      <th>num_wds</th>\n",
              "      <th>num_wds_title</th>\n",
              "      <th>uniq_wds_body</th>\n",
              "      <th>without_stopwords</th>\n",
              "      <th>lemmatized_body</th>\n",
              "      <th>anger</th>\n",
              "      <th>positivity</th>\n",
              "      <th>joy</th>\n",
              "      <th>disgust</th>\n",
              "      <th>surprise</th>\n",
              "      <th>trust</th>\n",
              "      <th>anticipation</th>\n",
              "      <th>sadness</th>\n",
              "      <th>negative</th>\n",
              "      <th>fear</th>\n",
              "      <th>title_clean</th>\n",
              "      <th>body_clean</th>\n",
              "      <th>Anger_intensity</th>\n",
              "      <th>Anger_int_Title</th>\n",
              "      <th>Fear_intensity</th>\n",
              "      <th>Fear_int_Title</th>\n",
              "      <th>Joy_intensity</th>\n",
              "      <th>Joy_int_Title</th>\n",
              "      <th>Sad_intensity</th>\n",
              "      <th>Sad_int_Title</th>\n",
              "      <th>words_pos</th>\n",
              "      <th>title_pos</th>\n",
              "      <th>nouns</th>\n",
              "      <th>verbs</th>\n",
              "      <th>adjectives</th>\n",
              "      <th>adverbs</th>\n",
              "      <th>pronouns</th>\n",
              "      <th>punctuation</th>\n",
              "      <th>verbs_title</th>\n",
              "      <th>ratio</th>\n",
              "      <th>comparative_no</th>\n",
              "      <th>superlative_no</th>\n",
              "      <th>curses</th>\n",
              "      <th>Is_Fake</th>\n",
              "    </tr>\n",
              "  </thead>\n",
              "  <tbody>\n",
              "    <tr>\n",
              "      <th>3842</th>\n",
              "      <td>Κρεμλίνο: Αντικρουόμενες οι πληροφορίες για το...</td>\n",
              "      <td>https://www.cnn.gr/kosmos/story/89487/kremlino...</td>\n",
              "      <td>Το Κρεμλίνο έχει στη διάθεσή του «αντικρουόμεν...</td>\n",
              "      <td>κρεμλίνο αντικρουόμενες οι πληροφορίες για τον...</td>\n",
              "      <td>το κρεμλίνο έχει στη διάθεσή του αντικρουόμενε...</td>\n",
              "      <td>229</td>\n",
              "      <td>16</td>\n",
              "      <td>154</td>\n",
              "      <td>κρεμλίνο διάθεσή αντικρουόμενες πληροφορίες θ...</td>\n",
              "      <td>κρεμλίνος διάθεσής αντικρουόμενες πληροφορία...</td>\n",
              "      <td>3</td>\n",
              "      <td>14</td>\n",
              "      <td>5</td>\n",
              "      <td>1</td>\n",
              "      <td>6</td>\n",
              "      <td>10</td>\n",
              "      <td>8</td>\n",
              "      <td>3</td>\n",
              "      <td>8</td>\n",
              "      <td>6</td>\n",
              "      <td>ΚΡΕΜΛΙΝ : ΑΝΤΙΚΡΟΥΟΜΕΝ ΟΙ ΠΛΗΡΟΦΟΡ ΓΙΑ ΤΟΝ ΘΑΝ...</td>\n",
              "      <td>ΚΡΕΜΛΙΝ ΔΙΑΘΕΣ ΑΝΤΙΚΡΟΥΟΜΕΝ ΠΛΗΡΟΦΟΡ ΘΑΝΑΤ Ε...</td>\n",
              "      <td>0.117955</td>\n",
              "      <td>0.191333</td>\n",
              "      <td>0.250864</td>\n",
              "      <td>0.494667</td>\n",
              "      <td>0.074295</td>\n",
              "      <td>0.000000</td>\n",
              "      <td>0.237409</td>\n",
              "      <td>0.544</td>\n",
              "      <td>['SPACE', 'PROPN', 'NOUN', 'ADJ', 'NOUN', 'NOU...</td>\n",
              "      <td>['PROPN', 'PUNCT', 'ADJ', 'DET', 'NOUN', 'ADP'...</td>\n",
              "      <td>51</td>\n",
              "      <td>19</td>\n",
              "      <td>23</td>\n",
              "      <td>6</td>\n",
              "      <td>0</td>\n",
              "      <td>0</td>\n",
              "      <td>0</td>\n",
              "      <td>2.684211</td>\n",
              "      <td>0</td>\n",
              "      <td>0</td>\n",
              "      <td>0</td>\n",
              "      <td>0</td>\n",
              "    </tr>\n",
              "    <tr>\n",
              "      <th>3843</th>\n",
              "      <td>Η «Μέδουσα» χτύπησε και τη Θεσσαλονίκη - Προβλ...</td>\n",
              "      <td>https://www.cnn.gr/ellada/story/89488/h-medoys...</td>\n",
              "      <td>Μποτιλιαρισμένοι είναι οι κεντρικοί δρόμοι της...</td>\n",
              "      <td>η μέδουσα χτύπησε και τη θεσσαλονίκη προβλήματ...</td>\n",
              "      <td>μποτιλιαρισμένοι είναι οι κεντρικοί δρόμοι της...</td>\n",
              "      <td>228</td>\n",
              "      <td>15</td>\n",
              "      <td>152</td>\n",
              "      <td>μποτιλιαρισμένοι κεντρικοί δρόμοι θεσσαλονίκης...</td>\n",
              "      <td>μποτιλιαρισμένος κεντρικός δρόμος θεσσαλονίκη ...</td>\n",
              "      <td>1</td>\n",
              "      <td>5</td>\n",
              "      <td>0</td>\n",
              "      <td>0</td>\n",
              "      <td>1</td>\n",
              "      <td>2</td>\n",
              "      <td>2</td>\n",
              "      <td>4</td>\n",
              "      <td>7</td>\n",
              "      <td>3</td>\n",
              "      <td>Η « ΜΕΔΟΥΣ » ΧΤΥΠ ΚΑΙ ΤΗ ΘΕΣΣΑΛΟΝ - ΠΡΟΒΛΗΜ ΚΑ...</td>\n",
              "      <td>ΜΠΟΤΙΛΙΑΡΙΣΜΕΝ ΚΕΝΤΡ ΔΡΟΜ ΘΕΣΣΑΛΟΝ ΕΝΤΟΝ ΒΡΟΧΟ...</td>\n",
              "      <td>0.099343</td>\n",
              "      <td>0.287333</td>\n",
              "      <td>0.229714</td>\n",
              "      <td>0.260667</td>\n",
              "      <td>0.069286</td>\n",
              "      <td>0.020667</td>\n",
              "      <td>0.215200</td>\n",
              "      <td>0.331</td>\n",
              "      <td>['ADJ', 'ADJ', 'NOUN', 'PROPN', 'ADJ', 'NOUN',...</td>\n",
              "      <td>['DET', 'PUNCT', 'ADJ', 'PUNCT', 'VERB', 'CCON...</td>\n",
              "      <td>61</td>\n",
              "      <td>24</td>\n",
              "      <td>34</td>\n",
              "      <td>3</td>\n",
              "      <td>0</td>\n",
              "      <td>0</td>\n",
              "      <td>1</td>\n",
              "      <td>2.541667</td>\n",
              "      <td>0</td>\n",
              "      <td>0</td>\n",
              "      <td>1</td>\n",
              "      <td>0</td>\n",
              "    </tr>\n",
              "    <tr>\n",
              "      <th>3844</th>\n",
              "      <td>Γιατί ο Γουίνι το αρκουδάκι είναι θύμα λογοκρι...</td>\n",
              "      <td>https://www.cnn.gr/kosmos/story/89490/giati-o-...</td>\n",
              "      <td>Ο Γουίνι το αρκουδάκι έχει αποκλειστεί από τα ...</td>\n",
              "      <td>γιατί ο γουίνι το αρκουδάκι είναι θύμα λογοκρι...</td>\n",
              "      <td>ο γουίνι το αρκουδάκι έχει αποκλειστεί από τα ...</td>\n",
              "      <td>208</td>\n",
              "      <td>12</td>\n",
              "      <td>146</td>\n",
              "      <td>γουίνι αρκουδάκι αποκλειστεί κοινωνικής δικτύ...</td>\n",
              "      <td>γουίνι αρκουδάκι αποκλειστώ κοινωνικός δικτύ...</td>\n",
              "      <td>3</td>\n",
              "      <td>13</td>\n",
              "      <td>4</td>\n",
              "      <td>1</td>\n",
              "      <td>0</td>\n",
              "      <td>11</td>\n",
              "      <td>3</td>\n",
              "      <td>1</td>\n",
              "      <td>4</td>\n",
              "      <td>3</td>\n",
              "      <td>ΓΙΑΤΙ Ο ΓΟΥΙΝ ΤΟ ΑΡΚΟΥΔΑΚ ΕΙΝΑΙ ΘΥΜ ΛΟΓΟΚΡΙΣ Σ...</td>\n",
              "      <td>ΓΟΥΙΝ ΑΡΚΟΥΔΑΚ ΑΠΟΚΛΕΙΣΤ ΚΟΙΝΩΝ ΔΙΚΤΥΩΣ ΚΙΝ ...</td>\n",
              "      <td>0.194818</td>\n",
              "      <td>2.336000</td>\n",
              "      <td>0.200061</td>\n",
              "      <td>1.406000</td>\n",
              "      <td>0.279636</td>\n",
              "      <td>0.000000</td>\n",
              "      <td>0.033152</td>\n",
              "      <td>1.453</td>\n",
              "      <td>['SPACE', 'NOUN', 'NOUN', 'VERB', 'ADJ', 'NOUN...</td>\n",
              "      <td>['ADV', 'DET', 'PROPN', 'DET', 'NOUN', 'AUX', ...</td>\n",
              "      <td>52</td>\n",
              "      <td>16</td>\n",
              "      <td>18</td>\n",
              "      <td>6</td>\n",
              "      <td>3</td>\n",
              "      <td>0</td>\n",
              "      <td>0</td>\n",
              "      <td>3.250000</td>\n",
              "      <td>0</td>\n",
              "      <td>0</td>\n",
              "      <td>0</td>\n",
              "      <td>0</td>\n",
              "    </tr>\n",
              "    <tr>\n",
              "      <th>3845</th>\n",
              "      <td>Καλλιτεχνικά σχολεία: Μέχρι πότε ισχύουν οι υπ...</td>\n",
              "      <td>https://www.cnn.gr/ellada/story/89492/kallitex...</td>\n",
              "      <td>Από Δευτέρα 17 Ιουλίου μέχρι και την Πέμπτη 20...</td>\n",
              "      <td>καλλιτεχνικά σχολεία μέχρι πότε ισχύουν οι υπο...</td>\n",
              "      <td>από δευτέρα 17 ιουλίου μέχρι και την πέμπτη 20...</td>\n",
              "      <td>153</td>\n",
              "      <td>13</td>\n",
              "      <td>114</td>\n",
              "      <td>δευτέρα ιουλίου πέμπτη 20 ιουλίου ανοικτή πλα...</td>\n",
              "      <td>δευτέρας ιουλίος πέμπτη 20 ιουλίος ανοικτός ...</td>\n",
              "      <td>0</td>\n",
              "      <td>10</td>\n",
              "      <td>1</td>\n",
              "      <td>1</td>\n",
              "      <td>0</td>\n",
              "      <td>8</td>\n",
              "      <td>5</td>\n",
              "      <td>1</td>\n",
              "      <td>0</td>\n",
              "      <td>2</td>\n",
              "      <td>ΚΑΛΛΙΤΕΧΝ ΣΧΟΛΕΙ : ΜΕΧΡΙ ΠΟΤΕ ΙΣΧΥ ΟΙ ΥΠΟΒΟΛ Α...</td>\n",
              "      <td>ΔΕΥΤ ΙΟΥΛ ΠΕΜΠΤ 20 ΙΟΥΛ ΑΝΟΙΚΤ ΠΛΑΤΦΟΡΜ ΥΠΟΒ...</td>\n",
              "      <td>0.003778</td>\n",
              "      <td>0.000000</td>\n",
              "      <td>0.065407</td>\n",
              "      <td>0.130333</td>\n",
              "      <td>0.110333</td>\n",
              "      <td>0.000000</td>\n",
              "      <td>0.021963</td>\n",
              "      <td>0.000</td>\n",
              "      <td>['SPACE', 'NOUN', 'NOUN', 'VERB', 'NUM', 'NOUN...</td>\n",
              "      <td>['ADJ', 'NOUN', 'PUNCT', 'ADP', 'ADV', 'VERB',...</td>\n",
              "      <td>51</td>\n",
              "      <td>6</td>\n",
              "      <td>25</td>\n",
              "      <td>3</td>\n",
              "      <td>0</td>\n",
              "      <td>0</td>\n",
              "      <td>1</td>\n",
              "      <td>8.500000</td>\n",
              "      <td>0</td>\n",
              "      <td>0</td>\n",
              "      <td>0</td>\n",
              "      <td>0</td>\n",
              "    </tr>\n",
              "    <tr>\n",
              "      <th>3846</th>\n",
              "      <td>Θεσσαλονίκη: Απόφαση των συμβολαιογράφων για α...</td>\n",
              "      <td>https://www.cnn.gr/ellada/story/89496/thessalo...</td>\n",
              "      <td>Την αποχή τους από τους πλειστηριασμούς έως τη...</td>\n",
              "      <td>θεσσαλονίκη απόφαση των συμβολαιογράφων για απ...</td>\n",
              "      <td>την αποχή τους από τους πλειστηριασμούς έως τη...</td>\n",
              "      <td>96</td>\n",
              "      <td>11</td>\n",
              "      <td>73</td>\n",
              "      <td>αποχή πλειστηριασμούς 1η οκτωβρίου 2017 αποφά...</td>\n",
              "      <td>αποχή πλειστηριασμού 1η οκτωβρίος 2017 αποφά...</td>\n",
              "      <td>1</td>\n",
              "      <td>10</td>\n",
              "      <td>2</td>\n",
              "      <td>0</td>\n",
              "      <td>1</td>\n",
              "      <td>8</td>\n",
              "      <td>3</td>\n",
              "      <td>2</td>\n",
              "      <td>2</td>\n",
              "      <td>1</td>\n",
              "      <td>ΘΕΣΣΑΛΟΝ : ΑΠΟΦΑΣ ΤΩΝ ΣΥΜΒΟΛΑΙΟΓΡΑΦ ΓΙΑ ΑΠΟΧ Α...</td>\n",
              "      <td>ΑΠΟΧ ΠΛΕΙΣΤΗΡΙΑΣΜ 1Η ΟΚΤΩΒΡ 2017 ΑΠΟΦΑΣΙΣ ΣΥ...</td>\n",
              "      <td>0.032176</td>\n",
              "      <td>0.000000</td>\n",
              "      <td>0.037706</td>\n",
              "      <td>0.000000</td>\n",
              "      <td>0.035235</td>\n",
              "      <td>0.000000</td>\n",
              "      <td>0.048706</td>\n",
              "      <td>0.000</td>\n",
              "      <td>['SPACE', 'NOUN', 'NOUN', 'NUM', 'NOUN', 'NUM'...</td>\n",
              "      <td>['PROPN', 'PUNCT', 'NOUN', 'DET', 'NOUN', 'ADP...</td>\n",
              "      <td>26</td>\n",
              "      <td>8</td>\n",
              "      <td>10</td>\n",
              "      <td>3</td>\n",
              "      <td>0</td>\n",
              "      <td>0</td>\n",
              "      <td>0</td>\n",
              "      <td>3.250000</td>\n",
              "      <td>0</td>\n",
              "      <td>0</td>\n",
              "      <td>0</td>\n",
              "      <td>0</td>\n",
              "    </tr>\n",
              "  </tbody>\n",
              "</table>\n",
              "</div>"
            ],
            "text/plain": [
              "                                                  title  ... Is_Fake\n",
              "3842  Κρεμλίνο: Αντικρουόμενες οι πληροφορίες για το...  ...       0\n",
              "3843  Η «Μέδουσα» χτύπησε και τη Θεσσαλονίκη - Προβλ...  ...       0\n",
              "3844  Γιατί ο Γουίνι το αρκουδάκι είναι θύμα λογοκρι...  ...       0\n",
              "3845  Καλλιτεχνικά σχολεία: Μέχρι πότε ισχύουν οι υπ...  ...       0\n",
              "3846  Θεσσαλονίκη: Απόφαση των συμβολαιογράφων για α...  ...       0\n",
              "\n",
              "[5 rows x 44 columns]"
            ]
          },
          "metadata": {},
          "execution_count": 15
        }
      ]
    },
    {
      "cell_type": "code",
      "metadata": {
        "id": "bvxSDRBakJkj"
      },
      "source": [
        "all_data=all_data.replace(np.nan,0)"
      ],
      "execution_count": null,
      "outputs": []
    },
    {
      "cell_type": "code",
      "metadata": {
        "colab": {
          "base_uri": "https://localhost:8080/"
        },
        "id": "DqORbwdGl_Uy",
        "outputId": "b585af97-e2cb-41d1-d7d2-a1c2e15439b1"
      },
      "source": [
        "all_data.isnull().sum()"
      ],
      "execution_count": null,
      "outputs": [
        {
          "output_type": "execute_result",
          "data": {
            "text/plain": [
              "title                0\n",
              "link                 0\n",
              "body                 0\n",
              "tokenized_title      0\n",
              "tokenized_body       0\n",
              "num_wds              0\n",
              "num_wds_title        0\n",
              "uniq_wds_body        0\n",
              "without_stopwords    0\n",
              "lemmatized_body      0\n",
              "anger                0\n",
              "positivity           0\n",
              "joy                  0\n",
              "disgust              0\n",
              "surprise             0\n",
              "trust                0\n",
              "anticipation         0\n",
              "sadness              0\n",
              "negative             0\n",
              "fear                 0\n",
              "title_clean          0\n",
              "body_clean           0\n",
              "Anger_intensity      0\n",
              "Anger_int_Title      0\n",
              "Fear_intensity       0\n",
              "Fear_int_Title       0\n",
              "Joy_intensity        0\n",
              "Joy_int_Title        0\n",
              "Sad_intensity        0\n",
              "Sad_int_Title        0\n",
              "words_pos            0\n",
              "title_pos            0\n",
              "nouns                0\n",
              "verbs                0\n",
              "adjectives           0\n",
              "adverbs              0\n",
              "pronouns             0\n",
              "punctuation          0\n",
              "verbs_title          0\n",
              "ratio                0\n",
              "comparative_no       0\n",
              "superlative_no       0\n",
              "curses               0\n",
              "Is_Fake              0\n",
              "dtype: int64"
            ]
          },
          "metadata": {},
          "execution_count": 17
        }
      ]
    },
    {
      "cell_type": "code",
      "metadata": {
        "id": "YsbKbsLmXCcE"
      },
      "source": [
        "all_data = all_data[~all_data.isin([np.nan, np.inf, -np.inf]).any(1)]"
      ],
      "execution_count": null,
      "outputs": []
    },
    {
      "cell_type": "markdown",
      "metadata": {
        "id": "u0uuEOb5Rlcd"
      },
      "source": [
        "## Cleaning the data"
      ]
    },
    {
      "cell_type": "code",
      "metadata": {
        "id": "eKgA9UQnbJoX"
      },
      "source": [
        "all_data.drop('title', axis = 1, inplace=True)"
      ],
      "execution_count": null,
      "outputs": []
    },
    {
      "cell_type": "code",
      "metadata": {
        "id": "JziwflJJcYvH"
      },
      "source": [
        "all_data.drop('link', axis = 1, inplace=True)"
      ],
      "execution_count": null,
      "outputs": []
    },
    {
      "cell_type": "code",
      "metadata": {
        "id": "KXgBUMZxbOnk"
      },
      "source": [
        "all_data.drop('body', axis = 1, inplace=True)"
      ],
      "execution_count": null,
      "outputs": []
    },
    {
      "cell_type": "code",
      "metadata": {
        "id": "LqssrjOEbRp_"
      },
      "source": [
        "all_data.drop('tokenized_title', axis = 1, inplace=True)"
      ],
      "execution_count": null,
      "outputs": []
    },
    {
      "cell_type": "code",
      "metadata": {
        "id": "f4p71_z7bbPk"
      },
      "source": [
        "all_data.drop('tokenized_body', axis = 1, inplace=True)"
      ],
      "execution_count": null,
      "outputs": []
    },
    {
      "cell_type": "code",
      "metadata": {
        "id": "BkGF11wzbb8o"
      },
      "source": [
        "all_data.drop('without_stopwords', axis = 1, inplace=True)"
      ],
      "execution_count": null,
      "outputs": []
    },
    {
      "cell_type": "code",
      "metadata": {
        "id": "LjK6ZHNVbdws"
      },
      "source": [
        "all_data.drop('lemmatized_body', axis = 1, inplace=True)"
      ],
      "execution_count": null,
      "outputs": []
    },
    {
      "cell_type": "code",
      "metadata": {
        "id": "5aS5Xn1kbftO"
      },
      "source": [
        "all_data.drop('body_clean', axis = 1, inplace=True)"
      ],
      "execution_count": null,
      "outputs": []
    },
    {
      "cell_type": "code",
      "metadata": {
        "id": "L7cHZizmbfUe"
      },
      "source": [
        "all_data.drop('words_pos', axis = 1, inplace=True)"
      ],
      "execution_count": null,
      "outputs": []
    },
    {
      "cell_type": "code",
      "metadata": {
        "id": "JpItlJhVE48U"
      },
      "source": [
        "all_data.drop('title_clean', axis = 1, inplace=True)"
      ],
      "execution_count": null,
      "outputs": []
    },
    {
      "cell_type": "code",
      "metadata": {
        "id": "_tx4DuPkugIj"
      },
      "source": [
        "all_data.drop('title_pos', axis = 1, inplace=True)"
      ],
      "execution_count": null,
      "outputs": []
    },
    {
      "cell_type": "code",
      "metadata": {
        "colab": {
          "base_uri": "https://localhost:8080/",
          "height": 222
        },
        "id": "bn2auA4D3LVq",
        "outputId": "25448359-0fb5-4e54-de17-5b034400762d"
      },
      "source": [
        "all_data.head()"
      ],
      "execution_count": null,
      "outputs": [
        {
          "output_type": "execute_result",
          "data": {
            "text/html": [
              "<div>\n",
              "<style scoped>\n",
              "    .dataframe tbody tr th:only-of-type {\n",
              "        vertical-align: middle;\n",
              "    }\n",
              "\n",
              "    .dataframe tbody tr th {\n",
              "        vertical-align: top;\n",
              "    }\n",
              "\n",
              "    .dataframe thead th {\n",
              "        text-align: right;\n",
              "    }\n",
              "</style>\n",
              "<table border=\"1\" class=\"dataframe\">\n",
              "  <thead>\n",
              "    <tr style=\"text-align: right;\">\n",
              "      <th></th>\n",
              "      <th>num_wds</th>\n",
              "      <th>num_wds_title</th>\n",
              "      <th>uniq_wds_body</th>\n",
              "      <th>anger</th>\n",
              "      <th>positivity</th>\n",
              "      <th>joy</th>\n",
              "      <th>disgust</th>\n",
              "      <th>surprise</th>\n",
              "      <th>trust</th>\n",
              "      <th>anticipation</th>\n",
              "      <th>sadness</th>\n",
              "      <th>negative</th>\n",
              "      <th>fear</th>\n",
              "      <th>Anger_intensity</th>\n",
              "      <th>Anger_int_Title</th>\n",
              "      <th>Fear_intensity</th>\n",
              "      <th>Fear_int_Title</th>\n",
              "      <th>Joy_intensity</th>\n",
              "      <th>Joy_int_Title</th>\n",
              "      <th>Sad_intensity</th>\n",
              "      <th>Sad_int_Title</th>\n",
              "      <th>nouns</th>\n",
              "      <th>verbs</th>\n",
              "      <th>adjectives</th>\n",
              "      <th>adverbs</th>\n",
              "      <th>pronouns</th>\n",
              "      <th>punctuation</th>\n",
              "      <th>verbs_title</th>\n",
              "      <th>ratio</th>\n",
              "      <th>comparative_no</th>\n",
              "      <th>superlative_no</th>\n",
              "      <th>curses</th>\n",
              "      <th>Is_Fake</th>\n",
              "    </tr>\n",
              "  </thead>\n",
              "  <tbody>\n",
              "    <tr>\n",
              "      <th>0</th>\n",
              "      <td>210</td>\n",
              "      <td>8</td>\n",
              "      <td>135</td>\n",
              "      <td>3</td>\n",
              "      <td>17</td>\n",
              "      <td>5</td>\n",
              "      <td>1</td>\n",
              "      <td>4</td>\n",
              "      <td>6</td>\n",
              "      <td>7</td>\n",
              "      <td>2</td>\n",
              "      <td>9</td>\n",
              "      <td>6</td>\n",
              "      <td>0.083735</td>\n",
              "      <td>0.0000</td>\n",
              "      <td>0.064147</td>\n",
              "      <td>0.000000</td>\n",
              "      <td>0.184559</td>\n",
              "      <td>0.13300</td>\n",
              "      <td>0.049147</td>\n",
              "      <td>0.000</td>\n",
              "      <td>51</td>\n",
              "      <td>21</td>\n",
              "      <td>23</td>\n",
              "      <td>4</td>\n",
              "      <td>0</td>\n",
              "      <td>0</td>\n",
              "      <td>1</td>\n",
              "      <td>2.428571</td>\n",
              "      <td>0</td>\n",
              "      <td>0</td>\n",
              "      <td>0</td>\n",
              "      <td>1</td>\n",
              "    </tr>\n",
              "    <tr>\n",
              "      <th>1</th>\n",
              "      <td>21</td>\n",
              "      <td>12</td>\n",
              "      <td>20</td>\n",
              "      <td>0</td>\n",
              "      <td>0</td>\n",
              "      <td>0</td>\n",
              "      <td>0</td>\n",
              "      <td>0</td>\n",
              "      <td>0</td>\n",
              "      <td>0</td>\n",
              "      <td>0</td>\n",
              "      <td>0</td>\n",
              "      <td>0</td>\n",
              "      <td>0.000000</td>\n",
              "      <td>0.5610</td>\n",
              "      <td>0.000000</td>\n",
              "      <td>0.547000</td>\n",
              "      <td>0.094000</td>\n",
              "      <td>0.00000</td>\n",
              "      <td>0.000000</td>\n",
              "      <td>0.422</td>\n",
              "      <td>4</td>\n",
              "      <td>2</td>\n",
              "      <td>3</td>\n",
              "      <td>1</td>\n",
              "      <td>1</td>\n",
              "      <td>0</td>\n",
              "      <td>0</td>\n",
              "      <td>2.000000</td>\n",
              "      <td>0</td>\n",
              "      <td>0</td>\n",
              "      <td>0</td>\n",
              "      <td>1</td>\n",
              "    </tr>\n",
              "    <tr>\n",
              "      <th>2</th>\n",
              "      <td>267</td>\n",
              "      <td>19</td>\n",
              "      <td>164</td>\n",
              "      <td>0</td>\n",
              "      <td>13</td>\n",
              "      <td>2</td>\n",
              "      <td>0</td>\n",
              "      <td>1</td>\n",
              "      <td>9</td>\n",
              "      <td>5</td>\n",
              "      <td>1</td>\n",
              "      <td>3</td>\n",
              "      <td>3</td>\n",
              "      <td>0.084833</td>\n",
              "      <td>0.1175</td>\n",
              "      <td>0.038611</td>\n",
              "      <td>0.136750</td>\n",
              "      <td>0.123889</td>\n",
              "      <td>0.23175</td>\n",
              "      <td>0.042333</td>\n",
              "      <td>0.000</td>\n",
              "      <td>55</td>\n",
              "      <td>34</td>\n",
              "      <td>15</td>\n",
              "      <td>6</td>\n",
              "      <td>2</td>\n",
              "      <td>0</td>\n",
              "      <td>2</td>\n",
              "      <td>1.617647</td>\n",
              "      <td>0</td>\n",
              "      <td>0</td>\n",
              "      <td>0</td>\n",
              "      <td>1</td>\n",
              "    </tr>\n",
              "    <tr>\n",
              "      <th>3</th>\n",
              "      <td>967</td>\n",
              "      <td>39</td>\n",
              "      <td>492</td>\n",
              "      <td>37</td>\n",
              "      <td>69</td>\n",
              "      <td>15</td>\n",
              "      <td>17</td>\n",
              "      <td>19</td>\n",
              "      <td>43</td>\n",
              "      <td>39</td>\n",
              "      <td>30</td>\n",
              "      <td>71</td>\n",
              "      <td>30</td>\n",
              "      <td>0.349924</td>\n",
              "      <td>0.2849</td>\n",
              "      <td>0.292826</td>\n",
              "      <td>0.143800</td>\n",
              "      <td>0.103652</td>\n",
              "      <td>0.07490</td>\n",
              "      <td>0.167408</td>\n",
              "      <td>0.164</td>\n",
              "      <td>233</td>\n",
              "      <td>107</td>\n",
              "      <td>103</td>\n",
              "      <td>15</td>\n",
              "      <td>6</td>\n",
              "      <td>1</td>\n",
              "      <td>2</td>\n",
              "      <td>2.177570</td>\n",
              "      <td>0</td>\n",
              "      <td>0</td>\n",
              "      <td>9</td>\n",
              "      <td>1</td>\n",
              "    </tr>\n",
              "    <tr>\n",
              "      <th>4</th>\n",
              "      <td>108</td>\n",
              "      <td>12</td>\n",
              "      <td>88</td>\n",
              "      <td>6</td>\n",
              "      <td>9</td>\n",
              "      <td>2</td>\n",
              "      <td>0</td>\n",
              "      <td>3</td>\n",
              "      <td>5</td>\n",
              "      <td>3</td>\n",
              "      <td>3</td>\n",
              "      <td>6</td>\n",
              "      <td>6</td>\n",
              "      <td>0.246294</td>\n",
              "      <td>0.2280</td>\n",
              "      <td>0.172765</td>\n",
              "      <td>0.166667</td>\n",
              "      <td>0.094588</td>\n",
              "      <td>0.00000</td>\n",
              "      <td>0.103353</td>\n",
              "      <td>0.091</td>\n",
              "      <td>24</td>\n",
              "      <td>12</td>\n",
              "      <td>14</td>\n",
              "      <td>1</td>\n",
              "      <td>0</td>\n",
              "      <td>0</td>\n",
              "      <td>1</td>\n",
              "      <td>2.000000</td>\n",
              "      <td>0</td>\n",
              "      <td>0</td>\n",
              "      <td>0</td>\n",
              "      <td>1</td>\n",
              "    </tr>\n",
              "  </tbody>\n",
              "</table>\n",
              "</div>"
            ],
            "text/plain": [
              "   num_wds  num_wds_title  uniq_wds_body  ...  superlative_no  curses  Is_Fake\n",
              "0      210              8            135  ...               0       0        1\n",
              "1       21             12             20  ...               0       0        1\n",
              "2      267             19            164  ...               0       0        1\n",
              "3      967             39            492  ...               0       9        1\n",
              "4      108             12             88  ...               0       0        1\n",
              "\n",
              "[5 rows x 33 columns]"
            ]
          },
          "metadata": {},
          "execution_count": 30
        }
      ]
    },
    {
      "cell_type": "code",
      "metadata": {
        "colab": {
          "base_uri": "https://localhost:8080/"
        },
        "id": "fnCoy_BdXVlb",
        "outputId": "4b3d31fe-68cd-4373-d7e6-afa75ce22439"
      },
      "source": [
        "all_data.shape"
      ],
      "execution_count": null,
      "outputs": [
        {
          "output_type": "execute_result",
          "data": {
            "text/plain": [
              "(3824, 33)"
            ]
          },
          "metadata": {},
          "execution_count": 31
        }
      ]
    },
    {
      "cell_type": "code",
      "metadata": {
        "id": "9_Ad2BFKwC1A",
        "colab": {
          "base_uri": "https://localhost:8080/",
          "height": 1000
        },
        "outputId": "5dbf3b28-4e40-42fd-a8af-c1764c0b1d1c"
      },
      "source": [
        "import matplotlib.pyplot as plt\n",
        "import seaborn as sns\n",
        "\n",
        "df_small = all_data[['anger','Anger_intensity', 'fear','Fear_intensity','joy','Joy_intensity','sadness','Sad_intensity']]\n",
        "\n",
        "correlation_mat = df_small.corr()\n",
        "fig, ax = plt.subplots(figsize=(100,80))\n",
        "\n",
        "sns.heatmap(correlation_mat, annot = True, fmt='.2f', annot_kws={\"size\": 32}, ax=ax)\n",
        "plt.xlabel(\"Features\", fontsize=45)\n",
        "plt.xticks(fontsize=47)\n",
        "plt.ylabel(\"Features\", fontsize=45)\n",
        "plt.yticks(fontsize=47)\n",
        "ax.set_yticklabels( [feature.get_text()[0:20] for feature in ax.get_yticklabels()])\n",
        "ax.set_xticklabels( [feature.get_text()[0:20] for feature in ax.get_xticklabels()])\n",
        "\n",
        "\n",
        "import io\n",
        "import base64\n",
        "buffer = io.BytesIO()\n",
        "plt.savefig(buffer, format='png')\n",
        "buffer.seek(0)\n",
        "base64HM = base64.b64encode(buffer.read())\n",
        "\n",
        "plt.show()"
      ],
      "execution_count": null,
      "outputs": [
        {
          "output_type": "display_data",
          "data": {
            "image/png": "[encoded data removed]",
            "text/plain": [
              "<Figure size 7200x5760 with 2 Axes>"
            ]
          },
          "metadata": {
            "needs_background": "light"
          }
        }
      ]
    },
    {
      "cell_type": "code",
      "metadata": {
        "id": "7D4qSaTZv53o",
        "colab": {
          "base_uri": "https://localhost:8080/",
          "height": 591
        },
        "outputId": "79339d20-1729-4028-99a6-3b2174c42a7b"
      },
      "source": [
        "from scipy.cluster import hierarchy as hc\n",
        "from scipy import linalg, optimize, stats\n",
        "import numpy as np\n",
        "import matplotlib as mpl\n",
        "import matplotlib.pyplot as plt\n",
        "import scipy\n",
        "from scipy.cluster import hierarchy as hc\n",
        "import numpy as np\n",
        "\n",
        "corr = np.round(scipy.stats.spearmanr(df_small).correlation, 4)\n",
        "corr_condensed = hc.distance.squareform(1-corr)\n",
        "z = hc.linkage(corr_condensed, method='average')\n",
        "fig = plt.figure(figsize=(16,10))\n",
        "dendrogram = hc.dendrogram(z, labels=df_small.columns, orientation='left', leaf_font_size=16)\n",
        "plt.show()"
      ],
      "execution_count": null,
      "outputs": [
        {
          "output_type": "display_data",
          "data": {
            "image/png": "[encoded data removed]",
            "text/plain": [
              "<Figure size 1152x720 with 1 Axes>"
            ]
          },
          "metadata": {
            "needs_background": "light"
          }
        }
      ]
    },
    {
      "cell_type": "code",
      "metadata": {
        "id": "oTPU68JcwIdj",
        "colab": {
          "base_uri": "https://localhost:8080/"
        },
        "outputId": "ce371372-f8db-40d2-a09f-607300b07558"
      },
      "source": [
        "corr_pairs = correlation_mat.unstack()\n",
        "sorted_pairs = corr_pairs.sort_values(kind=\"quicksort\",ascending=False)\n",
        "filtered_pairs = sorted_pairs[sorted_pairs < 1]\n",
        "print(filtered_pairs)"
      ],
      "execution_count": null,
      "outputs": [
        {
          "output_type": "stream",
          "text": [
            "anger            fear               0.877803\n",
            "fear             anger              0.877803\n",
            "sadness          fear               0.848587\n",
            "fear             sadness            0.848587\n",
            "anger            sadness            0.793032\n",
            "sadness          anger              0.793032\n",
            "Fear_intensity   Anger_intensity    0.780657\n",
            "Anger_intensity  Fear_intensity     0.780657\n",
            "Sad_intensity    Fear_intensity     0.686135\n",
            "Fear_intensity   Sad_intensity      0.686135\n",
            "Sad_intensity    Anger_intensity    0.606817\n",
            "Anger_intensity  Sad_intensity      0.606817\n",
            "sadness          joy                0.597448\n",
            "joy              sadness            0.597448\n",
            "                 fear               0.504237\n",
            "fear             joy                0.504237\n",
            "anger            joy                0.478611\n",
            "joy              anger              0.478611\n",
            "anger            Anger_intensity    0.374671\n",
            "Anger_intensity  anger              0.374671\n",
            "Sad_intensity    sadness            0.300185\n",
            "sadness          Sad_intensity      0.300185\n",
            "anger            Fear_intensity     0.287196\n",
            "Fear_intensity   anger              0.287196\n",
            "                 fear               0.276663\n",
            "fear             Fear_intensity     0.276663\n",
            "                 Anger_intensity    0.270741\n",
            "Anger_intensity  fear               0.270741\n",
            "Joy_intensity    joy                0.270188\n",
            "joy              Joy_intensity      0.270188\n",
            "anger            Sad_intensity      0.248359\n",
            "Sad_intensity    anger              0.248359\n",
            "                 fear               0.226831\n",
            "fear             Sad_intensity      0.226831\n",
            "Anger_intensity  sadness            0.226720\n",
            "sadness          Anger_intensity    0.226720\n",
            "Fear_intensity   sadness            0.203404\n",
            "sadness          Fear_intensity     0.203404\n",
            "Joy_intensity    sadness           -0.018633\n",
            "sadness          Joy_intensity     -0.018633\n",
            "anger            Joy_intensity     -0.061604\n",
            "Joy_intensity    anger             -0.061604\n",
            "Sad_intensity    joy               -0.069910\n",
            "joy              Sad_intensity     -0.069910\n",
            "Sad_intensity    Joy_intensity     -0.074507\n",
            "Joy_intensity    Sad_intensity     -0.074507\n",
            "fear             Joy_intensity     -0.095852\n",
            "Joy_intensity    fear              -0.095852\n",
            "Anger_intensity  joy               -0.108335\n",
            "joy              Anger_intensity   -0.108335\n",
            "Anger_intensity  Joy_intensity     -0.155881\n",
            "Joy_intensity    Anger_intensity   -0.155881\n",
            "joy              Fear_intensity    -0.156028\n",
            "Fear_intensity   joy               -0.156028\n",
            "                 Joy_intensity     -0.198417\n",
            "Joy_intensity    Fear_intensity    -0.198417\n",
            "dtype: float64\n"
          ],
          "name": "stdout"
        }
      ]
    },
    {
      "cell_type": "code",
      "metadata": {
        "id": "O8oHhesTchOp"
      },
      "source": [
        "all_data.drop('sadness', axis = 1, inplace=True)"
      ],
      "execution_count": null,
      "outputs": []
    },
    {
      "cell_type": "code",
      "metadata": {
        "id": "Cv3DqkFwcf2D"
      },
      "source": [
        "all_data.drop('fear', axis = 1, inplace=True)"
      ],
      "execution_count": null,
      "outputs": []
    },
    {
      "cell_type": "code",
      "metadata": {
        "id": "Ts2PwffAcf3i"
      },
      "source": [
        "all_data.drop('anger', axis = 1, inplace=True)"
      ],
      "execution_count": null,
      "outputs": []
    },
    {
      "cell_type": "code",
      "metadata": {
        "id": "hiAw8aTMRldC"
      },
      "source": [
        "# Get fake news\n",
        "data_fake = all_data[all_data['Is_Fake'] == 1]\n",
        "# Get true news\n",
        "data_true = all_data[all_data['Is_Fake'] == 0]"
      ],
      "execution_count": null,
      "outputs": []
    },
    {
      "cell_type": "code",
      "metadata": {
        "colab": {
          "base_uri": "https://localhost:8080/"
        },
        "id": "Y8vAmQBeAwQC",
        "outputId": "356d316f-9c35-41f5-9fb3-52bc37a3b61f"
      },
      "source": [
        "all_data[all_data['Is_Fake'] == 1].count()"
      ],
      "execution_count": null,
      "outputs": [
        {
          "output_type": "execute_result",
          "data": {
            "text/plain": [
              "num_wds            1065\n",
              "num_wds_title      1065\n",
              "uniq_wds_body      1065\n",
              "positivity         1065\n",
              "joy                1065\n",
              "disgust            1065\n",
              "surprise           1065\n",
              "trust              1065\n",
              "anticipation       1065\n",
              "negative           1065\n",
              "Anger_intensity    1065\n",
              "Anger_int_Title    1065\n",
              "Fear_intensity     1065\n",
              "Fear_int_Title     1065\n",
              "Joy_intensity      1065\n",
              "Joy_int_Title      1065\n",
              "Sad_intensity      1065\n",
              "Sad_int_Title      1065\n",
              "nouns              1065\n",
              "verbs              1065\n",
              "adjectives         1065\n",
              "adverbs            1065\n",
              "pronouns           1065\n",
              "punctuation        1065\n",
              "verbs_title        1065\n",
              "ratio              1065\n",
              "comparative_no     1065\n",
              "superlative_no     1065\n",
              "curses             1065\n",
              "Is_Fake            1065\n",
              "dtype: int64"
            ]
          },
          "metadata": {},
          "execution_count": 39
        }
      ]
    },
    {
      "cell_type": "code",
      "metadata": {
        "colab": {
          "base_uri": "https://localhost:8080/"
        },
        "id": "X8gVY1TWhc3J",
        "outputId": "bf62dff9-fd0d-4fc3-d85f-1df90d446395"
      },
      "source": [
        "all_data.dtypes"
      ],
      "execution_count": null,
      "outputs": [
        {
          "output_type": "execute_result",
          "data": {
            "text/plain": [
              "num_wds              int64\n",
              "num_wds_title        int64\n",
              "uniq_wds_body        int64\n",
              "positivity           int64\n",
              "joy                  int64\n",
              "disgust              int64\n",
              "surprise             int64\n",
              "trust                int64\n",
              "anticipation         int64\n",
              "negative             int64\n",
              "Anger_intensity    float64\n",
              "Anger_int_Title    float64\n",
              "Fear_intensity     float64\n",
              "Fear_int_Title     float64\n",
              "Joy_intensity      float64\n",
              "Joy_int_Title      float64\n",
              "Sad_intensity      float64\n",
              "Sad_int_Title      float64\n",
              "nouns                int64\n",
              "verbs                int64\n",
              "adjectives           int64\n",
              "adverbs              int64\n",
              "pronouns             int64\n",
              "punctuation          int64\n",
              "verbs_title          int64\n",
              "ratio              float64\n",
              "comparative_no       int64\n",
              "superlative_no       int64\n",
              "curses               int64\n",
              "Is_Fake              int64\n",
              "dtype: object"
            ]
          },
          "metadata": {},
          "execution_count": 40
        }
      ]
    },
    {
      "cell_type": "markdown",
      "metadata": {
        "id": "V9PXVHBmOdrr"
      },
      "source": [
        "**Balancing the data**"
      ]
    },
    {
      "cell_type": "code",
      "metadata": {
        "id": "ECfXETwdRldL",
        "colab": {
          "base_uri": "https://localhost:8080/"
        },
        "outputId": "b9aa37c6-6846-40f3-f2b2-50eb618d8783"
      },
      "source": [
        "# For the balacing itself we use the function resample from sklearn.utils\n",
        "from sklearn.utils import resample\n",
        "# Resample majority class (benign)\n",
        "data_true_downsampled = resample(data_true, \n",
        "                                 replace=False,    # sample without replacement\n",
        "                                 n_samples=1079,    # to match minority class\n",
        "                                 random_state=123) # reproducible results\n",
        "\n",
        "print(\"Shape of the true data: \"+str(data_true_downsampled.shape))\n",
        "# Join the two sets again --> creats a balanced dataset\n",
        "data_balanced = pd.concat([data_true_downsampled, data_fake])\n",
        "# View the first and last lines of our dataframe\n",
        "print(data_balanced.head())\n",
        "print(data_balanced.tail())"
      ],
      "execution_count": null,
      "outputs": [
        {
          "output_type": "stream",
          "text": [
            "Shape of the true data: (1079, 30)\n",
            "      num_wds  num_wds_title  uniq_wds_body  ...  superlative_no  curses  Is_Fake\n",
            "2580      158             12            130  ...               0       0        0\n",
            "3551      739             13            436  ...               0       2        0\n",
            "1634      347             16            197  ...               0       0        0\n",
            "2724      644             14            360  ...               1       0        0\n",
            "1663      214              7            148  ...               0       0        0\n",
            "\n",
            "[5 rows x 30 columns]\n",
            "      num_wds  num_wds_title  uniq_wds_body  ...  superlative_no  curses  Is_Fake\n",
            "1082      289              6            195  ...               0       1        1\n",
            "1083      939              8            484  ...               0       3        1\n",
            "1084      219             18            142  ...               0       0        1\n",
            "1085       56             14             49  ...               0       0        1\n",
            "1086      153             10            115  ...               0       0        1\n",
            "\n",
            "[5 rows x 30 columns]\n"
          ],
          "name": "stdout"
        }
      ]
    },
    {
      "cell_type": "markdown",
      "metadata": {
        "id": "qV894BCIRldZ"
      },
      "source": [
        "# Logistic regression "
      ]
    },
    {
      "cell_type": "code",
      "metadata": {
        "colab": {
          "base_uri": "https://localhost:8080/"
        },
        "id": "DOCLOMn9vI_x",
        "outputId": "0f69a1e6-ed22-4361-e2f8-a0c68dc203e9"
      },
      "source": [
        "data_balanced['ratio']"
      ],
      "execution_count": null,
      "outputs": [
        {
          "output_type": "execute_result",
          "data": {
            "text/plain": [
              "2580    2.117647\n",
              "3551    1.954023\n",
              "1634    5.052632\n",
              "2724    2.258621\n",
              "1663    1.416667\n",
              "          ...   \n",
              "1082    2.371429\n",
              "1083    2.489583\n",
              "1084    1.300000\n",
              "1085    1.750000\n",
              "1086    1.000000\n",
              "Name: ratio, Length: 2144, dtype: float64"
            ]
          },
          "metadata": {},
          "execution_count": 42
        }
      ]
    },
    {
      "cell_type": "code",
      "metadata": {
        "colab": {
          "base_uri": "https://localhost:8080/",
          "height": 222
        },
        "id": "mamazklMtZN9",
        "outputId": "3df0f35c-69df-41ba-b005-e3491c7f3994"
      },
      "source": [
        "data_balanced.tail()"
      ],
      "execution_count": null,
      "outputs": [
        {
          "output_type": "execute_result",
          "data": {
            "text/html": [
              "<div>\n",
              "<style scoped>\n",
              "    .dataframe tbody tr th:only-of-type {\n",
              "        vertical-align: middle;\n",
              "    }\n",
              "\n",
              "    .dataframe tbody tr th {\n",
              "        vertical-align: top;\n",
              "    }\n",
              "\n",
              "    .dataframe thead th {\n",
              "        text-align: right;\n",
              "    }\n",
              "</style>\n",
              "<table border=\"1\" class=\"dataframe\">\n",
              "  <thead>\n",
              "    <tr style=\"text-align: right;\">\n",
              "      <th></th>\n",
              "      <th>num_wds</th>\n",
              "      <th>num_wds_title</th>\n",
              "      <th>uniq_wds_body</th>\n",
              "      <th>positivity</th>\n",
              "      <th>joy</th>\n",
              "      <th>disgust</th>\n",
              "      <th>surprise</th>\n",
              "      <th>trust</th>\n",
              "      <th>anticipation</th>\n",
              "      <th>negative</th>\n",
              "      <th>Anger_intensity</th>\n",
              "      <th>Anger_int_Title</th>\n",
              "      <th>Fear_intensity</th>\n",
              "      <th>Fear_int_Title</th>\n",
              "      <th>Joy_intensity</th>\n",
              "      <th>Joy_int_Title</th>\n",
              "      <th>Sad_intensity</th>\n",
              "      <th>Sad_int_Title</th>\n",
              "      <th>nouns</th>\n",
              "      <th>verbs</th>\n",
              "      <th>adjectives</th>\n",
              "      <th>adverbs</th>\n",
              "      <th>pronouns</th>\n",
              "      <th>punctuation</th>\n",
              "      <th>verbs_title</th>\n",
              "      <th>ratio</th>\n",
              "      <th>comparative_no</th>\n",
              "      <th>superlative_no</th>\n",
              "      <th>curses</th>\n",
              "      <th>Is_Fake</th>\n",
              "    </tr>\n",
              "  </thead>\n",
              "  <tbody>\n",
              "    <tr>\n",
              "      <th>1082</th>\n",
              "      <td>289</td>\n",
              "      <td>6</td>\n",
              "      <td>195</td>\n",
              "      <td>19</td>\n",
              "      <td>3</td>\n",
              "      <td>5</td>\n",
              "      <td>7</td>\n",
              "      <td>12</td>\n",
              "      <td>7</td>\n",
              "      <td>22</td>\n",
              "      <td>0.192468</td>\n",
              "      <td>0.456333</td>\n",
              "      <td>0.302952</td>\n",
              "      <td>0.307333</td>\n",
              "      <td>0.063306</td>\n",
              "      <td>0.000000</td>\n",
              "      <td>0.210274</td>\n",
              "      <td>0.294333</td>\n",
              "      <td>83</td>\n",
              "      <td>35</td>\n",
              "      <td>29</td>\n",
              "      <td>3</td>\n",
              "      <td>1</td>\n",
              "      <td>1</td>\n",
              "      <td>1</td>\n",
              "      <td>2.371429</td>\n",
              "      <td>0</td>\n",
              "      <td>0</td>\n",
              "      <td>1</td>\n",
              "      <td>1</td>\n",
              "    </tr>\n",
              "    <tr>\n",
              "      <th>1083</th>\n",
              "      <td>939</td>\n",
              "      <td>8</td>\n",
              "      <td>484</td>\n",
              "      <td>41</td>\n",
              "      <td>12</td>\n",
              "      <td>20</td>\n",
              "      <td>8</td>\n",
              "      <td>27</td>\n",
              "      <td>21</td>\n",
              "      <td>65</td>\n",
              "      <td>0.337829</td>\n",
              "      <td>0.249667</td>\n",
              "      <td>0.463249</td>\n",
              "      <td>0.276000</td>\n",
              "      <td>0.224127</td>\n",
              "      <td>0.111000</td>\n",
              "      <td>0.448414</td>\n",
              "      <td>0.291667</td>\n",
              "      <td>239</td>\n",
              "      <td>96</td>\n",
              "      <td>124</td>\n",
              "      <td>25</td>\n",
              "      <td>3</td>\n",
              "      <td>0</td>\n",
              "      <td>0</td>\n",
              "      <td>2.489583</td>\n",
              "      <td>0</td>\n",
              "      <td>0</td>\n",
              "      <td>3</td>\n",
              "      <td>1</td>\n",
              "    </tr>\n",
              "    <tr>\n",
              "      <th>1084</th>\n",
              "      <td>219</td>\n",
              "      <td>18</td>\n",
              "      <td>142</td>\n",
              "      <td>6</td>\n",
              "      <td>4</td>\n",
              "      <td>3</td>\n",
              "      <td>2</td>\n",
              "      <td>7</td>\n",
              "      <td>6</td>\n",
              "      <td>14</td>\n",
              "      <td>0.378767</td>\n",
              "      <td>2.420000</td>\n",
              "      <td>0.365767</td>\n",
              "      <td>2.265000</td>\n",
              "      <td>0.315033</td>\n",
              "      <td>0.000000</td>\n",
              "      <td>0.183533</td>\n",
              "      <td>0.531000</td>\n",
              "      <td>39</td>\n",
              "      <td>30</td>\n",
              "      <td>13</td>\n",
              "      <td>6</td>\n",
              "      <td>2</td>\n",
              "      <td>0</td>\n",
              "      <td>3</td>\n",
              "      <td>1.300000</td>\n",
              "      <td>0</td>\n",
              "      <td>0</td>\n",
              "      <td>0</td>\n",
              "      <td>1</td>\n",
              "    </tr>\n",
              "    <tr>\n",
              "      <th>1085</th>\n",
              "      <td>56</td>\n",
              "      <td>14</td>\n",
              "      <td>49</td>\n",
              "      <td>3</td>\n",
              "      <td>1</td>\n",
              "      <td>0</td>\n",
              "      <td>1</td>\n",
              "      <td>3</td>\n",
              "      <td>2</td>\n",
              "      <td>4</td>\n",
              "      <td>0.055125</td>\n",
              "      <td>0.000000</td>\n",
              "      <td>0.000000</td>\n",
              "      <td>0.486000</td>\n",
              "      <td>0.220375</td>\n",
              "      <td>0.239667</td>\n",
              "      <td>0.000000</td>\n",
              "      <td>0.000000</td>\n",
              "      <td>14</td>\n",
              "      <td>8</td>\n",
              "      <td>4</td>\n",
              "      <td>1</td>\n",
              "      <td>0</td>\n",
              "      <td>0</td>\n",
              "      <td>1</td>\n",
              "      <td>1.750000</td>\n",
              "      <td>0</td>\n",
              "      <td>0</td>\n",
              "      <td>0</td>\n",
              "      <td>1</td>\n",
              "    </tr>\n",
              "    <tr>\n",
              "      <th>1086</th>\n",
              "      <td>153</td>\n",
              "      <td>10</td>\n",
              "      <td>115</td>\n",
              "      <td>14</td>\n",
              "      <td>10</td>\n",
              "      <td>0</td>\n",
              "      <td>2</td>\n",
              "      <td>10</td>\n",
              "      <td>5</td>\n",
              "      <td>9</td>\n",
              "      <td>0.106269</td>\n",
              "      <td>0.105333</td>\n",
              "      <td>0.105923</td>\n",
              "      <td>0.239667</td>\n",
              "      <td>0.431385</td>\n",
              "      <td>0.070667</td>\n",
              "      <td>0.120192</td>\n",
              "      <td>0.000000</td>\n",
              "      <td>23</td>\n",
              "      <td>23</td>\n",
              "      <td>9</td>\n",
              "      <td>5</td>\n",
              "      <td>1</td>\n",
              "      <td>0</td>\n",
              "      <td>2</td>\n",
              "      <td>1.000000</td>\n",
              "      <td>0</td>\n",
              "      <td>0</td>\n",
              "      <td>0</td>\n",
              "      <td>1</td>\n",
              "    </tr>\n",
              "  </tbody>\n",
              "</table>\n",
              "</div>"
            ],
            "text/plain": [
              "      num_wds  num_wds_title  uniq_wds_body  ...  superlative_no  curses  Is_Fake\n",
              "1082      289              6            195  ...               0       1        1\n",
              "1083      939              8            484  ...               0       3        1\n",
              "1084      219             18            142  ...               0       0        1\n",
              "1085       56             14             49  ...               0       0        1\n",
              "1086      153             10            115  ...               0       0        1\n",
              "\n",
              "[5 rows x 30 columns]"
            ]
          },
          "metadata": {},
          "execution_count": 43
        }
      ]
    },
    {
      "cell_type": "code",
      "metadata": {
        "colab": {
          "base_uri": "https://localhost:8080/",
          "height": 222
        },
        "id": "2Yq6TH5ftPS_",
        "outputId": "2f36d558-4f3a-47bb-d8c4-c65430d7c502"
      },
      "source": [
        "data_balanced.head()"
      ],
      "execution_count": null,
      "outputs": [
        {
          "output_type": "execute_result",
          "data": {
            "text/html": [
              "<div>\n",
              "<style scoped>\n",
              "    .dataframe tbody tr th:only-of-type {\n",
              "        vertical-align: middle;\n",
              "    }\n",
              "\n",
              "    .dataframe tbody tr th {\n",
              "        vertical-align: top;\n",
              "    }\n",
              "\n",
              "    .dataframe thead th {\n",
              "        text-align: right;\n",
              "    }\n",
              "</style>\n",
              "<table border=\"1\" class=\"dataframe\">\n",
              "  <thead>\n",
              "    <tr style=\"text-align: right;\">\n",
              "      <th></th>\n",
              "      <th>num_wds</th>\n",
              "      <th>num_wds_title</th>\n",
              "      <th>uniq_wds_body</th>\n",
              "      <th>positivity</th>\n",
              "      <th>joy</th>\n",
              "      <th>disgust</th>\n",
              "      <th>surprise</th>\n",
              "      <th>trust</th>\n",
              "      <th>anticipation</th>\n",
              "      <th>negative</th>\n",
              "      <th>Anger_intensity</th>\n",
              "      <th>Anger_int_Title</th>\n",
              "      <th>Fear_intensity</th>\n",
              "      <th>Fear_int_Title</th>\n",
              "      <th>Joy_intensity</th>\n",
              "      <th>Joy_int_Title</th>\n",
              "      <th>Sad_intensity</th>\n",
              "      <th>Sad_int_Title</th>\n",
              "      <th>nouns</th>\n",
              "      <th>verbs</th>\n",
              "      <th>adjectives</th>\n",
              "      <th>adverbs</th>\n",
              "      <th>pronouns</th>\n",
              "      <th>punctuation</th>\n",
              "      <th>verbs_title</th>\n",
              "      <th>ratio</th>\n",
              "      <th>comparative_no</th>\n",
              "      <th>superlative_no</th>\n",
              "      <th>curses</th>\n",
              "      <th>Is_Fake</th>\n",
              "    </tr>\n",
              "  </thead>\n",
              "  <tbody>\n",
              "    <tr>\n",
              "      <th>2580</th>\n",
              "      <td>158</td>\n",
              "      <td>12</td>\n",
              "      <td>130</td>\n",
              "      <td>8</td>\n",
              "      <td>4</td>\n",
              "      <td>1</td>\n",
              "      <td>2</td>\n",
              "      <td>2</td>\n",
              "      <td>5</td>\n",
              "      <td>4</td>\n",
              "      <td>0.042840</td>\n",
              "      <td>0.0000</td>\n",
              "      <td>0.053200</td>\n",
              "      <td>0.000</td>\n",
              "      <td>0.433040</td>\n",
              "      <td>0.515667</td>\n",
              "      <td>0.048280</td>\n",
              "      <td>0.000</td>\n",
              "      <td>36</td>\n",
              "      <td>17</td>\n",
              "      <td>25</td>\n",
              "      <td>7</td>\n",
              "      <td>0</td>\n",
              "      <td>0</td>\n",
              "      <td>0</td>\n",
              "      <td>2.117647</td>\n",
              "      <td>2</td>\n",
              "      <td>0</td>\n",
              "      <td>0</td>\n",
              "      <td>0</td>\n",
              "    </tr>\n",
              "    <tr>\n",
              "      <th>3551</th>\n",
              "      <td>739</td>\n",
              "      <td>13</td>\n",
              "      <td>436</td>\n",
              "      <td>40</td>\n",
              "      <td>2</td>\n",
              "      <td>6</td>\n",
              "      <td>14</td>\n",
              "      <td>33</td>\n",
              "      <td>8</td>\n",
              "      <td>26</td>\n",
              "      <td>0.185508</td>\n",
              "      <td>0.1875</td>\n",
              "      <td>0.232960</td>\n",
              "      <td>0.000</td>\n",
              "      <td>0.129127</td>\n",
              "      <td>0.000000</td>\n",
              "      <td>0.150389</td>\n",
              "      <td>0.125</td>\n",
              "      <td>170</td>\n",
              "      <td>87</td>\n",
              "      <td>71</td>\n",
              "      <td>20</td>\n",
              "      <td>2</td>\n",
              "      <td>0</td>\n",
              "      <td>1</td>\n",
              "      <td>1.954023</td>\n",
              "      <td>3</td>\n",
              "      <td>0</td>\n",
              "      <td>2</td>\n",
              "      <td>0</td>\n",
              "    </tr>\n",
              "    <tr>\n",
              "      <th>1634</th>\n",
              "      <td>347</td>\n",
              "      <td>16</td>\n",
              "      <td>197</td>\n",
              "      <td>19</td>\n",
              "      <td>3</td>\n",
              "      <td>4</td>\n",
              "      <td>3</td>\n",
              "      <td>16</td>\n",
              "      <td>10</td>\n",
              "      <td>13</td>\n",
              "      <td>0.224714</td>\n",
              "      <td>0.0995</td>\n",
              "      <td>0.298750</td>\n",
              "      <td>0.361</td>\n",
              "      <td>0.090304</td>\n",
              "      <td>0.226500</td>\n",
              "      <td>0.251839</td>\n",
              "      <td>0.000</td>\n",
              "      <td>96</td>\n",
              "      <td>19</td>\n",
              "      <td>40</td>\n",
              "      <td>7</td>\n",
              "      <td>0</td>\n",
              "      <td>1</td>\n",
              "      <td>0</td>\n",
              "      <td>5.052632</td>\n",
              "      <td>0</td>\n",
              "      <td>0</td>\n",
              "      <td>0</td>\n",
              "      <td>0</td>\n",
              "    </tr>\n",
              "    <tr>\n",
              "      <th>2724</th>\n",
              "      <td>644</td>\n",
              "      <td>14</td>\n",
              "      <td>360</td>\n",
              "      <td>53</td>\n",
              "      <td>10</td>\n",
              "      <td>5</td>\n",
              "      <td>6</td>\n",
              "      <td>31</td>\n",
              "      <td>23</td>\n",
              "      <td>13</td>\n",
              "      <td>0.082863</td>\n",
              "      <td>0.0000</td>\n",
              "      <td>0.085299</td>\n",
              "      <td>0.000</td>\n",
              "      <td>0.153325</td>\n",
              "      <td>0.000000</td>\n",
              "      <td>0.054444</td>\n",
              "      <td>0.000</td>\n",
              "      <td>131</td>\n",
              "      <td>58</td>\n",
              "      <td>54</td>\n",
              "      <td>21</td>\n",
              "      <td>1</td>\n",
              "      <td>1</td>\n",
              "      <td>0</td>\n",
              "      <td>2.258621</td>\n",
              "      <td>2</td>\n",
              "      <td>1</td>\n",
              "      <td>0</td>\n",
              "      <td>0</td>\n",
              "    </tr>\n",
              "    <tr>\n",
              "      <th>1663</th>\n",
              "      <td>214</td>\n",
              "      <td>7</td>\n",
              "      <td>148</td>\n",
              "      <td>8</td>\n",
              "      <td>4</td>\n",
              "      <td>4</td>\n",
              "      <td>1</td>\n",
              "      <td>7</td>\n",
              "      <td>5</td>\n",
              "      <td>5</td>\n",
              "      <td>0.140862</td>\n",
              "      <td>0.0000</td>\n",
              "      <td>0.150690</td>\n",
              "      <td>0.000</td>\n",
              "      <td>0.127414</td>\n",
              "      <td>0.000000</td>\n",
              "      <td>0.080724</td>\n",
              "      <td>0.000</td>\n",
              "      <td>34</td>\n",
              "      <td>24</td>\n",
              "      <td>32</td>\n",
              "      <td>9</td>\n",
              "      <td>0</td>\n",
              "      <td>0</td>\n",
              "      <td>1</td>\n",
              "      <td>1.416667</td>\n",
              "      <td>1</td>\n",
              "      <td>0</td>\n",
              "      <td>0</td>\n",
              "      <td>0</td>\n",
              "    </tr>\n",
              "  </tbody>\n",
              "</table>\n",
              "</div>"
            ],
            "text/plain": [
              "      num_wds  num_wds_title  uniq_wds_body  ...  superlative_no  curses  Is_Fake\n",
              "2580      158             12            130  ...               0       0        0\n",
              "3551      739             13            436  ...               0       2        0\n",
              "1634      347             16            197  ...               0       0        0\n",
              "2724      644             14            360  ...               1       0        0\n",
              "1663      214              7            148  ...               0       0        0\n",
              "\n",
              "[5 rows x 30 columns]"
            ]
          },
          "metadata": {},
          "execution_count": 44
        }
      ]
    },
    {
      "cell_type": "code",
      "metadata": {
        "colab": {
          "base_uri": "https://localhost:8080/"
        },
        "id": "UQwkocxas-k_",
        "outputId": "381bc0fb-0c2e-4dbc-e0e6-34194ebec0f9"
      },
      "source": [
        "data_balanced.shape"
      ],
      "execution_count": null,
      "outputs": [
        {
          "output_type": "execute_result",
          "data": {
            "text/plain": [
              "(2144, 30)"
            ]
          },
          "metadata": {},
          "execution_count": 45
        }
      ]
    },
    {
      "cell_type": "markdown",
      "metadata": {
        "id": "JyDcoroQWDnQ"
      },
      "source": [
        "Logistic Regression 1"
      ]
    },
    {
      "cell_type": "code",
      "metadata": {
        "id": "SA6Sg-h1Rldb"
      },
      "source": [
        "# Import logistic regression class, accuracy score\n",
        "from sklearn.linear_model import LogisticRegression\n",
        "from sklearn.metrics import accuracy_score\n",
        "# Prepare datframe for machine-learning (split in x and y)\n",
        "X = data_balanced.drop(columns = 'Is_Fake')\n",
        "y = data_balanced['Is_Fake']\n",
        "# Initiate the model score list\n",
        "model_score = []\n",
        "# Initalize list of true labels\n",
        "true_labels = []\n",
        "# Initialize list of predicted labels\n",
        "predicted_labels = []\n",
        "# Instanciate our Cross-Validation (cv) object\n",
        "our_cv = RepeatedKFold(n_splits=10, n_repeats=10)\n",
        "# Instanciate Logistic Regression \n",
        "log_reg = LogisticRegression(penalty='none', random_state=42, solver='saga', max_iter = 10000, warm_start=True)\n",
        "# Loop through the splits produced by cv\n",
        "for i_train, i_test in our_cv.split(X):\n",
        "    # Define our current training and test set according to the current split\n",
        "    X_train, X_test, y_train, y_test = X.iloc[i_train], X.iloc[i_test], y.iloc[i_train], y.iloc[i_test]\n",
        "    # Fitting the logistic regression\n",
        "    log_reg.fit(X_train.astype('float'), y_train.astype('int'))\n",
        "    # Predicting the testing data\n",
        "    y_pred_test = log_reg.predict(X_test)\n",
        "    # Getting accuracy score\n",
        "    model_score.append(accuracy_score(y_test.astype('int'), y_pred_test.astype('int')))\n",
        "    # Add true labels to list\n",
        "    true_labels.extend(y_test.astype('int'))\n",
        "    # Add predicted labels to list\n",
        "    predicted_labels.extend(y_pred_test.astype('int'))\n",
        "    coef = log_reg.coef_.tolist()[0]"
      ],
      "execution_count": null,
      "outputs": []
    },
    {
      "cell_type": "markdown",
      "metadata": {
        "id": "FQm2Rn7nRldp"
      },
      "source": [
        "## Classification performance\n"
      ]
    },
    {
      "cell_type": "code",
      "metadata": {
        "id": "Sil3DBdrRlds",
        "colab": {
          "base_uri": "https://localhost:8080/"
        },
        "outputId": "8406341e-c911-426b-8d63-8db5544a9212"
      },
      "source": [
        "# Calculate the average accuracy over the 10-times 10-fold cross validation \n",
        "# Using n.mean over the 100 values in model_score\n",
        "print(\"Average accuracy of the logistic regression model is: \"+str(np.mean(model_score))+\" %\")"
      ],
      "execution_count": null,
      "outputs": [
        {
          "output_type": "stream",
          "text": [
            "Average accuracy of the logistic regression model is: 0.7717880895457508 %\n"
          ],
          "name": "stdout"
        }
      ]
    },
    {
      "cell_type": "code",
      "metadata": {
        "colab": {
          "base_uri": "https://localhost:8080/"
        },
        "id": "nZN1EFGZ8qsQ",
        "outputId": "0aec2ba1-f47c-4cd2-d9af-e1ae52fcfbe6"
      },
      "source": [
        "labels = data_balanced.columns.values[:-1].tolist()\n",
        "print(labels)"
      ],
      "execution_count": null,
      "outputs": [
        {
          "output_type": "stream",
          "text": [
            "['num_wds', 'num_wds_title', 'uniq_wds_body', 'positivity', 'joy', 'disgust', 'surprise', 'trust', 'anticipation', 'negative', 'Anger_intensity', 'Anger_int_Title', 'Fear_intensity', 'Fear_int_Title', 'Joy_intensity', 'Joy_int_Title', 'Sad_intensity', 'Sad_int_Title', 'nouns', 'verbs', 'adjectives', 'adverbs', 'pronouns', 'punctuation', 'verbs_title', 'ratio', 'comparative_no', 'superlative_no', 'curses']\n"
          ],
          "name": "stdout"
        }
      ]
    },
    {
      "cell_type": "code",
      "metadata": {
        "colab": {
          "base_uri": "https://localhost:8080/"
        },
        "id": "N9NC3YA-b8Gk",
        "outputId": "d1e8b309-4c49-44f5-8af0-b45adab06815"
      },
      "source": [
        "print(coef)"
      ],
      "execution_count": null,
      "outputs": [
        {
          "output_type": "stream",
          "text": [
            "[0.02043545119063447, 0.05273304555167025, -0.010095605911759233, 0.02026941801562657, -0.027794193269267155, 0.027251960903475383, 0.024935280522300363, -0.03679506032528801, -0.015203857995848348, 0.03769810518985767, -0.0031046974165157993, -0.016478487096006827, 0.010996100388338825, 0.014170997144907582, 0.00898965497750698, -0.014092242936474016, 0.008468433691788655, 0.006753097598544632, -0.029329735860906665, -0.03775483355837388, -0.039479267999358796, -0.11095614018943352, -0.06690156257499721, -0.03078653306702247, 0.24922032678872041, -0.05170471423869275, -0.43534800113845273, -0.039614345275506266, 0.055063703656390725]\n"
          ],
          "name": "stdout"
        }
      ]
    },
    {
      "cell_type": "code",
      "metadata": {
        "colab": {
          "base_uri": "https://localhost:8080/",
          "height": 420
        },
        "id": "pKg7c7-y8vNz",
        "outputId": "e6337fca-5061-4bf2-9102-ee803c10496c"
      },
      "source": [
        "fig = plt.figure()\n",
        "ax = fig.add_axes([0,0,1,1])\n",
        "plt.xticks(rotation=90)\n",
        "ax.bar(labels,coef)\n",
        "plt.xlabel('Features')\n",
        "plt.ylabel('coefficient values')\n",
        "plt.show()"
      ],
      "execution_count": null,
      "outputs": [
        {
          "output_type": "display_data",
          "data": {
            "image/png": "[encoded data removed]",
            "text/plain": [
              "<Figure size 432x288 with 1 Axes>"
            ]
          },
          "metadata": {
            "needs_background": "light"
          }
        }
      ]
    },
    {
      "cell_type": "markdown",
      "metadata": {
        "id": "dcCfVNX5Rld8"
      },
      "source": [
        "**Visualization**"
      ]
    },
    {
      "cell_type": "code",
      "metadata": {
        "id": "UoO7FD8CRld-",
        "colab": {
          "base_uri": "https://localhost:8080/",
          "height": 278
        },
        "outputId": "0e059062-065c-442b-b8ed-52ccf4478535"
      },
      "source": [
        "# Create confusion matrix to visualize the correct/incorrect predictions\n",
        "# Import the confusion matrix function\n",
        "from sklearn.metrics import confusion_matrix\n",
        "# Compute the confusion matrix\n",
        "conf_mat = confusion_matrix(y_true=true_labels, y_pred=predicted_labels)\n",
        "# Define the labels for the confusion matrix\n",
        "labels = ['Class 0', 'Class 1']\n",
        "# Initiate an empty figure\n",
        "fig = plt.figure()\n",
        "# Add axis to the figure\n",
        "ax = fig.add_subplot(111)\n",
        "# Add the actual matrix\n",
        "cax = ax.matshow(conf_mat, cmap=plt.cm.Blues)\n",
        "# Show a colorbar\n",
        "fig.colorbar(cax)\n",
        "# Remove x and y ticks\n",
        "ax.set_xticklabels([''] + labels)\n",
        "ax.set_yticklabels([''] + labels)\n",
        "# Add x and y labels\n",
        "plt.xlabel('Predicted')\n",
        "plt.ylabel('Expected')\n",
        "# Add new x and y ticks\n",
        "for i in range(2):\n",
        "    for j in range(2):\n",
        "        ax.text(j, i, conf_mat[i, j], ha='center', va='center', color='r')\n",
        "# Show the plot\n",
        "plt.show()"
      ],
      "execution_count": null,
      "outputs": [
        {
          "output_type": "display_data",
          "data": {
            "image/png": "[encoded data removed]",
            "text/plain": [
              "<Figure size 432x288 with 2 Axes>"
            ]
          },
          "metadata": {
            "needs_background": "light"
          }
        }
      ]
    },
    {
      "cell_type": "markdown",
      "metadata": {
        "id": "oAk2F_R7NpZk"
      },
      "source": [
        "# Logistic Regression 2 (μάλλον λάθος)"
      ]
    },
    {
      "cell_type": "code",
      "metadata": {
        "id": "QCCxqalufxiR"
      },
      "source": [
        "X = data_balanced.drop(columns='Is_Fake')\n",
        "y = data_balanced.Is_Fake\n",
        "y = y.values.reshape(-1, 1)"
      ],
      "execution_count": null,
      "outputs": []
    },
    {
      "cell_type": "code",
      "metadata": {
        "id": "3HyXBazyfc4p",
        "colab": {
          "base_uri": "https://localhost:8080/"
        },
        "outputId": "8836d017-1f9f-4fec-9670-acecbb115109"
      },
      "source": [
        "from sklearn.preprocessing import StandardScaler\n",
        "from sklearn.metrics import mean_squared_error, r2_score\n",
        "# Διαχωρισμός σε training και test set\n",
        "X_train, X_test, y_train, y_test = train_test_split(X,y, test_size=0.25, random_state=0)\n",
        "# Create and fit StandardScaler\n",
        "scaler_features = StandardScaler(copy=True, with_mean=True, with_std=True).fit(X_train)\n",
        "scaler_targets = StandardScaler(copy=True, with_mean=True, with_std=True).fit(y_train)\n",
        "# Transform the data\n",
        "X_train = scaler_features.transform(X_train)\n",
        "y_train = np.ravel(scaler_targets.transform(y_train))\n",
        "X_test = scaler_features.transform(X_test)\n",
        "y_test = np.ravel(scaler_targets.transform(y_test)) \n",
        "log_reg = LogisticRegression(penalty='none', random_state=42, solver='saga', max_iter = 2000, warm_start=True)\n",
        "log_reg.fit(X_train.astype('float'), y_train.astype('int'))\n",
        "y_pred_test = log_reg.predict(X_test)\n",
        "y_pred_train = log_reg.predict(X_train)\n",
        "model_score.append(accuracy_score(y_test.astype('int'), y_pred_test.astype('int')))\n",
        "coef2 = log_reg.coef_.tolist()[0]"
      ],
      "execution_count": null,
      "outputs": [
        {
          "output_type": "stream",
          "text": [
            "/usr/local/lib/python3.7/dist-packages/sklearn/linear_model/_sag.py:330: ConvergenceWarning: The max_iter was reached which means the coef_ did not converge\n",
            "  \"the coef_ did not converge\", ConvergenceWarning)\n"
          ],
          "name": "stderr"
        }
      ]
    },
    {
      "cell_type": "code",
      "metadata": {
        "colab": {
          "base_uri": "https://localhost:8080/"
        },
        "id": "o6nAMNQS8MYx",
        "outputId": "ed7ba1a8-330d-47ae-dacd-f31533189629"
      },
      "source": [
        "# Calculate the average accuracy over the 10-times 10-fold cross validation \n",
        "# Using n.mean over the 100 values in model_score\n",
        "print(\"Average accuracy of the logistic regression model is: \"+str(np.mean(model_score))+\" %\")"
      ],
      "execution_count": null,
      "outputs": [
        {
          "output_type": "stream",
          "text": [
            "Average accuracy of the logistic regression model is: 0.7724220777237374 %\n"
          ],
          "name": "stdout"
        }
      ]
    },
    {
      "cell_type": "markdown",
      "metadata": {
        "id": "lIRw0l2rZUsG"
      },
      "source": [
        "**Importances**"
      ]
    },
    {
      "cell_type": "code",
      "metadata": {
        "colab": {
          "base_uri": "https://localhost:8080/"
        },
        "id": "a54D2VHwgxmq",
        "outputId": "16012fc4-00bf-497b-a250-bdb4f84cdacf"
      },
      "source": [
        "print(coef2)"
      ],
      "execution_count": null,
      "outputs": [
        {
          "output_type": "stream",
          "text": [
            "[10.077405883937978, -0.04368966410965593, -1.9564905003907325, 0.6034136283022188, -0.7797416892707782, -0.07376783518149121, 0.44845388350422044, -0.5019256459775018, -0.15954586775059654, 0.6722778474144971, -0.17611307760712772, -0.2081126006022184, 0.06574477008384691, 0.33498848893755984, 0.20947654308883198, -0.09617470162802841, 0.04461011123021538, -0.02576245711618732, -2.7284302462998458, -2.489714110371484, -2.217808734245419, -0.9843431100539864, -0.10754122102843977, -0.05634205852468375, 0.8090863795147004, -0.2767948910887456, -7.225752189532968, -0.8485064329583129, 0.31974983808337276]\n"
          ],
          "name": "stdout"
        }
      ]
    },
    {
      "cell_type": "code",
      "metadata": {
        "colab": {
          "base_uri": "https://localhost:8080/"
        },
        "id": "tbyvTmjSiBZJ",
        "outputId": "c8286255-8a1f-4970-c18b-c328003c5600"
      },
      "source": [
        "labels = data_balanced.columns.values[:-1].tolist()\n",
        "print(labels)"
      ],
      "execution_count": null,
      "outputs": [
        {
          "output_type": "stream",
          "text": [
            "['num_wds', 'num_wds_title', 'uniq_wds_body', 'positivity', 'joy', 'disgust', 'surprise', 'trust', 'anticipation', 'negative', 'Anger_intensity', 'Anger_int_Title', 'Fear_intensity', 'Fear_int_Title', 'Joy_intensity', 'Joy_int_Title', 'Sad_intensity', 'Sad_int_Title', 'nouns', 'verbs', 'adjectives', 'adverbs', 'pronouns', 'punctuation', 'verbs_title', 'ratio', 'comparative_no', 'superlative_no', 'curses']\n"
          ],
          "name": "stdout"
        }
      ]
    },
    {
      "cell_type": "code",
      "metadata": {
        "colab": {
          "base_uri": "https://localhost:8080/",
          "height": 420
        },
        "id": "NwTl6wvmhyl0",
        "outputId": "bb63612f-7250-4a2c-b40d-8f9b1c7bb2a1"
      },
      "source": [
        "fig = plt.figure()\n",
        "ax = fig.add_axes([0,0,1,1])\n",
        "plt.xticks(rotation=90)\n",
        "ax.bar(labels,coef2)\n",
        "plt.xlabel('Features')\n",
        "plt.ylabel('coefficient values')\n",
        "plt.show()"
      ],
      "execution_count": null,
      "outputs": [
        {
          "output_type": "display_data",
          "data": {
            "image/png": "[encoded data removed]",
            "text/plain": [
              "<Figure size 432x288 with 1 Axes>"
            ]
          },
          "metadata": {
            "needs_background": "light"
          }
        }
      ]
    },
    {
      "cell_type": "code",
      "metadata": {
        "colab": {
          "base_uri": "https://localhost:8080/"
        },
        "id": "wtCoHId-rgC3",
        "outputId": "4a6b9f85-0a93-4a3f-a0fb-302e52244c96"
      },
      "source": [
        "# αντίστροφος μετασχηματισμός συντελεστών. \n",
        "coef_retransformed = scaler_features.inverse_transform(coef)\n",
        "print(coef_retransformed)"
      ],
      "execution_count": null,
      "outputs": [
        {
          "output_type": "stream",
          "text": [
            "[ 3.19814765e+02  1.24966599e+01  1.80763477e+02  1.84571491e+01\n",
            "  5.16162113e+00  3.38606240e+00  4.31485493e+00  1.17823413e+01\n",
            "  8.25372785e+00  1.24232658e+01  1.51815308e-01  1.94733457e-01\n",
            "  2.32579713e-01  3.13140351e-01  1.81874408e-01  1.49601513e-01\n",
            "  1.37488017e-01  1.73403866e-01  7.00831925e+01  3.04020993e+01\n",
            "  3.08955463e+01  6.81077179e+00  1.29017441e+00  4.74167453e-01\n",
            "  1.29603394e+00  2.35571721e+00 -3.90576783e-02  4.12553333e-02\n",
            "  8.23613754e-01]\n"
          ],
          "name": "stdout"
        }
      ]
    },
    {
      "cell_type": "markdown",
      "metadata": {
        "id": "3U9Bnj_1RleP"
      },
      "source": [
        "## Decision trees 1 (classifier)"
      ]
    },
    {
      "cell_type": "code",
      "metadata": {
        "id": "lGlGqOLfRleS"
      },
      "source": [
        "# Import decision tree class\n",
        "from sklearn import tree\n",
        "# Initiate the model score list\n",
        "model_score = []\n",
        "# Initalize list of true labels\n",
        "true_labels = []\n",
        "# Initialize list of predicted labels\n",
        "predicted_labels = []\n",
        "# Instanciate our Cross-Validation (cv) object\n",
        "our_cv = RepeatedKFold(n_splits=10, n_repeats=10)\n",
        "X = data_balanced.drop(columns = 'Is_Fake')\n",
        "y = data_balanced['Is_Fake']\n",
        "# Instanciate decision tree classifier (this is a fully grown, hence not optimized decison tree)\n",
        "dec_tree = tree.DecisionTreeClassifier()\n",
        "# Loop through the splits produced by cv\n",
        "for i_train, i_test in our_cv.split(X):\n",
        "    # Define our training and test set according to current split\n",
        "    X_train, X_test, y_train, y_test = X.iloc[i_train], X.iloc[i_test], y.iloc[i_train], y.iloc[i_test]\n",
        "    # Fitting the tree\n",
        "    dec_tree.fit(X_train, y_train.astype('int'))\n",
        "    # Predicting the testing data\n",
        "    y_pred_test = dec_tree.predict(X_test)\n",
        "    # Getting accuracy score\n",
        "    model_score.append(accuracy_score(y_test.astype('int'), y_pred_test.astype('int')))\n",
        "    # Add true labels to list\n",
        "    true_labels.extend(y_test.astype('int'))\n",
        "    # Add predicted labels to list\n",
        "    predicted_labels.extend(y_pred_test.astype('int'))"
      ],
      "execution_count": null,
      "outputs": []
    },
    {
      "cell_type": "code",
      "metadata": {
        "id": "5HcIwy0jRlej",
        "colab": {
          "base_uri": "https://localhost:8080/"
        },
        "outputId": "886fd3a1-d080-4214-856a-db1445d2158c"
      },
      "source": [
        "# Calculate the average accuracy over the 10-times 10-fold cross validation \n",
        "# Using n.mean over the 100 values in model_score\n",
        "print(\"Average accuracy of the decision tree model is: \"+str(np.mean(model_score))+\" %\")"
      ],
      "execution_count": null,
      "outputs": [
        {
          "output_type": "stream",
          "text": [
            "Average accuracy of the decision tree model is: 0.7888978482938491 %\n"
          ],
          "name": "stdout"
        }
      ]
    },
    {
      "cell_type": "code",
      "metadata": {
        "id": "uA8CG8n3Rleu",
        "colab": {
          "base_uri": "https://localhost:8080/",
          "height": 278
        },
        "outputId": "6bd9d977-2e91-41f0-9868-334f64afcf83"
      },
      "source": [
        "# Create confusion matrix to visualize the correct/incorrect predictions\n",
        "# Import the confusion matrix function\n",
        "from sklearn.metrics import confusion_matrix\n",
        "# Compute the confusion matrix\n",
        "conf_mat = confusion_matrix(y_true=true_labels, y_pred=predicted_labels)\n",
        "# Define the labels for the confusion matrix\n",
        "labels = ['Class 0', 'Class 1']\n",
        "# Initiate an empty figure\n",
        "fig = plt.figure()\n",
        "# Add axis to the figure\n",
        "ax = fig.add_subplot(111)\n",
        "# Add the actual matrix\n",
        "cax = ax.matshow(conf_mat, cmap=plt.cm.Blues)\n",
        "# Show a colorbar\n",
        "fig.colorbar(cax)\n",
        "# Remove x and y ticks\n",
        "ax.set_xticklabels([''] + labels)\n",
        "ax.set_yticklabels([''] + labels)\n",
        "# Add x and y labels\n",
        "plt.xlabel('Predicted')\n",
        "plt.ylabel('Expected')\n",
        "# Add new x and y ticks\n",
        "for i in range(2):\n",
        "    for j in range(2):\n",
        "        ax.text(j, i, conf_mat[i, j], ha='center', va='center', color='r')\n",
        "# Show the plot\n",
        "plt.show()"
      ],
      "execution_count": null,
      "outputs": [
        {
          "output_type": "display_data",
          "data": {
            "image/png": "[encoded data removed]",
            "text/plain": [
              "<Figure size 432x288 with 2 Axes>"
            ]
          },
          "metadata": {
            "needs_background": "light"
          }
        }
      ]
    },
    {
      "cell_type": "markdown",
      "metadata": {
        "id": "dTxy_rh6YSFz"
      },
      "source": [
        "**Importances**"
      ]
    },
    {
      "cell_type": "code",
      "metadata": {
        "colab": {
          "base_uri": "https://localhost:8080/"
        },
        "id": "I1i0SNnZnxgv",
        "outputId": "7a30076f-dfff-4f0c-c42a-be9e964ded2f"
      },
      "source": [
        "print(dec_tree.feature_importances_)"
      ],
      "execution_count": null,
      "outputs": [
        {
          "output_type": "stream",
          "text": [
            "[0.0220011  0.04983365 0.00738871 0.0110506  0.002736   0.004301\n",
            " 0.00707421 0.03806868 0.03445679 0.01375193 0.03305191 0.01973137\n",
            " 0.0104278  0.00681277 0.04261694 0.01285876 0.03245402 0.01614071\n",
            " 0.02394109 0.01279487 0.02391306 0.03185695 0.00515961 0.00968854\n",
            " 0.06073811 0.04418117 0.39163293 0.0177265  0.01361022]\n"
          ],
          "name": "stdout"
        }
      ]
    },
    {
      "cell_type": "code",
      "metadata": {
        "colab": {
          "base_uri": "https://localhost:8080/"
        },
        "id": "aDjh8FGuoFuU",
        "outputId": "c6548384-39cc-41fb-a699-d6edb9bc0691"
      },
      "source": [
        "feat_imp = dec_tree.feature_importances_.tolist()\n",
        "print(feat_imp)"
      ],
      "execution_count": null,
      "outputs": [
        {
          "output_type": "stream",
          "text": [
            "[0.022001103666664332, 0.04983365218886956, 0.007388710404444673, 0.01105060379933234, 0.002735997054178872, 0.004301002552750805, 0.007074214508525975, 0.03806868052677051, 0.034456791606275856, 0.013751926393122926, 0.033051905772910645, 0.01973136640093397, 0.010427803813957184, 0.006812770831494739, 0.04261693514423362, 0.012858761340426728, 0.032454018884272975, 0.01614071185179183, 0.023941085216865998, 0.012794867181975804, 0.02391305948876042, 0.0318569514285805, 0.005159605010326913, 0.009688543685020637, 0.06073810618566909, 0.04418117117631832, 0.39163292775327346, 0.01772650334531175, 0.013610222786939439]\n"
          ],
          "name": "stdout"
        }
      ]
    },
    {
      "cell_type": "code",
      "metadata": {
        "colab": {
          "base_uri": "https://localhost:8080/",
          "height": 420
        },
        "id": "PFojYAudoQHU",
        "outputId": "0663021f-4239-436a-e32d-19c08ec49b45"
      },
      "source": [
        "labels = data_balanced.columns.values[:-1].tolist()\n",
        "fig = plt.figure()\n",
        "ax = fig.add_axes([0, 0, 1, 1])\n",
        "plt.xticks(rotation=90)\n",
        "ax.bar(labels,feat_imp)\n",
        "plt.xlabel('Features')\n",
        "plt.ylabel('Feature Importances - Decision Tree')\n",
        "plt.show()"
      ],
      "execution_count": null,
      "outputs": [
        {
          "output_type": "display_data",
          "data": {
            "image/png": "[encoded data removed]",
            "text/plain": [
              "<Figure size 432x288 with 1 Axes>"
            ]
          },
          "metadata": {
            "needs_background": "light"
          }
        }
      ]
    },
    {
      "cell_type": "markdown",
      "metadata": {
        "id": "MEkOLj3IME2L"
      },
      "source": [
        "**Υπολογισμός του max depth**\n"
      ]
    },
    {
      "cell_type": "code",
      "metadata": {
        "colab": {
          "base_uri": "https://localhost:8080/"
        },
        "id": "JXddasAuL_9O",
        "outputId": "55d5ea53-ae99-4e2f-83b0-3b63e06b0cec"
      },
      "source": [
        "from sklearn import tree\n",
        "clf = tree.DecisionTreeClassifier()\n",
        "clf = clf.fit(X, y)\n",
        "print(clf.tree_.max_depth)"
      ],
      "execution_count": null,
      "outputs": [
        {
          "output_type": "stream",
          "text": [
            "21\n"
          ],
          "name": "stdout"
        }
      ]
    },
    {
      "cell_type": "code",
      "metadata": {
        "id": "5qTKpofpHTSf"
      },
      "source": [
        "from sklearn.tree import DecisionTreeClassifier\n",
        "estimator = DecisionTreeClassifier(max_leaf_nodes=18, random_state=0)\n",
        "estimator.fit(X_train, y_train)\n",
        "val_pred = estimator.predict(X_test)"
      ],
      "execution_count": null,
      "outputs": []
    },
    {
      "cell_type": "code",
      "metadata": {
        "colab": {
          "base_uri": "https://localhost:8080/",
          "height": 356
        },
        "id": "8eYB8HqCyLfm",
        "outputId": "b5214ab9-5fba-4abc-ad9f-3bd573f9c774"
      },
      "source": [
        "from sklearn.tree import DecisionTreeClassifier\n",
        "from sklearn.model_selection import cross_val_score\n",
        "import numpy as np\n",
        "import matplotlib.pyplot as plt\n",
        "\n",
        "# function for fitting trees of various depths on the training data using cross-validation\n",
        "def run_cross_validation_on_trees(X, y, tree_depths, cv=5, scoring='accuracy'):\n",
        "    cv_scores_list = []\n",
        "    cv_scores_std = []\n",
        "    cv_scores_mean = []\n",
        "    accuracy_scores = []\n",
        "    for depth in tree_depths:\n",
        "        tree_model = DecisionTreeClassifier(max_depth=depth)\n",
        "        cv_scores = cross_val_score(tree_model, X, y, cv=cv, scoring=scoring)\n",
        "        cv_scores_list.append(cv_scores)\n",
        "        cv_scores_mean.append(cv_scores.mean())\n",
        "        cv_scores_std.append(cv_scores.std())\n",
        "        accuracy_scores.append(tree_model.fit(X, y).score(X, y))\n",
        "    cv_scores_mean = np.array(cv_scores_mean)\n",
        "    cv_scores_std = np.array(cv_scores_std)\n",
        "    accuracy_scores = np.array(accuracy_scores)\n",
        "    return cv_scores_mean, cv_scores_std, accuracy_scores\n",
        "  \n",
        "# function for plotting cross-validation results\n",
        "def plot_cross_validation_on_trees(depths, cv_scores_mean, cv_scores_std, accuracy_scores, title):\n",
        "    fig, ax = plt.subplots(1,1, figsize=(15,5))\n",
        "    ax.plot(depths, cv_scores_mean, '-o', label='mean cross-validation accuracy', alpha=0.9)\n",
        "    ax.fill_between(depths, cv_scores_mean-2*cv_scores_std, cv_scores_mean+2*cv_scores_std, alpha=0.2)\n",
        "    ylim = plt.ylim()\n",
        "    ax.plot(depths, accuracy_scores, '-*', label='train accuracy', alpha=0.9)\n",
        "    ax.set_title(title, fontsize=16)\n",
        "    ax.set_xlabel('Tree depth', fontsize=14)\n",
        "    ax.set_ylabel('Accuracy', fontsize=14)\n",
        "    ax.set_ylim(ylim)\n",
        "    ax.set_xticks(depths)\n",
        "    ax.legend()\n",
        "\n",
        "# fitting trees of depth 1 to 24\n",
        "sm_tree_depths = range(1,25)\n",
        "sm_cv_scores_mean, sm_cv_scores_std, sm_accuracy_scores = run_cross_validation_on_trees(X_train, y_train, sm_tree_depths)\n",
        "\n",
        "# plotting accuracy\n",
        "plot_cross_validation_on_trees(sm_tree_depths, sm_cv_scores_mean, sm_cv_scores_std, sm_accuracy_scores, \n",
        "                               'Accuracy per decision tree depth on training data')"
      ],
      "execution_count": null,
      "outputs": [
        {
          "output_type": "display_data",
          "data": {
            "image/png": "[encoded data removed]",
            "text/plain": [
              "<Figure size 1080x360 with 1 Axes>"
            ]
          },
          "metadata": {
            "needs_background": "light"
          }
        }
      ]
    },
    {
      "cell_type": "code",
      "metadata": {
        "colab": {
          "base_uri": "https://localhost:8080/"
        },
        "id": "hMwk0tw-pByo",
        "outputId": "ad2e817a-2c27-43d9-8b9d-0727b89c54a8"
      },
      "source": [
        "idx_max = sm_cv_scores_mean.argmax()\n",
        "sm_best_tree_depth = sm_tree_depths[idx_max]\n",
        "sm_best_tree_cv_score = sm_cv_scores_mean[idx_max]\n",
        "sm_best_tree_cv_score_std = sm_cv_scores_std[idx_max]\n",
        "print('The depth-{} tree achieves the best mean cross-validation accuracy {} +/- {}% on training dataset'.format(\n",
        "      sm_best_tree_depth, round(sm_best_tree_cv_score*100,5), round(sm_best_tree_cv_score_std*100, 5)))\n"
      ],
      "execution_count": null,
      "outputs": [
        {
          "output_type": "stream",
          "text": [
            "The depth-6 tree achieves the best mean cross-validation accuracy 81.03627 +/- 1.36497% on training dataset\n"
          ],
          "name": "stdout"
        }
      ]
    },
    {
      "cell_type": "markdown",
      "metadata": {
        "id": "eAUXOVn8Wr7z"
      },
      "source": [
        "**Τύπωμα Δέντρου**"
      ]
    },
    {
      "cell_type": "code",
      "metadata": {
        "id": "eWbN0qZhHIX8",
        "colab": {
          "base_uri": "https://localhost:8080/",
          "height": 1000
        },
        "outputId": "be8bdd21-152c-4e76-b0ff-a54050fc2614"
      },
      "source": [
        "import graphviz\n",
        "from sklearn.tree import export_graphviz\n",
        "\n",
        "dot_data = export_graphviz(estimator)\n",
        "graphviz.Source(export_graphviz(estimator,\n",
        "                                out_file=None,\n",
        "                                feature_names=X_train.columns,\n",
        "                                class_names=[\"0\", \"1\"],\n",
        "                                node_ids = True,\n",
        "                                impurity=True))"
      ],
      "execution_count": null,
      "outputs": [
        {
          "output_type": "execute_result",
          "data": {
            "text/plain": [
              "<graphviz.files.Source at 0x7f92df5978d0>"
            ],
            "image/svg+xml": "<?xml version=\"1.0\" encoding=\"UTF-8\" standalone=\"no\"?>\n<!DOCTYPE svg PUBLIC \"-//W3C//DTD SVG 1.1//EN\"\n \"http://www.w3.org/Graphics/SVG/1.1/DTD/svg11.dtd\">\n<!-- Generated by graphviz version 2.40.1 (20161225.0304)\n -->\n<!-- Title: Tree Pages: 1 -->\n<svg width=\"1006pt\" height=\"1431pt\"\n viewBox=\"0.00 0.00 1005.50 1431.00\" xmlns=\"http://www.w3.org/2000/svg\" xmlns:xlink=\"http://www.w3.org/1999/xlink\">\n<g id=\"graph0\" class=\"graph\" transform=\"scale(1 1) rotate(0) translate(4 1427)\">\n<title>Tree</title>\n<polygon fill=\"#ffffff\" stroke=\"transparent\" points=\"-4,4 -4,-1427 1001.5,-1427 1001.5,4 -4,4\"/>\n<!-- 0 -->\n<g id=\"node1\" class=\"node\">\n<title>0</title>\n<polygon fill=\"none\" stroke=\"#000000\" points=\"639.5,-1423 487.5,-1423 487.5,-1325 639.5,-1325 639.5,-1423\"/>\n<text text-anchor=\"middle\" x=\"563.5\" y=\"-1407.8\" font-family=\"Times,serif\" font-size=\"14.00\" fill=\"#000000\">node #0</text>\n<text text-anchor=\"middle\" x=\"563.5\" y=\"-1392.8\" font-family=\"Times,serif\" font-size=\"14.00\" fill=\"#000000\">comparative_no &lt;= 0.5</text>\n<text text-anchor=\"middle\" x=\"563.5\" y=\"-1377.8\" font-family=\"Times,serif\" font-size=\"14.00\" fill=\"#000000\">gini = 0.5</text>\n<text text-anchor=\"middle\" x=\"563.5\" y=\"-1362.8\" font-family=\"Times,serif\" font-size=\"14.00\" fill=\"#000000\">samples = 1930</text>\n<text text-anchor=\"middle\" x=\"563.5\" y=\"-1347.8\" font-family=\"Times,serif\" font-size=\"14.00\" fill=\"#000000\">value = [968, 962]</text>\n<text text-anchor=\"middle\" x=\"563.5\" y=\"-1332.8\" font-family=\"Times,serif\" font-size=\"14.00\" fill=\"#000000\">class = 0</text>\n</g>\n<!-- 1 -->\n<g id=\"node2\" class=\"node\">\n<title>1</title>\n<polygon fill=\"none\" stroke=\"#000000\" points=\"558,-1289 433,-1289 433,-1191 558,-1191 558,-1289\"/>\n<text text-anchor=\"middle\" x=\"495.5\" y=\"-1273.8\" font-family=\"Times,serif\" font-size=\"14.00\" fill=\"#000000\">node #1</text>\n<text text-anchor=\"middle\" x=\"495.5\" y=\"-1258.8\" font-family=\"Times,serif\" font-size=\"14.00\" fill=\"#000000\">verbs_title &lt;= 0.5</text>\n<text text-anchor=\"middle\" x=\"495.5\" y=\"-1243.8\" font-family=\"Times,serif\" font-size=\"14.00\" fill=\"#000000\">gini = 0.422</text>\n<text text-anchor=\"middle\" x=\"495.5\" y=\"-1228.8\" font-family=\"Times,serif\" font-size=\"14.00\" fill=\"#000000\">samples = 1373</text>\n<text text-anchor=\"middle\" x=\"495.5\" y=\"-1213.8\" font-family=\"Times,serif\" font-size=\"14.00\" fill=\"#000000\">value = [415, 958]</text>\n<text text-anchor=\"middle\" x=\"495.5\" y=\"-1198.8\" font-family=\"Times,serif\" font-size=\"14.00\" fill=\"#000000\">class = 1</text>\n</g>\n<!-- 0&#45;&gt;1 -->\n<g id=\"edge1\" class=\"edge\">\n<title>0&#45;&gt;1</title>\n<path fill=\"none\" stroke=\"#000000\" d=\"M538.5654,-1324.8642C534.1768,-1316.216 529.5708,-1307.1394 525.0701,-1298.2704\"/>\n<polygon fill=\"#000000\" stroke=\"#000000\" points=\"528.078,-1296.4635 520.4316,-1289.1298 521.8358,-1299.6312 528.078,-1296.4635\"/>\n<text text-anchor=\"middle\" x=\"512.6672\" y=\"-1309.1935\" font-family=\"Times,serif\" font-size=\"14.00\" fill=\"#000000\">True</text>\n</g>\n<!-- 2 -->\n<g id=\"node35\" class=\"node\">\n<title>2</title>\n<polygon fill=\"none\" stroke=\"#000000\" points=\"686.5,-1281.5 576.5,-1281.5 576.5,-1198.5 686.5,-1198.5 686.5,-1281.5\"/>\n<text text-anchor=\"middle\" x=\"631.5\" y=\"-1266.3\" font-family=\"Times,serif\" font-size=\"14.00\" fill=\"#000000\">node #2</text>\n<text text-anchor=\"middle\" x=\"631.5\" y=\"-1251.3\" font-family=\"Times,serif\" font-size=\"14.00\" fill=\"#000000\">gini = 0.014</text>\n<text text-anchor=\"middle\" x=\"631.5\" y=\"-1236.3\" font-family=\"Times,serif\" font-size=\"14.00\" fill=\"#000000\">samples = 557</text>\n<text text-anchor=\"middle\" x=\"631.5\" y=\"-1221.3\" font-family=\"Times,serif\" font-size=\"14.00\" fill=\"#000000\">value = [553, 4]</text>\n<text text-anchor=\"middle\" x=\"631.5\" y=\"-1206.3\" font-family=\"Times,serif\" font-size=\"14.00\" fill=\"#000000\">class = 0</text>\n</g>\n<!-- 0&#45;&gt;2 -->\n<g id=\"edge34\" class=\"edge\">\n<title>0&#45;&gt;2</title>\n<path fill=\"none\" stroke=\"#000000\" d=\"M588.4346,-1324.8642C594.061,-1313.7768 600.0448,-1301.9852 605.7058,-1290.8297\"/>\n<polygon fill=\"#000000\" stroke=\"#000000\" points=\"608.966,-1292.1395 610.3702,-1281.6381 602.7237,-1288.9718 608.966,-1292.1395\"/>\n<text text-anchor=\"middle\" x=\"618.1346\" y=\"-1301.7019\" font-family=\"Times,serif\" font-size=\"14.00\" fill=\"#000000\">False</text>\n</g>\n<!-- 3 -->\n<g id=\"node3\" class=\"node\">\n<title>3</title>\n<polygon fill=\"none\" stroke=\"#000000\" points=\"432,-1155 287,-1155 287,-1057 432,-1057 432,-1155\"/>\n<text text-anchor=\"middle\" x=\"359.5\" y=\"-1139.8\" font-family=\"Times,serif\" font-size=\"14.00\" fill=\"#000000\">node #3</text>\n<text text-anchor=\"middle\" x=\"359.5\" y=\"-1124.8\" font-family=\"Times,serif\" font-size=\"14.00\" fill=\"#000000\">num_wds_title &lt;= 7.5</text>\n<text text-anchor=\"middle\" x=\"359.5\" y=\"-1109.8\" font-family=\"Times,serif\" font-size=\"14.00\" fill=\"#000000\">gini = 0.5</text>\n<text text-anchor=\"middle\" x=\"359.5\" y=\"-1094.8\" font-family=\"Times,serif\" font-size=\"14.00\" fill=\"#000000\">samples = 377</text>\n<text text-anchor=\"middle\" x=\"359.5\" y=\"-1079.8\" font-family=\"Times,serif\" font-size=\"14.00\" fill=\"#000000\">value = [192, 185]</text>\n<text text-anchor=\"middle\" x=\"359.5\" y=\"-1064.8\" font-family=\"Times,serif\" font-size=\"14.00\" fill=\"#000000\">class = 0</text>\n</g>\n<!-- 1&#45;&gt;3 -->\n<g id=\"edge2\" class=\"edge\">\n<title>1&#45;&gt;3</title>\n<path fill=\"none\" stroke=\"#000000\" d=\"M445.6309,-1190.8642C436.2068,-1181.5788 426.2816,-1171.7995 416.6541,-1162.3136\"/>\n<polygon fill=\"#000000\" stroke=\"#000000\" points=\"418.9429,-1159.6552 409.3631,-1155.1298 414.0299,-1164.6415 418.9429,-1159.6552\"/>\n</g>\n<!-- 4 -->\n<g id=\"node16\" class=\"node\">\n<title>4</title>\n<polygon fill=\"none\" stroke=\"#000000\" points=\"648,-1155 505,-1155 505,-1057 648,-1057 648,-1155\"/>\n<text text-anchor=\"middle\" x=\"576.5\" y=\"-1139.8\" font-family=\"Times,serif\" font-size=\"14.00\" fill=\"#000000\">node #4</text>\n<text text-anchor=\"middle\" x=\"576.5\" y=\"-1124.8\" font-family=\"Times,serif\" font-size=\"14.00\" fill=\"#000000\">superlative_no &lt;= 0.5</text>\n<text text-anchor=\"middle\" x=\"576.5\" y=\"-1109.8\" font-family=\"Times,serif\" font-size=\"14.00\" fill=\"#000000\">gini = 0.348</text>\n<text text-anchor=\"middle\" x=\"576.5\" y=\"-1094.8\" font-family=\"Times,serif\" font-size=\"14.00\" fill=\"#000000\">samples = 996</text>\n<text text-anchor=\"middle\" x=\"576.5\" y=\"-1079.8\" font-family=\"Times,serif\" font-size=\"14.00\" fill=\"#000000\">value = [223, 773]</text>\n<text text-anchor=\"middle\" x=\"576.5\" y=\"-1064.8\" font-family=\"Times,serif\" font-size=\"14.00\" fill=\"#000000\">class = 1</text>\n</g>\n<!-- 1&#45;&gt;4 -->\n<g id=\"edge15\" class=\"edge\">\n<title>1&#45;&gt;4</title>\n<path fill=\"none\" stroke=\"#000000\" d=\"M525.2015,-1190.8642C530.5392,-1182.034 536.1468,-1172.7571 541.6153,-1163.7106\"/>\n<polygon fill=\"#000000\" stroke=\"#000000\" points=\"544.6243,-1165.4984 546.8021,-1155.1298 538.6337,-1161.8772 544.6243,-1165.4984\"/>\n</g>\n<!-- 9 -->\n<g id=\"node4\" class=\"node\">\n<title>9</title>\n<polygon fill=\"none\" stroke=\"#000000\" points=\"223.5,-1021 113.5,-1021 113.5,-923 223.5,-923 223.5,-1021\"/>\n<text text-anchor=\"middle\" x=\"168.5\" y=\"-1005.8\" font-family=\"Times,serif\" font-size=\"14.00\" fill=\"#000000\">node #9</text>\n<text text-anchor=\"middle\" x=\"168.5\" y=\"-990.8\" font-family=\"Times,serif\" font-size=\"14.00\" fill=\"#000000\">nouns &lt;= 7.5</text>\n<text text-anchor=\"middle\" x=\"168.5\" y=\"-975.8\" font-family=\"Times,serif\" font-size=\"14.00\" fill=\"#000000\">gini = 0.344</text>\n<text text-anchor=\"middle\" x=\"168.5\" y=\"-960.8\" font-family=\"Times,serif\" font-size=\"14.00\" fill=\"#000000\">samples = 68</text>\n<text text-anchor=\"middle\" x=\"168.5\" y=\"-945.8\" font-family=\"Times,serif\" font-size=\"14.00\" fill=\"#000000\">value = [15, 53]</text>\n<text text-anchor=\"middle\" x=\"168.5\" y=\"-930.8\" font-family=\"Times,serif\" font-size=\"14.00\" fill=\"#000000\">class = 1</text>\n</g>\n<!-- 3&#45;&gt;9 -->\n<g id=\"edge3\" class=\"edge\">\n<title>3&#45;&gt;9</title>\n<path fill=\"none\" stroke=\"#000000\" d=\"M289.4632,-1056.8642C270.6285,-1043.6503 250.3682,-1029.4363 231.9161,-1016.4909\"/>\n<polygon fill=\"#000000\" stroke=\"#000000\" points=\"233.7734,-1013.5184 223.5769,-1010.6403 229.7531,-1019.2488 233.7734,-1013.5184\"/>\n</g>\n<!-- 10 -->\n<g id=\"node7\" class=\"node\">\n<title>10</title>\n<polygon fill=\"none\" stroke=\"#000000\" points=\"422,-1021 297,-1021 297,-923 422,-923 422,-1021\"/>\n<text text-anchor=\"middle\" x=\"359.5\" y=\"-1005.8\" font-family=\"Times,serif\" font-size=\"14.00\" fill=\"#000000\">node #10</text>\n<text text-anchor=\"middle\" x=\"359.5\" y=\"-990.8\" font-family=\"Times,serif\" font-size=\"14.00\" fill=\"#000000\">ratio &lt;= 1.432</text>\n<text text-anchor=\"middle\" x=\"359.5\" y=\"-975.8\" font-family=\"Times,serif\" font-size=\"14.00\" fill=\"#000000\">gini = 0.489</text>\n<text text-anchor=\"middle\" x=\"359.5\" y=\"-960.8\" font-family=\"Times,serif\" font-size=\"14.00\" fill=\"#000000\">samples = 309</text>\n<text text-anchor=\"middle\" x=\"359.5\" y=\"-945.8\" font-family=\"Times,serif\" font-size=\"14.00\" fill=\"#000000\">value = [177, 132]</text>\n<text text-anchor=\"middle\" x=\"359.5\" y=\"-930.8\" font-family=\"Times,serif\" font-size=\"14.00\" fill=\"#000000\">class = 0</text>\n</g>\n<!-- 3&#45;&gt;10 -->\n<g id=\"edge6\" class=\"edge\">\n<title>3&#45;&gt;10</title>\n<path fill=\"none\" stroke=\"#000000\" d=\"M359.5,-1056.8642C359.5,-1048.5802 359.5,-1039.903 359.5,-1031.3918\"/>\n<polygon fill=\"#000000\" stroke=\"#000000\" points=\"363.0001,-1031.1298 359.5,-1021.1298 356.0001,-1031.1299 363.0001,-1031.1298\"/>\n</g>\n<!-- 23 -->\n<g id=\"node5\" class=\"node\">\n<title>23</title>\n<polygon fill=\"none\" stroke=\"#000000\" points=\"95,-879.5 0,-879.5 0,-796.5 95,-796.5 95,-879.5\"/>\n<text text-anchor=\"middle\" x=\"47.5\" y=\"-864.3\" font-family=\"Times,serif\" font-size=\"14.00\" fill=\"#000000\">node #23</text>\n<text text-anchor=\"middle\" x=\"47.5\" y=\"-849.3\" font-family=\"Times,serif\" font-size=\"14.00\" fill=\"#000000\">gini = 0.0</text>\n<text text-anchor=\"middle\" x=\"47.5\" y=\"-834.3\" font-family=\"Times,serif\" font-size=\"14.00\" fill=\"#000000\">samples = 5</text>\n<text text-anchor=\"middle\" x=\"47.5\" y=\"-819.3\" font-family=\"Times,serif\" font-size=\"14.00\" fill=\"#000000\">value = [5, 0]</text>\n<text text-anchor=\"middle\" x=\"47.5\" y=\"-804.3\" font-family=\"Times,serif\" font-size=\"14.00\" fill=\"#000000\">class = 0</text>\n</g>\n<!-- 9&#45;&gt;23 -->\n<g id=\"edge4\" class=\"edge\">\n<title>9&#45;&gt;23</title>\n<path fill=\"none\" stroke=\"#000000\" d=\"M124.1311,-922.8642C113.6187,-911.2224 102.4054,-898.8043 91.892,-887.1613\"/>\n<polygon fill=\"#000000\" stroke=\"#000000\" points=\"94.3982,-884.7144 85.0986,-879.6381 89.2028,-889.4057 94.3982,-884.7144\"/>\n</g>\n<!-- 24 -->\n<g id=\"node6\" class=\"node\">\n<title>24</title>\n<polygon fill=\"none\" stroke=\"#000000\" points=\"223.5,-879.5 113.5,-879.5 113.5,-796.5 223.5,-796.5 223.5,-879.5\"/>\n<text text-anchor=\"middle\" x=\"168.5\" y=\"-864.3\" font-family=\"Times,serif\" font-size=\"14.00\" fill=\"#000000\">node #24</text>\n<text text-anchor=\"middle\" x=\"168.5\" y=\"-849.3\" font-family=\"Times,serif\" font-size=\"14.00\" fill=\"#000000\">gini = 0.267</text>\n<text text-anchor=\"middle\" x=\"168.5\" y=\"-834.3\" font-family=\"Times,serif\" font-size=\"14.00\" fill=\"#000000\">samples = 63</text>\n<text text-anchor=\"middle\" x=\"168.5\" y=\"-819.3\" font-family=\"Times,serif\" font-size=\"14.00\" fill=\"#000000\">value = [10, 53]</text>\n<text text-anchor=\"middle\" x=\"168.5\" y=\"-804.3\" font-family=\"Times,serif\" font-size=\"14.00\" fill=\"#000000\">class = 1</text>\n</g>\n<!-- 9&#45;&gt;24 -->\n<g id=\"edge5\" class=\"edge\">\n<title>9&#45;&gt;24</title>\n<path fill=\"none\" stroke=\"#000000\" d=\"M168.5,-922.8642C168.5,-912.1094 168.5,-900.6921 168.5,-889.8354\"/>\n<polygon fill=\"#000000\" stroke=\"#000000\" points=\"172.0001,-889.6381 168.5,-879.6381 165.0001,-889.6382 172.0001,-889.6381\"/>\n</g>\n<!-- 11 -->\n<g id=\"node8\" class=\"node\">\n<title>11</title>\n<polygon fill=\"none\" stroke=\"#000000\" points=\"343.5,-879.5 241.5,-879.5 241.5,-796.5 343.5,-796.5 343.5,-879.5\"/>\n<text text-anchor=\"middle\" x=\"292.5\" y=\"-864.3\" font-family=\"Times,serif\" font-size=\"14.00\" fill=\"#000000\">node #11</text>\n<text text-anchor=\"middle\" x=\"292.5\" y=\"-849.3\" font-family=\"Times,serif\" font-size=\"14.00\" fill=\"#000000\">gini = 0.271</text>\n<text text-anchor=\"middle\" x=\"292.5\" y=\"-834.3\" font-family=\"Times,serif\" font-size=\"14.00\" fill=\"#000000\">samples = 31</text>\n<text text-anchor=\"middle\" x=\"292.5\" y=\"-819.3\" font-family=\"Times,serif\" font-size=\"14.00\" fill=\"#000000\">value = [5, 26]</text>\n<text text-anchor=\"middle\" x=\"292.5\" y=\"-804.3\" font-family=\"Times,serif\" font-size=\"14.00\" fill=\"#000000\">class = 1</text>\n</g>\n<!-- 10&#45;&gt;11 -->\n<g id=\"edge7\" class=\"edge\">\n<title>10&#45;&gt;11</title>\n<path fill=\"none\" stroke=\"#000000\" d=\"M334.9321,-922.8642C329.3884,-911.7768 323.4926,-899.9852 317.9149,-888.8297\"/>\n<polygon fill=\"#000000\" stroke=\"#000000\" points=\"320.9218,-887.0172 313.3191,-879.6381 314.6608,-890.1477 320.9218,-887.0172\"/>\n</g>\n<!-- 12 -->\n<g id=\"node9\" class=\"node\">\n<title>12</title>\n<polygon fill=\"none\" stroke=\"#000000\" points=\"495.5,-887 361.5,-887 361.5,-789 495.5,-789 495.5,-887\"/>\n<text text-anchor=\"middle\" x=\"428.5\" y=\"-871.8\" font-family=\"Times,serif\" font-size=\"14.00\" fill=\"#000000\">node #12</text>\n<text text-anchor=\"middle\" x=\"428.5\" y=\"-856.8\" font-family=\"Times,serif\" font-size=\"14.00\" fill=\"#000000\">anticipation &lt;= 18.5</text>\n<text text-anchor=\"middle\" x=\"428.5\" y=\"-841.8\" font-family=\"Times,serif\" font-size=\"14.00\" fill=\"#000000\">gini = 0.472</text>\n<text text-anchor=\"middle\" x=\"428.5\" y=\"-826.8\" font-family=\"Times,serif\" font-size=\"14.00\" fill=\"#000000\">samples = 278</text>\n<text text-anchor=\"middle\" x=\"428.5\" y=\"-811.8\" font-family=\"Times,serif\" font-size=\"14.00\" fill=\"#000000\">value = [172, 106]</text>\n<text text-anchor=\"middle\" x=\"428.5\" y=\"-796.8\" font-family=\"Times,serif\" font-size=\"14.00\" fill=\"#000000\">class = 0</text>\n</g>\n<!-- 10&#45;&gt;12 -->\n<g id=\"edge8\" class=\"edge\">\n<title>10&#45;&gt;12</title>\n<path fill=\"none\" stroke=\"#000000\" d=\"M384.8013,-922.8642C389.2544,-914.216 393.9282,-905.1394 398.4951,-896.2704\"/>\n<polygon fill=\"#000000\" stroke=\"#000000\" points=\"401.7355,-897.6227 403.2018,-887.1298 395.5121,-894.4181 401.7355,-897.6227\"/>\n</g>\n<!-- 13 -->\n<g id=\"node10\" class=\"node\">\n<title>13</title>\n<polygon fill=\"none\" stroke=\"#000000\" points=\"367.5,-753 215.5,-753 215.5,-655 367.5,-655 367.5,-753\"/>\n<text text-anchor=\"middle\" x=\"291.5\" y=\"-737.8\" font-family=\"Times,serif\" font-size=\"14.00\" fill=\"#000000\">node #13</text>\n<text text-anchor=\"middle\" x=\"291.5\" y=\"-722.8\" font-family=\"Times,serif\" font-size=\"14.00\" fill=\"#000000\">num_wds_title &lt;= 18.5</text>\n<text text-anchor=\"middle\" x=\"291.5\" y=\"-707.8\" font-family=\"Times,serif\" font-size=\"14.00\" fill=\"#000000\">gini = 0.455</text>\n<text text-anchor=\"middle\" x=\"291.5\" y=\"-692.8\" font-family=\"Times,serif\" font-size=\"14.00\" fill=\"#000000\">samples = 263</text>\n<text text-anchor=\"middle\" x=\"291.5\" y=\"-677.8\" font-family=\"Times,serif\" font-size=\"14.00\" fill=\"#000000\">value = [171, 92]</text>\n<text text-anchor=\"middle\" x=\"291.5\" y=\"-662.8\" font-family=\"Times,serif\" font-size=\"14.00\" fill=\"#000000\">class = 0</text>\n</g>\n<!-- 12&#45;&gt;13 -->\n<g id=\"edge9\" class=\"edge\">\n<title>12&#45;&gt;13</title>\n<path fill=\"none\" stroke=\"#000000\" d=\"M378.2642,-788.8642C368.7709,-779.5788 358.7726,-769.7995 349.0743,-760.3136\"/>\n<polygon fill=\"#000000\" stroke=\"#000000\" points=\"351.326,-757.6201 341.7297,-753.1298 346.4313,-762.6243 351.326,-757.6201\"/>\n</g>\n<!-- 14 -->\n<g id=\"node15\" class=\"node\">\n<title>14</title>\n<polygon fill=\"none\" stroke=\"#000000\" points=\"487.5,-745.5 385.5,-745.5 385.5,-662.5 487.5,-662.5 487.5,-745.5\"/>\n<text text-anchor=\"middle\" x=\"436.5\" y=\"-730.3\" font-family=\"Times,serif\" font-size=\"14.00\" fill=\"#000000\">node #14</text>\n<text text-anchor=\"middle\" x=\"436.5\" y=\"-715.3\" font-family=\"Times,serif\" font-size=\"14.00\" fill=\"#000000\">gini = 0.124</text>\n<text text-anchor=\"middle\" x=\"436.5\" y=\"-700.3\" font-family=\"Times,serif\" font-size=\"14.00\" fill=\"#000000\">samples = 15</text>\n<text text-anchor=\"middle\" x=\"436.5\" y=\"-685.3\" font-family=\"Times,serif\" font-size=\"14.00\" fill=\"#000000\">value = [1, 14]</text>\n<text text-anchor=\"middle\" x=\"436.5\" y=\"-670.3\" font-family=\"Times,serif\" font-size=\"14.00\" fill=\"#000000\">class = 1</text>\n</g>\n<!-- 12&#45;&gt;14 -->\n<g id=\"edge14\" class=\"edge\">\n<title>12&#45;&gt;14</title>\n<path fill=\"none\" stroke=\"#000000\" d=\"M431.4335,-788.8642C432.0756,-778.1094 432.7572,-766.6921 433.4053,-755.8354\"/>\n<polygon fill=\"#000000\" stroke=\"#000000\" points=\"436.9119,-755.829 434.0141,-745.6381 429.9243,-755.4117 436.9119,-755.829\"/>\n</g>\n<!-- 27 -->\n<g id=\"node11\" class=\"node\">\n<title>27</title>\n<polygon fill=\"none\" stroke=\"#000000\" points=\"361,-619 206,-619 206,-521 361,-521 361,-619\"/>\n<text text-anchor=\"middle\" x=\"283.5\" y=\"-603.8\" font-family=\"Times,serif\" font-size=\"14.00\" fill=\"#000000\">node #27</text>\n<text text-anchor=\"middle\" x=\"283.5\" y=\"-588.8\" font-family=\"Times,serif\" font-size=\"14.00\" fill=\"#000000\">Fear_intensity &lt;= 0.156</text>\n<text text-anchor=\"middle\" x=\"283.5\" y=\"-573.8\" font-family=\"Times,serif\" font-size=\"14.00\" fill=\"#000000\">gini = 0.444</text>\n<text text-anchor=\"middle\" x=\"283.5\" y=\"-558.8\" font-family=\"Times,serif\" font-size=\"14.00\" fill=\"#000000\">samples = 256</text>\n<text text-anchor=\"middle\" x=\"283.5\" y=\"-543.8\" font-family=\"Times,serif\" font-size=\"14.00\" fill=\"#000000\">value = [171, 85]</text>\n<text text-anchor=\"middle\" x=\"283.5\" y=\"-528.8\" font-family=\"Times,serif\" font-size=\"14.00\" fill=\"#000000\">class = 0</text>\n</g>\n<!-- 13&#45;&gt;27 -->\n<g id=\"edge10\" class=\"edge\">\n<title>13&#45;&gt;27</title>\n<path fill=\"none\" stroke=\"#000000\" d=\"M288.5665,-654.8642C288.0719,-646.5802 287.5539,-637.903 287.0458,-629.3918\"/>\n<polygon fill=\"#000000\" stroke=\"#000000\" points=\"290.5229,-628.9034 286.4331,-619.1298 283.5354,-629.3207 290.5229,-628.9034\"/>\n</g>\n<!-- 28 -->\n<g id=\"node14\" class=\"node\">\n<title>28</title>\n<polygon fill=\"none\" stroke=\"#000000\" points=\"474,-611.5 379,-611.5 379,-528.5 474,-528.5 474,-611.5\"/>\n<text text-anchor=\"middle\" x=\"426.5\" y=\"-596.3\" font-family=\"Times,serif\" font-size=\"14.00\" fill=\"#000000\">node #28</text>\n<text text-anchor=\"middle\" x=\"426.5\" y=\"-581.3\" font-family=\"Times,serif\" font-size=\"14.00\" fill=\"#000000\">gini = 0.0</text>\n<text text-anchor=\"middle\" x=\"426.5\" y=\"-566.3\" font-family=\"Times,serif\" font-size=\"14.00\" fill=\"#000000\">samples = 7</text>\n<text text-anchor=\"middle\" x=\"426.5\" y=\"-551.3\" font-family=\"Times,serif\" font-size=\"14.00\" fill=\"#000000\">value = [0, 7]</text>\n<text text-anchor=\"middle\" x=\"426.5\" y=\"-536.3\" font-family=\"Times,serif\" font-size=\"14.00\" fill=\"#000000\">class = 1</text>\n</g>\n<!-- 13&#45;&gt;28 -->\n<g id=\"edge13\" class=\"edge\">\n<title>13&#45;&gt;28</title>\n<path fill=\"none\" stroke=\"#000000\" d=\"M341.0024,-654.8642C352.8429,-643.1115 365.4803,-630.5677 377.3067,-618.8289\"/>\n<polygon fill=\"#000000\" stroke=\"#000000\" points=\"379.9195,-621.167 384.5511,-611.6381 374.9881,-616.1988 379.9195,-621.167\"/>\n</g>\n<!-- 33 -->\n<g id=\"node12\" class=\"node\">\n<title>33</title>\n<polygon fill=\"none\" stroke=\"#000000\" points=\"336.5,-477.5 226.5,-477.5 226.5,-394.5 336.5,-394.5 336.5,-477.5\"/>\n<text text-anchor=\"middle\" x=\"281.5\" y=\"-462.3\" font-family=\"Times,serif\" font-size=\"14.00\" fill=\"#000000\">node #33</text>\n<text text-anchor=\"middle\" x=\"281.5\" y=\"-447.3\" font-family=\"Times,serif\" font-size=\"14.00\" fill=\"#000000\">gini = 0.337</text>\n<text text-anchor=\"middle\" x=\"281.5\" y=\"-432.3\" font-family=\"Times,serif\" font-size=\"14.00\" fill=\"#000000\">samples = 98</text>\n<text text-anchor=\"middle\" x=\"281.5\" y=\"-417.3\" font-family=\"Times,serif\" font-size=\"14.00\" fill=\"#000000\">value = [77, 21]</text>\n<text text-anchor=\"middle\" x=\"281.5\" y=\"-402.3\" font-family=\"Times,serif\" font-size=\"14.00\" fill=\"#000000\">class = 0</text>\n</g>\n<!-- 27&#45;&gt;33 -->\n<g id=\"edge11\" class=\"edge\">\n<title>27&#45;&gt;33</title>\n<path fill=\"none\" stroke=\"#000000\" d=\"M282.7666,-520.8642C282.6061,-510.1094 282.4357,-498.6921 282.2737,-487.8354\"/>\n<polygon fill=\"#000000\" stroke=\"#000000\" points=\"285.7704,-487.5848 282.1215,-477.6381 278.7712,-487.6893 285.7704,-487.5848\"/>\n</g>\n<!-- 34 -->\n<g id=\"node13\" class=\"node\">\n<title>34</title>\n<polygon fill=\"none\" stroke=\"#000000\" points=\"464.5,-477.5 354.5,-477.5 354.5,-394.5 464.5,-394.5 464.5,-477.5\"/>\n<text text-anchor=\"middle\" x=\"409.5\" y=\"-462.3\" font-family=\"Times,serif\" font-size=\"14.00\" fill=\"#000000\">node #34</text>\n<text text-anchor=\"middle\" x=\"409.5\" y=\"-447.3\" font-family=\"Times,serif\" font-size=\"14.00\" fill=\"#000000\">gini = 0.482</text>\n<text text-anchor=\"middle\" x=\"409.5\" y=\"-432.3\" font-family=\"Times,serif\" font-size=\"14.00\" fill=\"#000000\">samples = 158</text>\n<text text-anchor=\"middle\" x=\"409.5\" y=\"-417.3\" font-family=\"Times,serif\" font-size=\"14.00\" fill=\"#000000\">value = [94, 64]</text>\n<text text-anchor=\"middle\" x=\"409.5\" y=\"-402.3\" font-family=\"Times,serif\" font-size=\"14.00\" fill=\"#000000\">class = 0</text>\n</g>\n<!-- 27&#45;&gt;34 -->\n<g id=\"edge12\" class=\"edge\">\n<title>27&#45;&gt;34</title>\n<path fill=\"none\" stroke=\"#000000\" d=\"M329.7023,-520.8642C340.6491,-509.2224 352.3258,-496.8043 363.2737,-485.1613\"/>\n<polygon fill=\"#000000\" stroke=\"#000000\" points=\"366.0473,-487.321 370.3477,-477.6381 360.9476,-482.5258 366.0473,-487.321\"/>\n</g>\n<!-- 5 -->\n<g id=\"node17\" class=\"node\">\n<title>5</title>\n<polygon fill=\"none\" stroke=\"#000000\" points=\"639,-1021 514,-1021 514,-923 639,-923 639,-1021\"/>\n<text text-anchor=\"middle\" x=\"576.5\" y=\"-1005.8\" font-family=\"Times,serif\" font-size=\"14.00\" fill=\"#000000\">node #5</text>\n<text text-anchor=\"middle\" x=\"576.5\" y=\"-990.8\" font-family=\"Times,serif\" font-size=\"14.00\" fill=\"#000000\">verbs_title &lt;= 1.5</text>\n<text text-anchor=\"middle\" x=\"576.5\" y=\"-975.8\" font-family=\"Times,serif\" font-size=\"14.00\" fill=\"#000000\">gini = 0.335</text>\n<text text-anchor=\"middle\" x=\"576.5\" y=\"-960.8\" font-family=\"Times,serif\" font-size=\"14.00\" fill=\"#000000\">samples = 982</text>\n<text text-anchor=\"middle\" x=\"576.5\" y=\"-945.8\" font-family=\"Times,serif\" font-size=\"14.00\" fill=\"#000000\">value = [209, 773]</text>\n<text text-anchor=\"middle\" x=\"576.5\" y=\"-930.8\" font-family=\"Times,serif\" font-size=\"14.00\" fill=\"#000000\">class = 1</text>\n</g>\n<!-- 4&#45;&gt;5 -->\n<g id=\"edge16\" class=\"edge\">\n<title>4&#45;&gt;5</title>\n<path fill=\"none\" stroke=\"#000000\" d=\"M576.5,-1056.8642C576.5,-1048.5802 576.5,-1039.903 576.5,-1031.3918\"/>\n<polygon fill=\"#000000\" stroke=\"#000000\" points=\"580.0001,-1031.1298 576.5,-1021.1298 573.0001,-1031.1299 580.0001,-1031.1298\"/>\n</g>\n<!-- 6 -->\n<g id=\"node34\" class=\"node\">\n<title>6</title>\n<polygon fill=\"none\" stroke=\"#000000\" points=\"759.5,-1013.5 657.5,-1013.5 657.5,-930.5 759.5,-930.5 759.5,-1013.5\"/>\n<text text-anchor=\"middle\" x=\"708.5\" y=\"-998.3\" font-family=\"Times,serif\" font-size=\"14.00\" fill=\"#000000\">node #6</text>\n<text text-anchor=\"middle\" x=\"708.5\" y=\"-983.3\" font-family=\"Times,serif\" font-size=\"14.00\" fill=\"#000000\">gini = 0.0</text>\n<text text-anchor=\"middle\" x=\"708.5\" y=\"-968.3\" font-family=\"Times,serif\" font-size=\"14.00\" fill=\"#000000\">samples = 14</text>\n<text text-anchor=\"middle\" x=\"708.5\" y=\"-953.3\" font-family=\"Times,serif\" font-size=\"14.00\" fill=\"#000000\">value = [14, 0]</text>\n<text text-anchor=\"middle\" x=\"708.5\" y=\"-938.3\" font-family=\"Times,serif\" font-size=\"14.00\" fill=\"#000000\">class = 0</text>\n</g>\n<!-- 4&#45;&gt;6 -->\n<g id=\"edge33\" class=\"edge\">\n<title>4&#45;&gt;6</title>\n<path fill=\"none\" stroke=\"#000000\" d=\"M624.9024,-1056.8642C636.4797,-1045.1115 648.8363,-1032.5677 660.3999,-1020.8289\"/>\n<polygon fill=\"#000000\" stroke=\"#000000\" points=\"662.959,-1023.2184 667.4833,-1013.6381 657.9722,-1018.306 662.959,-1023.2184\"/>\n</g>\n<!-- 7 -->\n<g id=\"node18\" class=\"node\">\n<title>7</title>\n<polygon fill=\"none\" stroke=\"#000000\" points=\"639,-887 514,-887 514,-789 639,-789 639,-887\"/>\n<text text-anchor=\"middle\" x=\"576.5\" y=\"-871.8\" font-family=\"Times,serif\" font-size=\"14.00\" fill=\"#000000\">node #7</text>\n<text text-anchor=\"middle\" x=\"576.5\" y=\"-856.8\" font-family=\"Times,serif\" font-size=\"14.00\" fill=\"#000000\">adjectives &lt;= 14.5</text>\n<text text-anchor=\"middle\" x=\"576.5\" y=\"-841.8\" font-family=\"Times,serif\" font-size=\"14.00\" fill=\"#000000\">gini = 0.41</text>\n<text text-anchor=\"middle\" x=\"576.5\" y=\"-826.8\" font-family=\"Times,serif\" font-size=\"14.00\" fill=\"#000000\">samples = 545</text>\n<text text-anchor=\"middle\" x=\"576.5\" y=\"-811.8\" font-family=\"Times,serif\" font-size=\"14.00\" fill=\"#000000\">value = [157, 388]</text>\n<text text-anchor=\"middle\" x=\"576.5\" y=\"-796.8\" font-family=\"Times,serif\" font-size=\"14.00\" fill=\"#000000\">class = 1</text>\n</g>\n<!-- 5&#45;&gt;7 -->\n<g id=\"edge17\" class=\"edge\">\n<title>5&#45;&gt;7</title>\n<path fill=\"none\" stroke=\"#000000\" d=\"M576.5,-922.8642C576.5,-914.5802 576.5,-905.903 576.5,-897.3918\"/>\n<polygon fill=\"#000000\" stroke=\"#000000\" points=\"580.0001,-897.1298 576.5,-887.1298 573.0001,-897.1299 580.0001,-897.1298\"/>\n</g>\n<!-- 8 -->\n<g id=\"node33\" class=\"node\">\n<title>8</title>\n<polygon fill=\"none\" stroke=\"#000000\" points=\"774,-879.5 657,-879.5 657,-796.5 774,-796.5 774,-879.5\"/>\n<text text-anchor=\"middle\" x=\"715.5\" y=\"-864.3\" font-family=\"Times,serif\" font-size=\"14.00\" fill=\"#000000\">node #8</text>\n<text text-anchor=\"middle\" x=\"715.5\" y=\"-849.3\" font-family=\"Times,serif\" font-size=\"14.00\" fill=\"#000000\">gini = 0.21</text>\n<text text-anchor=\"middle\" x=\"715.5\" y=\"-834.3\" font-family=\"Times,serif\" font-size=\"14.00\" fill=\"#000000\">samples = 437</text>\n<text text-anchor=\"middle\" x=\"715.5\" y=\"-819.3\" font-family=\"Times,serif\" font-size=\"14.00\" fill=\"#000000\">value = [52, 385]</text>\n<text text-anchor=\"middle\" x=\"715.5\" y=\"-804.3\" font-family=\"Times,serif\" font-size=\"14.00\" fill=\"#000000\">class = 1</text>\n</g>\n<!-- 5&#45;&gt;8 -->\n<g id=\"edge32\" class=\"edge\">\n<title>5&#45;&gt;8</title>\n<path fill=\"none\" stroke=\"#000000\" d=\"M627.4692,-922.8642C639.6604,-911.1115 652.6723,-898.5677 664.8491,-886.8289\"/>\n<polygon fill=\"#000000\" stroke=\"#000000\" points=\"667.538,-889.0984 672.3082,-879.6381 662.6797,-884.0588 667.538,-889.0984\"/>\n</g>\n<!-- 15 -->\n<g id=\"node19\" class=\"node\">\n<title>15</title>\n<polygon fill=\"none\" stroke=\"#000000\" points=\"627,-745.5 510,-745.5 510,-662.5 627,-662.5 627,-745.5\"/>\n<text text-anchor=\"middle\" x=\"568.5\" y=\"-730.3\" font-family=\"Times,serif\" font-size=\"14.00\" fill=\"#000000\">node #15</text>\n<text text-anchor=\"middle\" x=\"568.5\" y=\"-715.3\" font-family=\"Times,serif\" font-size=\"14.00\" fill=\"#000000\">gini = 0.288</text>\n<text text-anchor=\"middle\" x=\"568.5\" y=\"-700.3\" font-family=\"Times,serif\" font-size=\"14.00\" fill=\"#000000\">samples = 212</text>\n<text text-anchor=\"middle\" x=\"568.5\" y=\"-685.3\" font-family=\"Times,serif\" font-size=\"14.00\" fill=\"#000000\">value = [37, 175]</text>\n<text text-anchor=\"middle\" x=\"568.5\" y=\"-670.3\" font-family=\"Times,serif\" font-size=\"14.00\" fill=\"#000000\">class = 1</text>\n</g>\n<!-- 7&#45;&gt;15 -->\n<g id=\"edge18\" class=\"edge\">\n<title>7&#45;&gt;15</title>\n<path fill=\"none\" stroke=\"#000000\" d=\"M573.5665,-788.8642C572.9244,-778.1094 572.2428,-766.6921 571.5947,-755.8354\"/>\n<polygon fill=\"#000000\" stroke=\"#000000\" points=\"575.0757,-755.4117 570.9859,-745.6381 568.0881,-755.829 575.0757,-755.4117\"/>\n</g>\n<!-- 16 -->\n<g id=\"node20\" class=\"node\">\n<title>16</title>\n<polygon fill=\"none\" stroke=\"#000000\" points=\"790,-753 645,-753 645,-655 790,-655 790,-753\"/>\n<text text-anchor=\"middle\" x=\"717.5\" y=\"-737.8\" font-family=\"Times,serif\" font-size=\"14.00\" fill=\"#000000\">node #16</text>\n<text text-anchor=\"middle\" x=\"717.5\" y=\"-722.8\" font-family=\"Times,serif\" font-size=\"14.00\" fill=\"#000000\">num_wds_title &lt;= 8.5</text>\n<text text-anchor=\"middle\" x=\"717.5\" y=\"-707.8\" font-family=\"Times,serif\" font-size=\"14.00\" fill=\"#000000\">gini = 0.461</text>\n<text text-anchor=\"middle\" x=\"717.5\" y=\"-692.8\" font-family=\"Times,serif\" font-size=\"14.00\" fill=\"#000000\">samples = 333</text>\n<text text-anchor=\"middle\" x=\"717.5\" y=\"-677.8\" font-family=\"Times,serif\" font-size=\"14.00\" fill=\"#000000\">value = [120, 213]</text>\n<text text-anchor=\"middle\" x=\"717.5\" y=\"-662.8\" font-family=\"Times,serif\" font-size=\"14.00\" fill=\"#000000\">class = 1</text>\n</g>\n<!-- 7&#45;&gt;16 -->\n<g id=\"edge19\" class=\"edge\">\n<title>7&#45;&gt;16</title>\n<path fill=\"none\" stroke=\"#000000\" d=\"M628.2026,-788.8642C638.0689,-779.4878 648.465,-769.6077 658.5382,-760.0346\"/>\n<polygon fill=\"#000000\" stroke=\"#000000\" points=\"660.9661,-762.5558 665.8037,-753.1298 656.1438,-757.4816 660.9661,-762.5558\"/>\n</g>\n<!-- 17 -->\n<g id=\"node21\" class=\"node\">\n<title>17</title>\n<polygon fill=\"none\" stroke=\"#000000\" points=\"663.5,-611.5 561.5,-611.5 561.5,-528.5 663.5,-528.5 663.5,-611.5\"/>\n<text text-anchor=\"middle\" x=\"612.5\" y=\"-596.3\" font-family=\"Times,serif\" font-size=\"14.00\" fill=\"#000000\">node #17</text>\n<text text-anchor=\"middle\" x=\"612.5\" y=\"-581.3\" font-family=\"Times,serif\" font-size=\"14.00\" fill=\"#000000\">gini = 0.077</text>\n<text text-anchor=\"middle\" x=\"612.5\" y=\"-566.3\" font-family=\"Times,serif\" font-size=\"14.00\" fill=\"#000000\">samples = 50</text>\n<text text-anchor=\"middle\" x=\"612.5\" y=\"-551.3\" font-family=\"Times,serif\" font-size=\"14.00\" fill=\"#000000\">value = [2, 48]</text>\n<text text-anchor=\"middle\" x=\"612.5\" y=\"-536.3\" font-family=\"Times,serif\" font-size=\"14.00\" fill=\"#000000\">class = 1</text>\n</g>\n<!-- 16&#45;&gt;17 -->\n<g id=\"edge20\" class=\"edge\">\n<title>16&#45;&gt;17</title>\n<path fill=\"none\" stroke=\"#000000\" d=\"M678.9981,-654.8642C670.0495,-643.4442 660.5156,-631.2771 651.5439,-619.8275\"/>\n<polygon fill=\"#000000\" stroke=\"#000000\" points=\"654.0497,-617.3507 645.1269,-611.6381 648.5398,-621.6682 654.0497,-617.3507\"/>\n</g>\n<!-- 18 -->\n<g id=\"node22\" class=\"node\">\n<title>18</title>\n<polygon fill=\"none\" stroke=\"#000000\" points=\"833.5,-619 681.5,-619 681.5,-521 833.5,-521 833.5,-619\"/>\n<text text-anchor=\"middle\" x=\"757.5\" y=\"-603.8\" font-family=\"Times,serif\" font-size=\"14.00\" fill=\"#000000\">node #18</text>\n<text text-anchor=\"middle\" x=\"757.5\" y=\"-588.8\" font-family=\"Times,serif\" font-size=\"14.00\" fill=\"#000000\">Sad_intensity &lt;= 0.048</text>\n<text text-anchor=\"middle\" x=\"757.5\" y=\"-573.8\" font-family=\"Times,serif\" font-size=\"14.00\" fill=\"#000000\">gini = 0.486</text>\n<text text-anchor=\"middle\" x=\"757.5\" y=\"-558.8\" font-family=\"Times,serif\" font-size=\"14.00\" fill=\"#000000\">samples = 283</text>\n<text text-anchor=\"middle\" x=\"757.5\" y=\"-543.8\" font-family=\"Times,serif\" font-size=\"14.00\" fill=\"#000000\">value = [118, 165]</text>\n<text text-anchor=\"middle\" x=\"757.5\" y=\"-528.8\" font-family=\"Times,serif\" font-size=\"14.00\" fill=\"#000000\">class = 1</text>\n</g>\n<!-- 16&#45;&gt;18 -->\n<g id=\"edge21\" class=\"edge\">\n<title>16&#45;&gt;18</title>\n<path fill=\"none\" stroke=\"#000000\" d=\"M732.1674,-654.8642C734.6946,-646.3981 737.3444,-637.5214 739.9386,-628.8309\"/>\n<polygon fill=\"#000000\" stroke=\"#000000\" points=\"743.3277,-629.7132 742.8344,-619.1298 736.6202,-627.7109 743.3277,-629.7132\"/>\n</g>\n<!-- 19 -->\n<g id=\"node23\" class=\"node\">\n<title>19</title>\n<polygon fill=\"none\" stroke=\"#000000\" points=\"713,-485 562,-485 562,-387 713,-387 713,-485\"/>\n<text text-anchor=\"middle\" x=\"637.5\" y=\"-469.8\" font-family=\"Times,serif\" font-size=\"14.00\" fill=\"#000000\">node #19</text>\n<text text-anchor=\"middle\" x=\"637.5\" y=\"-454.8\" font-family=\"Times,serif\" font-size=\"14.00\" fill=\"#000000\">Joy_intensity &lt;= 0.273</text>\n<text text-anchor=\"middle\" x=\"637.5\" y=\"-439.8\" font-family=\"Times,serif\" font-size=\"14.00\" fill=\"#000000\">gini = 0.42</text>\n<text text-anchor=\"middle\" x=\"637.5\" y=\"-424.8\" font-family=\"Times,serif\" font-size=\"14.00\" fill=\"#000000\">samples = 50</text>\n<text text-anchor=\"middle\" x=\"637.5\" y=\"-409.8\" font-family=\"Times,serif\" font-size=\"14.00\" fill=\"#000000\">value = [35, 15]</text>\n<text text-anchor=\"middle\" x=\"637.5\" y=\"-394.8\" font-family=\"Times,serif\" font-size=\"14.00\" fill=\"#000000\">class = 0</text>\n</g>\n<!-- 18&#45;&gt;19 -->\n<g id=\"edge22\" class=\"edge\">\n<title>18&#45;&gt;19</title>\n<path fill=\"none\" stroke=\"#000000\" d=\"M713.4978,-520.8642C705.264,-511.6698 696.5966,-501.9912 688.18,-492.5926\"/>\n<polygon fill=\"#000000\" stroke=\"#000000\" points=\"690.7754,-490.2444 681.4969,-485.1298 685.5608,-494.9143 690.7754,-490.2444\"/>\n</g>\n<!-- 20 -->\n<g id=\"node26\" class=\"node\">\n<title>20</title>\n<polygon fill=\"none\" stroke=\"#000000\" points=\"865.5,-485 731.5,-485 731.5,-387 865.5,-387 865.5,-485\"/>\n<text text-anchor=\"middle\" x=\"798.5\" y=\"-469.8\" font-family=\"Times,serif\" font-size=\"14.00\" fill=\"#000000\">node #20</text>\n<text text-anchor=\"middle\" x=\"798.5\" y=\"-454.8\" font-family=\"Times,serif\" font-size=\"14.00\" fill=\"#000000\">anticipation &lt;= 12.5</text>\n<text text-anchor=\"middle\" x=\"798.5\" y=\"-439.8\" font-family=\"Times,serif\" font-size=\"14.00\" fill=\"#000000\">gini = 0.459</text>\n<text text-anchor=\"middle\" x=\"798.5\" y=\"-424.8\" font-family=\"Times,serif\" font-size=\"14.00\" fill=\"#000000\">samples = 233</text>\n<text text-anchor=\"middle\" x=\"798.5\" y=\"-409.8\" font-family=\"Times,serif\" font-size=\"14.00\" fill=\"#000000\">value = [83, 150]</text>\n<text text-anchor=\"middle\" x=\"798.5\" y=\"-394.8\" font-family=\"Times,serif\" font-size=\"14.00\" fill=\"#000000\">class = 1</text>\n</g>\n<!-- 18&#45;&gt;20 -->\n<g id=\"edge25\" class=\"edge\">\n<title>18&#45;&gt;20</title>\n<path fill=\"none\" stroke=\"#000000\" d=\"M772.5341,-520.8642C775.1245,-512.3981 777.8405,-503.5214 780.4995,-494.8309\"/>\n<polygon fill=\"#000000\" stroke=\"#000000\" points=\"783.8887,-495.7163 783.4677,-485.1298 777.195,-493.6682 783.8887,-495.7163\"/>\n</g>\n<!-- 25 -->\n<g id=\"node24\" class=\"node\">\n<title>25</title>\n<polygon fill=\"none\" stroke=\"#000000\" points=\"576.5,-343.5 474.5,-343.5 474.5,-260.5 576.5,-260.5 576.5,-343.5\"/>\n<text text-anchor=\"middle\" x=\"525.5\" y=\"-328.3\" font-family=\"Times,serif\" font-size=\"14.00\" fill=\"#000000\">node #25</text>\n<text text-anchor=\"middle\" x=\"525.5\" y=\"-313.3\" font-family=\"Times,serif\" font-size=\"14.00\" fill=\"#000000\">gini = 0.289</text>\n<text text-anchor=\"middle\" x=\"525.5\" y=\"-298.3\" font-family=\"Times,serif\" font-size=\"14.00\" fill=\"#000000\">samples = 40</text>\n<text text-anchor=\"middle\" x=\"525.5\" y=\"-283.3\" font-family=\"Times,serif\" font-size=\"14.00\" fill=\"#000000\">value = [33, 7]</text>\n<text text-anchor=\"middle\" x=\"525.5\" y=\"-268.3\" font-family=\"Times,serif\" font-size=\"14.00\" fill=\"#000000\">class = 0</text>\n</g>\n<!-- 19&#45;&gt;25 -->\n<g id=\"edge23\" class=\"edge\">\n<title>19&#45;&gt;25</title>\n<path fill=\"none\" stroke=\"#000000\" d=\"M596.4313,-386.8642C586.7935,-375.3333 576.5191,-363.0408 566.8683,-351.4942\"/>\n<polygon fill=\"#000000\" stroke=\"#000000\" points=\"569.4007,-349.0664 560.302,-343.6381 564.0297,-353.5556 569.4007,-349.0664\"/>\n</g>\n<!-- 26 -->\n<g id=\"node25\" class=\"node\">\n<title>26</title>\n<polygon fill=\"none\" stroke=\"#000000\" points=\"690,-343.5 595,-343.5 595,-260.5 690,-260.5 690,-343.5\"/>\n<text text-anchor=\"middle\" x=\"642.5\" y=\"-328.3\" font-family=\"Times,serif\" font-size=\"14.00\" fill=\"#000000\">node #26</text>\n<text text-anchor=\"middle\" x=\"642.5\" y=\"-313.3\" font-family=\"Times,serif\" font-size=\"14.00\" fill=\"#000000\">gini = 0.32</text>\n<text text-anchor=\"middle\" x=\"642.5\" y=\"-298.3\" font-family=\"Times,serif\" font-size=\"14.00\" fill=\"#000000\">samples = 10</text>\n<text text-anchor=\"middle\" x=\"642.5\" y=\"-283.3\" font-family=\"Times,serif\" font-size=\"14.00\" fill=\"#000000\">value = [2, 8]</text>\n<text text-anchor=\"middle\" x=\"642.5\" y=\"-268.3\" font-family=\"Times,serif\" font-size=\"14.00\" fill=\"#000000\">class = 1</text>\n</g>\n<!-- 19&#45;&gt;26 -->\n<g id=\"edge24\" class=\"edge\">\n<title>19&#45;&gt;26</title>\n<path fill=\"none\" stroke=\"#000000\" d=\"M639.3334,-386.8642C639.7347,-376.1094 640.1607,-364.6921 640.5658,-353.8354\"/>\n<polygon fill=\"#000000\" stroke=\"#000000\" points=\"644.0709,-353.7617 640.9463,-343.6381 637.0758,-353.5006 644.0709,-353.7617\"/>\n</g>\n<!-- 21 -->\n<g id=\"node27\" class=\"node\">\n<title>21</title>\n<polygon fill=\"none\" stroke=\"#000000\" points=\"869.5,-351 717.5,-351 717.5,-253 869.5,-253 869.5,-351\"/>\n<text text-anchor=\"middle\" x=\"793.5\" y=\"-335.8\" font-family=\"Times,serif\" font-size=\"14.00\" fill=\"#000000\">node #21</text>\n<text text-anchor=\"middle\" x=\"793.5\" y=\"-320.8\" font-family=\"Times,serif\" font-size=\"14.00\" fill=\"#000000\">Sad_int_Title &lt;= 0.192</text>\n<text text-anchor=\"middle\" x=\"793.5\" y=\"-305.8\" font-family=\"Times,serif\" font-size=\"14.00\" fill=\"#000000\">gini = 0.494</text>\n<text text-anchor=\"middle\" x=\"793.5\" y=\"-290.8\" font-family=\"Times,serif\" font-size=\"14.00\" fill=\"#000000\">samples = 158</text>\n<text text-anchor=\"middle\" x=\"793.5\" y=\"-275.8\" font-family=\"Times,serif\" font-size=\"14.00\" fill=\"#000000\">value = [70, 88]</text>\n<text text-anchor=\"middle\" x=\"793.5\" y=\"-260.8\" font-family=\"Times,serif\" font-size=\"14.00\" fill=\"#000000\">class = 1</text>\n</g>\n<!-- 20&#45;&gt;21 -->\n<g id=\"edge26\" class=\"edge\">\n<title>20&#45;&gt;21</title>\n<path fill=\"none\" stroke=\"#000000\" d=\"M796.6666,-386.8642C796.3575,-378.5802 796.0337,-369.903 795.7161,-361.3918\"/>\n<polygon fill=\"#000000\" stroke=\"#000000\" points=\"799.2037,-360.9923 795.3332,-351.1298 792.2086,-361.2534 799.2037,-360.9923\"/>\n</g>\n<!-- 22 -->\n<g id=\"node32\" class=\"node\">\n<title>22</title>\n<polygon fill=\"none\" stroke=\"#000000\" points=\"997.5,-343.5 887.5,-343.5 887.5,-260.5 997.5,-260.5 997.5,-343.5\"/>\n<text text-anchor=\"middle\" x=\"942.5\" y=\"-328.3\" font-family=\"Times,serif\" font-size=\"14.00\" fill=\"#000000\">node #22</text>\n<text text-anchor=\"middle\" x=\"942.5\" y=\"-313.3\" font-family=\"Times,serif\" font-size=\"14.00\" fill=\"#000000\">gini = 0.287</text>\n<text text-anchor=\"middle\" x=\"942.5\" y=\"-298.3\" font-family=\"Times,serif\" font-size=\"14.00\" fill=\"#000000\">samples = 75</text>\n<text text-anchor=\"middle\" x=\"942.5\" y=\"-283.3\" font-family=\"Times,serif\" font-size=\"14.00\" fill=\"#000000\">value = [13, 62]</text>\n<text text-anchor=\"middle\" x=\"942.5\" y=\"-268.3\" font-family=\"Times,serif\" font-size=\"14.00\" fill=\"#000000\">class = 1</text>\n</g>\n<!-- 20&#45;&gt;22 -->\n<g id=\"edge31\" class=\"edge\">\n<title>20&#45;&gt;22</title>\n<path fill=\"none\" stroke=\"#000000\" d=\"M851.3026,-386.8642C864.0515,-375.0007 877.6667,-362.3309 890.3839,-350.4969\"/>\n<polygon fill=\"#000000\" stroke=\"#000000\" points=\"892.8181,-353.0127 897.7545,-343.6381 888.0495,-347.8882 892.8181,-353.0127\"/>\n</g>\n<!-- 29 -->\n<g id=\"node28\" class=\"node\">\n<title>29</title>\n<polygon fill=\"none\" stroke=\"#000000\" points=\"784.5,-217 674.5,-217 674.5,-119 784.5,-119 784.5,-217\"/>\n<text text-anchor=\"middle\" x=\"729.5\" y=\"-201.8\" font-family=\"Times,serif\" font-size=\"14.00\" fill=\"#000000\">node #29</text>\n<text text-anchor=\"middle\" x=\"729.5\" y=\"-186.8\" font-family=\"Times,serif\" font-size=\"14.00\" fill=\"#000000\">verbs &lt;= 50.5</text>\n<text text-anchor=\"middle\" x=\"729.5\" y=\"-171.8\" font-family=\"Times,serif\" font-size=\"14.00\" fill=\"#000000\">gini = 0.498</text>\n<text text-anchor=\"middle\" x=\"729.5\" y=\"-156.8\" font-family=\"Times,serif\" font-size=\"14.00\" fill=\"#000000\">samples = 107</text>\n<text text-anchor=\"middle\" x=\"729.5\" y=\"-141.8\" font-family=\"Times,serif\" font-size=\"14.00\" fill=\"#000000\">value = [57, 50]</text>\n<text text-anchor=\"middle\" x=\"729.5\" y=\"-126.8\" font-family=\"Times,serif\" font-size=\"14.00\" fill=\"#000000\">class = 0</text>\n</g>\n<!-- 21&#45;&gt;29 -->\n<g id=\"edge27\" class=\"edge\">\n<title>21&#45;&gt;29</title>\n<path fill=\"none\" stroke=\"#000000\" d=\"M770.0322,-252.8642C765.9017,-244.216 761.5666,-235.1394 757.3307,-226.2704\"/>\n<polygon fill=\"#000000\" stroke=\"#000000\" points=\"760.4331,-224.645 752.965,-217.1298 754.1166,-227.6619 760.4331,-224.645\"/>\n</g>\n<!-- 30 -->\n<g id=\"node31\" class=\"node\">\n<title>30</title>\n<polygon fill=\"none\" stroke=\"#000000\" points=\"912.5,-209.5 802.5,-209.5 802.5,-126.5 912.5,-126.5 912.5,-209.5\"/>\n<text text-anchor=\"middle\" x=\"857.5\" y=\"-194.3\" font-family=\"Times,serif\" font-size=\"14.00\" fill=\"#000000\">node #30</text>\n<text text-anchor=\"middle\" x=\"857.5\" y=\"-179.3\" font-family=\"Times,serif\" font-size=\"14.00\" fill=\"#000000\">gini = 0.38</text>\n<text text-anchor=\"middle\" x=\"857.5\" y=\"-164.3\" font-family=\"Times,serif\" font-size=\"14.00\" fill=\"#000000\">samples = 51</text>\n<text text-anchor=\"middle\" x=\"857.5\" y=\"-149.3\" font-family=\"Times,serif\" font-size=\"14.00\" fill=\"#000000\">value = [13, 38]</text>\n<text text-anchor=\"middle\" x=\"857.5\" y=\"-134.3\" font-family=\"Times,serif\" font-size=\"14.00\" fill=\"#000000\">class = 1</text>\n</g>\n<!-- 21&#45;&gt;30 -->\n<g id=\"edge30\" class=\"edge\">\n<title>21&#45;&gt;30</title>\n<path fill=\"none\" stroke=\"#000000\" d=\"M816.9678,-252.8642C822.2633,-241.7768 827.8951,-229.9852 833.2231,-218.8297\"/>\n<polygon fill=\"#000000\" stroke=\"#000000\" points=\"836.4616,-220.1702 837.6131,-209.6381 830.145,-217.1533 836.4616,-220.1702\"/>\n</g>\n<!-- 31 -->\n<g id=\"node29\" class=\"node\">\n<title>31</title>\n<polygon fill=\"none\" stroke=\"#000000\" points=\"722.5,-83 612.5,-83 612.5,0 722.5,0 722.5,-83\"/>\n<text text-anchor=\"middle\" x=\"667.5\" y=\"-67.8\" font-family=\"Times,serif\" font-size=\"14.00\" fill=\"#000000\">node #31</text>\n<text text-anchor=\"middle\" x=\"667.5\" y=\"-52.8\" font-family=\"Times,serif\" font-size=\"14.00\" fill=\"#000000\">gini = 0.486</text>\n<text text-anchor=\"middle\" x=\"667.5\" y=\"-37.8\" font-family=\"Times,serif\" font-size=\"14.00\" fill=\"#000000\">samples = 96</text>\n<text text-anchor=\"middle\" x=\"667.5\" y=\"-22.8\" font-family=\"Times,serif\" font-size=\"14.00\" fill=\"#000000\">value = [56, 40]</text>\n<text text-anchor=\"middle\" x=\"667.5\" y=\"-7.8\" font-family=\"Times,serif\" font-size=\"14.00\" fill=\"#000000\">class = 0</text>\n</g>\n<!-- 29&#45;&gt;31 -->\n<g id=\"edge28\" class=\"edge\">\n<title>29&#45;&gt;31</title>\n<path fill=\"none\" stroke=\"#000000\" d=\"M705.3516,-118.7296C701.0617,-109.9766 696.5874,-100.8477 692.2802,-92.0596\"/>\n<polygon fill=\"#000000\" stroke=\"#000000\" points=\"695.4107,-90.4941 687.8669,-83.055 689.1251,-93.5748 695.4107,-90.4941\"/>\n</g>\n<!-- 32 -->\n<g id=\"node30\" class=\"node\">\n<title>32</title>\n<polygon fill=\"none\" stroke=\"#000000\" points=\"842.5,-83 740.5,-83 740.5,0 842.5,0 842.5,-83\"/>\n<text text-anchor=\"middle\" x=\"791.5\" y=\"-67.8\" font-family=\"Times,serif\" font-size=\"14.00\" fill=\"#000000\">node #32</text>\n<text text-anchor=\"middle\" x=\"791.5\" y=\"-52.8\" font-family=\"Times,serif\" font-size=\"14.00\" fill=\"#000000\">gini = 0.165</text>\n<text text-anchor=\"middle\" x=\"791.5\" y=\"-37.8\" font-family=\"Times,serif\" font-size=\"14.00\" fill=\"#000000\">samples = 11</text>\n<text text-anchor=\"middle\" x=\"791.5\" y=\"-22.8\" font-family=\"Times,serif\" font-size=\"14.00\" fill=\"#000000\">value = [1, 10]</text>\n<text text-anchor=\"middle\" x=\"791.5\" y=\"-7.8\" font-family=\"Times,serif\" font-size=\"14.00\" fill=\"#000000\">class = 1</text>\n</g>\n<!-- 29&#45;&gt;32 -->\n<g id=\"edge29\" class=\"edge\">\n<title>29&#45;&gt;32</title>\n<path fill=\"none\" stroke=\"#000000\" d=\"M753.6484,-118.7296C757.9383,-109.9766 762.4126,-100.8477 766.7198,-92.0596\"/>\n<polygon fill=\"#000000\" stroke=\"#000000\" points=\"769.8749,-93.5748 771.1331,-83.055 763.5893,-90.4941 769.8749,-93.5748\"/>\n</g>\n</g>\n</svg>\n"
          },
          "metadata": {},
          "execution_count": 69
        }
      ]
    },
    {
      "cell_type": "markdown",
      "metadata": {
        "id": "HORd0skmRle3"
      },
      "source": [
        "## Random Forest  1 (classifier)"
      ]
    },
    {
      "cell_type": "code",
      "metadata": {
        "id": "Pu1sN0xxRle5"
      },
      "source": [
        "# Import Random forest classifier\n",
        "from sklearn.ensemble import RandomForestClassifier\n",
        "# Initiate the model score list\n",
        "model_score = []\n",
        "# Initalize list of true labels\n",
        "true_labels = []\n",
        "# Initialize list of predicted labels\n",
        "predicted_labels = []\n",
        "X = data_balanced.drop(columns = 'Is_Fake')\n",
        "y = data_balanced['Is_Fake']\n",
        "# Instanciate our Cross-Validation (cv) object\n",
        "our_cv = RepeatedKFold(n_splits=10, n_repeats=10)\n",
        "# Instanciate decision tree classifier \n",
        "dec_for =RandomForestClassifier(n_estimators=100)\n",
        "# Loop through the splits produced by cv\n",
        "for i_train, i_test in our_cv.split(X):\n",
        "    # Define our training and test set according to current split\n",
        "    X_train, X_test, y_train, y_test = X.iloc[i_train], X.iloc[i_test], y.iloc[i_train], y.iloc[i_test]\n",
        "    # Fitting the tree\n",
        "    dec_for.fit(X_train, y_train.astype('int'))\n",
        "    # Predicting the testing data\n",
        "    y_pred_test = dec_for.predict(X_test)\n",
        "    # Getting accuracy score\n",
        "    model_score.append(accuracy_score(y_test.astype('int'), y_pred_test.astype('int')))\n",
        "    # Add true labels to list\n",
        "    true_labels.extend(y_test.astype('int'))\n",
        "    # Add predicted labels to list\n",
        "    predicted_labels.extend(y_pred_test.astype('int'))"
      ],
      "execution_count": null,
      "outputs": []
    },
    {
      "cell_type": "code",
      "metadata": {
        "id": "9rfx0AmdRle_",
        "colab": {
          "base_uri": "https://localhost:8080/"
        },
        "outputId": "20a62e1d-51d2-4708-fefb-dffca5e97e09"
      },
      "source": [
        "# Calculate the average accuracy over the 10-times 10-fold cross validation \n",
        "# Using n.mean over the 100 values in model_score\n",
        "print(\"Average accuracy of the random forests model is: \"+str(np.mean(model_score))+\" %\")"
      ],
      "execution_count": null,
      "outputs": [
        {
          "output_type": "stream",
          "text": [
            "Average accuracy of the random forests model is: 0.8555522712453815 %\n"
          ],
          "name": "stdout"
        }
      ]
    },
    {
      "cell_type": "markdown",
      "metadata": {
        "id": "LMhwxUVSYXBM"
      },
      "source": [
        "**Importances**"
      ]
    },
    {
      "cell_type": "code",
      "metadata": {
        "colab": {
          "base_uri": "https://localhost:8080/"
        },
        "id": "8lqpr4H_UGGc",
        "outputId": "7ea84a7d-d6a4-4f0f-9f75-c5db6ceb9422"
      },
      "source": [
        "forest_imp = dec_for.feature_importances_.tolist()\n",
        "print(forest_imp)"
      ],
      "execution_count": null,
      "outputs": [
        {
          "output_type": "stream",
          "text": [
            "[0.03837271382288647, 0.050631950626887814, 0.040500318497569396, 0.024744639150760882, 0.020928751797834724, 0.01702803911807651, 0.014598006108828037, 0.022287151471401617, 0.025043635160575096, 0.02149145895029908, 0.029097211319100674, 0.0163346907949298, 0.030057267016926167, 0.020981369861829406, 0.029305861205787865, 0.014485619732548988, 0.03308989095418983, 0.017383715090186148, 0.030739064103799174, 0.025303713406026516, 0.049600743867268766, 0.0445087940072633, 0.011660144686750437, 0.012669650561527258, 0.05475363597637109, 0.03898024223691491, 0.2457192673674896, 0.01209256242266728, 0.0076098906833029795]\n"
          ],
          "name": "stdout"
        }
      ]
    },
    {
      "cell_type": "code",
      "metadata": {
        "colab": {
          "base_uri": "https://localhost:8080/",
          "height": 420
        },
        "id": "ZuezvEKKrSgK",
        "outputId": "e703c382-eadc-4ce8-d078-3c22ab500cbd"
      },
      "source": [
        "labels = data_balanced.columns.values[:-1].tolist()\n",
        "fig = plt.figure()\n",
        "ax = fig.add_axes([0,0,1,1])\n",
        "plt.xticks(rotation=90)\n",
        "ax.bar(labels,forest_imp)\n",
        "plt.xlabel('Features')\n",
        "plt.ylabel('Feature Importances -  Random Forest')\n",
        "plt.show()"
      ],
      "execution_count": null,
      "outputs": [
        {
          "output_type": "display_data",
          "data": {
            "image/png": "[encoded data removed]",
            "text/plain": [
              "<Figure size 432x288 with 1 Axes>"
            ]
          },
          "metadata": {
            "needs_background": "light"
          }
        }
      ]
    },
    {
      "cell_type": "code",
      "metadata": {
        "id": "1-z00SeIRlfJ",
        "colab": {
          "base_uri": "https://localhost:8080/",
          "height": 278
        },
        "outputId": "3b92b7f4-04ab-4cd9-cbf8-5459ca170e01"
      },
      "source": [
        "# Create confusion matrix to visualize the correct/incorrect predictions\n",
        "# Import the confusion matrix function\n",
        "from sklearn.metrics import confusion_matrix\n",
        "# Compute the confusion matrix\n",
        "conf_mat = confusion_matrix(y_true=true_labels, y_pred=predicted_labels)\n",
        "# Define the labels for the confusion matrix\n",
        "labels = ['Class 0', 'Class 1']\n",
        "# Initiate an empty figure\n",
        "fig = plt.figure()\n",
        "# Add axis to the figure\n",
        "ax = fig.add_subplot(111)\n",
        "# Add the actual matrix\n",
        "cax = ax.matshow(conf_mat, cmap=plt.cm.Blues)\n",
        "# Show a colorbar\n",
        "fig.colorbar(cax)\n",
        "# Remove x and y ticks\n",
        "ax.set_xticklabels([''] + labels)\n",
        "ax.set_yticklabels([''] + labels)\n",
        "# Add x and y labels\n",
        "plt.xlabel('Predicted')\n",
        "plt.ylabel('Expected')\n",
        "# Add new x and y ticks\n",
        "for i in range(2):\n",
        "    for j in range(2):\n",
        "        ax.text(j, i, conf_mat[i, j], ha='center', va='center', color='r')\n",
        "# Show the plot\n",
        "plt.show()"
      ],
      "execution_count": null,
      "outputs": [
        {
          "output_type": "display_data",
          "data": {
            "image/png": "[encoded data removed]",
            "text/plain": [
              "<Figure size 432x288 with 2 Axes>"
            ]
          },
          "metadata": {
            "needs_background": "light"
          }
        }
      ]
    }
  ]
}