{
  "nbformat": 4,
  "nbformat_minor": 0,
  "metadata": {
    "colab": {
      "name": "Analyze_fake_news_stories.ipynb",
      "provenance": [],
      "collapsed_sections": []
    },
    "kernelspec": {
      "name": "python3",
      "display_name": "Python 3"
    }
  },
  "cells": [
    {
      "cell_type": "code",
      "metadata": {
        "colab": {
          "base_uri": "https://localhost:8080/"
        },
        "id": "ke3tyzbc8Ps6",
        "outputId": "49bd240d-b102-4806-c79b-bfc00d1c1976"
      },
      "source": [
        "from google.colab import drive\n",
        "drive.mount('/gdrive')"
      ],
      "execution_count": null,
      "outputs": [
        {
          "output_type": "stream",
          "text": [
            "Drive already mounted at /gdrive; to attempt to forcibly remount, call drive.mount(\"/gdrive\", force_remount=True).\n"
          ],
          "name": "stdout"
        }
      ]
    },
    {
      "cell_type": "code",
      "metadata": {
        "id": "fZOng6AHU2-B"
      },
      "source": [
        "import pandas as pd"
      ],
      "execution_count": null,
      "outputs": []
    },
    {
      "cell_type": "code",
      "metadata": {
        "id": "R2dglk6Rf3FF"
      },
      "source": [
        "import numpy as np"
      ],
      "execution_count": null,
      "outputs": []
    },
    {
      "cell_type": "code",
      "metadata": {
        "colab": {
          "base_uri": "https://localhost:8080/",
          "height": 239
        },
        "id": "0_YhiQCJ9gAV",
        "outputId": "0b843a19-172b-4441-b8ea-cc6d1691369d"
      },
      "source": [
        "import csv\n",
        "data = pd.read_csv(\"/gdrive/My Drive/Colab Notebooks/hoaxes2.csv\", error_bad_lines= False)\n",
        "data.head()"
      ],
      "execution_count": null,
      "outputs": [
        {
          "output_type": "stream",
          "text": [
            "b'Skipping line 10: expected 3 fields, saw 4\\nSkipping line 17: expected 3 fields, saw 4\\nSkipping line 41: expected 3 fields, saw 9\\nSkipping line 68: expected 3 fields, saw 54\\nSkipping line 75: expected 3 fields, saw 5\\nSkipping line 90: expected 3 fields, saw 4\\nSkipping line 104: expected 3 fields, saw 16\\nSkipping line 122: expected 3 fields, saw 4\\nSkipping line 130: expected 3 fields, saw 18\\nSkipping line 161: expected 3 fields, saw 4\\nSkipping line 166: expected 3 fields, saw 5\\nSkipping line 170: expected 3 fields, saw 9\\nSkipping line 206: expected 3 fields, saw 11\\nSkipping line 323: expected 3 fields, saw 5\\nSkipping line 327: expected 3 fields, saw 24\\nSkipping line 336: expected 3 fields, saw 4\\nSkipping line 338: expected 3 fields, saw 5\\nSkipping line 340: expected 3 fields, saw 7\\nSkipping line 350: expected 3 fields, saw 17\\nSkipping line 381: expected 3 fields, saw 14\\nSkipping line 399: expected 3 fields, saw 8\\nSkipping line 406: expected 3 fields, saw 8\\nSkipping line 414: expected 3 fields, saw 30\\nSkipping line 415: expected 3 fields, saw 4\\nSkipping line 423: expected 3 fields, saw 9\\nSkipping line 461: expected 3 fields, saw 10\\nSkipping line 462: expected 3 fields, saw 17\\nSkipping line 516: expected 3 fields, saw 28\\nSkipping line 517: expected 3 fields, saw 6\\nSkipping line 554: expected 3 fields, saw 4\\nSkipping line 581: expected 3 fields, saw 10\\nSkipping line 587: expected 3 fields, saw 18\\nSkipping line 593: expected 3 fields, saw 11\\nSkipping line 602: expected 3 fields, saw 27\\nSkipping line 610: expected 3 fields, saw 15\\nSkipping line 617: expected 3 fields, saw 13\\nSkipping line 624: expected 3 fields, saw 4\\nSkipping line 625: expected 3 fields, saw 21\\nSkipping line 653: expected 3 fields, saw 4\\nSkipping line 722: expected 3 fields, saw 5\\nSkipping line 751: expected 3 fields, saw 7\\nSkipping line 792: expected 3 fields, saw 4\\nSkipping line 806: expected 3 fields, saw 18\\nSkipping line 960: expected 3 fields, saw 4\\n'\n"
          ],
          "name": "stderr"
        },
        {
          "output_type": "execute_result",
          "data": {
            "text/html": [
              "<div>\n",
              "<style scoped>\n",
              "    .dataframe tbody tr th:only-of-type {\n",
              "        vertical-align: middle;\n",
              "    }\n",
              "\n",
              "    .dataframe tbody tr th {\n",
              "        vertical-align: top;\n",
              "    }\n",
              "\n",
              "    .dataframe thead th {\n",
              "        text-align: right;\n",
              "    }\n",
              "</style>\n",
              "<table border=\"1\" class=\"dataframe\">\n",
              "  <thead>\n",
              "    <tr style=\"text-align: right;\">\n",
              "      <th></th>\n",
              "      <th>title</th>\n",
              "      <th>link</th>\n",
              "      <th>body</th>\n",
              "    </tr>\n",
              "  </thead>\n",
              "  <tbody>\n",
              "    <tr>\n",
              "      <th>0</th>\n",
              "      <td>«Κλείδωσε» η υποψηφιότητα Φουρθιώτη στο πλευρό...</td>\n",
              "      <td>https://www.newsbreak.gr/politiki/181856/kleid...</td>\n",
              "      <td>Όπως όλα δείχνουν, ο Μένιος Φουρθιώτης που ήδη...</td>\n",
              "    </tr>\n",
              "    <tr>\n",
              "      <th>1</th>\n",
              "      <td>Θανάσης Καμηλάρης: “Λαθροδιακινητές ήταν οι κλ...</td>\n",
              "      <td>https://www.pentapostagma.gr/ethnika-themata/e...</td>\n",
              "      <td>Ακούστε τον Θανάση Καμηλάρη – κάτοικο του Δέλτ...</td>\n",
              "    </tr>\n",
              "    <tr>\n",
              "      <th>2</th>\n",
              "      <td>Νέο σκάνδαλο με το εμβόλιο της Pfizer: Μειώνου...</td>\n",
              "      <td>https://www.pronews.gr/kosmos/eyropaiki-enosi/...</td>\n",
              "      <td>Ο Ευρωπαϊκός Οργανισμός Φαρμάκων ανακοίνωσε σή...</td>\n",
              "    </tr>\n",
              "    <tr>\n",
              "      <th>3</th>\n",
              "      <td>Η ΜΕΓΑΛΥΤΕΡΗ ΑΠΑΤΗ ΣΤΗΝ ΙΣΤΟΡΙΑ ΤΩΝ ΗΠΑ! – ΤΟ ...</td>\n",
              "      <td>https://www.makeleio.gr/εξωφυλλο/Η-ΜΕΓΑΛΥΤΕΡΗ-...</td>\n",
              "      <td>Διαβάστε το άρθρο του Αμερικανού οικονομολόγου...</td>\n",
              "    </tr>\n",
              "    <tr>\n",
              "      <th>4</th>\n",
              "      <td>Συγκλονιστικό βίντεο: Αρμένιος στρατιώτης αναφ...</td>\n",
              "      <td>https://www.pronews.gr/amyna-asfaleia/enoples-...</td>\n",
              "      <td>Ενα συγκλονιστικό βίντεο που δείχνει Αρμένιο σ...</td>\n",
              "    </tr>\n",
              "  </tbody>\n",
              "</table>\n",
              "</div>"
            ],
            "text/plain": [
              "                                               title  ...                                               body\n",
              "0  «Κλείδωσε» η υποψηφιότητα Φουρθιώτη στο πλευρό...  ...  Όπως όλα δείχνουν, ο Μένιος Φουρθιώτης που ήδη...\n",
              "1  Θανάσης Καμηλάρης: “Λαθροδιακινητές ήταν οι κλ...  ...  Ακούστε τον Θανάση Καμηλάρη – κάτοικο του Δέλτ...\n",
              "2  Νέο σκάνδαλο με το εμβόλιο της Pfizer: Μειώνου...  ...  Ο Ευρωπαϊκός Οργανισμός Φαρμάκων ανακοίνωσε σή...\n",
              "3  Η ΜΕΓΑΛΥΤΕΡΗ ΑΠΑΤΗ ΣΤΗΝ ΙΣΤΟΡΙΑ ΤΩΝ ΗΠΑ! – ΤΟ ...  ...  Διαβάστε το άρθρο του Αμερικανού οικονομολόγου...\n",
              "4  Συγκλονιστικό βίντεο: Αρμένιος στρατιώτης αναφ...  ...  Ενα συγκλονιστικό βίντεο που δείχνει Αρμένιο σ...\n",
              "\n",
              "[5 rows x 3 columns]"
            ]
          },
          "metadata": {},
          "execution_count": 126
        }
      ]
    },
    {
      "cell_type": "code",
      "metadata": {
        "colab": {
          "base_uri": "https://localhost:8080/",
          "height": 416
        },
        "id": "4nDSAfi2lj6H",
        "outputId": "ab5f0476-da85-4413-c3ad-9c109a45522a"
      },
      "source": [
        "data"
      ],
      "execution_count": null,
      "outputs": [
        {
          "output_type": "execute_result",
          "data": {
            "text/html": [
              "<div>\n",
              "<style scoped>\n",
              "    .dataframe tbody tr th:only-of-type {\n",
              "        vertical-align: middle;\n",
              "    }\n",
              "\n",
              "    .dataframe tbody tr th {\n",
              "        vertical-align: top;\n",
              "    }\n",
              "\n",
              "    .dataframe thead th {\n",
              "        text-align: right;\n",
              "    }\n",
              "</style>\n",
              "<table border=\"1\" class=\"dataframe\">\n",
              "  <thead>\n",
              "    <tr style=\"text-align: right;\">\n",
              "      <th></th>\n",
              "      <th>title</th>\n",
              "      <th>link</th>\n",
              "      <th>body</th>\n",
              "    </tr>\n",
              "  </thead>\n",
              "  <tbody>\n",
              "    <tr>\n",
              "      <th>0</th>\n",
              "      <td>«Κλείδωσε» η υποψηφιότητα Φουρθιώτη στο πλευρό...</td>\n",
              "      <td>https://www.newsbreak.gr/politiki/181856/kleid...</td>\n",
              "      <td>Όπως όλα δείχνουν, ο Μένιος Φουρθιώτης που ήδη...</td>\n",
              "    </tr>\n",
              "    <tr>\n",
              "      <th>1</th>\n",
              "      <td>Θανάσης Καμηλάρης: “Λαθροδιακινητές ήταν οι κλ...</td>\n",
              "      <td>https://www.pentapostagma.gr/ethnika-themata/e...</td>\n",
              "      <td>Ακούστε τον Θανάση Καμηλάρη – κάτοικο του Δέλτ...</td>\n",
              "    </tr>\n",
              "    <tr>\n",
              "      <th>2</th>\n",
              "      <td>Νέο σκάνδαλο με το εμβόλιο της Pfizer: Μειώνου...</td>\n",
              "      <td>https://www.pronews.gr/kosmos/eyropaiki-enosi/...</td>\n",
              "      <td>Ο Ευρωπαϊκός Οργανισμός Φαρμάκων ανακοίνωσε σή...</td>\n",
              "    </tr>\n",
              "    <tr>\n",
              "      <th>3</th>\n",
              "      <td>Η ΜΕΓΑΛΥΤΕΡΗ ΑΠΑΤΗ ΣΤΗΝ ΙΣΤΟΡΙΑ ΤΩΝ ΗΠΑ! – ΤΟ ...</td>\n",
              "      <td>https://www.makeleio.gr/εξωφυλλο/Η-ΜΕΓΑΛΥΤΕΡΗ-...</td>\n",
              "      <td>Διαβάστε το άρθρο του Αμερικανού οικονομολόγου...</td>\n",
              "    </tr>\n",
              "    <tr>\n",
              "      <th>4</th>\n",
              "      <td>Συγκλονιστικό βίντεο: Αρμένιος στρατιώτης αναφ...</td>\n",
              "      <td>https://www.pronews.gr/amyna-asfaleia/enoples-...</td>\n",
              "      <td>Ενα συγκλονιστικό βίντεο που δείχνει Αρμένιο σ...</td>\n",
              "    </tr>\n",
              "    <tr>\n",
              "      <th>...</th>\n",
              "      <td>...</td>\n",
              "      <td>...</td>\n",
              "      <td>...</td>\n",
              "    </tr>\n",
              "    <tr>\n",
              "      <th>1082</th>\n",
              "      <td>Μαγνητική καταιγίδα «χτυπάει» σήμερα την Ελλάδα</td>\n",
              "      <td>https://www.newsbomb.gr/bombplus/texnologia/st...</td>\n",
              "      <td>Το φαινόμενο αποτελεί ουσιαστικά την κατάληξη ...</td>\n",
              "    </tr>\n",
              "    <tr>\n",
              "      <th>1083</th>\n",
              "      <td>Τέλος στις χημειοθεραπείες! Νέος τρόπος καταπο...</td>\n",
              "      <td>https://www.briefingnews.gr/node/128379Ω</td>\n",
              "      <td>Αφού επί σειρά ετών ο κόσμος γνώριζε ότι η χημ...</td>\n",
              "    </tr>\n",
              "    <tr>\n",
              "      <th>1084</th>\n",
              "      <td>ΣΗΜΕΡΑ ΣΤΟ ΛΟΝΔΙΝΟ-ΑΥΡΙΟ ΣΤΗΝ ΑΘΗΝΑ: ΕΠΙΘΕΣΗ Α...</td>\n",
              "      <td>https://www.stoxos.gr/2013/08/blog-post_8374.html</td>\n",
              "      <td>Ιδού τι αναφέρει σχετικά η βρετανική Mail Onli...</td>\n",
              "    </tr>\n",
              "    <tr>\n",
              "      <th>1085</th>\n",
              "      <td>Πανικός στη Θεσσαλονίκη: Αυτή είναι η 22χρονη ...</td>\n",
              "      <td>https://www.inewsgr.com/200/panikos-sti-thessa...</td>\n",
              "      <td>Δεν υπάρχουν λόγια. Σοφός ο λαός μας έλεγε πάν...</td>\n",
              "    </tr>\n",
              "    <tr>\n",
              "      <th>1086</th>\n",
              "      <td>Είδηση σοκ: γυναίκα υποστηρίζει πως έμεινε έγκ...</td>\n",
              "      <td>https://www.queen.gr/life/daily-info/story/807...</td>\n",
              "      <td>Τι άλλο θα ακούσουμε.  Όσο τρελό και αν σας φα...</td>\n",
              "    </tr>\n",
              "  </tbody>\n",
              "</table>\n",
              "<p>1087 rows × 3 columns</p>\n",
              "</div>"
            ],
            "text/plain": [
              "                                                  title  ...                                               body\n",
              "0     «Κλείδωσε» η υποψηφιότητα Φουρθιώτη στο πλευρό...  ...  Όπως όλα δείχνουν, ο Μένιος Φουρθιώτης που ήδη...\n",
              "1     Θανάσης Καμηλάρης: “Λαθροδιακινητές ήταν οι κλ...  ...  Ακούστε τον Θανάση Καμηλάρη – κάτοικο του Δέλτ...\n",
              "2     Νέο σκάνδαλο με το εμβόλιο της Pfizer: Μειώνου...  ...  Ο Ευρωπαϊκός Οργανισμός Φαρμάκων ανακοίνωσε σή...\n",
              "3     Η ΜΕΓΑΛΥΤΕΡΗ ΑΠΑΤΗ ΣΤΗΝ ΙΣΤΟΡΙΑ ΤΩΝ ΗΠΑ! – ΤΟ ...  ...  Διαβάστε το άρθρο του Αμερικανού οικονομολόγου...\n",
              "4     Συγκλονιστικό βίντεο: Αρμένιος στρατιώτης αναφ...  ...  Ενα συγκλονιστικό βίντεο που δείχνει Αρμένιο σ...\n",
              "...                                                 ...  ...                                                ...\n",
              "1082    Μαγνητική καταιγίδα «χτυπάει» σήμερα την Ελλάδα  ...  Το φαινόμενο αποτελεί ουσιαστικά την κατάληξη ...\n",
              "1083  Τέλος στις χημειοθεραπείες! Νέος τρόπος καταπο...  ...  Αφού επί σειρά ετών ο κόσμος γνώριζε ότι η χημ...\n",
              "1084  ΣΗΜΕΡΑ ΣΤΟ ΛΟΝΔΙΝΟ-ΑΥΡΙΟ ΣΤΗΝ ΑΘΗΝΑ: ΕΠΙΘΕΣΗ Α...  ...  Ιδού τι αναφέρει σχετικά η βρετανική Mail Onli...\n",
              "1085  Πανικός στη Θεσσαλονίκη: Αυτή είναι η 22χρονη ...  ...  Δεν υπάρχουν λόγια. Σοφός ο λαός μας έλεγε πάν...\n",
              "1086  Είδηση σοκ: γυναίκα υποστηρίζει πως έμεινε έγκ...  ...  Τι άλλο θα ακούσουμε.  Όσο τρελό και αν σας φα...\n",
              "\n",
              "[1087 rows x 3 columns]"
            ]
          },
          "metadata": {},
          "execution_count": 127
        }
      ]
    },
    {
      "cell_type": "code",
      "metadata": {
        "colab": {
          "base_uri": "https://localhost:8080/",
          "height": 102
        },
        "id": "6n_8WkMFVJUC",
        "outputId": "61b9e365-e695-42f6-bdc5-63728bd5fe49"
      },
      "source": [
        "data['body'][10]"
      ],
      "execution_count": null,
      "outputs": [
        {
          "output_type": "execute_result",
          "data": {
            "application/vnd.google.colaboratory.intrinsic+json": {
              "type": "string"
            },
            "text/plain": [
              "'Βουλγαρικό δημοσίευμα αναφέρει ότι η κοπέλα (φωτογραφία πάνω αριστερά και κάτω) που τράβηξε τις σκανδαλώδεις φωτογραφίες του πρωθυπουργού της χώρας Μπόικο Μπορίσοφ (φωτογραφία πάνω δεξιά και κάτω) βρέθηκε νεκρή με σπασμένο τον λαιμό της στη Σαντορίνη. Από τη Φιλιππούπολη Συγκεκριμένα, η βουλγαρική ιστοσελίδα «αληθινά νέα» ανέφερε ότι η κοπέλα που τράβηξε τις φωτογραφίες με τον πρωθυπουργό της Βουλγαρίας Μπόικο Μπορίσοφ στο δωμάτιό του, με ράβδους χρυσού, δέσμες χαρτονομισμάτων ευρώ και όπλο, βρέθηκε νεκρή. Τι μας διδάσκει η αρχαία τραγωδία για τον κοροναϊό Την είδηση αναδημοσιεύουν αρκετά μέσα ενημέρωσης της Βόρειας Μακεδονίας, μεταξύ των οποίων και η Βέτσερ, η οποία αναφέρει πως η κοπέλα κατάγεται από τη Φιλιππούπολη και βρέθηκε νεκρή, με σπασμένο τον λαιμό της, στη Σαντορίνη, στις 20 Ιουλίου. Προκάλεσαν εντύπωση Οι φωτογραφίες είχαν δημοσιευθεί στα μέσα κοινωνικής δικτύωσης της Βουλγαρίας και της Βόρειας Μακεδονίας και προκάλεσαν ιδιαίτερη εντύπωση για το γεγονός ότι ο Βούλγαρος πρωθυπουργός κοιμόταν με τις δέσμες των χαρτονομισμάτων και το περίστροφό του πάνω στο κομοδίνο.'"
            ]
          },
          "metadata": {},
          "execution_count": 128
        }
      ]
    },
    {
      "cell_type": "code",
      "metadata": {
        "colab": {
          "base_uri": "https://localhost:8080/"
        },
        "id": "y8pvNESX3NYu",
        "outputId": "75265ae2-4a0d-452f-ec7d-5949f33078b1"
      },
      "source": [
        "data[data.title.isnull()].shape"
      ],
      "execution_count": null,
      "outputs": [
        {
          "output_type": "execute_result",
          "data": {
            "text/plain": [
              "(0, 3)"
            ]
          },
          "metadata": {},
          "execution_count": 129
        }
      ]
    },
    {
      "cell_type": "code",
      "metadata": {
        "id": "M248PW3qCVUU",
        "colab": {
          "base_uri": "https://localhost:8080/"
        },
        "outputId": "32b92a08-9c30-42d4-d86a-f0b9d8c2b3d3"
      },
      "source": [
        "!pip install -U spacy\n",
        "!pip install -U spacy-lookups-data\n",
        "!python -m spacy download el_core_news_lg"
      ],
      "execution_count": null,
      "outputs": [
        {
          "output_type": "stream",
          "text": [
            "Requirement already satisfied: spacy in /usr/local/lib/python3.7/dist-packages (3.1.2)\n",
            "Requirement already satisfied: numpy>=1.15.0 in /usr/local/lib/python3.7/dist-packages (from spacy) (1.19.5)\n",
            "Requirement already satisfied: tqdm<5.0.0,>=4.38.0 in /usr/local/lib/python3.7/dist-packages (from spacy) (4.62.0)\n",
            "Requirement already satisfied: murmurhash<1.1.0,>=0.28.0 in /usr/local/lib/python3.7/dist-packages (from spacy) (1.0.5)\n",
            "Requirement already satisfied: preshed<3.1.0,>=3.0.2 in /usr/local/lib/python3.7/dist-packages (from spacy) (3.0.5)\n",
            "Requirement already satisfied: wasabi<1.1.0,>=0.8.1 in /usr/local/lib/python3.7/dist-packages (from spacy) (0.8.2)\n",
            "Requirement already satisfied: pathy>=0.3.5 in /usr/local/lib/python3.7/dist-packages (from spacy) (0.6.0)\n",
            "Requirement already satisfied: blis<0.8.0,>=0.4.0 in /usr/local/lib/python3.7/dist-packages (from spacy) (0.4.1)\n",
            "Requirement already satisfied: cymem<2.1.0,>=2.0.2 in /usr/local/lib/python3.7/dist-packages (from spacy) (2.0.5)\n",
            "Requirement already satisfied: packaging>=20.0 in /usr/local/lib/python3.7/dist-packages (from spacy) (21.0)\n",
            "Requirement already satisfied: pydantic!=1.8,!=1.8.1,<1.9.0,>=1.7.4 in /usr/local/lib/python3.7/dist-packages (from spacy) (1.8.2)\n",
            "Requirement already satisfied: setuptools in /usr/local/lib/python3.7/dist-packages (from spacy) (57.4.0)\n",
            "Requirement already satisfied: typer<0.4.0,>=0.3.0 in /usr/local/lib/python3.7/dist-packages (from spacy) (0.3.2)\n",
            "Requirement already satisfied: jinja2 in /usr/local/lib/python3.7/dist-packages (from spacy) (2.11.3)\n",
            "Requirement already satisfied: typing-extensions<4.0.0.0,>=3.7.4 in /usr/local/lib/python3.7/dist-packages (from spacy) (3.7.4.3)\n",
            "Requirement already satisfied: catalogue<2.1.0,>=2.0.4 in /usr/local/lib/python3.7/dist-packages (from spacy) (2.0.6)\n",
            "Requirement already satisfied: thinc<8.1.0,>=8.0.8 in /usr/local/lib/python3.7/dist-packages (from spacy) (8.0.8)\n",
            "Requirement already satisfied: srsly<3.0.0,>=2.4.1 in /usr/local/lib/python3.7/dist-packages (from spacy) (2.4.1)\n",
            "Requirement already satisfied: requests<3.0.0,>=2.13.0 in /usr/local/lib/python3.7/dist-packages (from spacy) (2.23.0)\n",
            "Requirement already satisfied: spacy-legacy<3.1.0,>=3.0.7 in /usr/local/lib/python3.7/dist-packages (from spacy) (3.0.8)\n",
            "Requirement already satisfied: zipp>=0.5 in /usr/local/lib/python3.7/dist-packages (from catalogue<2.1.0,>=2.0.4->spacy) (3.5.0)\n",
            "Requirement already satisfied: pyparsing>=2.0.2 in /usr/local/lib/python3.7/dist-packages (from packaging>=20.0->spacy) (2.4.7)\n",
            "Requirement already satisfied: smart-open<6.0.0,>=5.0.0 in /usr/local/lib/python3.7/dist-packages (from pathy>=0.3.5->spacy) (5.1.0)\n",
            "Requirement already satisfied: certifi>=2017.4.17 in /usr/local/lib/python3.7/dist-packages (from requests<3.0.0,>=2.13.0->spacy) (2021.5.30)\n",
            "Requirement already satisfied: chardet<4,>=3.0.2 in /usr/local/lib/python3.7/dist-packages (from requests<3.0.0,>=2.13.0->spacy) (3.0.4)\n",
            "Requirement already satisfied: idna<3,>=2.5 in /usr/local/lib/python3.7/dist-packages (from requests<3.0.0,>=2.13.0->spacy) (2.10)\n",
            "Requirement already satisfied: urllib3!=1.25.0,!=1.25.1,<1.26,>=1.21.1 in /usr/local/lib/python3.7/dist-packages (from requests<3.0.0,>=2.13.0->spacy) (1.24.3)\n",
            "Requirement already satisfied: click<7.2.0,>=7.1.1 in /usr/local/lib/python3.7/dist-packages (from typer<0.4.0,>=0.3.0->spacy) (7.1.2)\n",
            "Requirement already satisfied: MarkupSafe>=0.23 in /usr/local/lib/python3.7/dist-packages (from jinja2->spacy) (2.0.1)\n",
            "Requirement already satisfied: spacy-lookups-data in /usr/local/lib/python3.7/dist-packages (1.0.2)\n",
            "Requirement already satisfied: setuptools in /usr/local/lib/python3.7/dist-packages (from spacy-lookups-data) (57.4.0)\n",
            "Collecting el-core-news-lg==3.1.0\n",
            "  Downloading https://github.com/explosion/spacy-models/releases/download/el_core_news_lg-3.1.0/el_core_news_lg-3.1.0-py3-none-any.whl (569.1 MB)\n",
            "\u001b[K     |████████████████████████████████| 569.1 MB 7.2 kB/s \n",
            "\u001b[?25hRequirement already satisfied: spacy<3.2.0,>=3.1.0 in /usr/local/lib/python3.7/dist-packages (from el-core-news-lg==3.1.0) (3.1.2)\n",
            "Requirement already satisfied: numpy>=1.15.0 in /usr/local/lib/python3.7/dist-packages (from spacy<3.2.0,>=3.1.0->el-core-news-lg==3.1.0) (1.19.5)\n",
            "Requirement already satisfied: requests<3.0.0,>=2.13.0 in /usr/local/lib/python3.7/dist-packages (from spacy<3.2.0,>=3.1.0->el-core-news-lg==3.1.0) (2.23.0)\n",
            "Requirement already satisfied: jinja2 in /usr/local/lib/python3.7/dist-packages (from spacy<3.2.0,>=3.1.0->el-core-news-lg==3.1.0) (2.11.3)\n",
            "Requirement already satisfied: cymem<2.1.0,>=2.0.2 in /usr/local/lib/python3.7/dist-packages (from spacy<3.2.0,>=3.1.0->el-core-news-lg==3.1.0) (2.0.5)\n",
            "Requirement already satisfied: srsly<3.0.0,>=2.4.1 in /usr/local/lib/python3.7/dist-packages (from spacy<3.2.0,>=3.1.0->el-core-news-lg==3.1.0) (2.4.1)\n",
            "Requirement already satisfied: wasabi<1.1.0,>=0.8.1 in /usr/local/lib/python3.7/dist-packages (from spacy<3.2.0,>=3.1.0->el-core-news-lg==3.1.0) (0.8.2)\n",
            "Requirement already satisfied: pathy>=0.3.5 in /usr/local/lib/python3.7/dist-packages (from spacy<3.2.0,>=3.1.0->el-core-news-lg==3.1.0) (0.6.0)\n",
            "Requirement already satisfied: pydantic!=1.8,!=1.8.1,<1.9.0,>=1.7.4 in /usr/local/lib/python3.7/dist-packages (from spacy<3.2.0,>=3.1.0->el-core-news-lg==3.1.0) (1.8.2)\n",
            "Requirement already satisfied: setuptools in /usr/local/lib/python3.7/dist-packages (from spacy<3.2.0,>=3.1.0->el-core-news-lg==3.1.0) (57.4.0)\n",
            "Requirement already satisfied: typing-extensions<4.0.0.0,>=3.7.4 in /usr/local/lib/python3.7/dist-packages (from spacy<3.2.0,>=3.1.0->el-core-news-lg==3.1.0) (3.7.4.3)\n",
            "Requirement already satisfied: murmurhash<1.1.0,>=0.28.0 in /usr/local/lib/python3.7/dist-packages (from spacy<3.2.0,>=3.1.0->el-core-news-lg==3.1.0) (1.0.5)\n",
            "Requirement already satisfied: thinc<8.1.0,>=8.0.8 in /usr/local/lib/python3.7/dist-packages (from spacy<3.2.0,>=3.1.0->el-core-news-lg==3.1.0) (8.0.8)\n",
            "Requirement already satisfied: typer<0.4.0,>=0.3.0 in /usr/local/lib/python3.7/dist-packages (from spacy<3.2.0,>=3.1.0->el-core-news-lg==3.1.0) (0.3.2)\n",
            "Requirement already satisfied: packaging>=20.0 in /usr/local/lib/python3.7/dist-packages (from spacy<3.2.0,>=3.1.0->el-core-news-lg==3.1.0) (21.0)\n",
            "Requirement already satisfied: spacy-legacy<3.1.0,>=3.0.7 in /usr/local/lib/python3.7/dist-packages (from spacy<3.2.0,>=3.1.0->el-core-news-lg==3.1.0) (3.0.8)\n",
            "Requirement already satisfied: catalogue<2.1.0,>=2.0.4 in /usr/local/lib/python3.7/dist-packages (from spacy<3.2.0,>=3.1.0->el-core-news-lg==3.1.0) (2.0.6)\n",
            "Requirement already satisfied: blis<0.8.0,>=0.4.0 in /usr/local/lib/python3.7/dist-packages (from spacy<3.2.0,>=3.1.0->el-core-news-lg==3.1.0) (0.4.1)\n",
            "Requirement already satisfied: preshed<3.1.0,>=3.0.2 in /usr/local/lib/python3.7/dist-packages (from spacy<3.2.0,>=3.1.0->el-core-news-lg==3.1.0) (3.0.5)\n",
            "Requirement already satisfied: tqdm<5.0.0,>=4.38.0 in /usr/local/lib/python3.7/dist-packages (from spacy<3.2.0,>=3.1.0->el-core-news-lg==3.1.0) (4.62.0)\n",
            "Requirement already satisfied: zipp>=0.5 in /usr/local/lib/python3.7/dist-packages (from catalogue<2.1.0,>=2.0.4->spacy<3.2.0,>=3.1.0->el-core-news-lg==3.1.0) (3.5.0)\n",
            "Requirement already satisfied: pyparsing>=2.0.2 in /usr/local/lib/python3.7/dist-packages (from packaging>=20.0->spacy<3.2.0,>=3.1.0->el-core-news-lg==3.1.0) (2.4.7)\n",
            "Requirement already satisfied: smart-open<6.0.0,>=5.0.0 in /usr/local/lib/python3.7/dist-packages (from pathy>=0.3.5->spacy<3.2.0,>=3.1.0->el-core-news-lg==3.1.0) (5.1.0)\n",
            "Requirement already satisfied: certifi>=2017.4.17 in /usr/local/lib/python3.7/dist-packages (from requests<3.0.0,>=2.13.0->spacy<3.2.0,>=3.1.0->el-core-news-lg==3.1.0) (2021.5.30)\n",
            "Requirement already satisfied: idna<3,>=2.5 in /usr/local/lib/python3.7/dist-packages (from requests<3.0.0,>=2.13.0->spacy<3.2.0,>=3.1.0->el-core-news-lg==3.1.0) (2.10)\n",
            "Requirement already satisfied: chardet<4,>=3.0.2 in /usr/local/lib/python3.7/dist-packages (from requests<3.0.0,>=2.13.0->spacy<3.2.0,>=3.1.0->el-core-news-lg==3.1.0) (3.0.4)\n",
            "Requirement already satisfied: urllib3!=1.25.0,!=1.25.1,<1.26,>=1.21.1 in /usr/local/lib/python3.7/dist-packages (from requests<3.0.0,>=2.13.0->spacy<3.2.0,>=3.1.0->el-core-news-lg==3.1.0) (1.24.3)\n",
            "Requirement already satisfied: click<7.2.0,>=7.1.1 in /usr/local/lib/python3.7/dist-packages (from typer<0.4.0,>=0.3.0->spacy<3.2.0,>=3.1.0->el-core-news-lg==3.1.0) (7.1.2)\n",
            "Requirement already satisfied: MarkupSafe>=0.23 in /usr/local/lib/python3.7/dist-packages (from jinja2->spacy<3.2.0,>=3.1.0->el-core-news-lg==3.1.0) (2.0.1)\n",
            "\u001b[38;5;2m✔ Download and installation successful\u001b[0m\n",
            "You can now load the package via spacy.load('el_core_news_lg')\n"
          ],
          "name": "stdout"
        }
      ]
    },
    {
      "cell_type": "code",
      "metadata": {
        "id": "QR9za8ix3bRr"
      },
      "source": [
        "import re\n",
        "import string\n",
        "def clean_text(article):\n",
        "    clean1 = re.sub(r'['+string.punctuation + '’—”'+']', \"\", article.lower())\n",
        "    return re.sub(r'\\W+', ' ', clean1)"
      ],
      "execution_count": null,
      "outputs": []
    },
    {
      "cell_type": "code",
      "metadata": {
        "id": "wF4dytA84BAV"
      },
      "source": [
        "data['tokenized_title'] = data['title'].map(lambda x: clean_text(x))"
      ],
      "execution_count": null,
      "outputs": []
    },
    {
      "cell_type": "code",
      "metadata": {
        "id": "EFxJPnqEdz2l",
        "colab": {
          "base_uri": "https://localhost:8080/"
        },
        "outputId": "22a365f8-932a-4cb1-bbfe-43be22b94992"
      },
      "source": [
        "data"
      ],
      "execution_count": null,
      "outputs": [
        {
          "output_type": "execute_result",
          "data": {
            "text/html": [
              "<div>\n",
              "<style scoped>\n",
              "    .dataframe tbody tr th:only-of-type {\n",
              "        vertical-align: middle;\n",
              "    }\n",
              "\n",
              "    .dataframe tbody tr th {\n",
              "        vertical-align: top;\n",
              "    }\n",
              "\n",
              "    .dataframe thead th {\n",
              "        text-align: right;\n",
              "    }\n",
              "</style>\n",
              "<table border=\"1\" class=\"dataframe\">\n",
              "  <thead>\n",
              "    <tr style=\"text-align: right;\">\n",
              "      <th></th>\n",
              "      <th>title</th>\n",
              "      <th>link</th>\n",
              "      <th>body</th>\n",
              "      <th>tokenized_title</th>\n",
              "    </tr>\n",
              "  </thead>\n",
              "  <tbody>\n",
              "    <tr>\n",
              "      <th>0</th>\n",
              "      <td>«Κλείδωσε» η υποψηφιότητα Φουρθιώτη στο πλευρό...</td>\n",
              "      <td>https://www.newsbreak.gr/politiki/181856/kleid...</td>\n",
              "      <td>Όπως όλα δείχνουν, ο Μένιος Φουρθιώτης που ήδη...</td>\n",
              "      <td>κλείδωσε η υποψηφιότητα φουρθιώτη στο πλευρό ...</td>\n",
              "    </tr>\n",
              "    <tr>\n",
              "      <th>1</th>\n",
              "      <td>Θανάσης Καμηλάρης: “Λαθροδιακινητές ήταν οι κλ...</td>\n",
              "      <td>https://www.pentapostagma.gr/ethnika-themata/e...</td>\n",
              "      <td>Ακούστε τον Θανάση Καμηλάρη – κάτοικο του Δέλτ...</td>\n",
              "      <td>θανάσης καμηλάρης λαθροδιακινητές ήταν οι κλέφ...</td>\n",
              "    </tr>\n",
              "    <tr>\n",
              "      <th>2</th>\n",
              "      <td>Νέο σκάνδαλο με το εμβόλιο της Pfizer: Μειώνου...</td>\n",
              "      <td>https://www.pronews.gr/kosmos/eyropaiki-enosi/...</td>\n",
              "      <td>Ο Ευρωπαϊκός Οργανισμός Φαρμάκων ανακοίνωσε σή...</td>\n",
              "      <td>νέο σκάνδαλο με το εμβόλιο της pfizer μειώνουν...</td>\n",
              "    </tr>\n",
              "    <tr>\n",
              "      <th>3</th>\n",
              "      <td>Η ΜΕΓΑΛΥΤΕΡΗ ΑΠΑΤΗ ΣΤΗΝ ΙΣΤΟΡΙΑ ΤΩΝ ΗΠΑ! – ΤΟ ...</td>\n",
              "      <td>https://www.makeleio.gr/εξωφυλλο/Η-ΜΕΓΑΛΥΤΕΡΗ-...</td>\n",
              "      <td>Διαβάστε το άρθρο του Αμερικανού οικονομολόγου...</td>\n",
              "      <td>η μεγαλυτερη απατη στην ιστορια των ηπα το λογ...</td>\n",
              "    </tr>\n",
              "    <tr>\n",
              "      <th>4</th>\n",
              "      <td>Συγκλονιστικό βίντεο: Αρμένιος στρατιώτης αναφ...</td>\n",
              "      <td>https://www.pronews.gr/amyna-asfaleia/enoples-...</td>\n",
              "      <td>Ενα συγκλονιστικό βίντεο που δείχνει Αρμένιο σ...</td>\n",
              "      <td>συγκλονιστικό βίντεο αρμένιος στρατιώτης αναφέ...</td>\n",
              "    </tr>\n",
              "    <tr>\n",
              "      <th>...</th>\n",
              "      <td>...</td>\n",
              "      <td>...</td>\n",
              "      <td>...</td>\n",
              "      <td>...</td>\n",
              "    </tr>\n",
              "    <tr>\n",
              "      <th>1082</th>\n",
              "      <td>Μαγνητική καταιγίδα «χτυπάει» σήμερα την Ελλάδα</td>\n",
              "      <td>https://www.newsbomb.gr/bombplus/texnologia/st...</td>\n",
              "      <td>Το φαινόμενο αποτελεί ουσιαστικά την κατάληξη ...</td>\n",
              "      <td>μαγνητική καταιγίδα χτυπάει σήμερα την ελλάδα</td>\n",
              "    </tr>\n",
              "    <tr>\n",
              "      <th>1083</th>\n",
              "      <td>Τέλος στις χημειοθεραπείες! Νέος τρόπος καταπο...</td>\n",
              "      <td>https://www.briefingnews.gr/node/128379Ω</td>\n",
              "      <td>Αφού επί σειρά ετών ο κόσμος γνώριζε ότι η χημ...</td>\n",
              "      <td>τέλος στις χημειοθεραπείες νέος τρόπος καταπολ...</td>\n",
              "    </tr>\n",
              "    <tr>\n",
              "      <th>1084</th>\n",
              "      <td>ΣΗΜΕΡΑ ΣΤΟ ΛΟΝΔΙΝΟ-ΑΥΡΙΟ ΣΤΗΝ ΑΘΗΝΑ: ΕΠΙΘΕΣΗ Α...</td>\n",
              "      <td>https://www.stoxos.gr/2013/08/blog-post_8374.html</td>\n",
              "      <td>Ιδού τι αναφέρει σχετικά η βρετανική Mail Onli...</td>\n",
              "      <td>σημερα στο λονδινοαυριο στην αθηνα επιθεση αφρ...</td>\n",
              "    </tr>\n",
              "    <tr>\n",
              "      <th>1085</th>\n",
              "      <td>Πανικός στη Θεσσαλονίκη: Αυτή είναι η 22χρονη ...</td>\n",
              "      <td>https://www.inewsgr.com/200/panikos-sti-thessa...</td>\n",
              "      <td>Δεν υπάρχουν λόγια. Σοφός ο λαός μας έλεγε πάν...</td>\n",
              "      <td>πανικός στη θεσσαλονίκη αυτή είναι η 22χρονη φ...</td>\n",
              "    </tr>\n",
              "    <tr>\n",
              "      <th>1086</th>\n",
              "      <td>Είδηση σοκ: γυναίκα υποστηρίζει πως έμεινε έγκ...</td>\n",
              "      <td>https://www.queen.gr/life/daily-info/story/807...</td>\n",
              "      <td>Τι άλλο θα ακούσουμε.  Όσο τρελό και αν σας φα...</td>\n",
              "      <td>είδηση σοκ γυναίκα υποστηρίζει πως έμεινε έγκυ...</td>\n",
              "    </tr>\n",
              "  </tbody>\n",
              "</table>\n",
              "<p>1087 rows × 4 columns</p>\n",
              "</div>"
            ],
            "text/plain": [
              "                                                  title  ...                                    tokenized_title\n",
              "0     «Κλείδωσε» η υποψηφιότητα Φουρθιώτη στο πλευρό...  ...   κλείδωσε η υποψηφιότητα φουρθιώτη στο πλευρό ...\n",
              "1     Θανάσης Καμηλάρης: “Λαθροδιακινητές ήταν οι κλ...  ...  θανάσης καμηλάρης λαθροδιακινητές ήταν οι κλέφ...\n",
              "2     Νέο σκάνδαλο με το εμβόλιο της Pfizer: Μειώνου...  ...  νέο σκάνδαλο με το εμβόλιο της pfizer μειώνουν...\n",
              "3     Η ΜΕΓΑΛΥΤΕΡΗ ΑΠΑΤΗ ΣΤΗΝ ΙΣΤΟΡΙΑ ΤΩΝ ΗΠΑ! – ΤΟ ...  ...  η μεγαλυτερη απατη στην ιστορια των ηπα το λογ...\n",
              "4     Συγκλονιστικό βίντεο: Αρμένιος στρατιώτης αναφ...  ...  συγκλονιστικό βίντεο αρμένιος στρατιώτης αναφέ...\n",
              "...                                                 ...  ...                                                ...\n",
              "1082    Μαγνητική καταιγίδα «χτυπάει» σήμερα την Ελλάδα  ...      μαγνητική καταιγίδα χτυπάει σήμερα την ελλάδα\n",
              "1083  Τέλος στις χημειοθεραπείες! Νέος τρόπος καταπο...  ...  τέλος στις χημειοθεραπείες νέος τρόπος καταπολ...\n",
              "1084  ΣΗΜΕΡΑ ΣΤΟ ΛΟΝΔΙΝΟ-ΑΥΡΙΟ ΣΤΗΝ ΑΘΗΝΑ: ΕΠΙΘΕΣΗ Α...  ...  σημερα στο λονδινοαυριο στην αθηνα επιθεση αφρ...\n",
              "1085  Πανικός στη Θεσσαλονίκη: Αυτή είναι η 22χρονη ...  ...  πανικός στη θεσσαλονίκη αυτή είναι η 22χρονη φ...\n",
              "1086  Είδηση σοκ: γυναίκα υποστηρίζει πως έμεινε έγκ...  ...  είδηση σοκ γυναίκα υποστηρίζει πως έμεινε έγκυ...\n",
              "\n",
              "[1087 rows x 4 columns]"
            ]
          },
          "metadata": {},
          "execution_count": 133
        }
      ]
    },
    {
      "cell_type": "code",
      "metadata": {
        "colab": {
          "base_uri": "https://localhost:8080/"
        },
        "id": "0gtLtPA_mFQ0",
        "outputId": "0bba9c1a-9ea1-4cd9-a25c-1d17f4bab0f3"
      },
      "source": [
        "convert_dict = {'body': str,\n",
        "               }\n",
        "  \n",
        "data = data.astype(convert_dict)\n",
        "print(data.dtypes)"
      ],
      "execution_count": null,
      "outputs": [
        {
          "output_type": "stream",
          "text": [
            "title              object\n",
            "link               object\n",
            "body               object\n",
            "tokenized_title    object\n",
            "dtype: object\n"
          ],
          "name": "stdout"
        }
      ]
    },
    {
      "cell_type": "code",
      "metadata": {
        "id": "qFOngkjr5IWj"
      },
      "source": [
        "data['tokenized_body'] = data['body'].map(lambda x: clean_text(x))"
      ],
      "execution_count": null,
      "outputs": []
    },
    {
      "cell_type": "code",
      "metadata": {
        "colab": {
          "base_uri": "https://localhost:8080/"
        },
        "id": "c_0X6svW4ZoD",
        "outputId": "78bca88c-c9ce-44a6-bbe8-f5aba68f96de"
      },
      "source": [
        "data['tokenized_body'][0]"
      ],
      "execution_count": null,
      "outputs": [
        {
          "output_type": "execute_result",
          "data": {
            "application/vnd.google.colaboratory.intrinsic+json": {
              "type": "string"
            },
            "text/plain": [
              "'όπως όλα δείχνουν ο μένιος φουρθιώτης που ήδη έχει θέσει σε λειτουργία το πολιτικό του γραφείο όπως ο ίδιος είχε ανακοινώσει θα πολιτευτεί με την νέα δημοκρατία του κυριάκου μητσοτάκη σύμφωνα με πληροφορίες καταλυτικό ρόλο έπαιξε η συνάντηση του γνωστού παρουσιαστή με το δεξί χέρι του κυριάκου μητσοτάκη στέλιο πέτσα στην συνάντηση συμμετείχε και ένας γαλάζιος βουλευτής ο οποίος είναι παντρεμένος με δημοσιογράφο που γνωρίζει καλά τα τεκταινόμενα στα μίντια ο στέλιος πέτσας αφού εξέφρασε την ευγνωμοσύνη του για την στήριξη του μένιο φουρθιώτη στην κυβέρνηση σε μια δύσκολη μάλιστα εποχή έδειξε θετικός στο ενδεχόμενο καθόδου του παρουσιαστή έγινε μάλιστα εκτενής συζήτηση για την περιφέρεια στην οποία θα κατέβει καθώς η πολυετής παρουσία του γνωστού παρουσιαστή σε κανάλια της αττικής του έχει δώσει μεγάλη αναγνωρισιμότητα στις περιοχές της β αθήνας και του πειραιά το φρέσκο πρόσωπο του μένιου φουρθιώτη ταιριάζει άλλωστε με την στρατηγική ανανέωσης που θέλει να εφαρμόσει στην παράταξη ο κυριάκος μητσοτάκης τη νέα νέα δημοκρατία που οραματίζεται ο πρωθυπουργός με πετυχημένα ανοίγματα που ήδη έχει κάνει από τον χώρο του θεάματος όπως με τον νίκο ρωμανό και οι δημοσκοπήσεις φαίνεται να τον επιβεβαιώνουν για λόγους δεοντολογίας παραθέτουμε το σχόλιο που λάβαμε το από το γραφείο του κυρίου πέτσα πως δεν υπήρξε συνάντησή του με τον κ φουρθιώτη'"
            ]
          },
          "metadata": {},
          "execution_count": 136
        }
      ]
    },
    {
      "cell_type": "code",
      "metadata": {
        "colab": {
          "base_uri": "https://localhost:8080/"
        },
        "id": "8C-b4NhA5ki0",
        "outputId": "904f8013-dffe-4177-abb1-cf4c569b08db"
      },
      "source": [
        "data['num_wds'] = data['tokenized_body'].apply(lambda x: len(x.split()))\n",
        "data['num_wds'].mean()"
      ],
      "execution_count": null,
      "outputs": [
        {
          "output_type": "execute_result",
          "data": {
            "text/plain": [
              "264.1803127874885"
            ]
          },
          "metadata": {},
          "execution_count": 137
        }
      ]
    },
    {
      "cell_type": "code",
      "metadata": {
        "id": "_lFHPOkVCtNE",
        "colab": {
          "base_uri": "https://localhost:8080/"
        },
        "outputId": "f046b18a-4622-4a7f-add0-6f5bda6f79b3"
      },
      "source": [
        "data['num_wds_title'] = data['title'].apply(lambda x: len(x.split()))\n",
        "data['num_wds_title'].mean()"
      ],
      "execution_count": null,
      "outputs": [
        {
          "output_type": "execute_result",
          "data": {
            "text/plain": [
              "12.519779208831647"
            ]
          },
          "metadata": {},
          "execution_count": 138
        }
      ]
    },
    {
      "cell_type": "code",
      "metadata": {
        "colab": {
          "base_uri": "https://localhost:8080/"
        },
        "id": "jMN_YcUT6eZ6",
        "outputId": "78f96bd4-3670-47bf-b39e-3382c448d17b"
      },
      "source": [
        "data['uniq_wds_body'] = data['tokenized_body'].str.split().apply(lambda x: len(set(x)))\n",
        "data['uniq_wds_body'].head()"
      ],
      "execution_count": null,
      "outputs": [
        {
          "output_type": "execute_result",
          "data": {
            "text/plain": [
              "0    135\n",
              "1     20\n",
              "2    164\n",
              "3    492\n",
              "4     88\n",
              "Name: uniq_wds_body, dtype: int64"
            ]
          },
          "metadata": {},
          "execution_count": 139
        }
      ]
    },
    {
      "cell_type": "code",
      "metadata": {
        "colab": {
          "base_uri": "https://localhost:8080/",
          "height": 584
        },
        "id": "C21Dx1Rqg9_L",
        "outputId": "2c82d866-4c6f-4ce6-fafd-94c38374bfc1"
      },
      "source": [
        "data[data['num_wds'] > 70 ].dropna()"
      ],
      "execution_count": null,
      "outputs": [
        {
          "output_type": "execute_result",
          "data": {
            "text/html": [
              "<div>\n",
              "<style scoped>\n",
              "    .dataframe tbody tr th:only-of-type {\n",
              "        vertical-align: middle;\n",
              "    }\n",
              "\n",
              "    .dataframe tbody tr th {\n",
              "        vertical-align: top;\n",
              "    }\n",
              "\n",
              "    .dataframe thead th {\n",
              "        text-align: right;\n",
              "    }\n",
              "</style>\n",
              "<table border=\"1\" class=\"dataframe\">\n",
              "  <thead>\n",
              "    <tr style=\"text-align: right;\">\n",
              "      <th></th>\n",
              "      <th>title</th>\n",
              "      <th>link</th>\n",
              "      <th>body</th>\n",
              "      <th>tokenized_title</th>\n",
              "      <th>tokenized_body</th>\n",
              "      <th>num_wds</th>\n",
              "      <th>num_wds_title</th>\n",
              "      <th>uniq_wds_body</th>\n",
              "    </tr>\n",
              "  </thead>\n",
              "  <tbody>\n",
              "    <tr>\n",
              "      <th>0</th>\n",
              "      <td>«Κλείδωσε» η υποψηφιότητα Φουρθιώτη στο πλευρό...</td>\n",
              "      <td>https://www.newsbreak.gr/politiki/181856/kleid...</td>\n",
              "      <td>Όπως όλα δείχνουν, ο Μένιος Φουρθιώτης που ήδη...</td>\n",
              "      <td>κλείδωσε η υποψηφιότητα φουρθιώτη στο πλευρό ...</td>\n",
              "      <td>όπως όλα δείχνουν ο μένιος φουρθιώτης που ήδη ...</td>\n",
              "      <td>210</td>\n",
              "      <td>8</td>\n",
              "      <td>135</td>\n",
              "    </tr>\n",
              "    <tr>\n",
              "      <th>2</th>\n",
              "      <td>Νέο σκάνδαλο με το εμβόλιο της Pfizer: Μειώνου...</td>\n",
              "      <td>https://www.pronews.gr/kosmos/eyropaiki-enosi/...</td>\n",
              "      <td>Ο Ευρωπαϊκός Οργανισμός Φαρμάκων ανακοίνωσε σή...</td>\n",
              "      <td>νέο σκάνδαλο με το εμβόλιο της pfizer μειώνουν...</td>\n",
              "      <td>ο ευρωπαϊκός οργανισμός φαρμάκων ανακοίνωσε σή...</td>\n",
              "      <td>267</td>\n",
              "      <td>19</td>\n",
              "      <td>164</td>\n",
              "    </tr>\n",
              "    <tr>\n",
              "      <th>3</th>\n",
              "      <td>Η ΜΕΓΑΛΥΤΕΡΗ ΑΠΑΤΗ ΣΤΗΝ ΙΣΤΟΡΙΑ ΤΩΝ ΗΠΑ! – ΤΟ ...</td>\n",
              "      <td>https://www.makeleio.gr/εξωφυλλο/Η-ΜΕΓΑΛΥΤΕΡΗ-...</td>\n",
              "      <td>Διαβάστε το άρθρο του Αμερικανού οικονομολόγου...</td>\n",
              "      <td>η μεγαλυτερη απατη στην ιστορια των ηπα το λογ...</td>\n",
              "      <td>διαβάστε το άρθρο του αμερικανού οικονομολόγου...</td>\n",
              "      <td>967</td>\n",
              "      <td>39</td>\n",
              "      <td>492</td>\n",
              "    </tr>\n",
              "    <tr>\n",
              "      <th>4</th>\n",
              "      <td>Συγκλονιστικό βίντεο: Αρμένιος στρατιώτης αναφ...</td>\n",
              "      <td>https://www.pronews.gr/amyna-asfaleia/enoples-...</td>\n",
              "      <td>Ενα συγκλονιστικό βίντεο που δείχνει Αρμένιο σ...</td>\n",
              "      <td>συγκλονιστικό βίντεο αρμένιος στρατιώτης αναφέ...</td>\n",
              "      <td>ενα συγκλονιστικό βίντεο που δείχνει αρμένιο σ...</td>\n",
              "      <td>108</td>\n",
              "      <td>12</td>\n",
              "      <td>88</td>\n",
              "    </tr>\n",
              "    <tr>\n",
              "      <th>5</th>\n",
              "      <td>Βρετανία: Με τη βοήθεια GPS θα χορηγείται τον ...</td>\n",
              "      <td>https://www.protothema.gr/world/article/106164...</td>\n",
              "      <td>Ειδήσεις που αποπνέουν αισιοδοξία για τη χορήγ...</td>\n",
              "      <td>βρετανία με τη βοήθεια gps θα χορηγείται τον ε...</td>\n",
              "      <td>ειδήσεις που αποπνέουν αισιοδοξία για τη χορήγ...</td>\n",
              "      <td>159</td>\n",
              "      <td>15</td>\n",
              "      <td>107</td>\n",
              "    </tr>\n",
              "    <tr>\n",
              "      <th>...</th>\n",
              "      <td>...</td>\n",
              "      <td>...</td>\n",
              "      <td>...</td>\n",
              "      <td>...</td>\n",
              "      <td>...</td>\n",
              "      <td>...</td>\n",
              "      <td>...</td>\n",
              "      <td>...</td>\n",
              "    </tr>\n",
              "    <tr>\n",
              "      <th>1080</th>\n",
              "      <td>Απίστευτο! Νομιμοποιήθηκε κόμμα παιδόφιλων στη...</td>\n",
              "      <td>https://newpost.gr/kosmos/127772/apisteyto-nom...</td>\n",
              "      <td>Απίστευτο και, όμως, αληθινό. Σοκ έχει προκαλέ...</td>\n",
              "      <td>απίστευτο νομιμοποιήθηκε κόμμα παιδόφιλων στην...</td>\n",
              "      <td>απίστευτο και όμως αληθινό σοκ έχει προκαλέσει...</td>\n",
              "      <td>80</td>\n",
              "      <td>6</td>\n",
              "      <td>61</td>\n",
              "    </tr>\n",
              "    <tr>\n",
              "      <th>1082</th>\n",
              "      <td>Μαγνητική καταιγίδα «χτυπάει» σήμερα την Ελλάδα</td>\n",
              "      <td>https://www.newsbomb.gr/bombplus/texnologia/st...</td>\n",
              "      <td>Το φαινόμενο αποτελεί ουσιαστικά την κατάληξη ...</td>\n",
              "      <td>μαγνητική καταιγίδα χτυπάει σήμερα την ελλάδα</td>\n",
              "      <td>το φαινόμενο αποτελεί ουσιαστικά την κατάληξη ...</td>\n",
              "      <td>289</td>\n",
              "      <td>6</td>\n",
              "      <td>195</td>\n",
              "    </tr>\n",
              "    <tr>\n",
              "      <th>1083</th>\n",
              "      <td>Τέλος στις χημειοθεραπείες! Νέος τρόπος καταπο...</td>\n",
              "      <td>https://www.briefingnews.gr/node/128379Ω</td>\n",
              "      <td>Αφού επί σειρά ετών ο κόσμος γνώριζε ότι η χημ...</td>\n",
              "      <td>τέλος στις χημειοθεραπείες νέος τρόπος καταπολ...</td>\n",
              "      <td>αφού επί σειρά ετών ο κόσμος γνώριζε ότι η χημ...</td>\n",
              "      <td>939</td>\n",
              "      <td>8</td>\n",
              "      <td>484</td>\n",
              "    </tr>\n",
              "    <tr>\n",
              "      <th>1084</th>\n",
              "      <td>ΣΗΜΕΡΑ ΣΤΟ ΛΟΝΔΙΝΟ-ΑΥΡΙΟ ΣΤΗΝ ΑΘΗΝΑ: ΕΠΙΘΕΣΗ Α...</td>\n",
              "      <td>https://www.stoxos.gr/2013/08/blog-post_8374.html</td>\n",
              "      <td>Ιδού τι αναφέρει σχετικά η βρετανική Mail Onli...</td>\n",
              "      <td>σημερα στο λονδινοαυριο στην αθηνα επιθεση αφρ...</td>\n",
              "      <td>ιδού τι αναφέρει σχετικά η βρετανική mail onli...</td>\n",
              "      <td>219</td>\n",
              "      <td>18</td>\n",
              "      <td>142</td>\n",
              "    </tr>\n",
              "    <tr>\n",
              "      <th>1086</th>\n",
              "      <td>Είδηση σοκ: γυναίκα υποστηρίζει πως έμεινε έγκ...</td>\n",
              "      <td>https://www.queen.gr/life/daily-info/story/807...</td>\n",
              "      <td>Τι άλλο θα ακούσουμε.  Όσο τρελό και αν σας φα...</td>\n",
              "      <td>είδηση σοκ γυναίκα υποστηρίζει πως έμεινε έγκυ...</td>\n",
              "      <td>τι άλλο θα ακούσουμε όσο τρελό και αν σας φαίν...</td>\n",
              "      <td>153</td>\n",
              "      <td>10</td>\n",
              "      <td>115</td>\n",
              "    </tr>\n",
              "  </tbody>\n",
              "</table>\n",
              "<p>907 rows × 8 columns</p>\n",
              "</div>"
            ],
            "text/plain": [
              "                                                  title  ... uniq_wds_body\n",
              "0     «Κλείδωσε» η υποψηφιότητα Φουρθιώτη στο πλευρό...  ...           135\n",
              "2     Νέο σκάνδαλο με το εμβόλιο της Pfizer: Μειώνου...  ...           164\n",
              "3     Η ΜΕΓΑΛΥΤΕΡΗ ΑΠΑΤΗ ΣΤΗΝ ΙΣΤΟΡΙΑ ΤΩΝ ΗΠΑ! – ΤΟ ...  ...           492\n",
              "4     Συγκλονιστικό βίντεο: Αρμένιος στρατιώτης αναφ...  ...            88\n",
              "5     Βρετανία: Με τη βοήθεια GPS θα χορηγείται τον ...  ...           107\n",
              "...                                                 ...  ...           ...\n",
              "1080  Απίστευτο! Νομιμοποιήθηκε κόμμα παιδόφιλων στη...  ...            61\n",
              "1082    Μαγνητική καταιγίδα «χτυπάει» σήμερα την Ελλάδα  ...           195\n",
              "1083  Τέλος στις χημειοθεραπείες! Νέος τρόπος καταπο...  ...           484\n",
              "1084  ΣΗΜΕΡΑ ΣΤΟ ΛΟΝΔΙΝΟ-ΑΥΡΙΟ ΣΤΗΝ ΑΘΗΝΑ: ΕΠΙΘΕΣΗ Α...  ...           142\n",
              "1086  Είδηση σοκ: γυναίκα υποστηρίζει πως έμεινε έγκ...  ...           115\n",
              "\n",
              "[907 rows x 8 columns]"
            ]
          },
          "metadata": {},
          "execution_count": 140
        }
      ]
    },
    {
      "cell_type": "code",
      "metadata": {
        "id": "475sdsablyyC"
      },
      "source": [
        "from collections import Counter\n",
        "\n",
        "wd_counts = Counter()\n",
        "for i, row in data.iterrows():\n",
        "    wd_counts.update(row['tokenized_body'].split())"
      ],
      "execution_count": null,
      "outputs": []
    },
    {
      "cell_type": "code",
      "metadata": {
        "id": "lXa-ePZUISWe"
      },
      "source": [
        "import spacy\n",
        "nlp = spacy.load('el_core_news_lg')\n",
        "gr_stop_words = nlp.Defaults.stop_words"
      ],
      "execution_count": null,
      "outputs": []
    },
    {
      "cell_type": "code",
      "metadata": {
        "colab": {
          "base_uri": "https://localhost:8080/"
        },
        "id": "GvJUUqp3oBcv",
        "outputId": "aedb83c4-f58d-4c8b-8b78-d59f007b0cce"
      },
      "source": [
        "type(gr_stop_words)"
      ],
      "execution_count": null,
      "outputs": [
        {
          "output_type": "execute_result",
          "data": {
            "text/plain": [
              "set"
            ]
          },
          "metadata": {},
          "execution_count": 143
        }
      ]
    },
    {
      "cell_type": "code",
      "metadata": {
        "id": "finSjNRFSkZZ"
      },
      "source": [
        "gr_stop_words.update(['σας', 'μας', 'στις', 'της', 'τους', 'τη', 'μας', 'στα', 'στις', 'στους', 'την', 'από', 'ή', 'είναι', 'ότι', 'ένα', 'μια', 'αυτό', 'έχει', 'έχουν', 'είχε', 'έχουν', 'ως', 'όταν', 'καθώς', 'κι'])"
      ],
      "execution_count": null,
      "outputs": []
    },
    {
      "cell_type": "code",
      "metadata": {
        "id": "ceGC65MeA4Wa"
      },
      "source": [
        "for sw in gr_stop_words:\n",
        "    del wd_counts[sw]"
      ],
      "execution_count": null,
      "outputs": []
    },
    {
      "cell_type": "code",
      "metadata": {
        "colab": {
          "base_uri": "https://localhost:8080/"
        },
        "id": "ZbPg5fDVA9j0",
        "outputId": "a1bc8fba-e3c7-4280-ffdd-d3567697f420"
      },
      "source": [
        "wd_counts.most_common(40)"
      ],
      "execution_count": null,
      "outputs": [
        {
          "output_type": "execute_result",
          "data": {
            "text/plain": [
              "[('ελλάδα', 329),\n",
              " ('χρόνια', 299),\n",
              " ('χώρα', 271),\n",
              " ('περιοχή', 261),\n",
              " ('υπάρχουν', 212),\n",
              " ('πληροφορίες', 191),\n",
              " ('βίντεο', 187),\n",
              " ('ηπα', 184),\n",
              " ('αναφέρει', 181),\n",
              " ('σήμερα', 180),\n",
              " ('ελληνική', 180),\n",
              " ('ζωή', 180),\n",
              " ('νέα', 173),\n",
              " ('ώρα', 172),\n",
              " ('γίνει', 170),\n",
              " ('τρόπο', 165),\n",
              " ('κόσμο', 164),\n",
              " ('τουρκία', 159),\n",
              " ('βρίσκεται', 157),\n",
              " ('δείτε', 155),\n",
              " ('αποτέλεσμα', 152),\n",
              " ('σύστημα', 152),\n",
              " ('φαίνεται', 151),\n",
              " ('ευρώ', 149),\n",
              " ('στιγμή', 148),\n",
              " ('παιδιά', 146),\n",
              " ('φορά', 142),\n",
              " ('σημείο', 140),\n",
              " ('κυβέρνηση', 139),\n",
              " ('μεγάλη', 139),\n",
              " ('αρχές', 139),\n",
              " ('επιστήμονες', 133),\n",
              " ('καρκίνο', 133),\n",
              " ('χώρας', 132),\n",
              " ('στοιχεία', 130),\n",
              " ('άνθρωποι', 130),\n",
              " ('βάση', 129),\n",
              " ('σπίτι', 126),\n",
              " ('φορές', 125),\n",
              " ('θέση', 124)]"
            ]
          },
          "metadata": {},
          "execution_count": 146
        }
      ]
    },
    {
      "cell_type": "code",
      "metadata": {
        "colab": {
          "base_uri": "https://localhost:8080/"
        },
        "id": "OMMUfgk_F15o",
        "outputId": "56b7283e-21f9-4e5b-adfe-25d234039784"
      },
      "source": [
        "data"
      ],
      "execution_count": null,
      "outputs": [
        {
          "output_type": "execute_result",
          "data": {
            "text/html": [
              "<div>\n",
              "<style scoped>\n",
              "    .dataframe tbody tr th:only-of-type {\n",
              "        vertical-align: middle;\n",
              "    }\n",
              "\n",
              "    .dataframe tbody tr th {\n",
              "        vertical-align: top;\n",
              "    }\n",
              "\n",
              "    .dataframe thead th {\n",
              "        text-align: right;\n",
              "    }\n",
              "</style>\n",
              "<table border=\"1\" class=\"dataframe\">\n",
              "  <thead>\n",
              "    <tr style=\"text-align: right;\">\n",
              "      <th></th>\n",
              "      <th>title</th>\n",
              "      <th>link</th>\n",
              "      <th>body</th>\n",
              "      <th>tokenized_title</th>\n",
              "      <th>tokenized_body</th>\n",
              "      <th>num_wds</th>\n",
              "      <th>num_wds_title</th>\n",
              "      <th>uniq_wds_body</th>\n",
              "    </tr>\n",
              "  </thead>\n",
              "  <tbody>\n",
              "    <tr>\n",
              "      <th>0</th>\n",
              "      <td>«Κλείδωσε» η υποψηφιότητα Φουρθιώτη στο πλευρό...</td>\n",
              "      <td>https://www.newsbreak.gr/politiki/181856/kleid...</td>\n",
              "      <td>Όπως όλα δείχνουν, ο Μένιος Φουρθιώτης που ήδη...</td>\n",
              "      <td>κλείδωσε η υποψηφιότητα φουρθιώτη στο πλευρό ...</td>\n",
              "      <td>όπως όλα δείχνουν ο μένιος φουρθιώτης που ήδη ...</td>\n",
              "      <td>210</td>\n",
              "      <td>8</td>\n",
              "      <td>135</td>\n",
              "    </tr>\n",
              "    <tr>\n",
              "      <th>1</th>\n",
              "      <td>Θανάσης Καμηλάρης: “Λαθροδιακινητές ήταν οι κλ...</td>\n",
              "      <td>https://www.pentapostagma.gr/ethnika-themata/e...</td>\n",
              "      <td>Ακούστε τον Θανάση Καμηλάρη – κάτοικο του Δέλτ...</td>\n",
              "      <td>θανάσης καμηλάρης λαθροδιακινητές ήταν οι κλέφ...</td>\n",
              "      <td>ακούστε τον θανάση καμηλάρη κάτοικο του δέλτα ...</td>\n",
              "      <td>21</td>\n",
              "      <td>12</td>\n",
              "      <td>20</td>\n",
              "    </tr>\n",
              "    <tr>\n",
              "      <th>2</th>\n",
              "      <td>Νέο σκάνδαλο με το εμβόλιο της Pfizer: Μειώνου...</td>\n",
              "      <td>https://www.pronews.gr/kosmos/eyropaiki-enosi/...</td>\n",
              "      <td>Ο Ευρωπαϊκός Οργανισμός Φαρμάκων ανακοίνωσε σή...</td>\n",
              "      <td>νέο σκάνδαλο με το εμβόλιο της pfizer μειώνουν...</td>\n",
              "      <td>ο ευρωπαϊκός οργανισμός φαρμάκων ανακοίνωσε σή...</td>\n",
              "      <td>267</td>\n",
              "      <td>19</td>\n",
              "      <td>164</td>\n",
              "    </tr>\n",
              "    <tr>\n",
              "      <th>3</th>\n",
              "      <td>Η ΜΕΓΑΛΥΤΕΡΗ ΑΠΑΤΗ ΣΤΗΝ ΙΣΤΟΡΙΑ ΤΩΝ ΗΠΑ! – ΤΟ ...</td>\n",
              "      <td>https://www.makeleio.gr/εξωφυλλο/Η-ΜΕΓΑΛΥΤΕΡΗ-...</td>\n",
              "      <td>Διαβάστε το άρθρο του Αμερικανού οικονομολόγου...</td>\n",
              "      <td>η μεγαλυτερη απατη στην ιστορια των ηπα το λογ...</td>\n",
              "      <td>διαβάστε το άρθρο του αμερικανού οικονομολόγου...</td>\n",
              "      <td>967</td>\n",
              "      <td>39</td>\n",
              "      <td>492</td>\n",
              "    </tr>\n",
              "    <tr>\n",
              "      <th>4</th>\n",
              "      <td>Συγκλονιστικό βίντεο: Αρμένιος στρατιώτης αναφ...</td>\n",
              "      <td>https://www.pronews.gr/amyna-asfaleia/enoples-...</td>\n",
              "      <td>Ενα συγκλονιστικό βίντεο που δείχνει Αρμένιο σ...</td>\n",
              "      <td>συγκλονιστικό βίντεο αρμένιος στρατιώτης αναφέ...</td>\n",
              "      <td>ενα συγκλονιστικό βίντεο που δείχνει αρμένιο σ...</td>\n",
              "      <td>108</td>\n",
              "      <td>12</td>\n",
              "      <td>88</td>\n",
              "    </tr>\n",
              "    <tr>\n",
              "      <th>...</th>\n",
              "      <td>...</td>\n",
              "      <td>...</td>\n",
              "      <td>...</td>\n",
              "      <td>...</td>\n",
              "      <td>...</td>\n",
              "      <td>...</td>\n",
              "      <td>...</td>\n",
              "      <td>...</td>\n",
              "    </tr>\n",
              "    <tr>\n",
              "      <th>1082</th>\n",
              "      <td>Μαγνητική καταιγίδα «χτυπάει» σήμερα την Ελλάδα</td>\n",
              "      <td>https://www.newsbomb.gr/bombplus/texnologia/st...</td>\n",
              "      <td>Το φαινόμενο αποτελεί ουσιαστικά την κατάληξη ...</td>\n",
              "      <td>μαγνητική καταιγίδα χτυπάει σήμερα την ελλάδα</td>\n",
              "      <td>το φαινόμενο αποτελεί ουσιαστικά την κατάληξη ...</td>\n",
              "      <td>289</td>\n",
              "      <td>6</td>\n",
              "      <td>195</td>\n",
              "    </tr>\n",
              "    <tr>\n",
              "      <th>1083</th>\n",
              "      <td>Τέλος στις χημειοθεραπείες! Νέος τρόπος καταπο...</td>\n",
              "      <td>https://www.briefingnews.gr/node/128379Ω</td>\n",
              "      <td>Αφού επί σειρά ετών ο κόσμος γνώριζε ότι η χημ...</td>\n",
              "      <td>τέλος στις χημειοθεραπείες νέος τρόπος καταπολ...</td>\n",
              "      <td>αφού επί σειρά ετών ο κόσμος γνώριζε ότι η χημ...</td>\n",
              "      <td>939</td>\n",
              "      <td>8</td>\n",
              "      <td>484</td>\n",
              "    </tr>\n",
              "    <tr>\n",
              "      <th>1084</th>\n",
              "      <td>ΣΗΜΕΡΑ ΣΤΟ ΛΟΝΔΙΝΟ-ΑΥΡΙΟ ΣΤΗΝ ΑΘΗΝΑ: ΕΠΙΘΕΣΗ Α...</td>\n",
              "      <td>https://www.stoxos.gr/2013/08/blog-post_8374.html</td>\n",
              "      <td>Ιδού τι αναφέρει σχετικά η βρετανική Mail Onli...</td>\n",
              "      <td>σημερα στο λονδινοαυριο στην αθηνα επιθεση αφρ...</td>\n",
              "      <td>ιδού τι αναφέρει σχετικά η βρετανική mail onli...</td>\n",
              "      <td>219</td>\n",
              "      <td>18</td>\n",
              "      <td>142</td>\n",
              "    </tr>\n",
              "    <tr>\n",
              "      <th>1085</th>\n",
              "      <td>Πανικός στη Θεσσαλονίκη: Αυτή είναι η 22χρονη ...</td>\n",
              "      <td>https://www.inewsgr.com/200/panikos-sti-thessa...</td>\n",
              "      <td>Δεν υπάρχουν λόγια. Σοφός ο λαός μας έλεγε πάν...</td>\n",
              "      <td>πανικός στη θεσσαλονίκη αυτή είναι η 22χρονη φ...</td>\n",
              "      <td>δεν υπάρχουν λόγια σοφός ο λαός μας έλεγε πάντ...</td>\n",
              "      <td>56</td>\n",
              "      <td>14</td>\n",
              "      <td>49</td>\n",
              "    </tr>\n",
              "    <tr>\n",
              "      <th>1086</th>\n",
              "      <td>Είδηση σοκ: γυναίκα υποστηρίζει πως έμεινε έγκ...</td>\n",
              "      <td>https://www.queen.gr/life/daily-info/story/807...</td>\n",
              "      <td>Τι άλλο θα ακούσουμε.  Όσο τρελό και αν σας φα...</td>\n",
              "      <td>είδηση σοκ γυναίκα υποστηρίζει πως έμεινε έγκυ...</td>\n",
              "      <td>τι άλλο θα ακούσουμε όσο τρελό και αν σας φαίν...</td>\n",
              "      <td>153</td>\n",
              "      <td>10</td>\n",
              "      <td>115</td>\n",
              "    </tr>\n",
              "  </tbody>\n",
              "</table>\n",
              "<p>1087 rows × 8 columns</p>\n",
              "</div>"
            ],
            "text/plain": [
              "                                                  title  ... uniq_wds_body\n",
              "0     «Κλείδωσε» η υποψηφιότητα Φουρθιώτη στο πλευρό...  ...           135\n",
              "1     Θανάσης Καμηλάρης: “Λαθροδιακινητές ήταν οι κλ...  ...            20\n",
              "2     Νέο σκάνδαλο με το εμβόλιο της Pfizer: Μειώνου...  ...           164\n",
              "3     Η ΜΕΓΑΛΥΤΕΡΗ ΑΠΑΤΗ ΣΤΗΝ ΙΣΤΟΡΙΑ ΤΩΝ ΗΠΑ! – ΤΟ ...  ...           492\n",
              "4     Συγκλονιστικό βίντεο: Αρμένιος στρατιώτης αναφ...  ...            88\n",
              "...                                                 ...  ...           ...\n",
              "1082    Μαγνητική καταιγίδα «χτυπάει» σήμερα την Ελλάδα  ...           195\n",
              "1083  Τέλος στις χημειοθεραπείες! Νέος τρόπος καταπο...  ...           484\n",
              "1084  ΣΗΜΕΡΑ ΣΤΟ ΛΟΝΔΙΝΟ-ΑΥΡΙΟ ΣΤΗΝ ΑΘΗΝΑ: ΕΠΙΘΕΣΗ Α...  ...           142\n",
              "1085  Πανικός στη Θεσσαλονίκη: Αυτή είναι η 22χρονη ...  ...            49\n",
              "1086  Είδηση σοκ: γυναίκα υποστηρίζει πως έμεινε έγκ...  ...           115\n",
              "\n",
              "[1087 rows x 8 columns]"
            ]
          },
          "metadata": {},
          "execution_count": 147
        }
      ]
    },
    {
      "cell_type": "code",
      "metadata": {
        "id": "dVjzSNBcFNy-"
      },
      "source": [
        "pat = r'\\b(?:{})\\b'.format('|'.join(gr_stop_words))\n",
        "data['without_stopwords'] = data['tokenized_body'].str.replace(pat, '')\n",
        "data['without_stopwords'] = data['without_stopwords'].str.replace(r'\\s+', ' ')"
      ],
      "execution_count": null,
      "outputs": []
    },
    {
      "cell_type": "code",
      "metadata": {
        "id": "v9NzMlqfCNMN",
        "colab": {
          "base_uri": "https://localhost:8080/"
        },
        "outputId": "a33af60a-911d-4074-8eca-50539280ed74"
      },
      "source": [
        "data['without_stopwords'][2]"
      ],
      "execution_count": null,
      "outputs": [
        {
          "output_type": "execute_result",
          "data": {
            "application/vnd.google.colaboratory.intrinsic+json": {
              "type": "string"
            },
            "text/plain": [
              "' ευρωπαϊκός οργανισμός φαρμάκων ανακοίνωσε σήμερα μεσημέρι δόση φιαλίδιο εμβολίου pfizerbiontech μειωθεί 20 αποτέλεσμα φαινομενικά αυξήσει 20 αριθμό δυνητικά εμβολιασμένων πολιτών προκύπτουν κρίσιμα ερωτήματα δόση εμβολίου λάστιχο αυξομειώνει 20 δοσολογία παρενέργειες μειώνοντας επίπεδο ανοσίας ανακοίνωση σημαίνει έλαβαν δόση εμβολίου pfizerbiontech 20 υπερέβαιναν ελάχιστο αποτελεσματικό όριο αιτία προκλήθηκαν παρενέργειες εμβόλιο κιμάς χασάπη ζητάς κόψει κιλό βγαίνει 1200 λες άστο ερωτήματα κρίσιμα απαντάει απλά εκδίδουν ανακοινώσει καλούν κόσμο εμβολιαστεί αναγνωρίζουν παρενέργειες απαντούν ερώτημα ανοσίας παρέχει εμβόλιο 20 δόση έκανα πρωτοετής φοιτητής ιατρικής γνωρίζει 20 υπερδόση φαρμάκου σκοτώσει έκανα ασθενή προκαλέσει σοβαρές παρενέργειες προφανώς λεπτομέρειες όποιους αποφασίζουν τύχη ανθρώπων ανακοίνωση ευρωπαϊκού οργανισμού φαρμάκων φωτογραφία χίλιες λέξεις ακολούθησε pronewsgr instagram δεις πραγματικό κόσμο επιτροπή φαρμάκων ανθρώπινη χρήση chmp ema συνιστά επικαιροποίηση πληροφοριών προϊόν comirnaty διευκρινίσει φιαλίδιο περιέχει 6 δόσεις εμβολίου αναφέρει ανακοίνωσή ευρωπαϊκή ρυθμιστική αρχή'"
            ]
          },
          "metadata": {},
          "execution_count": 149
        }
      ]
    },
    {
      "cell_type": "code",
      "metadata": {
        "id": "DheTs4cBgfEq"
      },
      "source": [
        "text_body = \" \".join(words for words in data.without_stopwords)"
      ],
      "execution_count": null,
      "outputs": []
    },
    {
      "cell_type": "code",
      "metadata": {
        "colab": {
          "base_uri": "https://localhost:8080/"
        },
        "id": "OhCr614smXB8",
        "outputId": "a827bb81-f8c5-412f-bfb3-f63b9020bd22"
      },
      "source": [
        "len(text_body)"
      ],
      "execution_count": null,
      "outputs": [
        {
          "output_type": "execute_result",
          "data": {
            "text/plain": [
              "1271711"
            ]
          },
          "metadata": {},
          "execution_count": 151
        }
      ]
    },
    {
      "cell_type": "code",
      "metadata": {
        "colab": {
          "base_uri": "https://localhost:8080/"
        },
        "id": "1OoAFA34nLY1",
        "outputId": "f7212e12-e9e0-473b-eeee-11bff0f47519"
      },
      "source": [
        "from os import path, getcwd\n",
        "from PIL import Image\n",
        "import numpy as np\n",
        "import matplotlib.pyplot as plt\n",
        "from wordcloud import WordCloud, ImageColorGenerator\n",
        "\n",
        "from wordcloud import WordCloud, STOPWORDS\n",
        "\n",
        "d = getcwd()\n",
        "w_stopwords = gr_stop_words\n",
        "w_stopwords.update(['δήλωσε','κάνει','είπε','κάνουν','βρίσκονται','δύο','υπάρχει', 'λέει','σύμφωνα'])\n",
        "\n",
        "## image from PublicDomainPictures.net\n",
        "## http://www.publicdomainpictures.net/view-image.php?image=232185&picture=family-gathering\n",
        "mask = np.array(Image.open(path.join(d, \"news.jpg\")))\n",
        "wc = WordCloud(stopwords = w_stopwords, background_color=\"white\", max_words=1000, mask=mask,\n",
        "               max_font_size=90, random_state=42)\n",
        "wc.generate(text_body)\n",
        "# create coloring from image\n",
        "image_colors = ImageColorGenerator(mask)\n",
        "plt.figure(figsize=[13,13])\n",
        "plt.imshow(wc.recolor(color_func=image_colors), interpolation=\"bilinear\")\n",
        "plt.axis(\"off\")\n",
        "_=plt.show()"
      ],
      "execution_count": null,
      "outputs": [
        {
          "output_type": "display_data",
          "data": {
            "image/png": "[encoded data removed]",
            "text/plain": [
              "<Figure size 936x936 with 1 Axes>"
            ]
          },
          "metadata": {
            "needs_background": "light"
          }
        }
      ]
    },
    {
      "cell_type": "markdown",
      "metadata": {
        "id": "DKazEbaIX9ky"
      },
      "source": [
        "# **Αρχικά δοκιμάζω να κάνω sentiment analysis με lemmatization**"
      ]
    },
    {
      "cell_type": "code",
      "metadata": {
        "id": "SZCEuRzGWVV4"
      },
      "source": [
        "data['lemmatized_body'] = data['without_stopwords'].apply(lambda row: \" \".join([w.lemma_ for w in nlp(row)]))"
      ],
      "execution_count": null,
      "outputs": []
    },
    {
      "cell_type": "code",
      "metadata": {
        "colab": {
          "base_uri": "https://localhost:8080/"
        },
        "id": "b-P82dWdWypH",
        "outputId": "3db091c3-48b0-4194-ad6f-39392c4e590e"
      },
      "source": [
        "data['lemmatized_body'][10]"
      ],
      "execution_count": null,
      "outputs": [
        {
          "output_type": "execute_result",
          "data": {
            "application/vnd.google.colaboratory.intrinsic+json": {
              "type": "string"
            },
            "text/plain": [
              "'βουλγαρικό δημοσίευμα αναφέρω κοπέλα φωτογραφία αριστερά τράβηξε σκανδαλώδεις φωτογραφία πρωθυπουργός χώρα μπόικος μπορίσοφ φωτογραφία βρέθηκε νεκρός σπασμένος λαιμός σαντορίνη φιλιππούπολης συγκεκριμένα βουλγαρικός ιστοσελίδα αληθινά νέος αναφέρω κοπέλα τράβηξε φωτογραφία πρωθυπουργός βουλγαρίας μπόικο μπορίσοφ δωμάτιό ράβδος χρυσός δέσμη χαρτονομισμάτας ευρώ όπλο βρέθηκε νεκρός διδάσκω αρχαίος τραγωδίας κοροναϊός είδησης αναδημοσιεύω ενημέρωση βόρειας μακεδονία βέτσερ αναφέρω κοπέλα κατάγομαι φιλιππούπολης βρέθηκε νεκρός σπασμένος λαιμό σαντορίνη 20 ιουλίος προκάλεσαν εντύπωση φωτογραφία δημοσιευθώ κοινωνικός δικτύωση βουλγαρίας βόρειας μακεδονία προκάλεσαν ιδιαίτερη εντύπωση γεγονός βούλγαρος πρωθυπουργός κοιμάμαι δέσμη χαρτονομισμάτας περίστροφός κομοδίνο'"
            ]
          },
          "metadata": {},
          "execution_count": 154
        }
      ]
    },
    {
      "cell_type": "code",
      "metadata": {
        "colab": {
          "base_uri": "https://localhost:8080/",
          "height": 202
        },
        "id": "WmwTXFJ9Xwas",
        "outputId": "56e72b62-c980-4d75-d2de-52023a263b2e"
      },
      "source": [
        "filepath = \"https://raw.githubusercontent.com/datajour-gr/Data_journalism/master/week10/NRC_GREEK_Translated_6_2020.csv\"\n",
        "emolex_df = pd.read_csv(filepath)\n",
        "emolex_df.head()\n",
        "emolex_df.tail()\n",
        "emolex_df = emolex_df.drop_duplicates(subset=['word'])\n",
        "emolex_df = emolex_df.dropna()\n",
        "emolex_df.reset_index(inplace = True)\n",
        "emolex_df.tail()"
      ],
      "execution_count": null,
      "outputs": [
        {
          "output_type": "execute_result",
          "data": {
            "text/html": [
              "<div>\n",
              "<style scoped>\n",
              "    .dataframe tbody tr th:only-of-type {\n",
              "        vertical-align: middle;\n",
              "    }\n",
              "\n",
              "    .dataframe tbody tr th {\n",
              "        vertical-align: top;\n",
              "    }\n",
              "\n",
              "    .dataframe thead th {\n",
              "        text-align: right;\n",
              "    }\n",
              "</style>\n",
              "<table border=\"1\" class=\"dataframe\">\n",
              "  <thead>\n",
              "    <tr style=\"text-align: right;\">\n",
              "      <th></th>\n",
              "      <th>index</th>\n",
              "      <th>word</th>\n",
              "      <th>Positive</th>\n",
              "      <th>Negative</th>\n",
              "      <th>Anger</th>\n",
              "      <th>Anticipation</th>\n",
              "      <th>Disgust</th>\n",
              "      <th>Fear</th>\n",
              "      <th>Joy</th>\n",
              "      <th>Sadness</th>\n",
              "      <th>Surprise</th>\n",
              "      <th>Trust</th>\n",
              "    </tr>\n",
              "  </thead>\n",
              "  <tbody>\n",
              "    <tr>\n",
              "      <th>13156</th>\n",
              "      <td>13166</td>\n",
              "      <td>ουρλιασμα</td>\n",
              "      <td>0.0</td>\n",
              "      <td>1.0</td>\n",
              "      <td>1.0</td>\n",
              "      <td>0.0</td>\n",
              "      <td>0.0</td>\n",
              "      <td>1.0</td>\n",
              "      <td>0.0</td>\n",
              "      <td>0.0</td>\n",
              "      <td>1.0</td>\n",
              "      <td>0.0</td>\n",
              "    </tr>\n",
              "    <tr>\n",
              "      <th>13157</th>\n",
              "      <td>13167</td>\n",
              "      <td>κροκος αυγου</td>\n",
              "      <td>0.0</td>\n",
              "      <td>0.0</td>\n",
              "      <td>0.0</td>\n",
              "      <td>0.0</td>\n",
              "      <td>0.0</td>\n",
              "      <td>0.0</td>\n",
              "      <td>0.0</td>\n",
              "      <td>0.0</td>\n",
              "      <td>0.0</td>\n",
              "      <td>0.0</td>\n",
              "    </tr>\n",
              "    <tr>\n",
              "      <th>13158</th>\n",
              "      <td>13168</td>\n",
              "      <td>νεοτερος</td>\n",
              "      <td>1.0</td>\n",
              "      <td>0.0</td>\n",
              "      <td>0.0</td>\n",
              "      <td>0.0</td>\n",
              "      <td>0.0</td>\n",
              "      <td>0.0</td>\n",
              "      <td>0.0</td>\n",
              "      <td>0.0</td>\n",
              "      <td>0.0</td>\n",
              "      <td>0.0</td>\n",
              "    </tr>\n",
              "    <tr>\n",
              "      <th>13159</th>\n",
              "      <td>13169</td>\n",
              "      <td>ζεφυρος</td>\n",
              "      <td>0.0</td>\n",
              "      <td>0.0</td>\n",
              "      <td>0.0</td>\n",
              "      <td>0.0</td>\n",
              "      <td>0.0</td>\n",
              "      <td>0.0</td>\n",
              "      <td>0.0</td>\n",
              "      <td>0.0</td>\n",
              "      <td>0.0</td>\n",
              "      <td>0.0</td>\n",
              "    </tr>\n",
              "    <tr>\n",
              "      <th>13160</th>\n",
              "      <td>13170</td>\n",
              "      <td>ζουμ</td>\n",
              "      <td>0.0</td>\n",
              "      <td>0.0</td>\n",
              "      <td>0.0</td>\n",
              "      <td>0.0</td>\n",
              "      <td>0.0</td>\n",
              "      <td>0.0</td>\n",
              "      <td>0.0</td>\n",
              "      <td>0.0</td>\n",
              "      <td>0.0</td>\n",
              "      <td>0.0</td>\n",
              "    </tr>\n",
              "  </tbody>\n",
              "</table>\n",
              "</div>"
            ],
            "text/plain": [
              "       index          word  Positive  Negative  ...  Joy  Sadness  Surprise  Trust\n",
              "13156  13166     ουρλιασμα       0.0       1.0  ...  0.0      0.0       1.0    0.0\n",
              "13157  13167  κροκος αυγου       0.0       0.0  ...  0.0      0.0       0.0    0.0\n",
              "13158  13168      νεοτερος       1.0       0.0  ...  0.0      0.0       0.0    0.0\n",
              "13159  13169       ζεφυρος       0.0       0.0  ...  0.0      0.0       0.0    0.0\n",
              "13160  13170          ζουμ       0.0       0.0  ...  0.0      0.0       0.0    0.0\n",
              "\n",
              "[5 rows x 12 columns]"
            ]
          },
          "metadata": {},
          "execution_count": 155
        }
      ]
    },
    {
      "cell_type": "code",
      "metadata": {
        "id": "plqvsM1uYZLN"
      },
      "source": [
        "from sklearn.feature_extraction.text import CountVectorizer\n",
        "vec = CountVectorizer(analyzer = 'word', vocabulary = emolex_df.word, \n",
        "                      strip_accents = 'unicode',  \n",
        "                      stop_words= nlp.Defaults.stop_words,\n",
        "                      ngram_range=(1, 2))"
      ],
      "execution_count": null,
      "outputs": []
    },
    {
      "cell_type": "code",
      "metadata": {
        "id": "kvb8FgT4ZEja",
        "colab": {
          "base_uri": "https://localhost:8080/"
        },
        "outputId": "28f74bc8-56ce-495e-e3ad-47b200ec3d6d"
      },
      "source": [
        "matrix = vec.fit_transform(data['lemmatized_body'])\n",
        "vocab = vec.get_feature_names()\n",
        "wordcount_df = pd.DataFrame(matrix.toarray(), columns=vocab)\n",
        "wordcount_df.head()"
      ],
      "execution_count": null,
      "outputs": [
        {
          "output_type": "stream",
          "text": [
            "/usr/local/lib/python3.7/dist-packages/sklearn/feature_extraction/text.py:385: UserWarning: Your stop_words may be inconsistent with your preprocessing. Tokenizing the stop words generated tokens ['αδιακοπα', 'ακομα', 'ακομη', 'ακριβως', 'αλλα', 'αλλαχου', 'αλλες', 'αλλη', 'αλλην', 'αλλης', 'αλλιως', 'αλλιωτικα', 'αλλο', 'αλλοι', 'αλλοιως', 'αλλοιωτικα', 'αλλον', 'αλλος', 'αλλοτε', 'αλλου', 'αλλους', 'αλλων', 'αμα', 'αμεσα', 'αμεσως', 'ανα', 'αναμεσα', 'αναμεταξυ', 'ανευ', 'αντι', 'αντιπερα', 'αντις', 'ανω', 'ανωτερω', 'αξαφνα', 'απεναντι', 'απο', 'αποψε', 'αρα', 'αραγε', 'αρκετα', 'αρκετες', 'αρχικα', 'αυριο', 'αυτα', 'αυτες', 'αυτη', 'αυτην', 'αυτης', 'αυτο', 'αυτοι', 'αυτον', 'αυτος', 'αυτου', 'αυτους', 'αυτων', 'αφοτου', 'αφου', 'βεβαια', 'βεβαιοτατα', 'βρισκονται', 'γιατι', 'γρηγορα', 'γυρω', 'δεινα', 'δεξια', 'δηθεν', 'δηλαδη', 'δηλωσε', 'διαρκως', 'δικα', 'δικο', 'δικοι', 'δικος', 'δικου', 'δικους', 'διολου', 'διπλα', 'διχως', 'δυο', 'εαν', 'εαυτο', 'εαυτον', 'εαυτου', 'εαυτους', 'εαυτων', 'εγιναν', 'εγινε', 'εγκαιρα', 'εγκαιρως', 'εγω', 'εδω', 'ειδεμη', 'ειθε', 'ειμαι', 'ειμαστε', 'ειναι', 'ειπε', 'εισαι', 'εισαστε', 'ειστε', 'ειτε', 'ειχα', 'ειχαμε', 'ειχαν', 'ειχατε', 'ειχε', 'ειχες', 'εκανε', 'εκαστα', 'εκαστες', 'εκαστη', 'εκαστην', 'εκαστης', 'εκαστο', 'εκαστοι', 'εκαστον', 'εκαστος', 'εκαστου', 'εκαστους', 'εκαστων', 'εκει', 'εκεινα', 'εκεινες', 'εκεινη', 'εκεινην', 'εκεινης', 'εκεινο', 'εκεινοι', 'εκεινον', 'εκεινος', 'εκεινου', 'εκεινους', 'εκεινων', 'εκτος', 'εμας', 'εμεις', 'εμενα', 'εμπρος', 'ενα', 'εναν', 'εναντιον', 'ενας', 'ενος', 'εντελως', 'εντος', 'εντωμεταξυ', 'ενω', 'εξαιτιας', 'εξαφνα', 'εξης', 'εξησ', 'εξι', 'εξισου', 'εξω', 'επανω', 'επειδη', 'επειτα', 'επι', 'επιπλεον', 'επισης', 'επομενη', 'επομενως', 'εσας', 'εσεις', 'εσενα', 'εστω', 'εσυ', 'ετερα', 'ετεραι', 'ετερας', 'ετερες', 'ετερη', 'ετερης', 'ετερο', 'ετεροι', 'ετερον', 'ετερος', 'ετερου', 'ετερους', 'ετερων', 'ετουτα', 'ετουτες', 'ετουτη', 'ετουτην', 'ετουτης', 'ετουτο', 'ετουτοι', 'ετουτον', 'ετουτος', 'ετουτου', 'ετουτους', 'ετουτων', 'ετσι', 'ευγε', 'ευθυς', 'ευτυχως', 'εφεξης', 'εχει', 'εχεις', 'εχετε', 'εχομε', 'εχοντας', 'εχουμε', 'εχουν', 'εχτες', 'εχω', 'εως', 'ηδη', 'ημασταν', 'ημαστε', 'ημουν', 'ησασταν', 'ησαστε', 'ησουν', 'ηταν', 'ητανε', 'ητοι', 'ηττον', 'ιδια', 'ιδιαν', 'ιδιας', 'ιδιες', 'ιδιο', 'ιδιοι', 'ιδιον', 'ιδιος', 'ιδιοσ', 'ιδιου', 'ιδιους', 'ιδιων', 'ιδιως', 'ισαμε', 'ισια', 'ισως', 'καθε', 'καθεμια', 'καθεμιας', 'καθενα', 'καθενας', 'καθενος', 'καθετι', 'καθολου', 'καθως', 'κακα', 'κακως', 'καλα', 'καλως', 'καμια', 'καμιαν', 'καμιας', 'καμποσα', 'καμποσες', 'καμποση', 'καμποσην', 'καμποσης', 'καμποσο', 'καμποσοι', 'καμποσον', 'καμποσος', 'καμποσου', 'καμποσους', 'καμποσων', 'κανει', 'κανεις', 'κανεν', 'κανενα', 'κανεναν', 'κανενας', 'κανενος', 'κανουν', 'καποια', 'καποιαν', 'καποιας', 'καποιες', 'καποιο', 'καποιοι', 'καποιον', 'καποιος', 'καποιου', 'καποιους', 'καποιων', 'καποτε', 'καπου', 'καπως', 'κατα', 'κατι', 'κατιτι', 'κατοπιν', 'κατω', 'κιολας', 'κοντα', 'κυριως', 'λεει', 'λιγακι', 'λιγο', 'λιγοτερο', 'λογω', 'λοιπα', 'λοιπον', 'μαζι', 'μακαρι', 'μακρυα', 'μαλιστα', 'μαλλον', 'μεθαυριο', 'μειον', 'μελει', 'μελλεται', 'μεμιας', 'μερικα', 'μερικες', 'μερικοι', 'μερικους', 'μερικων', 'μεσα', 'μεσω', 'μετα', 'μεταξυ', 'μεχρι', 'μηδε', 'μηπως', 'μητε', 'μολις', 'μολονοτι', 'μοναχα', 'μονες', 'μονη', 'μονην', 'μονης', 'μονο', 'μονοι', 'μονομιας', 'μονος', 'μονου', 'μονους', 'μονων', 'μπορει', 'μπορουν', 'νωρις', 'ξανα', 'ξαφνικα', 'ολα', 'ολες', 'ολη', 'ολην', 'ολης', 'ολο', 'ολογυρα', 'ολοι', 'ολον', 'ολονεν', 'ολος', 'ολοτελα', 'ολου', 'ολους', 'ολων', 'ολως', 'ολωσδιολου', 'ομως', 'οποια', 'οποιαδηποτε', 'οποιαν', 'οποιανδηποτε', 'οποιας', 'οποιασδηποτε', 'οποιδηποτε', 'οποιες', 'οποιεσδηποτε', 'οποιο', 'οποιοδηηποτε', 'οποιοι', 'οποιον', 'οποιονδηποτε', 'οποιος', 'οποιοσδηποτε', 'οποιου', 'οποιουδηποτε', 'οποιους', 'οποιουσδηποτε', 'οποιων', 'οποιωνδηποτε', 'οποτε', 'οποτεδηποτε', 'οπου', 'οπουδηποτε', 'οπως', 'ορισμενα', 'ορισμενες', 'ορισμενων', 'ορισμενως', 'οσα', 'οσαδηποτε', 'οσες', 'οσεσδηποτε', 'οση', 'οσηδηποτε', 'οσην', 'οσηνδηποτε', 'οσης', 'οσησδηποτε', 'οσο', 'οσοδηποτε', 'οσοι', 'οσοιδηποτε', 'οσον', 'οσονδηποτε', 'οσος', 'οσοσδηποτε', 'οσου', 'οσουδηποτε', 'οσους', 'οσουσδηποτε', 'οσων', 'οσωνδηποτε', 'οταν', 'οτι', 'οτιδηποτε', 'οτου', 'ουδε', 'ουτε', 'οχι', 'παλι', 'παντα', 'παντοτε', 'παντου', 'παντως', 'πανω', 'παρα', 'περα', 'περι', 'περιπου', 'περισσοτερο', 'περσι', 'περυσι', 'πιθανον', 'πισω', 'πλαι', 'πλεον', 'ποια', 'ποιαν', 'ποιας', 'ποιες', 'ποιο', 'ποιοι', 'ποιον', 'ποιος', 'ποιου', 'ποιους', 'ποιων', 'πολλα', 'πολλες', 'πολλοι', 'πολλους', 'πολυ', 'ποσες', 'ποση', 'ποσην', 'ποσης', 'ποσοι', 'ποσος', 'ποσους', 'ποτε', 'πουθε', 'πουθενα', 'πρεπει', 'προκειμενου', 'προκειται', 'προπερσι', 'προτου', 'προχθες', 'προχτες', 'πρωτα', 'πρωτες', 'πρωτη', 'πρωτο', 'πρωτος', 'πρωτυτερα', 'συγχρονως', 'συμφωνα', 'συναμα', 'συνεπως', 'συχνας', 'συχνες', 'συχνη', 'συχνην', 'συχνης', 'συχνο', 'συχνοι', 'συχνον', 'συχνος', 'συχνου', 'συχνους', 'συχνων', 'συχνως', 'σχεδον', 'ταδε', 'ταυτα', 'ταυτες', 'ταυτη', 'ταυτην', 'ταυτης', 'ταυτος', 'ταυτοταυτον', 'ταυτου', 'ταυτων', 'ταχα', 'ταχατε', 'τελευταια', 'τελευταιο', 'τελευταιος', 'τελικα', 'τελικως', 'τετοια', 'τετοιαν', 'τετοιας', 'τετοιες', 'τετοιο', 'τετοιοι', 'τετοιον', 'τετοιος', 'τετοιου', 'τετοιους', 'τετοιων', 'τιποτα', 'τιποτε', 'τοσα', 'τοσες', 'τοση', 'τοσην', 'τοσης', 'τοσο', 'τοσοι', 'τοσον', 'τοσος', 'τοσου', 'τοσους', 'τοσων', 'τοτε', 'τουλαχιστο', 'τουλαχιστον', 'τουτα', 'τουτες', 'τουτη', 'τουτην', 'τουτης', 'τουτο', 'τουτοι', 'τουτοις', 'τουτον', 'τουτος', 'τουτου', 'τουτους', 'τουτων', 'τρια', 'τριτη', 'τυχον', 'τωρα', 'υπαρχει', 'υπερ', 'υπο', 'υποψη', 'υποψιν', 'υστερα', 'χωρις', 'χωριστα', 'ωσαν', 'ωσοτου', 'ωσπου', 'ωστε', 'ωστοσο'] not in stop_words.\n",
            "  'stop_words.' % sorted(inconsistent))\n"
          ],
          "name": "stderr"
        },
        {
          "output_type": "execute_result",
          "data": {
            "text/html": [
              "<div>\n",
              "<style scoped>\n",
              "    .dataframe tbody tr th:only-of-type {\n",
              "        vertical-align: middle;\n",
              "    }\n",
              "\n",
              "    .dataframe tbody tr th {\n",
              "        vertical-align: top;\n",
              "    }\n",
              "\n",
              "    .dataframe thead th {\n",
              "        text-align: right;\n",
              "    }\n",
              "</style>\n",
              "<table border=\"1\" class=\"dataframe\">\n",
              "  <thead>\n",
              "    <tr style=\"text-align: right;\">\n",
              "      <th></th>\n",
              "      <th>αφεση</th>\n",
              "      <th>ενορκη βεβαιωση</th>\n",
              "      <th>εχοντας</th>\n",
              "      <th>εχω</th>\n",
              "      <th>οριο</th>\n",
              "      <th>ορμος</th>\n",
              "      <th>υδρα</th>\n",
              "      <th>αγια τραπεζα</th>\n",
              "      <th>αμην</th>\n",
              "      <th>απατσι</th>\n",
              "      <th>αυτοκινητοδρομος</th>\n",
              "      <th>αυγουστος</th>\n",
              "      <th>βερολινο</th>\n",
              "      <th>βικτωρια</th>\n",
              "      <th>βοστωνη</th>\n",
              "      <th>γαμηλιο ταξιδι</th>\n",
              "      <th>γεννηση παιδιου</th>\n",
              "      <th>γαιδαρος</th>\n",
              "      <th>γατα</th>\n",
              "      <th>γερμανος</th>\n",
              "      <th>γιαννης</th>\n",
              "      <th>γνωστοποιηση</th>\n",
              "      <th>γυαλια</th>\n",
              "      <th>διακοπη</th>\n",
              "      <th>διευθυντρια σχολειου</th>\n",
              "      <th>διδυμοι</th>\n",
              "      <th>δεξαμενη</th>\n",
              "      <th>δευτερα παρουσια</th>\n",
              "      <th>δευτερον</th>\n",
              "      <th>δημοκρατια</th>\n",
              "      <th>διαρκεια ζωης</th>\n",
              "      <th>διαδρομη</th>\n",
              "      <th>διαλογισμος</th>\n",
              "      <th>διεθνες</th>\n",
              "      <th>διευθυνσεις</th>\n",
              "      <th>δραμα</th>\n",
              "      <th>εξαρτηση</th>\n",
              "      <th>εξωτερικου χωρου</th>\n",
              "      <th>επικοινωνω</th>\n",
              "      <th>επιπτωσεις</th>\n",
              "      <th>...</th>\n",
              "      <th>καρυδια</th>\n",
              "      <th>ωχρος</th>\n",
              "      <th>ελλειπων</th>\n",
              "      <th>προϊοντα</th>\n",
              "      <th>δικαιολογημενο</th>\n",
              "      <th>ενταλματα</th>\n",
              "      <th>κρεατοελλια</th>\n",
              "      <th>αποτυχημενος</th>\n",
              "      <th>σπαταλω</th>\n",
              "      <th>τροποι</th>\n",
              "      <th>ξεπερασμενο</th>\n",
              "      <th>αδιαβροχος</th>\n",
              "      <th>παντρευομαι</th>\n",
              "      <th>βοτανισμα</th>\n",
              "      <th>χωρις βαρος</th>\n",
              "      <th>παραξενα</th>\n",
              "      <th>καλωσορισατε</th>\n",
              "      <th>κρασπεδο</th>\n",
              "      <th>χελωνι</th>\n",
              "      <th>ηχηρο κτυπημα</th>\n",
              "      <th>απολυτως</th>\n",
              "      <th>πλατυς</th>\n",
              "      <th>ανθρωπινο ον</th>\n",
              "      <th>ανεξελεγκτη πυρκαγια</th>\n",
              "      <th>απροσδοκητα ευρημα</th>\n",
              "      <th>μαραμενο</th>\n",
              "      <th>αλιμονο</th>\n",
              "      <th>επιδεινωνεται</th>\n",
              "      <th>αποσπω βιαια</th>\n",
              "      <th>καρπος του χεριου</th>\n",
              "      <th>κλητηριο ενταλμα</th>\n",
              "      <th>κατειργασμενος</th>\n",
              "      <th>μαγια</th>\n",
              "      <th>κιτρινο</th>\n",
              "      <th>κιτρινιζω</th>\n",
              "      <th>ουρλιασμα</th>\n",
              "      <th>κροκος αυγου</th>\n",
              "      <th>νεοτερος</th>\n",
              "      <th>ζεφυρος</th>\n",
              "      <th>ζουμ</th>\n",
              "    </tr>\n",
              "  </thead>\n",
              "  <tbody>\n",
              "    <tr>\n",
              "      <th>0</th>\n",
              "      <td>0</td>\n",
              "      <td>0</td>\n",
              "      <td>0</td>\n",
              "      <td>0</td>\n",
              "      <td>0</td>\n",
              "      <td>0</td>\n",
              "      <td>0</td>\n",
              "      <td>0</td>\n",
              "      <td>0</td>\n",
              "      <td>0</td>\n",
              "      <td>0</td>\n",
              "      <td>0</td>\n",
              "      <td>0</td>\n",
              "      <td>0</td>\n",
              "      <td>0</td>\n",
              "      <td>0</td>\n",
              "      <td>0</td>\n",
              "      <td>0</td>\n",
              "      <td>0</td>\n",
              "      <td>0</td>\n",
              "      <td>0</td>\n",
              "      <td>0</td>\n",
              "      <td>0</td>\n",
              "      <td>0</td>\n",
              "      <td>0</td>\n",
              "      <td>0</td>\n",
              "      <td>0</td>\n",
              "      <td>0</td>\n",
              "      <td>0</td>\n",
              "      <td>2</td>\n",
              "      <td>0</td>\n",
              "      <td>0</td>\n",
              "      <td>0</td>\n",
              "      <td>0</td>\n",
              "      <td>0</td>\n",
              "      <td>0</td>\n",
              "      <td>0</td>\n",
              "      <td>0</td>\n",
              "      <td>0</td>\n",
              "      <td>0</td>\n",
              "      <td>...</td>\n",
              "      <td>0</td>\n",
              "      <td>0</td>\n",
              "      <td>0</td>\n",
              "      <td>0</td>\n",
              "      <td>0</td>\n",
              "      <td>0</td>\n",
              "      <td>0</td>\n",
              "      <td>0</td>\n",
              "      <td>0</td>\n",
              "      <td>0</td>\n",
              "      <td>0</td>\n",
              "      <td>0</td>\n",
              "      <td>0</td>\n",
              "      <td>0</td>\n",
              "      <td>0</td>\n",
              "      <td>0</td>\n",
              "      <td>0</td>\n",
              "      <td>0</td>\n",
              "      <td>0</td>\n",
              "      <td>0</td>\n",
              "      <td>0</td>\n",
              "      <td>0</td>\n",
              "      <td>0</td>\n",
              "      <td>0</td>\n",
              "      <td>0</td>\n",
              "      <td>0</td>\n",
              "      <td>0</td>\n",
              "      <td>0</td>\n",
              "      <td>0</td>\n",
              "      <td>0</td>\n",
              "      <td>0</td>\n",
              "      <td>0</td>\n",
              "      <td>0</td>\n",
              "      <td>0</td>\n",
              "      <td>0</td>\n",
              "      <td>0</td>\n",
              "      <td>0</td>\n",
              "      <td>0</td>\n",
              "      <td>0</td>\n",
              "      <td>0</td>\n",
              "    </tr>\n",
              "    <tr>\n",
              "      <th>1</th>\n",
              "      <td>0</td>\n",
              "      <td>0</td>\n",
              "      <td>0</td>\n",
              "      <td>0</td>\n",
              "      <td>0</td>\n",
              "      <td>0</td>\n",
              "      <td>0</td>\n",
              "      <td>0</td>\n",
              "      <td>0</td>\n",
              "      <td>0</td>\n",
              "      <td>0</td>\n",
              "      <td>0</td>\n",
              "      <td>0</td>\n",
              "      <td>0</td>\n",
              "      <td>0</td>\n",
              "      <td>0</td>\n",
              "      <td>0</td>\n",
              "      <td>0</td>\n",
              "      <td>0</td>\n",
              "      <td>0</td>\n",
              "      <td>0</td>\n",
              "      <td>0</td>\n",
              "      <td>0</td>\n",
              "      <td>0</td>\n",
              "      <td>0</td>\n",
              "      <td>0</td>\n",
              "      <td>0</td>\n",
              "      <td>0</td>\n",
              "      <td>0</td>\n",
              "      <td>0</td>\n",
              "      <td>0</td>\n",
              "      <td>0</td>\n",
              "      <td>0</td>\n",
              "      <td>0</td>\n",
              "      <td>0</td>\n",
              "      <td>0</td>\n",
              "      <td>0</td>\n",
              "      <td>0</td>\n",
              "      <td>0</td>\n",
              "      <td>0</td>\n",
              "      <td>...</td>\n",
              "      <td>0</td>\n",
              "      <td>0</td>\n",
              "      <td>0</td>\n",
              "      <td>0</td>\n",
              "      <td>0</td>\n",
              "      <td>0</td>\n",
              "      <td>0</td>\n",
              "      <td>0</td>\n",
              "      <td>0</td>\n",
              "      <td>0</td>\n",
              "      <td>0</td>\n",
              "      <td>0</td>\n",
              "      <td>0</td>\n",
              "      <td>0</td>\n",
              "      <td>0</td>\n",
              "      <td>0</td>\n",
              "      <td>0</td>\n",
              "      <td>0</td>\n",
              "      <td>0</td>\n",
              "      <td>0</td>\n",
              "      <td>0</td>\n",
              "      <td>0</td>\n",
              "      <td>0</td>\n",
              "      <td>0</td>\n",
              "      <td>0</td>\n",
              "      <td>0</td>\n",
              "      <td>0</td>\n",
              "      <td>0</td>\n",
              "      <td>0</td>\n",
              "      <td>0</td>\n",
              "      <td>0</td>\n",
              "      <td>0</td>\n",
              "      <td>0</td>\n",
              "      <td>0</td>\n",
              "      <td>0</td>\n",
              "      <td>0</td>\n",
              "      <td>0</td>\n",
              "      <td>0</td>\n",
              "      <td>0</td>\n",
              "      <td>0</td>\n",
              "    </tr>\n",
              "    <tr>\n",
              "      <th>2</th>\n",
              "      <td>0</td>\n",
              "      <td>0</td>\n",
              "      <td>0</td>\n",
              "      <td>0</td>\n",
              "      <td>1</td>\n",
              "      <td>0</td>\n",
              "      <td>0</td>\n",
              "      <td>0</td>\n",
              "      <td>0</td>\n",
              "      <td>0</td>\n",
              "      <td>0</td>\n",
              "      <td>0</td>\n",
              "      <td>0</td>\n",
              "      <td>0</td>\n",
              "      <td>0</td>\n",
              "      <td>0</td>\n",
              "      <td>0</td>\n",
              "      <td>0</td>\n",
              "      <td>0</td>\n",
              "      <td>0</td>\n",
              "      <td>0</td>\n",
              "      <td>0</td>\n",
              "      <td>0</td>\n",
              "      <td>0</td>\n",
              "      <td>0</td>\n",
              "      <td>0</td>\n",
              "      <td>0</td>\n",
              "      <td>0</td>\n",
              "      <td>0</td>\n",
              "      <td>0</td>\n",
              "      <td>0</td>\n",
              "      <td>0</td>\n",
              "      <td>0</td>\n",
              "      <td>0</td>\n",
              "      <td>0</td>\n",
              "      <td>0</td>\n",
              "      <td>0</td>\n",
              "      <td>0</td>\n",
              "      <td>0</td>\n",
              "      <td>0</td>\n",
              "      <td>...</td>\n",
              "      <td>0</td>\n",
              "      <td>0</td>\n",
              "      <td>0</td>\n",
              "      <td>0</td>\n",
              "      <td>0</td>\n",
              "      <td>0</td>\n",
              "      <td>0</td>\n",
              "      <td>0</td>\n",
              "      <td>0</td>\n",
              "      <td>0</td>\n",
              "      <td>0</td>\n",
              "      <td>0</td>\n",
              "      <td>0</td>\n",
              "      <td>0</td>\n",
              "      <td>0</td>\n",
              "      <td>0</td>\n",
              "      <td>0</td>\n",
              "      <td>0</td>\n",
              "      <td>0</td>\n",
              "      <td>0</td>\n",
              "      <td>0</td>\n",
              "      <td>0</td>\n",
              "      <td>0</td>\n",
              "      <td>0</td>\n",
              "      <td>0</td>\n",
              "      <td>0</td>\n",
              "      <td>0</td>\n",
              "      <td>0</td>\n",
              "      <td>0</td>\n",
              "      <td>0</td>\n",
              "      <td>0</td>\n",
              "      <td>0</td>\n",
              "      <td>0</td>\n",
              "      <td>0</td>\n",
              "      <td>0</td>\n",
              "      <td>0</td>\n",
              "      <td>0</td>\n",
              "      <td>0</td>\n",
              "      <td>0</td>\n",
              "      <td>0</td>\n",
              "    </tr>\n",
              "    <tr>\n",
              "      <th>3</th>\n",
              "      <td>0</td>\n",
              "      <td>0</td>\n",
              "      <td>0</td>\n",
              "      <td>0</td>\n",
              "      <td>0</td>\n",
              "      <td>0</td>\n",
              "      <td>0</td>\n",
              "      <td>0</td>\n",
              "      <td>0</td>\n",
              "      <td>0</td>\n",
              "      <td>0</td>\n",
              "      <td>0</td>\n",
              "      <td>0</td>\n",
              "      <td>0</td>\n",
              "      <td>0</td>\n",
              "      <td>0</td>\n",
              "      <td>0</td>\n",
              "      <td>0</td>\n",
              "      <td>0</td>\n",
              "      <td>0</td>\n",
              "      <td>0</td>\n",
              "      <td>0</td>\n",
              "      <td>0</td>\n",
              "      <td>0</td>\n",
              "      <td>0</td>\n",
              "      <td>0</td>\n",
              "      <td>0</td>\n",
              "      <td>0</td>\n",
              "      <td>0</td>\n",
              "      <td>4</td>\n",
              "      <td>0</td>\n",
              "      <td>0</td>\n",
              "      <td>0</td>\n",
              "      <td>0</td>\n",
              "      <td>0</td>\n",
              "      <td>0</td>\n",
              "      <td>0</td>\n",
              "      <td>0</td>\n",
              "      <td>0</td>\n",
              "      <td>0</td>\n",
              "      <td>...</td>\n",
              "      <td>0</td>\n",
              "      <td>0</td>\n",
              "      <td>0</td>\n",
              "      <td>0</td>\n",
              "      <td>0</td>\n",
              "      <td>0</td>\n",
              "      <td>0</td>\n",
              "      <td>0</td>\n",
              "      <td>0</td>\n",
              "      <td>0</td>\n",
              "      <td>0</td>\n",
              "      <td>0</td>\n",
              "      <td>0</td>\n",
              "      <td>0</td>\n",
              "      <td>0</td>\n",
              "      <td>0</td>\n",
              "      <td>0</td>\n",
              "      <td>0</td>\n",
              "      <td>0</td>\n",
              "      <td>0</td>\n",
              "      <td>0</td>\n",
              "      <td>0</td>\n",
              "      <td>0</td>\n",
              "      <td>0</td>\n",
              "      <td>0</td>\n",
              "      <td>0</td>\n",
              "      <td>0</td>\n",
              "      <td>0</td>\n",
              "      <td>0</td>\n",
              "      <td>0</td>\n",
              "      <td>0</td>\n",
              "      <td>0</td>\n",
              "      <td>0</td>\n",
              "      <td>0</td>\n",
              "      <td>0</td>\n",
              "      <td>0</td>\n",
              "      <td>0</td>\n",
              "      <td>0</td>\n",
              "      <td>0</td>\n",
              "      <td>0</td>\n",
              "    </tr>\n",
              "    <tr>\n",
              "      <th>4</th>\n",
              "      <td>0</td>\n",
              "      <td>0</td>\n",
              "      <td>0</td>\n",
              "      <td>0</td>\n",
              "      <td>0</td>\n",
              "      <td>0</td>\n",
              "      <td>0</td>\n",
              "      <td>0</td>\n",
              "      <td>0</td>\n",
              "      <td>0</td>\n",
              "      <td>0</td>\n",
              "      <td>0</td>\n",
              "      <td>0</td>\n",
              "      <td>0</td>\n",
              "      <td>0</td>\n",
              "      <td>0</td>\n",
              "      <td>0</td>\n",
              "      <td>0</td>\n",
              "      <td>0</td>\n",
              "      <td>0</td>\n",
              "      <td>0</td>\n",
              "      <td>0</td>\n",
              "      <td>0</td>\n",
              "      <td>0</td>\n",
              "      <td>0</td>\n",
              "      <td>0</td>\n",
              "      <td>0</td>\n",
              "      <td>0</td>\n",
              "      <td>0</td>\n",
              "      <td>0</td>\n",
              "      <td>0</td>\n",
              "      <td>0</td>\n",
              "      <td>0</td>\n",
              "      <td>0</td>\n",
              "      <td>0</td>\n",
              "      <td>0</td>\n",
              "      <td>0</td>\n",
              "      <td>0</td>\n",
              "      <td>0</td>\n",
              "      <td>0</td>\n",
              "      <td>...</td>\n",
              "      <td>0</td>\n",
              "      <td>0</td>\n",
              "      <td>0</td>\n",
              "      <td>0</td>\n",
              "      <td>0</td>\n",
              "      <td>0</td>\n",
              "      <td>0</td>\n",
              "      <td>0</td>\n",
              "      <td>0</td>\n",
              "      <td>0</td>\n",
              "      <td>0</td>\n",
              "      <td>0</td>\n",
              "      <td>0</td>\n",
              "      <td>0</td>\n",
              "      <td>0</td>\n",
              "      <td>0</td>\n",
              "      <td>0</td>\n",
              "      <td>0</td>\n",
              "      <td>0</td>\n",
              "      <td>0</td>\n",
              "      <td>0</td>\n",
              "      <td>0</td>\n",
              "      <td>0</td>\n",
              "      <td>0</td>\n",
              "      <td>0</td>\n",
              "      <td>0</td>\n",
              "      <td>0</td>\n",
              "      <td>0</td>\n",
              "      <td>0</td>\n",
              "      <td>0</td>\n",
              "      <td>0</td>\n",
              "      <td>0</td>\n",
              "      <td>0</td>\n",
              "      <td>0</td>\n",
              "      <td>0</td>\n",
              "      <td>0</td>\n",
              "      <td>0</td>\n",
              "      <td>0</td>\n",
              "      <td>0</td>\n",
              "      <td>0</td>\n",
              "    </tr>\n",
              "  </tbody>\n",
              "</table>\n",
              "<p>5 rows × 13161 columns</p>\n",
              "</div>"
            ],
            "text/plain": [
              "   αφεση  ενορκη βεβαιωση  εχοντας  εχω  ...  κροκος αυγου  νεοτερος  ζεφυρος  ζουμ\n",
              "0      0                0        0    0  ...             0         0        0     0\n",
              "1      0                0        0    0  ...             0         0        0     0\n",
              "2      0                0        0    0  ...             0         0        0     0\n",
              "3      0                0        0    0  ...             0         0        0     0\n",
              "4      0                0        0    0  ...             0         0        0     0\n",
              "\n",
              "[5 rows x 13161 columns]"
            ]
          },
          "metadata": {},
          "execution_count": 157
        }
      ]
    },
    {
      "cell_type": "code",
      "metadata": {
        "colab": {
          "base_uri": "https://localhost:8080/"
        },
        "id": "YU-Pr6UVZnDh",
        "outputId": "4a3cada6-a1d4-4abc-ed9b-1dad90725bdc"
      },
      "source": [
        "wordcount_df.shape\n"
      ],
      "execution_count": null,
      "outputs": [
        {
          "output_type": "execute_result",
          "data": {
            "text/plain": [
              "(1087, 13161)"
            ]
          },
          "metadata": {},
          "execution_count": 158
        }
      ]
    },
    {
      "cell_type": "code",
      "metadata": {
        "colab": {
          "base_uri": "https://localhost:8080/"
        },
        "id": "UgeuIXAR0hQ4",
        "outputId": "8b21c03b-1eb1-455c-8974-017a7b597a64"
      },
      "source": [
        "emolex_df.head(20)"
      ],
      "execution_count": null,
      "outputs": [
        {
          "output_type": "execute_result",
          "data": {
            "text/html": [
              "<div>\n",
              "<style scoped>\n",
              "    .dataframe tbody tr th:only-of-type {\n",
              "        vertical-align: middle;\n",
              "    }\n",
              "\n",
              "    .dataframe tbody tr th {\n",
              "        vertical-align: top;\n",
              "    }\n",
              "\n",
              "    .dataframe thead th {\n",
              "        text-align: right;\n",
              "    }\n",
              "</style>\n",
              "<table border=\"1\" class=\"dataframe\">\n",
              "  <thead>\n",
              "    <tr style=\"text-align: right;\">\n",
              "      <th></th>\n",
              "      <th>index</th>\n",
              "      <th>word</th>\n",
              "      <th>Positive</th>\n",
              "      <th>Negative</th>\n",
              "      <th>Anger</th>\n",
              "      <th>Anticipation</th>\n",
              "      <th>Disgust</th>\n",
              "      <th>Fear</th>\n",
              "      <th>Joy</th>\n",
              "      <th>Sadness</th>\n",
              "      <th>Surprise</th>\n",
              "      <th>Trust</th>\n",
              "    </tr>\n",
              "  </thead>\n",
              "  <tbody>\n",
              "    <tr>\n",
              "      <th>0</th>\n",
              "      <td>0</td>\n",
              "      <td>αφεση</td>\n",
              "      <td>1.0</td>\n",
              "      <td>0.0</td>\n",
              "      <td>0.0</td>\n",
              "      <td>0.0</td>\n",
              "      <td>0.0</td>\n",
              "      <td>0.0</td>\n",
              "      <td>0.0</td>\n",
              "      <td>0.0</td>\n",
              "      <td>0.0</td>\n",
              "      <td>0.0</td>\n",
              "    </tr>\n",
              "    <tr>\n",
              "      <th>1</th>\n",
              "      <td>1</td>\n",
              "      <td>ενορκη βεβαιωση</td>\n",
              "      <td>0.0</td>\n",
              "      <td>0.0</td>\n",
              "      <td>0.0</td>\n",
              "      <td>0.0</td>\n",
              "      <td>0.0</td>\n",
              "      <td>0.0</td>\n",
              "      <td>0.0</td>\n",
              "      <td>0.0</td>\n",
              "      <td>0.0</td>\n",
              "      <td>0.0</td>\n",
              "    </tr>\n",
              "    <tr>\n",
              "      <th>2</th>\n",
              "      <td>2</td>\n",
              "      <td>εχοντας</td>\n",
              "      <td>0.0</td>\n",
              "      <td>0.0</td>\n",
              "      <td>0.0</td>\n",
              "      <td>0.0</td>\n",
              "      <td>0.0</td>\n",
              "      <td>0.0</td>\n",
              "      <td>0.0</td>\n",
              "      <td>0.0</td>\n",
              "      <td>0.0</td>\n",
              "      <td>0.0</td>\n",
              "    </tr>\n",
              "    <tr>\n",
              "      <th>3</th>\n",
              "      <td>3</td>\n",
              "      <td>εχω</td>\n",
              "      <td>0.0</td>\n",
              "      <td>0.0</td>\n",
              "      <td>0.0</td>\n",
              "      <td>0.0</td>\n",
              "      <td>0.0</td>\n",
              "      <td>0.0</td>\n",
              "      <td>0.0</td>\n",
              "      <td>0.0</td>\n",
              "      <td>0.0</td>\n",
              "      <td>0.0</td>\n",
              "    </tr>\n",
              "    <tr>\n",
              "      <th>4</th>\n",
              "      <td>4</td>\n",
              "      <td>οριο</td>\n",
              "      <td>0.0</td>\n",
              "      <td>0.0</td>\n",
              "      <td>0.0</td>\n",
              "      <td>0.0</td>\n",
              "      <td>0.0</td>\n",
              "      <td>0.0</td>\n",
              "      <td>0.0</td>\n",
              "      <td>0.0</td>\n",
              "      <td>0.0</td>\n",
              "      <td>0.0</td>\n",
              "    </tr>\n",
              "    <tr>\n",
              "      <th>5</th>\n",
              "      <td>5</td>\n",
              "      <td>ορμος</td>\n",
              "      <td>0.0</td>\n",
              "      <td>0.0</td>\n",
              "      <td>0.0</td>\n",
              "      <td>0.0</td>\n",
              "      <td>0.0</td>\n",
              "      <td>0.0</td>\n",
              "      <td>0.0</td>\n",
              "      <td>0.0</td>\n",
              "      <td>0.0</td>\n",
              "      <td>0.0</td>\n",
              "    </tr>\n",
              "    <tr>\n",
              "      <th>6</th>\n",
              "      <td>6</td>\n",
              "      <td>υδρα</td>\n",
              "      <td>0.0</td>\n",
              "      <td>1.0</td>\n",
              "      <td>0.0</td>\n",
              "      <td>0.0</td>\n",
              "      <td>0.0</td>\n",
              "      <td>1.0</td>\n",
              "      <td>0.0</td>\n",
              "      <td>0.0</td>\n",
              "      <td>0.0</td>\n",
              "      <td>0.0</td>\n",
              "    </tr>\n",
              "    <tr>\n",
              "      <th>7</th>\n",
              "      <td>7</td>\n",
              "      <td>αγια τραπεζα</td>\n",
              "      <td>0.0</td>\n",
              "      <td>0.0</td>\n",
              "      <td>0.0</td>\n",
              "      <td>0.0</td>\n",
              "      <td>0.0</td>\n",
              "      <td>0.0</td>\n",
              "      <td>0.0</td>\n",
              "      <td>0.0</td>\n",
              "      <td>0.0</td>\n",
              "      <td>0.0</td>\n",
              "    </tr>\n",
              "    <tr>\n",
              "      <th>8</th>\n",
              "      <td>8</td>\n",
              "      <td>αμην</td>\n",
              "      <td>1.0</td>\n",
              "      <td>0.0</td>\n",
              "      <td>0.0</td>\n",
              "      <td>0.0</td>\n",
              "      <td>0.0</td>\n",
              "      <td>0.0</td>\n",
              "      <td>1.0</td>\n",
              "      <td>0.0</td>\n",
              "      <td>0.0</td>\n",
              "      <td>1.0</td>\n",
              "    </tr>\n",
              "    <tr>\n",
              "      <th>9</th>\n",
              "      <td>9</td>\n",
              "      <td>απατσι</td>\n",
              "      <td>0.0</td>\n",
              "      <td>1.0</td>\n",
              "      <td>0.0</td>\n",
              "      <td>0.0</td>\n",
              "      <td>0.0</td>\n",
              "      <td>1.0</td>\n",
              "      <td>0.0</td>\n",
              "      <td>0.0</td>\n",
              "      <td>0.0</td>\n",
              "      <td>0.0</td>\n",
              "    </tr>\n",
              "    <tr>\n",
              "      <th>10</th>\n",
              "      <td>10</td>\n",
              "      <td>αυτοκινητοδρομος</td>\n",
              "      <td>0.0</td>\n",
              "      <td>0.0</td>\n",
              "      <td>0.0</td>\n",
              "      <td>0.0</td>\n",
              "      <td>0.0</td>\n",
              "      <td>0.0</td>\n",
              "      <td>0.0</td>\n",
              "      <td>0.0</td>\n",
              "      <td>0.0</td>\n",
              "      <td>0.0</td>\n",
              "    </tr>\n",
              "    <tr>\n",
              "      <th>11</th>\n",
              "      <td>11</td>\n",
              "      <td>αυγουστος</td>\n",
              "      <td>1.0</td>\n",
              "      <td>0.0</td>\n",
              "      <td>0.0</td>\n",
              "      <td>0.0</td>\n",
              "      <td>0.0</td>\n",
              "      <td>0.0</td>\n",
              "      <td>0.0</td>\n",
              "      <td>0.0</td>\n",
              "      <td>0.0</td>\n",
              "      <td>0.0</td>\n",
              "    </tr>\n",
              "    <tr>\n",
              "      <th>12</th>\n",
              "      <td>12</td>\n",
              "      <td>βερολινο</td>\n",
              "      <td>0.0</td>\n",
              "      <td>0.0</td>\n",
              "      <td>0.0</td>\n",
              "      <td>0.0</td>\n",
              "      <td>0.0</td>\n",
              "      <td>0.0</td>\n",
              "      <td>0.0</td>\n",
              "      <td>0.0</td>\n",
              "      <td>0.0</td>\n",
              "      <td>0.0</td>\n",
              "    </tr>\n",
              "    <tr>\n",
              "      <th>13</th>\n",
              "      <td>13</td>\n",
              "      <td>βικτωρια</td>\n",
              "      <td>0.0</td>\n",
              "      <td>0.0</td>\n",
              "      <td>0.0</td>\n",
              "      <td>0.0</td>\n",
              "      <td>0.0</td>\n",
              "      <td>0.0</td>\n",
              "      <td>0.0</td>\n",
              "      <td>0.0</td>\n",
              "      <td>0.0</td>\n",
              "      <td>0.0</td>\n",
              "    </tr>\n",
              "    <tr>\n",
              "      <th>14</th>\n",
              "      <td>14</td>\n",
              "      <td>βοστωνη</td>\n",
              "      <td>0.0</td>\n",
              "      <td>0.0</td>\n",
              "      <td>0.0</td>\n",
              "      <td>0.0</td>\n",
              "      <td>0.0</td>\n",
              "      <td>0.0</td>\n",
              "      <td>0.0</td>\n",
              "      <td>0.0</td>\n",
              "      <td>0.0</td>\n",
              "      <td>0.0</td>\n",
              "    </tr>\n",
              "    <tr>\n",
              "      <th>15</th>\n",
              "      <td>15</td>\n",
              "      <td>γαμηλιο ταξιδι</td>\n",
              "      <td>1.0</td>\n",
              "      <td>0.0</td>\n",
              "      <td>0.0</td>\n",
              "      <td>1.0</td>\n",
              "      <td>0.0</td>\n",
              "      <td>0.0</td>\n",
              "      <td>1.0</td>\n",
              "      <td>0.0</td>\n",
              "      <td>1.0</td>\n",
              "      <td>1.0</td>\n",
              "    </tr>\n",
              "    <tr>\n",
              "      <th>16</th>\n",
              "      <td>16</td>\n",
              "      <td>γεννηση παιδιου</td>\n",
              "      <td>0.0</td>\n",
              "      <td>0.0</td>\n",
              "      <td>0.0</td>\n",
              "      <td>0.0</td>\n",
              "      <td>0.0</td>\n",
              "      <td>0.0</td>\n",
              "      <td>0.0</td>\n",
              "      <td>0.0</td>\n",
              "      <td>0.0</td>\n",
              "      <td>0.0</td>\n",
              "    </tr>\n",
              "    <tr>\n",
              "      <th>17</th>\n",
              "      <td>17</td>\n",
              "      <td>γαιδαρος</td>\n",
              "      <td>0.0</td>\n",
              "      <td>1.0</td>\n",
              "      <td>0.0</td>\n",
              "      <td>0.0</td>\n",
              "      <td>1.0</td>\n",
              "      <td>0.0</td>\n",
              "      <td>0.0</td>\n",
              "      <td>0.0</td>\n",
              "      <td>0.0</td>\n",
              "      <td>0.0</td>\n",
              "    </tr>\n",
              "    <tr>\n",
              "      <th>18</th>\n",
              "      <td>18</td>\n",
              "      <td>γατα</td>\n",
              "      <td>0.0</td>\n",
              "      <td>0.0</td>\n",
              "      <td>0.0</td>\n",
              "      <td>0.0</td>\n",
              "      <td>0.0</td>\n",
              "      <td>0.0</td>\n",
              "      <td>0.0</td>\n",
              "      <td>0.0</td>\n",
              "      <td>0.0</td>\n",
              "      <td>0.0</td>\n",
              "    </tr>\n",
              "    <tr>\n",
              "      <th>19</th>\n",
              "      <td>19</td>\n",
              "      <td>γερμανος</td>\n",
              "      <td>0.0</td>\n",
              "      <td>0.0</td>\n",
              "      <td>0.0</td>\n",
              "      <td>0.0</td>\n",
              "      <td>0.0</td>\n",
              "      <td>0.0</td>\n",
              "      <td>0.0</td>\n",
              "      <td>0.0</td>\n",
              "      <td>0.0</td>\n",
              "      <td>0.0</td>\n",
              "    </tr>\n",
              "  </tbody>\n",
              "</table>\n",
              "</div>"
            ],
            "text/plain": [
              "    index              word  Positive  Negative  ...  Joy  Sadness  Surprise  Trust\n",
              "0       0             αφεση       1.0       0.0  ...  0.0      0.0       0.0    0.0\n",
              "1       1   ενορκη βεβαιωση       0.0       0.0  ...  0.0      0.0       0.0    0.0\n",
              "2       2           εχοντας       0.0       0.0  ...  0.0      0.0       0.0    0.0\n",
              "3       3               εχω       0.0       0.0  ...  0.0      0.0       0.0    0.0\n",
              "4       4              οριο       0.0       0.0  ...  0.0      0.0       0.0    0.0\n",
              "5       5             ορμος       0.0       0.0  ...  0.0      0.0       0.0    0.0\n",
              "6       6              υδρα       0.0       1.0  ...  0.0      0.0       0.0    0.0\n",
              "7       7      αγια τραπεζα       0.0       0.0  ...  0.0      0.0       0.0    0.0\n",
              "8       8              αμην       1.0       0.0  ...  1.0      0.0       0.0    1.0\n",
              "9       9            απατσι       0.0       1.0  ...  0.0      0.0       0.0    0.0\n",
              "10     10  αυτοκινητοδρομος       0.0       0.0  ...  0.0      0.0       0.0    0.0\n",
              "11     11         αυγουστος       1.0       0.0  ...  0.0      0.0       0.0    0.0\n",
              "12     12          βερολινο       0.0       0.0  ...  0.0      0.0       0.0    0.0\n",
              "13     13          βικτωρια       0.0       0.0  ...  0.0      0.0       0.0    0.0\n",
              "14     14           βοστωνη       0.0       0.0  ...  0.0      0.0       0.0    0.0\n",
              "15     15    γαμηλιο ταξιδι       1.0       0.0  ...  1.0      0.0       1.0    1.0\n",
              "16     16   γεννηση παιδιου       0.0       0.0  ...  0.0      0.0       0.0    0.0\n",
              "17     17          γαιδαρος       0.0       1.0  ...  0.0      0.0       0.0    0.0\n",
              "18     18              γατα       0.0       0.0  ...  0.0      0.0       0.0    0.0\n",
              "19     19          γερμανος       0.0       0.0  ...  0.0      0.0       0.0    0.0\n",
              "\n",
              "[20 rows x 12 columns]"
            ]
          },
          "metadata": {},
          "execution_count": 159
        }
      ]
    },
    {
      "cell_type": "code",
      "metadata": {
        "colab": {
          "base_uri": "https://localhost:8080/",
          "height": 202
        },
        "id": "UMP-GJoS0mLq",
        "outputId": "0c76064e-6de7-45e5-daa8-39dee08cb407"
      },
      "source": [
        "emolex_df[emolex_df.Anger == 1].tail()"
      ],
      "execution_count": null,
      "outputs": [
        {
          "output_type": "execute_result",
          "data": {
            "text/html": [
              "<div>\n",
              "<style scoped>\n",
              "    .dataframe tbody tr th:only-of-type {\n",
              "        vertical-align: middle;\n",
              "    }\n",
              "\n",
              "    .dataframe tbody tr th {\n",
              "        vertical-align: top;\n",
              "    }\n",
              "\n",
              "    .dataframe thead th {\n",
              "        text-align: right;\n",
              "    }\n",
              "</style>\n",
              "<table border=\"1\" class=\"dataframe\">\n",
              "  <thead>\n",
              "    <tr style=\"text-align: right;\">\n",
              "      <th></th>\n",
              "      <th>index</th>\n",
              "      <th>word</th>\n",
              "      <th>Positive</th>\n",
              "      <th>Negative</th>\n",
              "      <th>Anger</th>\n",
              "      <th>Anticipation</th>\n",
              "      <th>Disgust</th>\n",
              "      <th>Fear</th>\n",
              "      <th>Joy</th>\n",
              "      <th>Sadness</th>\n",
              "      <th>Surprise</th>\n",
              "      <th>Trust</th>\n",
              "    </tr>\n",
              "  </thead>\n",
              "  <tbody>\n",
              "    <tr>\n",
              "      <th>13094</th>\n",
              "      <td>13104</td>\n",
              "      <td>διεξοδος</td>\n",
              "      <td>0.0</td>\n",
              "      <td>0.0</td>\n",
              "      <td>1.0</td>\n",
              "      <td>0.0</td>\n",
              "      <td>0.0</td>\n",
              "      <td>0.0</td>\n",
              "      <td>0.0</td>\n",
              "      <td>0.0</td>\n",
              "      <td>0.0</td>\n",
              "      <td>0.0</td>\n",
              "    </tr>\n",
              "    <tr>\n",
              "      <th>13096</th>\n",
              "      <td>13106</td>\n",
              "      <td>ζωυφια</td>\n",
              "      <td>0.0</td>\n",
              "      <td>1.0</td>\n",
              "      <td>1.0</td>\n",
              "      <td>0.0</td>\n",
              "      <td>1.0</td>\n",
              "      <td>1.0</td>\n",
              "      <td>0.0</td>\n",
              "      <td>0.0</td>\n",
              "      <td>0.0</td>\n",
              "      <td>0.0</td>\n",
              "    </tr>\n",
              "    <tr>\n",
              "      <th>13100</th>\n",
              "      <td>13110</td>\n",
              "      <td>θυματοποιω</td>\n",
              "      <td>0.0</td>\n",
              "      <td>1.0</td>\n",
              "      <td>1.0</td>\n",
              "      <td>0.0</td>\n",
              "      <td>1.0</td>\n",
              "      <td>1.0</td>\n",
              "      <td>0.0</td>\n",
              "      <td>1.0</td>\n",
              "      <td>1.0</td>\n",
              "      <td>0.0</td>\n",
              "    </tr>\n",
              "    <tr>\n",
              "      <th>13128</th>\n",
              "      <td>13138</td>\n",
              "      <td>αποτυχημενος</td>\n",
              "      <td>0.0</td>\n",
              "      <td>1.0</td>\n",
              "      <td>1.0</td>\n",
              "      <td>0.0</td>\n",
              "      <td>1.0</td>\n",
              "      <td>0.0</td>\n",
              "      <td>0.0</td>\n",
              "      <td>0.0</td>\n",
              "      <td>0.0</td>\n",
              "      <td>0.0</td>\n",
              "    </tr>\n",
              "    <tr>\n",
              "      <th>13156</th>\n",
              "      <td>13166</td>\n",
              "      <td>ουρλιασμα</td>\n",
              "      <td>0.0</td>\n",
              "      <td>1.0</td>\n",
              "      <td>1.0</td>\n",
              "      <td>0.0</td>\n",
              "      <td>0.0</td>\n",
              "      <td>1.0</td>\n",
              "      <td>0.0</td>\n",
              "      <td>0.0</td>\n",
              "      <td>1.0</td>\n",
              "      <td>0.0</td>\n",
              "    </tr>\n",
              "  </tbody>\n",
              "</table>\n",
              "</div>"
            ],
            "text/plain": [
              "       index          word  Positive  Negative  ...  Joy  Sadness  Surprise  Trust\n",
              "13094  13104      διεξοδος       0.0       0.0  ...  0.0      0.0       0.0    0.0\n",
              "13096  13106        ζωυφια       0.0       1.0  ...  0.0      0.0       0.0    0.0\n",
              "13100  13110    θυματοποιω       0.0       1.0  ...  0.0      1.0       1.0    0.0\n",
              "13128  13138  αποτυχημενος       0.0       1.0  ...  0.0      0.0       0.0    0.0\n",
              "13156  13166     ουρλιασμα       0.0       1.0  ...  0.0      0.0       1.0    0.0\n",
              "\n",
              "[5 rows x 12 columns]"
            ]
          },
          "metadata": {},
          "execution_count": 160
        }
      ]
    },
    {
      "cell_type": "code",
      "metadata": {
        "id": "9drYEbrl0c0g"
      },
      "source": [
        "# Φτιάξε μια λίστα με positive words\n",
        "\n",
        "angry_words = emolex_df[emolex_df.Anger == 1]['word']\n",
        "\n",
        "positive_words = emolex_df[emolex_df.Positive == 1]['word']\n",
        "\n",
        "\n",
        "# Φτιάξε μια λίστα με sadness words\n",
        "sadness_words = emolex_df[emolex_df.Sadness == 1]['word']\n",
        "\n",
        "\n",
        "# Φτιάξε μια λίστα με surprise words\n",
        "surprise_words = emolex_df[emolex_df.Surprise == 1]['word']\n",
        "\n",
        "\n",
        "# Φτιάξε μια λίστα με disgust words\n",
        "disgust_words = emolex_df[emolex_df.Disgust == 1]['word']\n",
        "\n",
        "\n",
        "# Φτιάξε μια λίστα με anticipation words\n",
        "anticipation_words = emolex_df[emolex_df.Anticipation == 1]['word']\n",
        "\n",
        "\n",
        "# Φτιάξε μια λίστα με negative words\n",
        "negative_words = emolex_df[emolex_df.Negative == 1]['word']\n",
        "\n",
        "\n",
        "\n",
        "# Φτιάξε μια λίστα με joy words\n",
        "joy_words = emolex_df[emolex_df.Joy == 1]['word']\n",
        "\n",
        "\n",
        "# Φτιάξε μια λίστα με trust words\n",
        "trust_words = emolex_df[emolex_df.Trust == 1]['word']\n",
        "\n",
        "\n",
        "\n",
        "# Φτιάξε μια λίστα με fear words\n",
        "fear_words = emolex_df[emolex_df.Fear == 1]['word']"
      ],
      "execution_count": null,
      "outputs": []
    },
    {
      "cell_type": "code",
      "metadata": {
        "id": "URWvK6_105TO"
      },
      "source": [
        "data['anger'] = wordcount_df[angry_words].sum(axis=1)\n",
        "\n",
        "data['positivity'] = wordcount_df[positive_words].sum(axis=1)\n",
        "\n",
        "data['joy'] = wordcount_df[joy_words].sum(axis=1)\n",
        "\n",
        "data['disgust'] = wordcount_df[disgust_words].sum(axis=1)\n",
        "\n",
        "data['surprise'] = wordcount_df[surprise_words].sum(axis=1)\n",
        "\n",
        "data['trust'] = wordcount_df[trust_words].sum(axis=1)\n",
        "\n",
        "data['anticipation'] = wordcount_df[anticipation_words].sum(axis=1)\n",
        "\n",
        "data['sadness'] = wordcount_df[sadness_words].sum(axis=1)\n",
        "\n",
        "data['negative'] = wordcount_df[negative_words].sum(axis=1)\n",
        "\n",
        "data['fear'] = wordcount_df[fear_words].sum(axis=1)"
      ],
      "execution_count": null,
      "outputs": []
    },
    {
      "cell_type": "code",
      "metadata": {
        "colab": {
          "base_uri": "https://localhost:8080/"
        },
        "id": "c_O2XxPi4rbT",
        "outputId": "3e0b977a-0b32-4885-f0c9-eecea78ba793"
      },
      "source": [
        "data.head()"
      ],
      "execution_count": null,
      "outputs": [
        {
          "output_type": "execute_result",
          "data": {
            "text/html": [
              "<div>\n",
              "<style scoped>\n",
              "    .dataframe tbody tr th:only-of-type {\n",
              "        vertical-align: middle;\n",
              "    }\n",
              "\n",
              "    .dataframe tbody tr th {\n",
              "        vertical-align: top;\n",
              "    }\n",
              "\n",
              "    .dataframe thead th {\n",
              "        text-align: right;\n",
              "    }\n",
              "</style>\n",
              "<table border=\"1\" class=\"dataframe\">\n",
              "  <thead>\n",
              "    <tr style=\"text-align: right;\">\n",
              "      <th></th>\n",
              "      <th>title</th>\n",
              "      <th>link</th>\n",
              "      <th>body</th>\n",
              "      <th>tokenized_title</th>\n",
              "      <th>tokenized_body</th>\n",
              "      <th>num_wds</th>\n",
              "      <th>num_wds_title</th>\n",
              "      <th>uniq_wds_body</th>\n",
              "      <th>without_stopwords</th>\n",
              "      <th>lemmatized_body</th>\n",
              "      <th>anger</th>\n",
              "      <th>positivity</th>\n",
              "      <th>joy</th>\n",
              "      <th>disgust</th>\n",
              "      <th>surprise</th>\n",
              "      <th>trust</th>\n",
              "      <th>anticipation</th>\n",
              "      <th>sadness</th>\n",
              "      <th>negative</th>\n",
              "      <th>fear</th>\n",
              "    </tr>\n",
              "  </thead>\n",
              "  <tbody>\n",
              "    <tr>\n",
              "      <th>0</th>\n",
              "      <td>«Κλείδωσε» η υποψηφιότητα Φουρθιώτη στο πλευρό...</td>\n",
              "      <td>https://www.newsbreak.gr/politiki/181856/kleid...</td>\n",
              "      <td>Όπως όλα δείχνουν, ο Μένιος Φουρθιώτης που ήδη...</td>\n",
              "      <td>κλείδωσε η υποψηφιότητα φουρθιώτη στο πλευρό ...</td>\n",
              "      <td>όπως όλα δείχνουν ο μένιος φουρθιώτης που ήδη ...</td>\n",
              "      <td>210</td>\n",
              "      <td>8</td>\n",
              "      <td>135</td>\n",
              "      <td>δείχνουν μένιος φουρθιώτης θέσει λειτουργία π...</td>\n",
              "      <td>δείχνω μένιος φουρθιώτη θέσω λειτουργία πολι...</td>\n",
              "      <td>3</td>\n",
              "      <td>17</td>\n",
              "      <td>5</td>\n",
              "      <td>1</td>\n",
              "      <td>4</td>\n",
              "      <td>6</td>\n",
              "      <td>7</td>\n",
              "      <td>2</td>\n",
              "      <td>9</td>\n",
              "      <td>6</td>\n",
              "    </tr>\n",
              "    <tr>\n",
              "      <th>1</th>\n",
              "      <td>Θανάσης Καμηλάρης: “Λαθροδιακινητές ήταν οι κλ...</td>\n",
              "      <td>https://www.pentapostagma.gr/ethnika-themata/e...</td>\n",
              "      <td>Ακούστε τον Θανάση Καμηλάρη – κάτοικο του Δέλτ...</td>\n",
              "      <td>θανάσης καμηλάρης λαθροδιακινητές ήταν οι κλέφ...</td>\n",
              "      <td>ακούστε τον θανάση καμηλάρη κάτοικο του δέλτα ...</td>\n",
              "      <td>21</td>\n",
              "      <td>12</td>\n",
              "      <td>20</td>\n",
              "      <td>ακούστε θανάση καμηλάρη κάτοικο δέλτα έβρου αν...</td>\n",
              "      <td>ακούστε θανάση καμηλάρη κάτοικο δέλτα έβρου αν...</td>\n",
              "      <td>0</td>\n",
              "      <td>0</td>\n",
              "      <td>0</td>\n",
              "      <td>0</td>\n",
              "      <td>0</td>\n",
              "      <td>0</td>\n",
              "      <td>0</td>\n",
              "      <td>0</td>\n",
              "      <td>0</td>\n",
              "      <td>0</td>\n",
              "    </tr>\n",
              "    <tr>\n",
              "      <th>2</th>\n",
              "      <td>Νέο σκάνδαλο με το εμβόλιο της Pfizer: Μειώνου...</td>\n",
              "      <td>https://www.pronews.gr/kosmos/eyropaiki-enosi/...</td>\n",
              "      <td>Ο Ευρωπαϊκός Οργανισμός Φαρμάκων ανακοίνωσε σή...</td>\n",
              "      <td>νέο σκάνδαλο με το εμβόλιο της pfizer μειώνουν...</td>\n",
              "      <td>ο ευρωπαϊκός οργανισμός φαρμάκων ανακοίνωσε σή...</td>\n",
              "      <td>267</td>\n",
              "      <td>19</td>\n",
              "      <td>164</td>\n",
              "      <td>ευρωπαϊκός οργανισμός φαρμάκων ανακοίνωσε σήμ...</td>\n",
              "      <td>ευρωπαϊκός οργανισμός φαρμάκας ανακοίνωσε σή...</td>\n",
              "      <td>0</td>\n",
              "      <td>13</td>\n",
              "      <td>2</td>\n",
              "      <td>0</td>\n",
              "      <td>1</td>\n",
              "      <td>9</td>\n",
              "      <td>5</td>\n",
              "      <td>1</td>\n",
              "      <td>3</td>\n",
              "      <td>3</td>\n",
              "    </tr>\n",
              "    <tr>\n",
              "      <th>3</th>\n",
              "      <td>Η ΜΕΓΑΛΥΤΕΡΗ ΑΠΑΤΗ ΣΤΗΝ ΙΣΤΟΡΙΑ ΤΩΝ ΗΠΑ! – ΤΟ ...</td>\n",
              "      <td>https://www.makeleio.gr/εξωφυλλο/Η-ΜΕΓΑΛΥΤΕΡΗ-...</td>\n",
              "      <td>Διαβάστε το άρθρο του Αμερικανού οικονομολόγου...</td>\n",
              "      <td>η μεγαλυτερη απατη στην ιστορια των ηπα το λογ...</td>\n",
              "      <td>διαβάστε το άρθρο του αμερικανού οικονομολόγου...</td>\n",
              "      <td>967</td>\n",
              "      <td>39</td>\n",
              "      <td>492</td>\n",
              "      <td>διαβάστε άρθρο αμερικανού οικονομολόγου paul c...</td>\n",
              "      <td>διαβάμαι άρθρο αμερικανός οικονομολόγος paul c...</td>\n",
              "      <td>37</td>\n",
              "      <td>69</td>\n",
              "      <td>15</td>\n",
              "      <td>17</td>\n",
              "      <td>19</td>\n",
              "      <td>43</td>\n",
              "      <td>39</td>\n",
              "      <td>30</td>\n",
              "      <td>71</td>\n",
              "      <td>30</td>\n",
              "    </tr>\n",
              "    <tr>\n",
              "      <th>4</th>\n",
              "      <td>Συγκλονιστικό βίντεο: Αρμένιος στρατιώτης αναφ...</td>\n",
              "      <td>https://www.pronews.gr/amyna-asfaleia/enoples-...</td>\n",
              "      <td>Ενα συγκλονιστικό βίντεο που δείχνει Αρμένιο σ...</td>\n",
              "      <td>συγκλονιστικό βίντεο αρμένιος στρατιώτης αναφέ...</td>\n",
              "      <td>ενα συγκλονιστικό βίντεο που δείχνει αρμένιο σ...</td>\n",
              "      <td>108</td>\n",
              "      <td>12</td>\n",
              "      <td>88</td>\n",
              "      <td>ενα συγκλονιστικό βίντεο δείχνει αρμένιο στρατ...</td>\n",
              "      <td>ενα συγκλονιστικό βίντεο δείχνω αρμένιος στρατ...</td>\n",
              "      <td>6</td>\n",
              "      <td>9</td>\n",
              "      <td>2</td>\n",
              "      <td>0</td>\n",
              "      <td>3</td>\n",
              "      <td>5</td>\n",
              "      <td>3</td>\n",
              "      <td>3</td>\n",
              "      <td>6</td>\n",
              "      <td>6</td>\n",
              "    </tr>\n",
              "  </tbody>\n",
              "</table>\n",
              "</div>"
            ],
            "text/plain": [
              "                                               title  ... fear\n",
              "0  «Κλείδωσε» η υποψηφιότητα Φουρθιώτη στο πλευρό...  ...    6\n",
              "1  Θανάσης Καμηλάρης: “Λαθροδιακινητές ήταν οι κλ...  ...    0\n",
              "2  Νέο σκάνδαλο με το εμβόλιο της Pfizer: Μειώνου...  ...    3\n",
              "3  Η ΜΕΓΑΛΥΤΕΡΗ ΑΠΑΤΗ ΣΤΗΝ ΙΣΤΟΡΙΑ ΤΩΝ ΗΠΑ! – ΤΟ ...  ...   30\n",
              "4  Συγκλονιστικό βίντεο: Αρμένιος στρατιώτης αναφ...  ...    6\n",
              "\n",
              "[5 rows x 20 columns]"
            ]
          },
          "metadata": {},
          "execution_count": 163
        }
      ]
    },
    {
      "cell_type": "markdown",
      "metadata": {
        "id": "EmyWUltTYM7h"
      },
      "source": [
        "# **Sentiment Analysis με Stemming**"
      ]
    },
    {
      "cell_type": "code",
      "metadata": {
        "id": "IwJRS6oHXbSS"
      },
      "source": [
        "def removing_accents(word):\n",
        "    \"\"\"\n",
        "    Removes accents from a given word.\n",
        "    \n",
        "    Parameters\n",
        "    ----------\n",
        "    word : str\n",
        "        the word from which we want to remove the accents\n",
        "\n",
        "    Returns\n",
        "    -------\n",
        "    str\n",
        "        the word without accents\n",
        "    \"\"\"\n",
        "    return (word.replace('ά', 'α').replace('έ', 'ε').replace('ή', 'η').replace('ί', 'ι').replace('ό', 'ο').replace('ύ', 'υ')\n",
        "            .replace('ώ', 'ω').replace('ϊ', 'ι').replace('ϋ', 'υ').replace('ΐ', 'ι').replace('ΰ', 'υ').replace('Ά', 'Α')\n",
        "            .replace('Έ', 'Ε').replace('Ή', 'Η').replace('Ί', 'Ι').replace('Ό', 'Ο').replace('Ύ', 'Υ').replace('Ϊ', 'Ι')\n",
        "            .replace('Ϋ', 'Υ').upper())"
      ],
      "execution_count": null,
      "outputs": []
    },
    {
      "cell_type": "code",
      "metadata": {
        "id": "MB3kc4Wx1kY4"
      },
      "source": [
        "data['title_clean'] = data['title'].apply(lambda row: \" \".join([w.lemma_ for w in nlp(row)]))"
      ],
      "execution_count": null,
      "outputs": []
    },
    {
      "cell_type": "code",
      "metadata": {
        "colab": {
          "base_uri": "https://localhost:8080/"
        },
        "id": "oaVjGKr1C_yS",
        "outputId": "7cc0e96e-aeeb-49f4-89b2-697b25fde163"
      },
      "source": [
        "data['body_clean'] = data['lemmatized_body'].apply(lambda x : removing_accents(x) )\n",
        "data['body_clean']"
      ],
      "execution_count": null,
      "outputs": [
        {
          "output_type": "execute_result",
          "data": {
            "text/plain": [
              "0         ΔΕΙΧΝΩ ΜΕΝΙΟΣ ΦΟΥΡΘΙΩΤΗ ΘΕΣΩ ΛΕΙΤΟΥΡΓΙΑ ΠΟΛΙ...\n",
              "1       ΑΚΟΥΣΤΕ ΘΑΝΑΣΗ ΚΑΜΗΛΑΡΗ ΚΑΤΟΙΚΟ ΔΕΛΤΑ ΕΒΡΟΥ ΑΝ...\n",
              "2         ΕΥΡΩΠΑΙΚΟΣ ΟΡΓΑΝΙΣΜΟΣ ΦΑΡΜΑΚΑΣ ΑΝΑΚΟΙΝΩΣΕ ΣΗ...\n",
              "3       ΔΙΑΒΑΜΑΙ ΑΡΘΡΟ ΑΜΕΡΙΚΑΝΟΣ ΟΙΚΟΝΟΜΟΛΟΓΟΣ PAUL C...\n",
              "4       ΕΝΑ ΣΥΓΚΛΟΝΙΣΤΙΚΟ ΒΙΝΤΕΟ ΔΕΙΧΝΩ ΑΡΜΕΝΙΟΣ ΣΤΡΑΤ...\n",
              "                              ...                        \n",
              "1082      ΦΑΙΝΟΜΕΝΟ ΑΠΟΤΕΛΩ ΟΥΣΙΑΣΤΙΚΑ ΚΑΤΑΛΗΞΗ ΗΛΙΑΚΟ...\n",
              "1083      ΣΕΙΡΑ ΕΤΗΣ ΚΟΣΜΟΣ ΓΝΩΡΙΖΕ ΧΗΜΕΙΟΘΕΡΑΠΕΙΑ ΤΡΟ...\n",
              "1084    ΙΔΟΥ ΑΝΑΦΕΡΩ ΣΧΕΤΙΚΑ ΒΡΕΤΑΝΙΚΟΣ MAIL ONLINE ΜΕ...\n",
              "1085      ΥΠΑΡΧΩ ΛΟΓΙΑ ΣΟΦΟΣ ΛΑΟΣ ΕΛΕΓΕ ΥΠΟΓΡΑΦΗ Π ΛΙ ...\n",
              "1086      ΑΚΟΥΣΩ ΤΡΕΛΟ ΦΑΙΝΕΤΑΙ ΓΥΝΑΙΚΑ ΙΣΧΥΡΙΖΟΜΑΙ ΜΕ...\n",
              "Name: body_clean, Length: 1087, dtype: object"
            ]
          },
          "metadata": {},
          "execution_count": 166
        }
      ]
    },
    {
      "cell_type": "code",
      "metadata": {
        "colab": {
          "base_uri": "https://localhost:8080/"
        },
        "id": "AbfVQZYnX8lo",
        "outputId": "34eceea6-ce16-48df-8f9b-3f1b42f17634"
      },
      "source": [
        "data['title_clean'] = data['title_clean'].apply(lambda x : removing_accents(x))\n",
        "data['title_clean']"
      ],
      "execution_count": null,
      "outputs": [
        {
          "output_type": "execute_result",
          "data": {
            "text/plain": [
              "0       « ΚΛΕΙΔΩΣΕ » Η ΥΠΟΨΗΦΙΟΤΗΤΑ ΦΟΥΡΘΙΩΤΗ ΣΤΟ ΠΛΕΥ...\n",
              "1       ΘΑΝΑΣΗ ΚΑΜΗΛΑΡΗ : \" ΛΑΘΡΟΔΙΑΚΙΝΗΤΕΣ ΗΤΑΝ Ο ΚΛΕ...\n",
              "2       ΝΕΟΣ ΣΚΑΝΔΑΛΟ ΜΕ ΤΟ ΕΜΒΟΛΙΟ ΤΗΣ PFIZER : ΜΕΙΩΝ...\n",
              "3       Η ΜΕΓΑΛΥΤΕΡΗ ΑΠΑΤΗ ΣΤΗΝ ΙΣΤΟΡΙΑΣ ΤΟ ΗΠΑΣ ! – Τ...\n",
              "4       ΣΥΓΚΛΟΝΙΣΤΙΚΟ ΒΙΝΤΕΟ : ΑΡΜΕΝΙΟΣ ΣΤΡΑΤΙΩΤΗΣ ΑΝΑ...\n",
              "                              ...                        \n",
              "1082    ΜΑΓΝΗΤΙΚΟΣ ΚΑΤΑΙΓΙΔΑ « ΧΤΥΠΑΩ » ΣΗΜΕΡΑ ΤΗΝ ΕΛΛ...\n",
              "1083    ΤΕΛΟΣ ΣΤΙΣ ΧΗΜΕΙΟΘΕΡΑΠΕΙΑ ! ΝΕΟΣ ΤΡΟΠΟΣ ΚΑΤΑΠΟ...\n",
              "1084    ΣΗΜΕΡΑΣ ΣΤΟ ΛΟΝΔΙΝΟ-ΑΥΡΙΟ ΣΤΗΝ ΑΘΗΝΑΣ : ΕΠΙΘΕΣ...\n",
              "1085    ΠΑΝΙΚΟΣ ΣΤΗ ΘΕΣΣΑΛΟΝΙΚΗ : ΑΥΤΗ ΕΙΝΑΙ Η 22ΧΡΟΝΗ...\n",
              "1086    ΕΙΔΗΣΗΣ ΣΟΚ : ΓΥΝΑΙΚΑ ΥΠΟΣΤΗΡΙΖΩ ΠΩΣ ΜΕΝΩ ΕΓΚΥ...\n",
              "Name: title_clean, Length: 1087, dtype: object"
            ]
          },
          "metadata": {},
          "execution_count": 167
        }
      ]
    },
    {
      "cell_type": "code",
      "metadata": {
        "colab": {
          "base_uri": "https://localhost:8080/"
        },
        "id": "x4Wc0j941Beo",
        "outputId": "209058bc-9328-4a8a-b33f-896a83424c01"
      },
      "source": [
        "data['body_clean'][10]"
      ],
      "execution_count": null,
      "outputs": [
        {
          "output_type": "execute_result",
          "data": {
            "application/vnd.google.colaboratory.intrinsic+json": {
              "type": "string"
            },
            "text/plain": [
              "'ΒΟΥΛΓΑΡΙΚΟ ΔΗΜΟΣΙΕΥΜΑ ΑΝΑΦΕΡΩ ΚΟΠΕΛΑ ΦΩΤΟΓΡΑΦΙΑ ΑΡΙΣΤΕΡΑ ΤΡΑΒΗΞΕ ΣΚΑΝΔΑΛΩΔΕΙΣ ΦΩΤΟΓΡΑΦΙΑ ΠΡΩΘΥΠΟΥΡΓΟΣ ΧΩΡΑ ΜΠΟΙΚΟΣ ΜΠΟΡΙΣΟΦ ΦΩΤΟΓΡΑΦΙΑ ΒΡΕΘΗΚΕ ΝΕΚΡΟΣ ΣΠΑΣΜΕΝΟΣ ΛΑΙΜΟΣ ΣΑΝΤΟΡΙΝΗ ΦΙΛΙΠΠΟΥΠΟΛΗΣ ΣΥΓΚΕΚΡΙΜΕΝΑ ΒΟΥΛΓΑΡΙΚΟΣ ΙΣΤΟΣΕΛΙΔΑ ΑΛΗΘΙΝΑ ΝΕΟΣ ΑΝΑΦΕΡΩ ΚΟΠΕΛΑ ΤΡΑΒΗΞΕ ΦΩΤΟΓΡΑΦΙΑ ΠΡΩΘΥΠΟΥΡΓΟΣ ΒΟΥΛΓΑΡΙΑΣ ΜΠΟΙΚΟ ΜΠΟΡΙΣΟΦ ΔΩΜΑΤΙΟ ΡΑΒΔΟΣ ΧΡΥΣΟΣ ΔΕΣΜΗ ΧΑΡΤΟΝΟΜΙΣΜΑΤΑΣ ΕΥΡΩ ΟΠΛΟ ΒΡΕΘΗΚΕ ΝΕΚΡΟΣ ΔΙΔΑΣΚΩ ΑΡΧΑΙΟΣ ΤΡΑΓΩΔΙΑΣ ΚΟΡΟΝΑΙΟΣ ΕΙΔΗΣΗΣ ΑΝΑΔΗΜΟΣΙΕΥΩ ΕΝΗΜΕΡΩΣΗ ΒΟΡΕΙΑΣ ΜΑΚΕΔΟΝΙΑ ΒΕΤΣΕΡ ΑΝΑΦΕΡΩ ΚΟΠΕΛΑ ΚΑΤΑΓΟΜΑΙ ΦΙΛΙΠΠΟΥΠΟΛΗΣ ΒΡΕΘΗΚΕ ΝΕΚΡΟΣ ΣΠΑΣΜΕΝΟΣ ΛΑΙΜΟ ΣΑΝΤΟΡΙΝΗ 20 ΙΟΥΛΙΟΣ ΠΡΟΚΑΛΕΣΑΝ ΕΝΤΥΠΩΣΗ ΦΩΤΟΓΡΑΦΙΑ ΔΗΜΟΣΙΕΥΘΩ ΚΟΙΝΩΝΙΚΟΣ ΔΙΚΤΥΩΣΗ ΒΟΥΛΓΑΡΙΑΣ ΒΟΡΕΙΑΣ ΜΑΚΕΔΟΝΙΑ ΠΡΟΚΑΛΕΣΑΝ ΙΔΙΑΙΤΕΡΗ ΕΝΤΥΠΩΣΗ ΓΕΓΟΝΟΣ ΒΟΥΛΓΑΡΟΣ ΠΡΩΘΥΠΟΥΡΓΟΣ ΚΟΙΜΑΜΑΙ ΔΕΣΜΗ ΧΑΡΤΟΝΟΜΙΣΜΑΤΑΣ ΠΕΡΙΣΤΡΟΦΟΣ ΚΟΜΟΔΙΝΟ'"
            ]
          },
          "metadata": {},
          "execution_count": 168
        }
      ]
    },
    {
      "cell_type": "code",
      "metadata": {
        "id": "j0CbkYhFEpbn",
        "colab": {
          "base_uri": "https://localhost:8080/"
        },
        "outputId": "d18050ef-2d31-4009-a6bd-fe49bbc1a06f"
      },
      "source": [
        "!pip3 install greek_stemmer "
      ],
      "execution_count": null,
      "outputs": [
        {
          "output_type": "stream",
          "text": [
            "Requirement already satisfied: greek_stemmer in /usr/local/lib/python3.7/dist-packages (0.1.1)\n",
            "Requirement already satisfied: future in /usr/local/lib/python3.7/dist-packages (from greek_stemmer) (0.16.0)\n",
            "Requirement already satisfied: PyYAML in /usr/local/lib/python3.7/dist-packages (from greek_stemmer) (3.13)\n"
          ],
          "name": "stdout"
        }
      ]
    },
    {
      "cell_type": "code",
      "metadata": {
        "id": "PqH0bBesEuMm"
      },
      "source": [
        "from greek_stemmer import GreekStemmer\n",
        "stemmer = GreekStemmer()\n"
      ],
      "execution_count": null,
      "outputs": []
    },
    {
      "cell_type": "code",
      "metadata": {
        "colab": {
          "base_uri": "https://localhost:8080/"
        },
        "id": "UBQhrqrhFiy_",
        "outputId": "63b06c68-93f4-454b-fdb8-c7684323fb26"
      },
      "source": [
        "t = nlp('εισαγγελεας εισαγγελεων εισαγγελεις'.upper())\n",
        "for token in t:\n",
        "    print(token.text,token.lemma_,stemmer.stem(token.text))"
      ],
      "execution_count": null,
      "outputs": [
        {
          "output_type": "stream",
          "text": [
            "ΕΙΣΑΓΓΕΛΕΑΣ εισαγγελεα ΕΙΣΑΓΓΕΛ\n",
            "ΕΙΣΑΓΓΕΛΕΩΝ εισαγγελεων ΕΙΣΑΓΓΕΛ\n",
            "ΕΙΣΑΓΓΕΛΕΙΣ εισαγγελεις ΕΙΣΑΓΓΕΛ\n"
          ],
          "name": "stdout"
        }
      ]
    },
    {
      "cell_type": "code",
      "metadata": {
        "id": "4tmCQgT7FuM0"
      },
      "source": [
        "def stemming(word):\n",
        "    return \" \".join([stemmer.stem(t.text)  for t in nlp(word.upper())]) "
      ],
      "execution_count": null,
      "outputs": []
    },
    {
      "cell_type": "code",
      "metadata": {
        "colab": {
          "base_uri": "https://localhost:8080/",
          "height": 34
        },
        "id": "1x7Wl9XbGr4r",
        "outputId": "8860c451-ba11-451f-f5d1-5b77b15ff58c"
      },
      "source": [
        "data['body_clean'] = data['body_clean'].apply(lambda x : stemming(x) )\n",
        "data['body_clean'] [1]"
      ],
      "execution_count": null,
      "outputs": [
        {
          "output_type": "execute_result",
          "data": {
            "application/vnd.google.colaboratory.intrinsic+json": {
              "type": "string"
            },
            "text/plain": [
              "'ΑΚΟΥΣΤ ΘΑΝΑΣ ΚΑΜΗΛΑΡ ΚΑΤΟΙΚ ΔΕΛΤ ΕΒΡ ΑΝΑΦΕΡ ΠΡΩΙΝ ΕΚΠΟΜΠ ΜΑXIMUM FM 936 ΔΚΟΛ'"
            ]
          },
          "metadata": {},
          "execution_count": 173
        }
      ]
    },
    {
      "cell_type": "code",
      "metadata": {
        "colab": {
          "base_uri": "https://localhost:8080/",
          "height": 34
        },
        "id": "EfyGW6dLcGzh",
        "outputId": "543cb1a5-2fa3-4ca7-a2dd-699ab938662f"
      },
      "source": [
        "data['title_clean'] = data['title_clean'].apply(lambda x : stemming(x) )\n",
        "data['title_clean'] [1]"
      ],
      "execution_count": null,
      "outputs": [
        {
          "output_type": "execute_result",
          "data": {
            "application/vnd.google.colaboratory.intrinsic+json": {
              "type": "string"
            },
            "text/plain": [
              "'ΘΑΝΑΣ ΚΑΜΗΛΑΡ : \" ΛΑΘΡΟΔΙΑΚΙΝΗΤ ΗΤ Ο ΚΛΕΦΤ ΤΗΣ ΒΑΡΚ ΣΤ ΔΕΛΤ ΤΟ ΕΒΡ \"'"
            ]
          },
          "metadata": {},
          "execution_count": 174
        }
      ]
    },
    {
      "cell_type": "code",
      "metadata": {
        "colab": {
          "base_uri": "https://localhost:8080/",
          "height": 34
        },
        "id": "ALWQLef3HITo",
        "outputId": "2b2fcdfe-bbe6-4ddf-f84a-4c7c62ab57e8"
      },
      "source": [
        "data['title_clean'] [4]"
      ],
      "execution_count": null,
      "outputs": [
        {
          "output_type": "execute_result",
          "data": {
            "application/vnd.google.colaboratory.intrinsic+json": {
              "type": "string"
            },
            "text/plain": [
              "'ΣΥΓΚΛΟΝΙΣΤ ΒΙΝΤΕ : ΑΡΜΕΝ ΣΤΡΑΤΙΩΤ ΑΝΑΦΕΡ ΣΕ ΑΞΙΩΜΑΤ ΔΙΠΛ ΣΕ ΝΕΚΡ ΣΥΜΠΟΛΕΜΙΣΤ ΤΟΥ'"
            ]
          },
          "metadata": {},
          "execution_count": 175
        }
      ]
    },
    {
      "cell_type": "code",
      "metadata": {
        "colab": {
          "base_uri": "https://localhost:8080/",
          "height": 416
        },
        "id": "HTOs7TehKhdb",
        "outputId": "2d91a306-d766-4c48-b575-43a62be7b797"
      },
      "source": [
        "AIL_df = pd.read_csv(\"/gdrive/My Drive/Colab Notebooks/greek_intensity.csv\")\n",
        "AIL_df"
      ],
      "execution_count": null,
      "outputs": [
        {
          "output_type": "execute_result",
          "data": {
            "text/html": [
              "<div>\n",
              "<style scoped>\n",
              "    .dataframe tbody tr th:only-of-type {\n",
              "        vertical-align: middle;\n",
              "    }\n",
              "\n",
              "    .dataframe tbody tr th {\n",
              "        vertical-align: top;\n",
              "    }\n",
              "\n",
              "    .dataframe thead th {\n",
              "        text-align: right;\n",
              "    }\n",
              "</style>\n",
              "<table border=\"1\" class=\"dataframe\">\n",
              "  <thead>\n",
              "    <tr style=\"text-align: right;\">\n",
              "      <th></th>\n",
              "      <th>term</th>\n",
              "      <th>score</th>\n",
              "      <th>AffectDimension</th>\n",
              "    </tr>\n",
              "  </thead>\n",
              "  <tbody>\n",
              "    <tr>\n",
              "      <th>0</th>\n",
              "      <td>εξοργισμένοι</td>\n",
              "      <td>0.964</td>\n",
              "      <td>anger</td>\n",
              "    </tr>\n",
              "    <tr>\n",
              "      <th>1</th>\n",
              "      <td>κτηνωδία</td>\n",
              "      <td>0.959</td>\n",
              "      <td>anger</td>\n",
              "    </tr>\n",
              "    <tr>\n",
              "      <th>2</th>\n",
              "      <td>έχθρα</td>\n",
              "      <td>0.953</td>\n",
              "      <td>anger</td>\n",
              "    </tr>\n",
              "    <tr>\n",
              "      <th>3</th>\n",
              "      <td>μισητός</td>\n",
              "      <td>0.940</td>\n",
              "      <td>anger</td>\n",
              "    </tr>\n",
              "    <tr>\n",
              "      <th>4</th>\n",
              "      <td>τρομοκρατώ</td>\n",
              "      <td>0.939</td>\n",
              "      <td>anger</td>\n",
              "    </tr>\n",
              "    <tr>\n",
              "      <th>...</th>\n",
              "      <td>...</td>\n",
              "      <td>...</td>\n",
              "      <td>...</td>\n",
              "    </tr>\n",
              "    <tr>\n",
              "      <th>9439</th>\n",
              "      <td>ψεύδος</td>\n",
              "      <td>0.164</td>\n",
              "      <td>trust</td>\n",
              "    </tr>\n",
              "    <tr>\n",
              "      <th>9440</th>\n",
              "      <td>φυγάς</td>\n",
              "      <td>0.141</td>\n",
              "      <td>trust</td>\n",
              "    </tr>\n",
              "    <tr>\n",
              "      <th>9441</th>\n",
              "      <td>διαζύγιο</td>\n",
              "      <td>0.133</td>\n",
              "      <td>trust</td>\n",
              "    </tr>\n",
              "    <tr>\n",
              "      <th>9442</th>\n",
              "      <td>δόλωμα</td>\n",
              "      <td>0.133</td>\n",
              "      <td>trust</td>\n",
              "    </tr>\n",
              "    <tr>\n",
              "      <th>9443</th>\n",
              "      <td>αχρείος</td>\n",
              "      <td>0.117</td>\n",
              "      <td>trust</td>\n",
              "    </tr>\n",
              "  </tbody>\n",
              "</table>\n",
              "<p>9444 rows × 3 columns</p>\n",
              "</div>"
            ],
            "text/plain": [
              "              term  score AffectDimension\n",
              "0     εξοργισμένοι  0.964           anger\n",
              "1         κτηνωδία  0.959           anger\n",
              "2            έχθρα  0.953           anger\n",
              "3          μισητός  0.940           anger\n",
              "4       τρομοκρατώ  0.939           anger\n",
              "...            ...    ...             ...\n",
              "9439        ψεύδος  0.164           trust\n",
              "9440         φυγάς  0.141           trust\n",
              "9441      διαζύγιο  0.133           trust\n",
              "9442        δόλωμα  0.133           trust\n",
              "9443       αχρείος  0.117           trust\n",
              "\n",
              "[9444 rows x 3 columns]"
            ]
          },
          "metadata": {},
          "execution_count": 176
        }
      ]
    },
    {
      "cell_type": "code",
      "metadata": {
        "id": "zBhhjEnXLSyz"
      },
      "source": [
        "AIL_df['term'] = AIL_df['term'].apply(lambda x : removing_accents(x) )"
      ],
      "execution_count": null,
      "outputs": []
    },
    {
      "cell_type": "code",
      "metadata": {
        "colab": {
          "base_uri": "https://localhost:8080/",
          "height": 416
        },
        "id": "JW8X6qnALg3n",
        "outputId": "29a80ab4-af5b-477e-fdd0-14ef29fbaefa"
      },
      "source": [
        "AIL_df"
      ],
      "execution_count": null,
      "outputs": [
        {
          "output_type": "execute_result",
          "data": {
            "text/html": [
              "<div>\n",
              "<style scoped>\n",
              "    .dataframe tbody tr th:only-of-type {\n",
              "        vertical-align: middle;\n",
              "    }\n",
              "\n",
              "    .dataframe tbody tr th {\n",
              "        vertical-align: top;\n",
              "    }\n",
              "\n",
              "    .dataframe thead th {\n",
              "        text-align: right;\n",
              "    }\n",
              "</style>\n",
              "<table border=\"1\" class=\"dataframe\">\n",
              "  <thead>\n",
              "    <tr style=\"text-align: right;\">\n",
              "      <th></th>\n",
              "      <th>term</th>\n",
              "      <th>score</th>\n",
              "      <th>AffectDimension</th>\n",
              "    </tr>\n",
              "  </thead>\n",
              "  <tbody>\n",
              "    <tr>\n",
              "      <th>0</th>\n",
              "      <td>ΕΞΟΡΓΙΣΜΕΝΟΙ</td>\n",
              "      <td>0.964</td>\n",
              "      <td>anger</td>\n",
              "    </tr>\n",
              "    <tr>\n",
              "      <th>1</th>\n",
              "      <td>ΚΤΗΝΩΔΙΑ</td>\n",
              "      <td>0.959</td>\n",
              "      <td>anger</td>\n",
              "    </tr>\n",
              "    <tr>\n",
              "      <th>2</th>\n",
              "      <td>ΕΧΘΡΑ</td>\n",
              "      <td>0.953</td>\n",
              "      <td>anger</td>\n",
              "    </tr>\n",
              "    <tr>\n",
              "      <th>3</th>\n",
              "      <td>ΜΙΣΗΤΟΣ</td>\n",
              "      <td>0.940</td>\n",
              "      <td>anger</td>\n",
              "    </tr>\n",
              "    <tr>\n",
              "      <th>4</th>\n",
              "      <td>ΤΡΟΜΟΚΡΑΤΩ</td>\n",
              "      <td>0.939</td>\n",
              "      <td>anger</td>\n",
              "    </tr>\n",
              "    <tr>\n",
              "      <th>...</th>\n",
              "      <td>...</td>\n",
              "      <td>...</td>\n",
              "      <td>...</td>\n",
              "    </tr>\n",
              "    <tr>\n",
              "      <th>9439</th>\n",
              "      <td>ΨΕΥΔΟΣ</td>\n",
              "      <td>0.164</td>\n",
              "      <td>trust</td>\n",
              "    </tr>\n",
              "    <tr>\n",
              "      <th>9440</th>\n",
              "      <td>ΦΥΓΑΣ</td>\n",
              "      <td>0.141</td>\n",
              "      <td>trust</td>\n",
              "    </tr>\n",
              "    <tr>\n",
              "      <th>9441</th>\n",
              "      <td>ΔΙΑΖΥΓΙΟ</td>\n",
              "      <td>0.133</td>\n",
              "      <td>trust</td>\n",
              "    </tr>\n",
              "    <tr>\n",
              "      <th>9442</th>\n",
              "      <td>ΔΟΛΩΜΑ</td>\n",
              "      <td>0.133</td>\n",
              "      <td>trust</td>\n",
              "    </tr>\n",
              "    <tr>\n",
              "      <th>9443</th>\n",
              "      <td>ΑΧΡΕΙΟΣ</td>\n",
              "      <td>0.117</td>\n",
              "      <td>trust</td>\n",
              "    </tr>\n",
              "  </tbody>\n",
              "</table>\n",
              "<p>9444 rows × 3 columns</p>\n",
              "</div>"
            ],
            "text/plain": [
              "              term  score AffectDimension\n",
              "0     ΕΞΟΡΓΙΣΜΕΝΟΙ  0.964           anger\n",
              "1         ΚΤΗΝΩΔΙΑ  0.959           anger\n",
              "2            ΕΧΘΡΑ  0.953           anger\n",
              "3          ΜΙΣΗΤΟΣ  0.940           anger\n",
              "4       ΤΡΟΜΟΚΡΑΤΩ  0.939           anger\n",
              "...            ...    ...             ...\n",
              "9439        ΨΕΥΔΟΣ  0.164           trust\n",
              "9440         ΦΥΓΑΣ  0.141           trust\n",
              "9441      ΔΙΑΖΥΓΙΟ  0.133           trust\n",
              "9442        ΔΟΛΩΜΑ  0.133           trust\n",
              "9443       ΑΧΡΕΙΟΣ  0.117           trust\n",
              "\n",
              "[9444 rows x 3 columns]"
            ]
          },
          "metadata": {},
          "execution_count": 178
        }
      ]
    },
    {
      "cell_type": "code",
      "metadata": {
        "id": "rnoYUWXiLqtO"
      },
      "source": [
        "AIL_df['term'] = AIL_df['term'].apply(lambda x : stemming(x) )"
      ],
      "execution_count": null,
      "outputs": []
    },
    {
      "cell_type": "code",
      "metadata": {
        "colab": {
          "base_uri": "https://localhost:8080/"
        },
        "id": "qipUizK3TW4q",
        "outputId": "618d3e33-e2be-4c57-cd9a-1228b6b77a28"
      },
      "source": [
        "AIL_df[AIL_df.term=='ΕΞΟΡΓΙΣΜΕΝ']"
      ],
      "execution_count": null,
      "outputs": [
        {
          "output_type": "execute_result",
          "data": {
            "text/html": [
              "<div>\n",
              "<style scoped>\n",
              "    .dataframe tbody tr th:only-of-type {\n",
              "        vertical-align: middle;\n",
              "    }\n",
              "\n",
              "    .dataframe tbody tr th {\n",
              "        vertical-align: top;\n",
              "    }\n",
              "\n",
              "    .dataframe thead th {\n",
              "        text-align: right;\n",
              "    }\n",
              "</style>\n",
              "<table border=\"1\" class=\"dataframe\">\n",
              "  <thead>\n",
              "    <tr style=\"text-align: right;\">\n",
              "      <th></th>\n",
              "      <th>term</th>\n",
              "      <th>score</th>\n",
              "      <th>AffectDimension</th>\n",
              "    </tr>\n",
              "  </thead>\n",
              "  <tbody>\n",
              "    <tr>\n",
              "      <th>0</th>\n",
              "      <td>ΕΞΟΡΓΙΣΜΕΝ</td>\n",
              "      <td>0.964</td>\n",
              "      <td>anger</td>\n",
              "    </tr>\n",
              "    <tr>\n",
              "      <th>6</th>\n",
              "      <td>ΕΞΟΡΓΙΣΜΕΝ</td>\n",
              "      <td>0.938</td>\n",
              "      <td>anger</td>\n",
              "    </tr>\n",
              "    <tr>\n",
              "      <th>13</th>\n",
              "      <td>ΕΞΟΡΓΙΣΜΕΝ</td>\n",
              "      <td>0.916</td>\n",
              "      <td>anger</td>\n",
              "    </tr>\n",
              "  </tbody>\n",
              "</table>\n",
              "</div>"
            ],
            "text/plain": [
              "          term  score AffectDimension\n",
              "0   ΕΞΟΡΓΙΣΜΕΝ  0.964           anger\n",
              "6   ΕΞΟΡΓΙΣΜΕΝ  0.938           anger\n",
              "13  ΕΞΟΡΓΙΣΜΕΝ  0.916           anger"
            ]
          },
          "metadata": {},
          "execution_count": 180
        }
      ]
    },
    {
      "cell_type": "code",
      "metadata": {
        "colab": {
          "base_uri": "https://localhost:8080/"
        },
        "id": "f4BJw5lschtk",
        "outputId": "ab1f647b-6648-4bb9-bcb3-7b13993cafe3"
      },
      "source": [
        "!pip install -q wordcloud\n",
        "import wordcloud\n",
        "\n",
        "import nltk\n",
        "nltk.download('stopwords')\n",
        "nltk.download('wordnet')\n",
        "nltk.download('punkt')\n",
        "nltk.download('averaged_perceptron_tagger') "
      ],
      "execution_count": null,
      "outputs": [
        {
          "output_type": "stream",
          "text": [
            "[nltk_data] Downloading package stopwords to /root/nltk_data...\n",
            "[nltk_data]   Package stopwords is already up-to-date!\n",
            "[nltk_data] Downloading package wordnet to /root/nltk_data...\n",
            "[nltk_data]   Package wordnet is already up-to-date!\n",
            "[nltk_data] Downloading package punkt to /root/nltk_data...\n",
            "[nltk_data]   Package punkt is already up-to-date!\n",
            "[nltk_data] Downloading package averaged_perceptron_tagger to\n",
            "[nltk_data]     /root/nltk_data...\n",
            "[nltk_data]   Package averaged_perceptron_tagger is already up-to-\n",
            "[nltk_data]       date!\n"
          ],
          "name": "stdout"
        },
        {
          "output_type": "execute_result",
          "data": {
            "text/plain": [
              "True"
            ]
          },
          "metadata": {},
          "execution_count": 181
        }
      ]
    },
    {
      "cell_type": "code",
      "metadata": {
        "colab": {
          "base_uri": "https://localhost:8080/"
        },
        "id": "eZOJ8Djfbkvn",
        "outputId": "524ee54a-8889-4d11-df7d-79eff3d15ddc"
      },
      "source": [
        "#anger\n",
        "w2affect = []\n",
        "for w,score,dim in AIL_df.values:\n",
        "    w2affect.append({dim:score,'w':w})\n",
        "w2affects = {}\n",
        "df = pd.DataFrame(w2affect)\n",
        "df = df.groupby('w').sum().reset_index()\n",
        "for w,anger,anticipation, disgust,fear,joy,sadness, surprise, trust in df[['w','anger','anticipation', 'disgust','fear','joy','sadness', 'surprise', 'trust']].values:\n",
        "    w2affects[w] = {'anger':anger,'anticipation':anticipation,'disgust':disgust,'fear':fear, 'joy':joy,'sadness':sadness, 'surprise':surprise, 'trust': trust}\n",
        "\n",
        "def get_anger_score(doc,tokenizer=nltk.word_tokenize,agg='mean'):\n",
        "    if type(doc)==str:\n",
        "        doc = tokenizer(doc)\n",
        "    assert type(doc)==list,\"please input either a list or a string\"\n",
        "    matches = []\n",
        "    for w in doc:\n",
        "        #w = w.lower()\n",
        "        if w in w2affects:\n",
        "            matches.append(w2affects[w])\n",
        "    if len(matches)==0:\n",
        "        return np.nan\n",
        "    scores = pd.DataFrame(matches)\n",
        "    if agg=='mean':\n",
        "        scores = scores.mean()\n",
        "    elif agg=='max':\n",
        "        scores =  scores.max()\n",
        "    else:\n",
        "        scores = agg(scores)\n",
        "    return list(dict(scores).values())[0]\n",
        "\n",
        "get_anger_score('ΕΞΟΡΓΙΣΜΕΝ')"
      ],
      "execution_count": null,
      "outputs": [
        {
          "output_type": "execute_result",
          "data": {
            "text/plain": [
              "2.818"
            ]
          },
          "metadata": {},
          "execution_count": 182
        }
      ]
    },
    {
      "cell_type": "code",
      "metadata": {
        "id": "aA5J7LiJd4hC"
      },
      "source": [
        "import numpy as np"
      ],
      "execution_count": null,
      "outputs": []
    },
    {
      "cell_type": "code",
      "metadata": {
        "id": "zG5Fh28Sc5AI"
      },
      "source": [
        "data['Anger_intensity'] = data['body_clean'].apply(lambda x: get_anger_score(x))"
      ],
      "execution_count": null,
      "outputs": []
    },
    {
      "cell_type": "code",
      "metadata": {
        "id": "2V06vB3ndqUR"
      },
      "source": [
        "data['Anger_int_Title'] = data['title_clean'].apply(lambda x: get_anger_score(x))"
      ],
      "execution_count": null,
      "outputs": []
    },
    {
      "cell_type": "code",
      "metadata": {
        "colab": {
          "base_uri": "https://localhost:8080/"
        },
        "id": "94D8wlpJeOnI",
        "outputId": "38d54268-11dd-4317-f0cf-ad161ed30615"
      },
      "source": [
        "#fear\n",
        "\n",
        "w2affect = []\n",
        "for w,score,dim in AIL_df.values:\n",
        "    w2affect.append({dim:score,'w':w})\n",
        "w2affects = {}\n",
        "df = pd.DataFrame(w2affect)\n",
        "df = df.groupby('w').sum().reset_index()\n",
        "for w,anger,anticipation, disgust,fear,joy,sadness, surprise, trust in df[['w','anger','anticipation', 'disgust','fear','joy','sadness', 'surprise', 'trust']].values:\n",
        "    w2affects[w] = {'anger':anger,'anticipation':anticipation,'disgust':disgust,'fear':fear, 'joy':joy,'sadness':sadness, 'surprise':surprise, 'trust': trust}\n",
        "\n",
        "def get_fear_score(doc,tokenizer=nltk.word_tokenize,agg='mean'):\n",
        "    if type(doc)==str:\n",
        "        doc = tokenizer(doc)\n",
        "    assert type(doc)==list,\"please input either a list or a string\"\n",
        "    matches = []\n",
        "    for w in doc:\n",
        "        #w = w.lower()\n",
        "        if w in w2affects:\n",
        "            matches.append(w2affects[w])\n",
        "    if len(matches)==0:\n",
        "        return np.nan\n",
        "    scores = pd.DataFrame(matches)\n",
        "    if agg=='mean':\n",
        "        scores = scores.mean()\n",
        "    elif agg=='max':\n",
        "        scores =  scores.max()\n",
        "    else:\n",
        "        scores = agg(scores)\n",
        "    return list(dict(scores).values())[3]\n",
        "\n",
        "\n",
        "get_fear_score('ΒΟΜΒΑΡΔΙΣΜ')"
      ],
      "execution_count": null,
      "outputs": [
        {
          "output_type": "execute_result",
          "data": {
            "text/plain": [
              "1.782"
            ]
          },
          "metadata": {},
          "execution_count": 186
        }
      ]
    },
    {
      "cell_type": "code",
      "metadata": {
        "id": "qfm8-DgOeSgZ"
      },
      "source": [
        "data['Fear_intensity'] = data['body_clean'].apply(lambda x: get_fear_score(x))"
      ],
      "execution_count": null,
      "outputs": []
    },
    {
      "cell_type": "code",
      "metadata": {
        "id": "H4wKqx2kd-aK"
      },
      "source": [
        "data['Fear_int_Title'] = data['title_clean'].apply(lambda x: get_fear_score(x))"
      ],
      "execution_count": null,
      "outputs": []
    },
    {
      "cell_type": "code",
      "metadata": {
        "colab": {
          "base_uri": "https://localhost:8080/"
        },
        "id": "3Asc1hkferqC",
        "outputId": "9af27cd6-02ad-40db-ce7c-f8ce4b153bc5"
      },
      "source": [
        "#joy\n",
        "\n",
        "w2affect = []\n",
        "for w,score,dim in AIL_df.values:\n",
        "    w2affect.append({dim:score,'w':w})\n",
        "w2affects = {}\n",
        "df = pd.DataFrame(w2affect)\n",
        "df = df.groupby('w').sum().reset_index()\n",
        "for w,anger,anticipation, disgust,fear,joy,sadness, surprise, trust in df[['w','anger','anticipation', 'disgust','fear','joy','sadness', 'surprise', 'trust']].values:\n",
        "    w2affects[w] = {'anger':anger,'anticipation':anticipation,'disgust':disgust,'fear':fear, 'joy':joy,'sadness':sadness, 'surprise':surprise, 'trust': trust}\n",
        "\n",
        "def get_joy_score(doc,tokenizer=nltk.word_tokenize,agg='mean'):\n",
        "    if type(doc)==str:\n",
        "        doc = tokenizer(doc)\n",
        "    assert type(doc)==list,\"please input either a list or a string\"\n",
        "    matches = []\n",
        "    for w in doc:\n",
        "        #w = w.lower()\n",
        "        if w in w2affects:\n",
        "            matches.append(w2affects[w])\n",
        "    if len(matches)==0:\n",
        "        return np.nan\n",
        "    scores = pd.DataFrame(matches)\n",
        "    if agg=='mean':\n",
        "        scores = scores.mean()\n",
        "    elif agg=='max':\n",
        "        scores =  scores.max()\n",
        "    else:\n",
        "        scores = agg(scores)\n",
        "    return list(dict(scores).values())[4]\n",
        "\n",
        "get_joy_score('ΟΝΕΙΡΟΠΟΛ')"
      ],
      "execution_count": null,
      "outputs": [
        {
          "output_type": "execute_result",
          "data": {
            "text/plain": [
              "0.5"
            ]
          },
          "metadata": {},
          "execution_count": 189
        }
      ]
    },
    {
      "cell_type": "code",
      "metadata": {
        "id": "DoRvBadffVKN"
      },
      "source": [
        "data['Joy_intensity'] = data['body_clean'].apply(lambda x: get_joy_score(x))"
      ],
      "execution_count": null,
      "outputs": []
    },
    {
      "cell_type": "code",
      "metadata": {
        "id": "3f64aAOqeL3u"
      },
      "source": [
        "data['Joy_int_Title'] = data['title_clean'].apply(lambda x: get_joy_score(x))"
      ],
      "execution_count": null,
      "outputs": []
    },
    {
      "cell_type": "code",
      "metadata": {
        "colab": {
          "base_uri": "https://localhost:8080/"
        },
        "id": "3ID10HUlffGB",
        "outputId": "c45fe150-6d38-4e23-b1eb-35b71948b43a"
      },
      "source": [
        "#sadness\n",
        "\n",
        "w2affect = []\n",
        "for w,score,dim in AIL_df.values:\n",
        "    w2affect.append({dim:score,'w':w})\n",
        "w2affects = {}\n",
        "df = pd.DataFrame(w2affect)\n",
        "df = df.groupby('w').sum().reset_index()\n",
        "for w,anger,anticipation, disgust,fear,joy,sadness, surprise, trust in df[['w','anger','anticipation', 'disgust','fear','joy','sadness', 'surprise', 'trust']].values:\n",
        "    w2affects[w] = {'anger':anger,'anticipation':anticipation,'disgust':disgust,'fear':fear, 'joy':joy,'sadness':sadness, 'surprise':surprise, 'trust': trust}\n",
        "\n",
        "def get_sadness_score(doc,tokenizer=nltk.word_tokenize,agg='mean'):\n",
        "    if type(doc)==str:\n",
        "        doc = tokenizer(doc)\n",
        "    assert type(doc)==list,\"please input either a list or a string\"\n",
        "    matches = []\n",
        "    for w in doc:\n",
        "        #w = w.lower()\n",
        "        if w in w2affects:\n",
        "            matches.append(w2affects[w])\n",
        "    if len(matches)==0:\n",
        "        return np.nan\n",
        "    scores = pd.DataFrame(matches)\n",
        "    if agg=='mean':\n",
        "        scores = scores.mean()\n",
        "    elif agg=='max':\n",
        "        scores =  scores.max()\n",
        "    else:\n",
        "        scores = agg(scores)\n",
        "    return list(dict(scores).values())[5]\n",
        "\n",
        "get_sadness_score('ΚΑΤΗΦΕΙ')"
      ],
      "execution_count": null,
      "outputs": [
        {
          "output_type": "execute_result",
          "data": {
            "text/plain": [
              "1.141"
            ]
          },
          "metadata": {},
          "execution_count": 192
        }
      ]
    },
    {
      "cell_type": "code",
      "metadata": {
        "id": "Cm4LDCASfoed"
      },
      "source": [
        "data['Sad_intensity'] = data['body_clean'].apply(lambda x: get_sadness_score(x))"
      ],
      "execution_count": null,
      "outputs": []
    },
    {
      "cell_type": "code",
      "metadata": {
        "id": "1NobL0zIeph2"
      },
      "source": [
        "data['Sad_int_Title'] = data['title_clean'].apply(lambda x: get_sadness_score(x))"
      ],
      "execution_count": null,
      "outputs": []
    },
    {
      "cell_type": "code",
      "metadata": {
        "colab": {
          "base_uri": "https://localhost:8080/"
        },
        "id": "X_bKyzmKfy9P",
        "outputId": "e779be2b-58b9-4fcc-fbe6-a359e59e8d02"
      },
      "source": [
        "data"
      ],
      "execution_count": null,
      "outputs": [
        {
          "output_type": "execute_result",
          "data": {
            "text/html": [
              "<div>\n",
              "<style scoped>\n",
              "    .dataframe tbody tr th:only-of-type {\n",
              "        vertical-align: middle;\n",
              "    }\n",
              "\n",
              "    .dataframe tbody tr th {\n",
              "        vertical-align: top;\n",
              "    }\n",
              "\n",
              "    .dataframe thead th {\n",
              "        text-align: right;\n",
              "    }\n",
              "</style>\n",
              "<table border=\"1\" class=\"dataframe\">\n",
              "  <thead>\n",
              "    <tr style=\"text-align: right;\">\n",
              "      <th></th>\n",
              "      <th>title</th>\n",
              "      <th>link</th>\n",
              "      <th>body</th>\n",
              "      <th>tokenized_title</th>\n",
              "      <th>tokenized_body</th>\n",
              "      <th>num_wds</th>\n",
              "      <th>num_wds_title</th>\n",
              "      <th>uniq_wds_body</th>\n",
              "      <th>without_stopwords</th>\n",
              "      <th>lemmatized_body</th>\n",
              "      <th>anger</th>\n",
              "      <th>positivity</th>\n",
              "      <th>joy</th>\n",
              "      <th>disgust</th>\n",
              "      <th>surprise</th>\n",
              "      <th>trust</th>\n",
              "      <th>anticipation</th>\n",
              "      <th>sadness</th>\n",
              "      <th>negative</th>\n",
              "      <th>fear</th>\n",
              "      <th>title_clean</th>\n",
              "      <th>body_clean</th>\n",
              "      <th>Anger_intensity</th>\n",
              "      <th>Anger_int_Title</th>\n",
              "      <th>Fear_intensity</th>\n",
              "      <th>Fear_int_Title</th>\n",
              "      <th>Joy_intensity</th>\n",
              "      <th>Joy_int_Title</th>\n",
              "      <th>Sad_intensity</th>\n",
              "      <th>Sad_int_Title</th>\n",
              "    </tr>\n",
              "  </thead>\n",
              "  <tbody>\n",
              "    <tr>\n",
              "      <th>0</th>\n",
              "      <td>«Κλείδωσε» η υποψηφιότητα Φουρθιώτη στο πλευρό...</td>\n",
              "      <td>https://www.newsbreak.gr/politiki/181856/kleid...</td>\n",
              "      <td>Όπως όλα δείχνουν, ο Μένιος Φουρθιώτης που ήδη...</td>\n",
              "      <td>κλείδωσε η υποψηφιότητα φουρθιώτη στο πλευρό ...</td>\n",
              "      <td>όπως όλα δείχνουν ο μένιος φουρθιώτης που ήδη ...</td>\n",
              "      <td>210</td>\n",
              "      <td>8</td>\n",
              "      <td>135</td>\n",
              "      <td>δείχνουν μένιος φουρθιώτης θέσει λειτουργία π...</td>\n",
              "      <td>δείχνω μένιος φουρθιώτη θέσω λειτουργία πολι...</td>\n",
              "      <td>3</td>\n",
              "      <td>17</td>\n",
              "      <td>5</td>\n",
              "      <td>1</td>\n",
              "      <td>4</td>\n",
              "      <td>6</td>\n",
              "      <td>7</td>\n",
              "      <td>2</td>\n",
              "      <td>9</td>\n",
              "      <td>6</td>\n",
              "      <td>« ΚΛΕΙΔΩΣ » Η ΥΠΟΨΗΦΙΟΤΗΤ ΦΟΥΡΘΙΩΤ ΣΤ ΠΛΕΥΡ ΤΟ...</td>\n",
              "      <td>ΔΕΙΧΝ ΜΕΝ ΦΟΥΡΘΙΩΤ ΘΕΣ ΛΕΙΤΟΥΡΓ ΠΟΛΙΤ ΓΡΑΦΕ...</td>\n",
              "      <td>0.083735</td>\n",
              "      <td>0.000000</td>\n",
              "      <td>0.064147</td>\n",
              "      <td>0.000000</td>\n",
              "      <td>0.184559</td>\n",
              "      <td>0.133000</td>\n",
              "      <td>0.049147</td>\n",
              "      <td>0.000000</td>\n",
              "    </tr>\n",
              "    <tr>\n",
              "      <th>1</th>\n",
              "      <td>Θανάσης Καμηλάρης: “Λαθροδιακινητές ήταν οι κλ...</td>\n",
              "      <td>https://www.pentapostagma.gr/ethnika-themata/e...</td>\n",
              "      <td>Ακούστε τον Θανάση Καμηλάρη – κάτοικο του Δέλτ...</td>\n",
              "      <td>θανάσης καμηλάρης λαθροδιακινητές ήταν οι κλέφ...</td>\n",
              "      <td>ακούστε τον θανάση καμηλάρη κάτοικο του δέλτα ...</td>\n",
              "      <td>21</td>\n",
              "      <td>12</td>\n",
              "      <td>20</td>\n",
              "      <td>ακούστε θανάση καμηλάρη κάτοικο δέλτα έβρου αν...</td>\n",
              "      <td>ακούστε θανάση καμηλάρη κάτοικο δέλτα έβρου αν...</td>\n",
              "      <td>0</td>\n",
              "      <td>0</td>\n",
              "      <td>0</td>\n",
              "      <td>0</td>\n",
              "      <td>0</td>\n",
              "      <td>0</td>\n",
              "      <td>0</td>\n",
              "      <td>0</td>\n",
              "      <td>0</td>\n",
              "      <td>0</td>\n",
              "      <td>ΘΑΝΑΣ ΚΑΜΗΛΑΡ : \" ΛΑΘΡΟΔΙΑΚΙΝΗΤ ΗΤ Ο ΚΛΕΦΤ ΤΗΣ...</td>\n",
              "      <td>ΑΚΟΥΣΤ ΘΑΝΑΣ ΚΑΜΗΛΑΡ ΚΑΤΟΙΚ ΔΕΛΤ ΕΒΡ ΑΝΑΦΕΡ ΠΡ...</td>\n",
              "      <td>0.000000</td>\n",
              "      <td>0.561000</td>\n",
              "      <td>0.000000</td>\n",
              "      <td>0.547000</td>\n",
              "      <td>0.094000</td>\n",
              "      <td>0.000000</td>\n",
              "      <td>0.000000</td>\n",
              "      <td>0.422000</td>\n",
              "    </tr>\n",
              "    <tr>\n",
              "      <th>2</th>\n",
              "      <td>Νέο σκάνδαλο με το εμβόλιο της Pfizer: Μειώνου...</td>\n",
              "      <td>https://www.pronews.gr/kosmos/eyropaiki-enosi/...</td>\n",
              "      <td>Ο Ευρωπαϊκός Οργανισμός Φαρμάκων ανακοίνωσε σή...</td>\n",
              "      <td>νέο σκάνδαλο με το εμβόλιο της pfizer μειώνουν...</td>\n",
              "      <td>ο ευρωπαϊκός οργανισμός φαρμάκων ανακοίνωσε σή...</td>\n",
              "      <td>267</td>\n",
              "      <td>19</td>\n",
              "      <td>164</td>\n",
              "      <td>ευρωπαϊκός οργανισμός φαρμάκων ανακοίνωσε σήμ...</td>\n",
              "      <td>ευρωπαϊκός οργανισμός φαρμάκας ανακοίνωσε σή...</td>\n",
              "      <td>0</td>\n",
              "      <td>13</td>\n",
              "      <td>2</td>\n",
              "      <td>0</td>\n",
              "      <td>1</td>\n",
              "      <td>9</td>\n",
              "      <td>5</td>\n",
              "      <td>1</td>\n",
              "      <td>3</td>\n",
              "      <td>3</td>\n",
              "      <td>ΝΕ ΣΚΑΝΔΑΛ ΜΕ ΤΟ ΕΜΒΟΛ ΤΗΣ PFIZER : ΜΕΙΩΝ ΤΗ Δ...</td>\n",
              "      <td>ΕΥΡΩΠΑΙΚ ΟΡΓΑΝΙΣΜ ΦΑΡΜΑΚ ΑΝΑΚΟΙΝΩΣ ΣΗΜΕΡ ΜΕ...</td>\n",
              "      <td>0.084833</td>\n",
              "      <td>0.117500</td>\n",
              "      <td>0.038611</td>\n",
              "      <td>0.136750</td>\n",
              "      <td>0.123889</td>\n",
              "      <td>0.231750</td>\n",
              "      <td>0.042333</td>\n",
              "      <td>0.000000</td>\n",
              "    </tr>\n",
              "    <tr>\n",
              "      <th>3</th>\n",
              "      <td>Η ΜΕΓΑΛΥΤΕΡΗ ΑΠΑΤΗ ΣΤΗΝ ΙΣΤΟΡΙΑ ΤΩΝ ΗΠΑ! – ΤΟ ...</td>\n",
              "      <td>https://www.makeleio.gr/εξωφυλλο/Η-ΜΕΓΑΛΥΤΕΡΗ-...</td>\n",
              "      <td>Διαβάστε το άρθρο του Αμερικανού οικονομολόγου...</td>\n",
              "      <td>η μεγαλυτερη απατη στην ιστορια των ηπα το λογ...</td>\n",
              "      <td>διαβάστε το άρθρο του αμερικανού οικονομολόγου...</td>\n",
              "      <td>967</td>\n",
              "      <td>39</td>\n",
              "      <td>492</td>\n",
              "      <td>διαβάστε άρθρο αμερικανού οικονομολόγου paul c...</td>\n",
              "      <td>διαβάμαι άρθρο αμερικανός οικονομολόγος paul c...</td>\n",
              "      <td>37</td>\n",
              "      <td>69</td>\n",
              "      <td>15</td>\n",
              "      <td>17</td>\n",
              "      <td>19</td>\n",
              "      <td>43</td>\n",
              "      <td>39</td>\n",
              "      <td>30</td>\n",
              "      <td>71</td>\n",
              "      <td>30</td>\n",
              "      <td>Η ΜΕΓΑΛ ΑΠΑΤ ΣΤΗΝ ΙΣΤΟΡ ΤΟ ΗΠ ! – ΤΟ ΛΟΓΙΣΜ ΠΟ...</td>\n",
              "      <td>ΔΙΑΒ ΑΡΘΡ ΑΜΕΡΙΚΑΝ ΟΙΚΟΝΟΜΟΛΟΓ PAUL CRAIG ROBE...</td>\n",
              "      <td>0.349924</td>\n",
              "      <td>0.284900</td>\n",
              "      <td>0.292826</td>\n",
              "      <td>0.143800</td>\n",
              "      <td>0.103652</td>\n",
              "      <td>0.074900</td>\n",
              "      <td>0.167408</td>\n",
              "      <td>0.164000</td>\n",
              "    </tr>\n",
              "    <tr>\n",
              "      <th>4</th>\n",
              "      <td>Συγκλονιστικό βίντεο: Αρμένιος στρατιώτης αναφ...</td>\n",
              "      <td>https://www.pronews.gr/amyna-asfaleia/enoples-...</td>\n",
              "      <td>Ενα συγκλονιστικό βίντεο που δείχνει Αρμένιο σ...</td>\n",
              "      <td>συγκλονιστικό βίντεο αρμένιος στρατιώτης αναφέ...</td>\n",
              "      <td>ενα συγκλονιστικό βίντεο που δείχνει αρμένιο σ...</td>\n",
              "      <td>108</td>\n",
              "      <td>12</td>\n",
              "      <td>88</td>\n",
              "      <td>ενα συγκλονιστικό βίντεο δείχνει αρμένιο στρατ...</td>\n",
              "      <td>ενα συγκλονιστικό βίντεο δείχνω αρμένιος στρατ...</td>\n",
              "      <td>6</td>\n",
              "      <td>9</td>\n",
              "      <td>2</td>\n",
              "      <td>0</td>\n",
              "      <td>3</td>\n",
              "      <td>5</td>\n",
              "      <td>3</td>\n",
              "      <td>3</td>\n",
              "      <td>6</td>\n",
              "      <td>6</td>\n",
              "      <td>ΣΥΓΚΛΟΝΙΣΤ ΒΙΝΤΕ : ΑΡΜΕΝ ΣΤΡΑΤΙΩΤ ΑΝΑΦΕΡ ΣΕ ΑΞ...</td>\n",
              "      <td>ΕΝ ΣΥΓΚΛΟΝΙΣΤ ΒΙΝΤΕ ΔΕΙΧΝ ΑΡΜΕΝ ΣΤΡΑΤΙΩΤ Ν ΑΝΑ...</td>\n",
              "      <td>0.246294</td>\n",
              "      <td>0.228000</td>\n",
              "      <td>0.172765</td>\n",
              "      <td>0.166667</td>\n",
              "      <td>0.094588</td>\n",
              "      <td>0.000000</td>\n",
              "      <td>0.103353</td>\n",
              "      <td>0.091000</td>\n",
              "    </tr>\n",
              "    <tr>\n",
              "      <th>...</th>\n",
              "      <td>...</td>\n",
              "      <td>...</td>\n",
              "      <td>...</td>\n",
              "      <td>...</td>\n",
              "      <td>...</td>\n",
              "      <td>...</td>\n",
              "      <td>...</td>\n",
              "      <td>...</td>\n",
              "      <td>...</td>\n",
              "      <td>...</td>\n",
              "      <td>...</td>\n",
              "      <td>...</td>\n",
              "      <td>...</td>\n",
              "      <td>...</td>\n",
              "      <td>...</td>\n",
              "      <td>...</td>\n",
              "      <td>...</td>\n",
              "      <td>...</td>\n",
              "      <td>...</td>\n",
              "      <td>...</td>\n",
              "      <td>...</td>\n",
              "      <td>...</td>\n",
              "      <td>...</td>\n",
              "      <td>...</td>\n",
              "      <td>...</td>\n",
              "      <td>...</td>\n",
              "      <td>...</td>\n",
              "      <td>...</td>\n",
              "      <td>...</td>\n",
              "      <td>...</td>\n",
              "    </tr>\n",
              "    <tr>\n",
              "      <th>1082</th>\n",
              "      <td>Μαγνητική καταιγίδα «χτυπάει» σήμερα την Ελλάδα</td>\n",
              "      <td>https://www.newsbomb.gr/bombplus/texnologia/st...</td>\n",
              "      <td>Το φαινόμενο αποτελεί ουσιαστικά την κατάληξη ...</td>\n",
              "      <td>μαγνητική καταιγίδα χτυπάει σήμερα την ελλάδα</td>\n",
              "      <td>το φαινόμενο αποτελεί ουσιαστικά την κατάληξη ...</td>\n",
              "      <td>289</td>\n",
              "      <td>6</td>\n",
              "      <td>195</td>\n",
              "      <td>φαινόμενο αποτελεί ουσιαστικά κατάληξη ηλιακώ...</td>\n",
              "      <td>φαινόμενο αποτελώ ουσιαστικά κατάληξη ηλιακό...</td>\n",
              "      <td>6</td>\n",
              "      <td>19</td>\n",
              "      <td>3</td>\n",
              "      <td>5</td>\n",
              "      <td>7</td>\n",
              "      <td>12</td>\n",
              "      <td>7</td>\n",
              "      <td>9</td>\n",
              "      <td>22</td>\n",
              "      <td>12</td>\n",
              "      <td>ΜΑΓΝΗΤ ΚΑΤΑΙΓΙΔ « ΧΤΥΠ » ΣΗΜΕΡ ΤΗΝ ΕΛΛΑΔ</td>\n",
              "      <td>ΦΑΙΝΟΜΕΝ ΑΠΟΤΕΛ ΟΥΣΙΑΣΤ ΚΑΤΑΛΗΞ ΗΛΙΑΚ ΕΚΡΗΞ...</td>\n",
              "      <td>0.192468</td>\n",
              "      <td>0.456333</td>\n",
              "      <td>0.302952</td>\n",
              "      <td>0.307333</td>\n",
              "      <td>0.063306</td>\n",
              "      <td>0.000000</td>\n",
              "      <td>0.210274</td>\n",
              "      <td>0.294333</td>\n",
              "    </tr>\n",
              "    <tr>\n",
              "      <th>1083</th>\n",
              "      <td>Τέλος στις χημειοθεραπείες! Νέος τρόπος καταπο...</td>\n",
              "      <td>https://www.briefingnews.gr/node/128379Ω</td>\n",
              "      <td>Αφού επί σειρά ετών ο κόσμος γνώριζε ότι η χημ...</td>\n",
              "      <td>τέλος στις χημειοθεραπείες νέος τρόπος καταπολ...</td>\n",
              "      <td>αφού επί σειρά ετών ο κόσμος γνώριζε ότι η χημ...</td>\n",
              "      <td>939</td>\n",
              "      <td>8</td>\n",
              "      <td>484</td>\n",
              "      <td>σειρά ετών κόσμος γνώριζε χημειοθεραπεία τρόπ...</td>\n",
              "      <td>σειρά ετής κόσμος γνώριζε χημειοθεραπεία τρό...</td>\n",
              "      <td>25</td>\n",
              "      <td>41</td>\n",
              "      <td>12</td>\n",
              "      <td>20</td>\n",
              "      <td>8</td>\n",
              "      <td>27</td>\n",
              "      <td>21</td>\n",
              "      <td>27</td>\n",
              "      <td>65</td>\n",
              "      <td>36</td>\n",
              "      <td>ΤΕΛ ΣΤΙΣ ΧΗΜΕΙΟΘΕΡΑΠΕΙ ! ΝΕ ΤΡΟΠ ΚΑΤΑΠΟΛΕΜΗΣ Τ...</td>\n",
              "      <td>ΣΕΙΡ ΕΤ ΚΟΣΜ ΓΝΩΡΙΖ ΧΗΜΕΙΟΘΕΡΑΠΕΙ ΤΡΟΠ ΠΡΟΣ...</td>\n",
              "      <td>0.337829</td>\n",
              "      <td>0.249667</td>\n",
              "      <td>0.463249</td>\n",
              "      <td>0.276000</td>\n",
              "      <td>0.224127</td>\n",
              "      <td>0.111000</td>\n",
              "      <td>0.448414</td>\n",
              "      <td>0.291667</td>\n",
              "    </tr>\n",
              "    <tr>\n",
              "      <th>1084</th>\n",
              "      <td>ΣΗΜΕΡΑ ΣΤΟ ΛΟΝΔΙΝΟ-ΑΥΡΙΟ ΣΤΗΝ ΑΘΗΝΑ: ΕΠΙΘΕΣΗ Α...</td>\n",
              "      <td>https://www.stoxos.gr/2013/08/blog-post_8374.html</td>\n",
              "      <td>Ιδού τι αναφέρει σχετικά η βρετανική Mail Onli...</td>\n",
              "      <td>σημερα στο λονδινοαυριο στην αθηνα επιθεση αφρ...</td>\n",
              "      <td>ιδού τι αναφέρει σχετικά η βρετανική mail onli...</td>\n",
              "      <td>219</td>\n",
              "      <td>18</td>\n",
              "      <td>142</td>\n",
              "      <td>ιδού αναφέρει σχετικά βρετανική mail online μέ...</td>\n",
              "      <td>ιδού αναφέρω σχετικά βρετανικός mail online μέ...</td>\n",
              "      <td>8</td>\n",
              "      <td>6</td>\n",
              "      <td>4</td>\n",
              "      <td>3</td>\n",
              "      <td>2</td>\n",
              "      <td>7</td>\n",
              "      <td>6</td>\n",
              "      <td>7</td>\n",
              "      <td>14</td>\n",
              "      <td>5</td>\n",
              "      <td>ΣΗΜΕΡ ΣΤ ΛΟΝΔΙΝΟ-ΑΥΡΙΟ ΣΤΗΝ ΑΘΗΝ : ΕΠΙΘΕΣ ΑΦΡΙ...</td>\n",
              "      <td>ΙΔ ΑΝΑΦΕΡ ΣΧΕΤ ΒΡΕΤΑΝ MAIL ONLINE ΜΕΛ ΣΥΜΜΟΡ Γ...</td>\n",
              "      <td>0.378767</td>\n",
              "      <td>2.420000</td>\n",
              "      <td>0.365767</td>\n",
              "      <td>2.265000</td>\n",
              "      <td>0.315033</td>\n",
              "      <td>0.000000</td>\n",
              "      <td>0.183533</td>\n",
              "      <td>0.531000</td>\n",
              "    </tr>\n",
              "    <tr>\n",
              "      <th>1085</th>\n",
              "      <td>Πανικός στη Θεσσαλονίκη: Αυτή είναι η 22χρονη ...</td>\n",
              "      <td>https://www.inewsgr.com/200/panikos-sti-thessa...</td>\n",
              "      <td>Δεν υπάρχουν λόγια. Σοφός ο λαός μας έλεγε πάν...</td>\n",
              "      <td>πανικός στη θεσσαλονίκη αυτή είναι η 22χρονη φ...</td>\n",
              "      <td>δεν υπάρχουν λόγια σοφός ο λαός μας έλεγε πάντ...</td>\n",
              "      <td>56</td>\n",
              "      <td>14</td>\n",
              "      <td>49</td>\n",
              "      <td>υπάρχουν λόγια σοφός λαός έλεγε υπογραφή π λι...</td>\n",
              "      <td>υπάρχω λόγια σοφός λαός έλεγε υπογραφή π λι ...</td>\n",
              "      <td>2</td>\n",
              "      <td>3</td>\n",
              "      <td>1</td>\n",
              "      <td>0</td>\n",
              "      <td>1</td>\n",
              "      <td>3</td>\n",
              "      <td>2</td>\n",
              "      <td>0</td>\n",
              "      <td>4</td>\n",
              "      <td>1</td>\n",
              "      <td>ΠΑΝΙΚ ΣΤ ΘΕΣΣΑΛΟΝ : ΑΥΤ ΕΙΝΑΙ Η 22ΧΡΟΝΗ ΦΟΙΤΗΤ...</td>\n",
              "      <td>ΥΠΑΡΧ ΛΟΓΙ ΣΟΦ ΛΑ ΕΛΕΓ ΥΠΟΓΡΑΦ Π ΛΙ ΟΦΕΙΛ Γ...</td>\n",
              "      <td>0.055125</td>\n",
              "      <td>0.000000</td>\n",
              "      <td>0.000000</td>\n",
              "      <td>0.486000</td>\n",
              "      <td>0.220375</td>\n",
              "      <td>0.239667</td>\n",
              "      <td>0.000000</td>\n",
              "      <td>0.000000</td>\n",
              "    </tr>\n",
              "    <tr>\n",
              "      <th>1086</th>\n",
              "      <td>Είδηση σοκ: γυναίκα υποστηρίζει πως έμεινε έγκ...</td>\n",
              "      <td>https://www.queen.gr/life/daily-info/story/807...</td>\n",
              "      <td>Τι άλλο θα ακούσουμε.  Όσο τρελό και αν σας φα...</td>\n",
              "      <td>είδηση σοκ γυναίκα υποστηρίζει πως έμεινε έγκυ...</td>\n",
              "      <td>τι άλλο θα ακούσουμε όσο τρελό και αν σας φαίν...</td>\n",
              "      <td>153</td>\n",
              "      <td>10</td>\n",
              "      <td>115</td>\n",
              "      <td>ακούσουμε τρελό φαίνεται γυναίκα ισχυρίζεται ...</td>\n",
              "      <td>ακούσω τρελό φαίνεται γυναίκα ισχυρίζομαι μέ...</td>\n",
              "      <td>6</td>\n",
              "      <td>14</td>\n",
              "      <td>10</td>\n",
              "      <td>0</td>\n",
              "      <td>2</td>\n",
              "      <td>10</td>\n",
              "      <td>5</td>\n",
              "      <td>2</td>\n",
              "      <td>9</td>\n",
              "      <td>4</td>\n",
              "      <td>ΕΙΔΗΣ ΣΟΚ : ΓΥΝΑΙΚ ΥΠΟΣΤΗΡΙΖ ΠΩΣ ΜΕΝ ΕΓΚΥ ΑΠΟ ...</td>\n",
              "      <td>ΑΚΟΥΣ ΤΡΕΛ ΦΑΙΝ ΓΥΝΑΙΚ ΙΣΧΥΡΙΖ ΜΕΝ ΕΓΚΥ ΓΕΝ...</td>\n",
              "      <td>0.106269</td>\n",
              "      <td>0.105333</td>\n",
              "      <td>0.105923</td>\n",
              "      <td>0.239667</td>\n",
              "      <td>0.431385</td>\n",
              "      <td>0.070667</td>\n",
              "      <td>0.120192</td>\n",
              "      <td>0.000000</td>\n",
              "    </tr>\n",
              "  </tbody>\n",
              "</table>\n",
              "<p>1087 rows × 30 columns</p>\n",
              "</div>"
            ],
            "text/plain": [
              "                                                  title  ... Sad_int_Title\n",
              "0     «Κλείδωσε» η υποψηφιότητα Φουρθιώτη στο πλευρό...  ...      0.000000\n",
              "1     Θανάσης Καμηλάρης: “Λαθροδιακινητές ήταν οι κλ...  ...      0.422000\n",
              "2     Νέο σκάνδαλο με το εμβόλιο της Pfizer: Μειώνου...  ...      0.000000\n",
              "3     Η ΜΕΓΑΛΥΤΕΡΗ ΑΠΑΤΗ ΣΤΗΝ ΙΣΤΟΡΙΑ ΤΩΝ ΗΠΑ! – ΤΟ ...  ...      0.164000\n",
              "4     Συγκλονιστικό βίντεο: Αρμένιος στρατιώτης αναφ...  ...      0.091000\n",
              "...                                                 ...  ...           ...\n",
              "1082    Μαγνητική καταιγίδα «χτυπάει» σήμερα την Ελλάδα  ...      0.294333\n",
              "1083  Τέλος στις χημειοθεραπείες! Νέος τρόπος καταπο...  ...      0.291667\n",
              "1084  ΣΗΜΕΡΑ ΣΤΟ ΛΟΝΔΙΝΟ-ΑΥΡΙΟ ΣΤΗΝ ΑΘΗΝΑ: ΕΠΙΘΕΣΗ Α...  ...      0.531000\n",
              "1085  Πανικός στη Θεσσαλονίκη: Αυτή είναι η 22χρονη ...  ...      0.000000\n",
              "1086  Είδηση σοκ: γυναίκα υποστηρίζει πως έμεινε έγκ...  ...      0.000000\n",
              "\n",
              "[1087 rows x 30 columns]"
            ]
          },
          "metadata": {},
          "execution_count": 195
        }
      ]
    },
    {
      "cell_type": "code",
      "metadata": {
        "colab": {
          "base_uri": "https://localhost:8080/"
        },
        "id": "uyT0cb8ih7ZJ",
        "outputId": "53b67a64-2f6b-4350-e89c-df8558552bb7"
      },
      "source": [
        "pos = []\n",
        "\n",
        "for doc in nlp.pipe(data['without_stopwords'].astype('unicode').values, batch_size=50):\n",
        "    if doc.is_parsed:\n",
        "        pos.append([n.pos_ for n in doc])\n",
        "    else:\n",
        "        # We want to make sure that the lists of parsed results have the\n",
        "        # same number of entries of the original Dataframe, so add some blanks in case the parse fails\n",
        "        pos.append(None)\n",
        "\n",
        "data['words_pos'] = pos"
      ],
      "execution_count": null,
      "outputs": [
        {
          "output_type": "stream",
          "text": [
            "/usr/local/lib/python3.7/dist-packages/ipykernel_launcher.py:4: DeprecationWarning: [W107] The property `Doc.is_parsed` is deprecated. Use `Doc.has_annotation(\"DEP\")` instead.\n",
            "  after removing the cwd from sys.path.\n"
          ],
          "name": "stderr"
        }
      ]
    },
    {
      "cell_type": "code",
      "metadata": {
        "id": "XIHQW_KWE0_7",
        "colab": {
          "base_uri": "https://localhost:8080/"
        },
        "outputId": "e0d98cdc-5d8d-4335-eea4-025a6b60746a"
      },
      "source": [
        "pos = []\n",
        "\n",
        "for doc in nlp.pipe(data['title'].astype('unicode').values, batch_size=50):\n",
        "    if doc.is_parsed:\n",
        "        pos.append([n.pos_ for n in doc])\n",
        "    else:\n",
        "        # We want to make sure that the lists of parsed results have the\n",
        "        # same number of entries of the original Dataframe, so add some blanks in case the parse fails\n",
        "        pos.append(None)\n",
        "\n",
        "data['title_pos'] = pos"
      ],
      "execution_count": null,
      "outputs": [
        {
          "output_type": "stream",
          "text": [
            "/usr/local/lib/python3.7/dist-packages/ipykernel_launcher.py:4: DeprecationWarning: [W107] The property `Doc.is_parsed` is deprecated. Use `Doc.has_annotation(\"DEP\")` instead.\n",
            "  after removing the cwd from sys.path.\n"
          ],
          "name": "stderr"
        }
      ]
    },
    {
      "cell_type": "code",
      "metadata": {
        "id": "x0qvZdvUjpcJ",
        "colab": {
          "base_uri": "https://localhost:8080/"
        },
        "outputId": "d9b62081-b921-4d2f-8d0d-2b8368207cfb"
      },
      "source": [
        "data['words_pos']"
      ],
      "execution_count": null,
      "outputs": [
        {
          "output_type": "execute_result",
          "data": {
            "text/plain": [
              "0       [SPACE, VERB, ADJ, NOUN, VERB, NOUN, ADJ, NOUN...\n",
              "1       [VERB, X, ADJ, NOUN, NOUN, PRON, VERB, ADJ, NO...\n",
              "2       [SPACE, ADJ, NOUN, NOUN, VERB, ADV, NOUN, NOUN...\n",
              "3       [VERB, NOUN, PROPN, NOUN, X, ADP, NUM, NOUN, A...\n",
              "4       [DET, ADJ, X, VERB, ADJ, NOUN, NOUN, VERB, ADJ...\n",
              "                              ...                        \n",
              "1082    [SPACE, NOUN, VERB, ADV, NOUN, ADJ, NOUN, ADJ,...\n",
              "1083    [SPACE, NOUN, NOUN, NOUN, VERB, PRON, NOUN, NO...\n",
              "1084    [ADV, VERB, ADV, ADJ, X, ADJ, NOUN, NOUN, VERB...\n",
              "1085    [SPACE, VERB, NOUN, ADJ, NOUN, VERB, NOUN, NOU...\n",
              "1086    [SPACE, VERB, DET, VERB, NOUN, VERB, VERB, ADJ...\n",
              "Name: words_pos, Length: 1087, dtype: object"
            ]
          },
          "metadata": {},
          "execution_count": 198
        }
      ]
    },
    {
      "cell_type": "code",
      "metadata": {
        "id": "P8PzH_Q4QFhZ"
      },
      "source": [
        "data['nouns'] = data['words_pos'].map(lambda x: x.count(\"NOUN\"))"
      ],
      "execution_count": null,
      "outputs": []
    },
    {
      "cell_type": "code",
      "metadata": {
        "id": "CVbtdZVubYC0"
      },
      "source": [
        "data['verbs'] = data['words_pos'].map(lambda x: x.count(\"VERB\"))"
      ],
      "execution_count": null,
      "outputs": []
    },
    {
      "cell_type": "code",
      "metadata": {
        "id": "LAH8198Pskt9"
      },
      "source": [
        "data['adjectives'] = data['words_pos'].map(lambda x: x.count(\"ADJ\"))  #epitheto"
      ],
      "execution_count": null,
      "outputs": []
    },
    {
      "cell_type": "code",
      "metadata": {
        "id": "ev4057UvvgFP"
      },
      "source": [
        "data['adverbs'] = data['words_pos'].map(lambda x: x.count(\"ADV\"))  #epirrima"
      ],
      "execution_count": null,
      "outputs": []
    },
    {
      "cell_type": "code",
      "metadata": {
        "id": "JTvxrJxC2vn8"
      },
      "source": [
        "data['pronouns'] = data['words_pos'].map(lambda x: x.count(\"PRON\")) #antonimia"
      ],
      "execution_count": null,
      "outputs": []
    },
    {
      "cell_type": "code",
      "metadata": {
        "id": "S7N4xJMNwdrF"
      },
      "source": [
        "data['punctuation'] = data['words_pos'].map(lambda x: x.count(\"PUNCT\")) #simeia stiksis"
      ],
      "execution_count": null,
      "outputs": []
    },
    {
      "cell_type": "code",
      "metadata": {
        "id": "b1x29xmTx5Yq"
      },
      "source": [
        "data['verbs_title'] = data['title_pos'].map(lambda x: x.count(\"VERB\")) #rimata se titlous"
      ],
      "execution_count": null,
      "outputs": []
    },
    {
      "cell_type": "code",
      "metadata": {
        "id": "BlN7dWXw1zLR"
      },
      "source": [
        "data['ratio'] = data['nouns']/data['verbs']"
      ],
      "execution_count": null,
      "outputs": []
    },
    {
      "cell_type": "code",
      "metadata": {
        "id": "2x7vKe3P8cJG"
      },
      "source": [
        "data['comparative_no'] = data['lemmatized_body'].apply(lambda x: len(([w for w in x.split() if re.match(\"^.*(υτερος|υτερη|υτερο|οτερος|οτερη|οτερο|εστερος|εστερη|εστερο|υτεροι|υτερες|υτερα|εστεροι|εστερες|εστερα|οτεροι|οτερες|οτατα)$\", w)])))"
      ],
      "execution_count": null,
      "outputs": []
    },
    {
      "cell_type": "code",
      "metadata": {
        "id": "N_Ymvy2IDbbq"
      },
      "source": [
        "data['superlative_no'] = data['lemmatized_body'].apply(lambda x: len(([w for w in x.split() if re.match(\"^.*(οτατος|οτατη|οτατο|υτατος|υτατη|υτατο|εστατος|εστατη|εστατο|οτατοι|οτατα|οτατες|υτατοι|υτατες|υτατα|εστατοι|εστατες|εστατα)$\", w)])))"
      ],
      "execution_count": null,
      "outputs": []
    },
    {
      "cell_type": "code",
      "metadata": {
        "colab": {
          "base_uri": "https://localhost:8080/"
        },
        "id": "A39DAE7zkDL2",
        "outputId": "2cf0383a-2b5c-4c53-d0b7-a0edb38303db"
      },
      "source": [
        "data.tail()"
      ],
      "execution_count": null,
      "outputs": [
        {
          "output_type": "execute_result",
          "data": {
            "text/html": [
              "<div>\n",
              "<style scoped>\n",
              "    .dataframe tbody tr th:only-of-type {\n",
              "        vertical-align: middle;\n",
              "    }\n",
              "\n",
              "    .dataframe tbody tr th {\n",
              "        vertical-align: top;\n",
              "    }\n",
              "\n",
              "    .dataframe thead th {\n",
              "        text-align: right;\n",
              "    }\n",
              "</style>\n",
              "<table border=\"1\" class=\"dataframe\">\n",
              "  <thead>\n",
              "    <tr style=\"text-align: right;\">\n",
              "      <th></th>\n",
              "      <th>title</th>\n",
              "      <th>link</th>\n",
              "      <th>body</th>\n",
              "      <th>tokenized_title</th>\n",
              "      <th>tokenized_body</th>\n",
              "      <th>num_wds</th>\n",
              "      <th>num_wds_title</th>\n",
              "      <th>uniq_wds_body</th>\n",
              "      <th>without_stopwords</th>\n",
              "      <th>lemmatized_body</th>\n",
              "      <th>anger</th>\n",
              "      <th>positivity</th>\n",
              "      <th>joy</th>\n",
              "      <th>disgust</th>\n",
              "      <th>surprise</th>\n",
              "      <th>trust</th>\n",
              "      <th>anticipation</th>\n",
              "      <th>sadness</th>\n",
              "      <th>negative</th>\n",
              "      <th>fear</th>\n",
              "      <th>title_clean</th>\n",
              "      <th>body_clean</th>\n",
              "      <th>Anger_intensity</th>\n",
              "      <th>Anger_int_Title</th>\n",
              "      <th>Fear_intensity</th>\n",
              "      <th>Fear_int_Title</th>\n",
              "      <th>Joy_intensity</th>\n",
              "      <th>Joy_int_Title</th>\n",
              "      <th>Sad_intensity</th>\n",
              "      <th>Sad_int_Title</th>\n",
              "      <th>words_pos</th>\n",
              "      <th>title_pos</th>\n",
              "      <th>nouns</th>\n",
              "      <th>verbs</th>\n",
              "      <th>adjectives</th>\n",
              "      <th>adverbs</th>\n",
              "      <th>pronouns</th>\n",
              "      <th>punctuation</th>\n",
              "      <th>verbs_title</th>\n",
              "      <th>ratio</th>\n",
              "      <th>comparative_no</th>\n",
              "      <th>superlative_no</th>\n",
              "    </tr>\n",
              "  </thead>\n",
              "  <tbody>\n",
              "    <tr>\n",
              "      <th>1082</th>\n",
              "      <td>Μαγνητική καταιγίδα «χτυπάει» σήμερα την Ελλάδα</td>\n",
              "      <td>https://www.newsbomb.gr/bombplus/texnologia/st...</td>\n",
              "      <td>Το φαινόμενο αποτελεί ουσιαστικά την κατάληξη ...</td>\n",
              "      <td>μαγνητική καταιγίδα χτυπάει σήμερα την ελλάδα</td>\n",
              "      <td>το φαινόμενο αποτελεί ουσιαστικά την κατάληξη ...</td>\n",
              "      <td>289</td>\n",
              "      <td>6</td>\n",
              "      <td>195</td>\n",
              "      <td>φαινόμενο αποτελεί ουσιαστικά κατάληξη ηλιακώ...</td>\n",
              "      <td>φαινόμενο αποτελώ ουσιαστικά κατάληξη ηλιακό...</td>\n",
              "      <td>6</td>\n",
              "      <td>19</td>\n",
              "      <td>3</td>\n",
              "      <td>5</td>\n",
              "      <td>7</td>\n",
              "      <td>12</td>\n",
              "      <td>7</td>\n",
              "      <td>9</td>\n",
              "      <td>22</td>\n",
              "      <td>12</td>\n",
              "      <td>ΜΑΓΝΗΤ ΚΑΤΑΙΓΙΔ « ΧΤΥΠ » ΣΗΜΕΡ ΤΗΝ ΕΛΛΑΔ</td>\n",
              "      <td>ΦΑΙΝΟΜΕΝ ΑΠΟΤΕΛ ΟΥΣΙΑΣΤ ΚΑΤΑΛΗΞ ΗΛΙΑΚ ΕΚΡΗΞ...</td>\n",
              "      <td>0.192468</td>\n",
              "      <td>0.456333</td>\n",
              "      <td>0.302952</td>\n",
              "      <td>0.307333</td>\n",
              "      <td>0.063306</td>\n",
              "      <td>0.000000</td>\n",
              "      <td>0.210274</td>\n",
              "      <td>0.294333</td>\n",
              "      <td>[SPACE, NOUN, VERB, ADV, NOUN, ADJ, NOUN, ADJ,...</td>\n",
              "      <td>[ADJ, NOUN, PUNCT, VERB, PUNCT, ADV, DET, PROPN]</td>\n",
              "      <td>83</td>\n",
              "      <td>35</td>\n",
              "      <td>29</td>\n",
              "      <td>3</td>\n",
              "      <td>1</td>\n",
              "      <td>1</td>\n",
              "      <td>1</td>\n",
              "      <td>2.371429</td>\n",
              "      <td>0</td>\n",
              "      <td>0</td>\n",
              "    </tr>\n",
              "    <tr>\n",
              "      <th>1083</th>\n",
              "      <td>Τέλος στις χημειοθεραπείες! Νέος τρόπος καταπο...</td>\n",
              "      <td>https://www.briefingnews.gr/node/128379Ω</td>\n",
              "      <td>Αφού επί σειρά ετών ο κόσμος γνώριζε ότι η χημ...</td>\n",
              "      <td>τέλος στις χημειοθεραπείες νέος τρόπος καταπολ...</td>\n",
              "      <td>αφού επί σειρά ετών ο κόσμος γνώριζε ότι η χημ...</td>\n",
              "      <td>939</td>\n",
              "      <td>8</td>\n",
              "      <td>484</td>\n",
              "      <td>σειρά ετών κόσμος γνώριζε χημειοθεραπεία τρόπ...</td>\n",
              "      <td>σειρά ετής κόσμος γνώριζε χημειοθεραπεία τρό...</td>\n",
              "      <td>25</td>\n",
              "      <td>41</td>\n",
              "      <td>12</td>\n",
              "      <td>20</td>\n",
              "      <td>8</td>\n",
              "      <td>27</td>\n",
              "      <td>21</td>\n",
              "      <td>27</td>\n",
              "      <td>65</td>\n",
              "      <td>36</td>\n",
              "      <td>ΤΕΛ ΣΤΙΣ ΧΗΜΕΙΟΘΕΡΑΠΕΙ ! ΝΕ ΤΡΟΠ ΚΑΤΑΠΟΛΕΜΗΣ Τ...</td>\n",
              "      <td>ΣΕΙΡ ΕΤ ΚΟΣΜ ΓΝΩΡΙΖ ΧΗΜΕΙΟΘΕΡΑΠΕΙ ΤΡΟΠ ΠΡΟΣ...</td>\n",
              "      <td>0.337829</td>\n",
              "      <td>0.249667</td>\n",
              "      <td>0.463249</td>\n",
              "      <td>0.276000</td>\n",
              "      <td>0.224127</td>\n",
              "      <td>0.111000</td>\n",
              "      <td>0.448414</td>\n",
              "      <td>0.291667</td>\n",
              "      <td>[SPACE, NOUN, NOUN, NOUN, VERB, PRON, NOUN, NO...</td>\n",
              "      <td>[ADV, ADP, NOUN, PUNCT, ADV, NOUN, NOUN, DET, ...</td>\n",
              "      <td>239</td>\n",
              "      <td>96</td>\n",
              "      <td>124</td>\n",
              "      <td>25</td>\n",
              "      <td>3</td>\n",
              "      <td>0</td>\n",
              "      <td>0</td>\n",
              "      <td>2.489583</td>\n",
              "      <td>0</td>\n",
              "      <td>0</td>\n",
              "    </tr>\n",
              "    <tr>\n",
              "      <th>1084</th>\n",
              "      <td>ΣΗΜΕΡΑ ΣΤΟ ΛΟΝΔΙΝΟ-ΑΥΡΙΟ ΣΤΗΝ ΑΘΗΝΑ: ΕΠΙΘΕΣΗ Α...</td>\n",
              "      <td>https://www.stoxos.gr/2013/08/blog-post_8374.html</td>\n",
              "      <td>Ιδού τι αναφέρει σχετικά η βρετανική Mail Onli...</td>\n",
              "      <td>σημερα στο λονδινοαυριο στην αθηνα επιθεση αφρ...</td>\n",
              "      <td>ιδού τι αναφέρει σχετικά η βρετανική mail onli...</td>\n",
              "      <td>219</td>\n",
              "      <td>18</td>\n",
              "      <td>142</td>\n",
              "      <td>ιδού αναφέρει σχετικά βρετανική mail online μέ...</td>\n",
              "      <td>ιδού αναφέρω σχετικά βρετανικός mail online μέ...</td>\n",
              "      <td>8</td>\n",
              "      <td>6</td>\n",
              "      <td>4</td>\n",
              "      <td>3</td>\n",
              "      <td>2</td>\n",
              "      <td>7</td>\n",
              "      <td>6</td>\n",
              "      <td>7</td>\n",
              "      <td>14</td>\n",
              "      <td>5</td>\n",
              "      <td>ΣΗΜΕΡ ΣΤ ΛΟΝΔΙΝΟ-ΑΥΡΙΟ ΣΤΗΝ ΑΘΗΝ : ΕΠΙΘΕΣ ΑΦΡΙ...</td>\n",
              "      <td>ΙΔ ΑΝΑΦΕΡ ΣΧΕΤ ΒΡΕΤΑΝ MAIL ONLINE ΜΕΛ ΣΥΜΜΟΡ Γ...</td>\n",
              "      <td>0.378767</td>\n",
              "      <td>2.420000</td>\n",
              "      <td>0.365767</td>\n",
              "      <td>2.265000</td>\n",
              "      <td>0.315033</td>\n",
              "      <td>0.000000</td>\n",
              "      <td>0.183533</td>\n",
              "      <td>0.531000</td>\n",
              "      <td>[ADV, VERB, ADV, ADJ, X, ADJ, NOUN, NOUN, VERB...</td>\n",
              "      <td>[PROPN, NOUN, VERB, NOUN, NOUN, PUNCT, NOUN, N...</td>\n",
              "      <td>39</td>\n",
              "      <td>30</td>\n",
              "      <td>13</td>\n",
              "      <td>6</td>\n",
              "      <td>2</td>\n",
              "      <td>0</td>\n",
              "      <td>3</td>\n",
              "      <td>1.300000</td>\n",
              "      <td>0</td>\n",
              "      <td>0</td>\n",
              "    </tr>\n",
              "    <tr>\n",
              "      <th>1085</th>\n",
              "      <td>Πανικός στη Θεσσαλονίκη: Αυτή είναι η 22χρονη ...</td>\n",
              "      <td>https://www.inewsgr.com/200/panikos-sti-thessa...</td>\n",
              "      <td>Δεν υπάρχουν λόγια. Σοφός ο λαός μας έλεγε πάν...</td>\n",
              "      <td>πανικός στη θεσσαλονίκη αυτή είναι η 22χρονη φ...</td>\n",
              "      <td>δεν υπάρχουν λόγια σοφός ο λαός μας έλεγε πάντ...</td>\n",
              "      <td>56</td>\n",
              "      <td>14</td>\n",
              "      <td>49</td>\n",
              "      <td>υπάρχουν λόγια σοφός λαός έλεγε υπογραφή π λι...</td>\n",
              "      <td>υπάρχω λόγια σοφός λαός έλεγε υπογραφή π λι ...</td>\n",
              "      <td>2</td>\n",
              "      <td>3</td>\n",
              "      <td>1</td>\n",
              "      <td>0</td>\n",
              "      <td>1</td>\n",
              "      <td>3</td>\n",
              "      <td>2</td>\n",
              "      <td>0</td>\n",
              "      <td>4</td>\n",
              "      <td>1</td>\n",
              "      <td>ΠΑΝΙΚ ΣΤ ΘΕΣΣΑΛΟΝ : ΑΥΤ ΕΙΝΑΙ Η 22ΧΡΟΝΗ ΦΟΙΤΗΤ...</td>\n",
              "      <td>ΥΠΑΡΧ ΛΟΓΙ ΣΟΦ ΛΑ ΕΛΕΓ ΥΠΟΓΡΑΦ Π ΛΙ ΟΦΕΙΛ Γ...</td>\n",
              "      <td>0.055125</td>\n",
              "      <td>0.000000</td>\n",
              "      <td>0.000000</td>\n",
              "      <td>0.486000</td>\n",
              "      <td>0.220375</td>\n",
              "      <td>0.239667</td>\n",
              "      <td>0.000000</td>\n",
              "      <td>0.000000</td>\n",
              "      <td>[SPACE, VERB, NOUN, ADJ, NOUN, VERB, NOUN, NOU...</td>\n",
              "      <td>[ADJ, ADP, PROPN, PUNCT, PRON, AUX, DET, PRON,...</td>\n",
              "      <td>14</td>\n",
              "      <td>8</td>\n",
              "      <td>4</td>\n",
              "      <td>1</td>\n",
              "      <td>0</td>\n",
              "      <td>0</td>\n",
              "      <td>1</td>\n",
              "      <td>1.750000</td>\n",
              "      <td>0</td>\n",
              "      <td>0</td>\n",
              "    </tr>\n",
              "    <tr>\n",
              "      <th>1086</th>\n",
              "      <td>Είδηση σοκ: γυναίκα υποστηρίζει πως έμεινε έγκ...</td>\n",
              "      <td>https://www.queen.gr/life/daily-info/story/807...</td>\n",
              "      <td>Τι άλλο θα ακούσουμε.  Όσο τρελό και αν σας φα...</td>\n",
              "      <td>είδηση σοκ γυναίκα υποστηρίζει πως έμεινε έγκυ...</td>\n",
              "      <td>τι άλλο θα ακούσουμε όσο τρελό και αν σας φαίν...</td>\n",
              "      <td>153</td>\n",
              "      <td>10</td>\n",
              "      <td>115</td>\n",
              "      <td>ακούσουμε τρελό φαίνεται γυναίκα ισχυρίζεται ...</td>\n",
              "      <td>ακούσω τρελό φαίνεται γυναίκα ισχυρίζομαι μέ...</td>\n",
              "      <td>6</td>\n",
              "      <td>14</td>\n",
              "      <td>10</td>\n",
              "      <td>0</td>\n",
              "      <td>2</td>\n",
              "      <td>10</td>\n",
              "      <td>5</td>\n",
              "      <td>2</td>\n",
              "      <td>9</td>\n",
              "      <td>4</td>\n",
              "      <td>ΕΙΔΗΣ ΣΟΚ : ΓΥΝΑΙΚ ΥΠΟΣΤΗΡΙΖ ΠΩΣ ΜΕΝ ΕΓΚΥ ΑΠΟ ...</td>\n",
              "      <td>ΑΚΟΥΣ ΤΡΕΛ ΦΑΙΝ ΓΥΝΑΙΚ ΙΣΧΥΡΙΖ ΜΕΝ ΕΓΚΥ ΓΕΝ...</td>\n",
              "      <td>0.106269</td>\n",
              "      <td>0.105333</td>\n",
              "      <td>0.105923</td>\n",
              "      <td>0.239667</td>\n",
              "      <td>0.431385</td>\n",
              "      <td>0.070667</td>\n",
              "      <td>0.120192</td>\n",
              "      <td>0.000000</td>\n",
              "      <td>[SPACE, VERB, DET, VERB, NOUN, VERB, VERB, ADJ...</td>\n",
              "      <td>[NOUN, NOUN, PUNCT, NOUN, VERB, SCONJ, VERB, A...</td>\n",
              "      <td>23</td>\n",
              "      <td>23</td>\n",
              "      <td>9</td>\n",
              "      <td>5</td>\n",
              "      <td>1</td>\n",
              "      <td>0</td>\n",
              "      <td>2</td>\n",
              "      <td>1.000000</td>\n",
              "      <td>0</td>\n",
              "      <td>0</td>\n",
              "    </tr>\n",
              "  </tbody>\n",
              "</table>\n",
              "</div>"
            ],
            "text/plain": [
              "                                                  title  ... superlative_no\n",
              "1082    Μαγνητική καταιγίδα «χτυπάει» σήμερα την Ελλάδα  ...              0\n",
              "1083  Τέλος στις χημειοθεραπείες! Νέος τρόπος καταπο...  ...              0\n",
              "1084  ΣΗΜΕΡΑ ΣΤΟ ΛΟΝΔΙΝΟ-ΑΥΡΙΟ ΣΤΗΝ ΑΘΗΝΑ: ΕΠΙΘΕΣΗ Α...  ...              0\n",
              "1085  Πανικός στη Θεσσαλονίκη: Αυτή είναι η 22χρονη ...  ...              0\n",
              "1086  Είδηση σοκ: γυναίκα υποστηρίζει πως έμεινε έγκ...  ...              0\n",
              "\n",
              "[5 rows x 42 columns]"
            ]
          },
          "metadata": {},
          "execution_count": 209
        }
      ]
    },
    {
      "cell_type": "code",
      "metadata": {
        "id": "3KhO-BQR55MF"
      },
      "source": [
        "infla = np.loadtxt(\"/gdrive/My Drive/Colab Notebooks/ivristiko_lex.txt\", delimiter=',', skiprows=1, dtype=str)"
      ],
      "execution_count": null,
      "outputs": []
    },
    {
      "cell_type": "code",
      "metadata": {
        "id": "65R1uhHkgHJ0"
      },
      "source": [
        "infl = infla.tolist()"
      ],
      "execution_count": null,
      "outputs": []
    },
    {
      "cell_type": "code",
      "metadata": {
        "colab": {
          "base_uri": "https://localhost:8080/"
        },
        "id": "a_fcv2SR_Bsr",
        "outputId": "62f83915-b721-407a-e7bd-82fffcfd2026"
      },
      "source": [
        "print (infl)"
      ],
      "execution_count": null,
      "outputs": [
        {
          "output_type": "stream",
          "text": [
            "['^αδιστακτος\\\\s*λαϊκισμός$', '^αθλι-', '^άθλι-', '^αίσχ-', '^ακροδεξ-', '^αλητ-', '^αλιτήρ-', '^αμαρτωλ-', '^ανάθεμ-', '^ανήθικ-', '^ανήμπορ-', '^ανίκαν-', '^ανοησ-', '^ανόητ-', '^ανομί-', '^απατεων-', '^απατεών-', '^αποβράσμ-', '^αποκαΐδι-', '^απομυζ-', '^απόπατ-', '^αποχωρητήρ-', '^αριστερίστικ-', '^αριστερίστικ\\\\s*τσιτάτα', '^αρπαχτ', '^αρρωστημ-', '^αρρωστημένη\\\\s*ψυχοσύνθεση$', '^αρχινταβατζ-', '^αυλικ-', '^αυλοκόλακ-', '^αυταρχικ-', '^αχόρταγ-', '^άχρηστ-', '^αχρηστί- ', '^βλακ-', '^βλάκ-', '^βλαμ-', '^βλαχ-', '^βλήμ-', '^Βόρεια\\\\s*Κορέα', '^βουλιμ-', '^βούλωστο', '^βουλωσ-', '^βαρώνους', '^βαρώνων', '^βαρώνοι', '^βρωμ-', '^εξουσιομανία', '^εξουσιομανής', '^εξουσιομανής\\\\s*βουλιμία$', '^επαναστατική\\\\s*παλινωδία$', '^επαναστατικές\\\\s*παλινωδίες', '^επικίνδυνο\\\\s*είδος\\\\s*λενινιστή$', '^έχει\\\\s*ξεφύγει', '^έχετε\\\\s*ξεφύγει$ ', '^ηθικίζουσα\\\\s*φούσκα$', '^ηλίθι-', '^ηλιθιότητα ', '^θα\\\\s*έπρεπε\\\\s*να\\\\s*ντρέπεστε$', '^θεομπαίχτ-', '^θράσ- ', '^ιδεολη- ', '^καθάρμ-', '^κάθαρμ-', '^καθεστώς\\\\s*ανομίας$', '^κακομοιρ-', '^κακομοίρ-', '^κακοτροπ-', '^κακότροπ-', '^κακούργ-', '^κακοφορμ-', '^καναλάρχ-', '^καπάτσ-', '^καραγκιόζ-', '^καταθλ-', '^κατακραυ-', '^κατάντ-', '^κατάπτυ-', '^καταστροφ-', '^καταστρέψατε', '^καταστρέφετε', '^κατέστρεψ-', '^κλαδικές\\\\s*', 'καναλαρχών$', '^κλέβ-', '^κλέφ-', '^κλεψ-', '^κομμούν-', '^κομμουνι-', '^κομμουνιστικοί\\\\s*παράδεισοι$', '^κομπιν-', '^κομπίν-', '^κοροϊδ-', '^μπάχαλο', '^μπιρ\\\\s*παρά$', '^μπολσεβίκικ- ', '^ναρκισσ-', '^νταβα-', '^ντρέπεστε', '^ντροπή ', '^ξεδοντι-', '^ξεπουλημ-', '^ξεπούλ-', '^ξιπασμέν- ', '^οννεδίτ-', '^οπίσθια', '^οργι-', '^ορδές\\\\s*λαθρομεταναστών', '^οχετ- ^παιδί\\\\s*της\\\\s*Siemens', '^παιδιά\\\\s*της\\\\s*Siemens', '^παίζουν\\\\s*τα\\\\s*ρέστα\\\\s*τους', '^παλαβ-', '^παλαιοαριστερ-', '^παλιόχαρτ-', '^πανωλεθρία', '^παρακράτος$', '^παρακρατικ-', '^παραλήρ-', '^παραμάγαζ-', '^παρανομ-', '^παράνομ-', '^παρασιτ-', '^παρασυνταγμ-', '^πάρτι\\\\s*της\\\\s*διαπλοκής', '^πασοκο-', '^πασόκο-', '^πασοκογενε-', '^πασπίτ-', '^πατριδοκάπηλ-', '^πιθηκίζ-', '^πλιάτσικ-', '^πολιτική\\\\s*ρηχότητα', '^πορν-', '^πουλημεν-', '^πραξικοπ-', '^πραξικοπηματ-', '^πρασινοφρουρ-', '^προδο-', '^προδότ-', '^γάιδαρ-', '^γαϊδούρ-', '^γελοι-', '^γελοί-', '^γερμανοτσολ-', '^γιουρούσ-', '^γκιλοτίν-', '^γκούλαγκ', '^γλείφ-', '^γλείψ-', '^γουρούν-', '^γουστάρ-', '^γύφτ- ^δαιμον-', '^δαπίτ-', '^δεν\\\\s*ντρέπστε', '^δεν\\\\s*ντρέπεσαι$', '^δεξιίστικ-', '^δηλητήρ-', '^διαπλεκόμενοι\\\\s*ολιγάρχες$', '^διαπλεκόμενους\\\\s*ολιγάρχες', '^διαπλοκή', '^διαφθορά', '^διεφθαρμέν-', '^δικτατορ-', '^δικτάτορ-', '^διχαστικ-', '^δόλι-', '^δολιότητα', '^δουλεμπορ-', '^δωσίλογ- ', '^εγκλημα-', '^εθνικιστ-', '^εθνολαϊκισμ-', '^εθνολαϊκιστ-', '^εθνοσοσιαλιστι-', '^εθνοσσιαλισ-', '^εκβιά-', '^εκπορν-', '^εκτροπ-', '^έκτροπ-', '^έκτρωμ-', '^εκτρωμ-', '^εκφοβιστικ-', '^ελληνάρ-', '^εμετ-', '^εξάμβλωμ-', '^κουκουέ-', '^κουρελ-', '^κουρελόχαρτ-', '^κουτόφραγκ-', '^κουτσαβάκ-', '^κούφιες\\\\s*ρητορείες$', '^κόφτο$', '^κόψτο$', '^κόψτε\\\\s*την\\\\s*πλάκα$', '^κόφτε\\\\s*την\\\\s*πλάκα$', '^κρατικοδίαιτ-', '^κρεσέντο\\\\s*λαϊκισμού$', '^κρετίν-', '^κρίση\\\\s*μεγαλείου$', '^κωλοτούμπ- ', '^λαθρομεταναστ-', '^λαθρομετανάστ-', '^λαθροπρόσφυγ-', '^λαϊκισ-', '^λαιμητόμ-', '^λαμογ-', '^λάσπη', '^λάσπες', '^λασπολογ-', '^λεχρίτ-', '^λιγουρ-', '^λυσσ-', '^λωτοφάγ- ', '^μάγκας', '^μάγκες', '^μαγκι-', '^μαϊμουδίζ-', '^μασκαρ-', '^μεσανατολική\\\\s*πραγματικότητα$', '^μηντιακή\\\\s*δικατορία$', '^μίζα', '^μιζαδόρος', '^μίζες', '^μίσος', '^μισητ-', '^μισαλλόδ-', '^μούργ-', '^μούτζ-', '^μπάζα', '^μπάζο', '^μπακαλίστικ-', '^μπανανί-', '^μπαρουφ-', '^μπαταχτσ-', '^μπαχαλ- ', '^ρε$', '^ρουσφέτ-', '^ρουσφετολ- ', '^σαθρ-', '^σάπι-', '^σαπίλ-', '^σαπισμ-', '^σειρήν-', '^σκάσ-', '^στα\\\\s*τέσσερα$', '^σταλιν-', '^συριζαί- ', '^ταγματασφαλιτ-', '^ταφόπλακ-', '^τελειωμ-', '^τζάνκι-', '^τζούφι-', '^Τουρκαλ-', '^τραμπουκ-', '^τρομοκρατείτε', '^τσαμπουκ-', '^τυχοδιωκτ- ', '^υποδικ-', '^υποκριτ-', '^υποκρισία ', '^φαλακρ-', '^φασιστ-', '^φλύκταιν-', '^φουκαρ-', '^φαρισαϊσ- ^χαφιε-', '^χοντρέ', '^χουντικ-', '^χούντα', '^χρεωκοπημένα\\\\s*κόμματα', '^χρεωκοπημένο\\\\s*σύστημα', '^χρεωκοπημένο\\\\s*πολιτικό\\\\s*σύστημα', '^χυδαίος\\\\s*λαϊκισμός', '^χυδαίοι\\\\s*λαϊκιστές', '^χυδαίος\\\\s*λαϊκιστής', '^χυδαιότ- ', '^ψεκασ-', '^ψέμ-', '^ψευτ-', '^ψεύτ-', '^ψευτομαγκ-', '^ψυχασθεν-', '^ψυχοπαθ-', '^ψών-', '^ψωνισμέ-']\n"
          ],
          "name": "stdout"
        }
      ]
    },
    {
      "cell_type": "code",
      "metadata": {
        "id": "fHWY08Fw_jAO"
      },
      "source": [
        "def removing_symbols(word):\n",
        "\n",
        "    return (word.replace('^', '').replace('\\s*', ' ').replace('-', '').replace('$', ''))"
      ],
      "execution_count": null,
      "outputs": []
    },
    {
      "cell_type": "code",
      "metadata": {
        "colab": {
          "base_uri": "https://localhost:8080/"
        },
        "id": "DpXogRe6EqAI",
        "outputId": "5bc295a0-54c3-4cf0-f737-b44bc9b8bb51"
      },
      "source": [
        "infl = [removing_symbols(word) for word in infl]\n",
        "print(infl)"
      ],
      "execution_count": null,
      "outputs": [
        {
          "output_type": "stream",
          "text": [
            "['αδιστακτος λαϊκισμός', 'αθλι', 'άθλι', 'αίσχ', 'ακροδεξ', 'αλητ', 'αλιτήρ', 'αμαρτωλ', 'ανάθεμ', 'ανήθικ', 'ανήμπορ', 'ανίκαν', 'ανοησ', 'ανόητ', 'ανομί', 'απατεων', 'απατεών', 'αποβράσμ', 'αποκαΐδι', 'απομυζ', 'απόπατ', 'αποχωρητήρ', 'αριστερίστικ', 'αριστερίστικ τσιτάτα', 'αρπαχτ', 'αρρωστημ', 'αρρωστημένη ψυχοσύνθεση', 'αρχινταβατζ', 'αυλικ', 'αυλοκόλακ', 'αυταρχικ', 'αχόρταγ', 'άχρηστ', 'αχρηστί ', 'βλακ', 'βλάκ', 'βλαμ', 'βλαχ', 'βλήμ', 'Βόρεια Κορέα', 'βουλιμ', 'βούλωστο', 'βουλωσ', 'βαρώνους', 'βαρώνων', 'βαρώνοι', 'βρωμ', 'εξουσιομανία', 'εξουσιομανής', 'εξουσιομανής βουλιμία', 'επαναστατική παλινωδία', 'επαναστατικές παλινωδίες', 'επικίνδυνο είδος λενινιστή', 'έχει ξεφύγει', 'έχετε ξεφύγει ', 'ηθικίζουσα φούσκα', 'ηλίθι', 'ηλιθιότητα ', 'θα έπρεπε να ντρέπεστε', 'θεομπαίχτ', 'θράσ ', 'ιδεολη ', 'καθάρμ', 'κάθαρμ', 'καθεστώς ανομίας', 'κακομοιρ', 'κακομοίρ', 'κακοτροπ', 'κακότροπ', 'κακούργ', 'κακοφορμ', 'καναλάρχ', 'καπάτσ', 'καραγκιόζ', 'καταθλ', 'κατακραυ', 'κατάντ', 'κατάπτυ', 'καταστροφ', 'καταστρέψατε', 'καταστρέφετε', 'κατέστρεψ', 'κλαδικές ', 'καναλαρχών', 'κλέβ', 'κλέφ', 'κλεψ', 'κομμούν', 'κομμουνι', 'κομμουνιστικοί παράδεισοι', 'κομπιν', 'κομπίν', 'κοροϊδ', 'μπάχαλο', 'μπιρ παρά', 'μπολσεβίκικ ', 'ναρκισσ', 'νταβα', 'ντρέπεστε', 'ντροπή ', 'ξεδοντι', 'ξεπουλημ', 'ξεπούλ', 'ξιπασμέν ', 'οννεδίτ', 'οπίσθια', 'οργι', 'ορδές λαθρομεταναστών', 'οχετ παιδί της Siemens', 'παιδιά της Siemens', 'παίζουν τα ρέστα τους', 'παλαβ', 'παλαιοαριστερ', 'παλιόχαρτ', 'πανωλεθρία', 'παρακράτος', 'παρακρατικ', 'παραλήρ', 'παραμάγαζ', 'παρανομ', 'παράνομ', 'παρασιτ', 'παρασυνταγμ', 'πάρτι της διαπλοκής', 'πασοκο', 'πασόκο', 'πασοκογενε', 'πασπίτ', 'πατριδοκάπηλ', 'πιθηκίζ', 'πλιάτσικ', 'πολιτική ρηχότητα', 'πορν', 'πουλημεν', 'πραξικοπ', 'πραξικοπηματ', 'πρασινοφρουρ', 'προδο', 'προδότ', 'γάιδαρ', 'γαϊδούρ', 'γελοι', 'γελοί', 'γερμανοτσολ', 'γιουρούσ', 'γκιλοτίν', 'γκούλαγκ', 'γλείφ', 'γλείψ', 'γουρούν', 'γουστάρ', 'γύφτ δαιμον', 'δαπίτ', 'δεν ντρέπστε', 'δεν ντρέπεσαι', 'δεξιίστικ', 'δηλητήρ', 'διαπλεκόμενοι ολιγάρχες', 'διαπλεκόμενους ολιγάρχες', 'διαπλοκή', 'διαφθορά', 'διεφθαρμέν', 'δικτατορ', 'δικτάτορ', 'διχαστικ', 'δόλι', 'δολιότητα', 'δουλεμπορ', 'δωσίλογ ', 'εγκλημα', 'εθνικιστ', 'εθνολαϊκισμ', 'εθνολαϊκιστ', 'εθνοσοσιαλιστι', 'εθνοσσιαλισ', 'εκβιά', 'εκπορν', 'εκτροπ', 'έκτροπ', 'έκτρωμ', 'εκτρωμ', 'εκφοβιστικ', 'ελληνάρ', 'εμετ', 'εξάμβλωμ', 'κουκουέ', 'κουρελ', 'κουρελόχαρτ', 'κουτόφραγκ', 'κουτσαβάκ', 'κούφιες ρητορείες', 'κόφτο', 'κόψτο', 'κόψτε την πλάκα', 'κόφτε την πλάκα', 'κρατικοδίαιτ', 'κρεσέντο λαϊκισμού', 'κρετίν', 'κρίση μεγαλείου', 'κωλοτούμπ ', 'λαθρομεταναστ', 'λαθρομετανάστ', 'λαθροπρόσφυγ', 'λαϊκισ', 'λαιμητόμ', 'λαμογ', 'λάσπη', 'λάσπες', 'λασπολογ', 'λεχρίτ', 'λιγουρ', 'λυσσ', 'λωτοφάγ ', 'μάγκας', 'μάγκες', 'μαγκι', 'μαϊμουδίζ', 'μασκαρ', 'μεσανατολική πραγματικότητα', 'μηντιακή δικατορία', 'μίζα', 'μιζαδόρος', 'μίζες', 'μίσος', 'μισητ', 'μισαλλόδ', 'μούργ', 'μούτζ', 'μπάζα', 'μπάζο', 'μπακαλίστικ', 'μπανανί', 'μπαρουφ', 'μπαταχτσ', 'μπαχαλ ', 'ρε', 'ρουσφέτ', 'ρουσφετολ ', 'σαθρ', 'σάπι', 'σαπίλ', 'σαπισμ', 'σειρήν', 'σκάσ', 'στα τέσσερα', 'σταλιν', 'συριζαί ', 'ταγματασφαλιτ', 'ταφόπλακ', 'τελειωμ', 'τζάνκι', 'τζούφι', 'Τουρκαλ', 'τραμπουκ', 'τρομοκρατείτε', 'τσαμπουκ', 'τυχοδιωκτ ', 'υποδικ', 'υποκριτ', 'υποκρισία ', 'φαλακρ', 'φασιστ', 'φλύκταιν', 'φουκαρ', 'φαρισαϊσ χαφιε', 'χοντρέ', 'χουντικ', 'χούντα', 'χρεωκοπημένα κόμματα', 'χρεωκοπημένο σύστημα', 'χρεωκοπημένο πολιτικό σύστημα', 'χυδαίος λαϊκισμός', 'χυδαίοι λαϊκιστές', 'χυδαίος λαϊκιστής', 'χυδαιότ ', 'ψεκασ', 'ψέμ', 'ψευτ', 'ψεύτ', 'ψευτομαγκ', 'ψυχασθεν', 'ψυχοπαθ', 'ψών', 'ψωνισμέ']\n"
          ],
          "name": "stdout"
        }
      ]
    },
    {
      "cell_type": "code",
      "metadata": {
        "id": "SMYUX5MDJlU4"
      },
      "source": [
        "for i, v in enumerate(infl):\n",
        "    infl[i] = \"(\\\\b(?i)({})(\\w+)?)\".format(v)\n",
        "\n",
        "vrisies = \"\"\n",
        "for vrisia in infl:\n",
        "    vrisies += vrisia + \"|\"\n",
        "if vrisies:\n",
        "    vrisies = vrisies[:-1]\n",
        "p = re.compile(r'{}'.format(vrisies))"
      ],
      "execution_count": null,
      "outputs": []
    },
    {
      "cell_type": "code",
      "metadata": {
        "id": "z8JWzGzdKZ0b"
      },
      "source": [
        "curses = []\n",
        "for ind in data.index:\n",
        "    curses.append(len(re.findall(p, data['without_stopwords'][ind])))\n",
        "data['curses'] = curses\n"
      ],
      "execution_count": null,
      "outputs": []
    },
    {
      "cell_type": "code",
      "metadata": {
        "colab": {
          "base_uri": "https://localhost:8080/"
        },
        "id": "R6Oo9naZMPZp",
        "outputId": "5815f4f8-74a4-4aed-e1f8-5345a1952803"
      },
      "source": [
        "data.head()"
      ],
      "execution_count": null,
      "outputs": [
        {
          "output_type": "execute_result",
          "data": {
            "text/html": [
              "<div>\n",
              "<style scoped>\n",
              "    .dataframe tbody tr th:only-of-type {\n",
              "        vertical-align: middle;\n",
              "    }\n",
              "\n",
              "    .dataframe tbody tr th {\n",
              "        vertical-align: top;\n",
              "    }\n",
              "\n",
              "    .dataframe thead th {\n",
              "        text-align: right;\n",
              "    }\n",
              "</style>\n",
              "<table border=\"1\" class=\"dataframe\">\n",
              "  <thead>\n",
              "    <tr style=\"text-align: right;\">\n",
              "      <th></th>\n",
              "      <th>title</th>\n",
              "      <th>link</th>\n",
              "      <th>body</th>\n",
              "      <th>tokenized_title</th>\n",
              "      <th>tokenized_body</th>\n",
              "      <th>num_wds</th>\n",
              "      <th>num_wds_title</th>\n",
              "      <th>uniq_wds_body</th>\n",
              "      <th>without_stopwords</th>\n",
              "      <th>lemmatized_body</th>\n",
              "      <th>anger</th>\n",
              "      <th>positivity</th>\n",
              "      <th>joy</th>\n",
              "      <th>disgust</th>\n",
              "      <th>surprise</th>\n",
              "      <th>trust</th>\n",
              "      <th>anticipation</th>\n",
              "      <th>sadness</th>\n",
              "      <th>negative</th>\n",
              "      <th>fear</th>\n",
              "      <th>title_clean</th>\n",
              "      <th>body_clean</th>\n",
              "      <th>Anger_intensity</th>\n",
              "      <th>Anger_int_Title</th>\n",
              "      <th>Fear_intensity</th>\n",
              "      <th>Fear_int_Title</th>\n",
              "      <th>Joy_intensity</th>\n",
              "      <th>Joy_int_Title</th>\n",
              "      <th>Sad_intensity</th>\n",
              "      <th>Sad_int_Title</th>\n",
              "      <th>words_pos</th>\n",
              "      <th>title_pos</th>\n",
              "      <th>nouns</th>\n",
              "      <th>verbs</th>\n",
              "      <th>adjectives</th>\n",
              "      <th>adverbs</th>\n",
              "      <th>pronouns</th>\n",
              "      <th>punctuation</th>\n",
              "      <th>verbs_title</th>\n",
              "      <th>ratio</th>\n",
              "      <th>comparative_no</th>\n",
              "      <th>superlative_no</th>\n",
              "      <th>curses</th>\n",
              "    </tr>\n",
              "  </thead>\n",
              "  <tbody>\n",
              "    <tr>\n",
              "      <th>0</th>\n",
              "      <td>«Κλείδωσε» η υποψηφιότητα Φουρθιώτη στο πλευρό...</td>\n",
              "      <td>https://www.newsbreak.gr/politiki/181856/kleid...</td>\n",
              "      <td>Όπως όλα δείχνουν, ο Μένιος Φουρθιώτης που ήδη...</td>\n",
              "      <td>κλείδωσε η υποψηφιότητα φουρθιώτη στο πλευρό ...</td>\n",
              "      <td>όπως όλα δείχνουν ο μένιος φουρθιώτης που ήδη ...</td>\n",
              "      <td>210</td>\n",
              "      <td>8</td>\n",
              "      <td>135</td>\n",
              "      <td>δείχνουν μένιος φουρθιώτης θέσει λειτουργία π...</td>\n",
              "      <td>δείχνω μένιος φουρθιώτη θέσω λειτουργία πολι...</td>\n",
              "      <td>3</td>\n",
              "      <td>17</td>\n",
              "      <td>5</td>\n",
              "      <td>1</td>\n",
              "      <td>4</td>\n",
              "      <td>6</td>\n",
              "      <td>7</td>\n",
              "      <td>2</td>\n",
              "      <td>9</td>\n",
              "      <td>6</td>\n",
              "      <td>« ΚΛΕΙΔΩΣ » Η ΥΠΟΨΗΦΙΟΤΗΤ ΦΟΥΡΘΙΩΤ ΣΤ ΠΛΕΥΡ ΤΟ...</td>\n",
              "      <td>ΔΕΙΧΝ ΜΕΝ ΦΟΥΡΘΙΩΤ ΘΕΣ ΛΕΙΤΟΥΡΓ ΠΟΛΙΤ ΓΡΑΦΕ...</td>\n",
              "      <td>0.083735</td>\n",
              "      <td>0.0000</td>\n",
              "      <td>0.064147</td>\n",
              "      <td>0.000000</td>\n",
              "      <td>0.184559</td>\n",
              "      <td>0.13300</td>\n",
              "      <td>0.049147</td>\n",
              "      <td>0.000</td>\n",
              "      <td>[SPACE, VERB, ADJ, NOUN, VERB, NOUN, ADJ, NOUN...</td>\n",
              "      <td>[PUNCT, VERB, PUNCT, DET, NOUN, X, ADP, NOUN, ...</td>\n",
              "      <td>51</td>\n",
              "      <td>21</td>\n",
              "      <td>23</td>\n",
              "      <td>4</td>\n",
              "      <td>0</td>\n",
              "      <td>0</td>\n",
              "      <td>1</td>\n",
              "      <td>2.428571</td>\n",
              "      <td>0</td>\n",
              "      <td>0</td>\n",
              "      <td>0</td>\n",
              "    </tr>\n",
              "    <tr>\n",
              "      <th>1</th>\n",
              "      <td>Θανάσης Καμηλάρης: “Λαθροδιακινητές ήταν οι κλ...</td>\n",
              "      <td>https://www.pentapostagma.gr/ethnika-themata/e...</td>\n",
              "      <td>Ακούστε τον Θανάση Καμηλάρη – κάτοικο του Δέλτ...</td>\n",
              "      <td>θανάσης καμηλάρης λαθροδιακινητές ήταν οι κλέφ...</td>\n",
              "      <td>ακούστε τον θανάση καμηλάρη κάτοικο του δέλτα ...</td>\n",
              "      <td>21</td>\n",
              "      <td>12</td>\n",
              "      <td>20</td>\n",
              "      <td>ακούστε θανάση καμηλάρη κάτοικο δέλτα έβρου αν...</td>\n",
              "      <td>ακούστε θανάση καμηλάρη κάτοικο δέλτα έβρου αν...</td>\n",
              "      <td>0</td>\n",
              "      <td>0</td>\n",
              "      <td>0</td>\n",
              "      <td>0</td>\n",
              "      <td>0</td>\n",
              "      <td>0</td>\n",
              "      <td>0</td>\n",
              "      <td>0</td>\n",
              "      <td>0</td>\n",
              "      <td>0</td>\n",
              "      <td>ΘΑΝΑΣ ΚΑΜΗΛΑΡ : \" ΛΑΘΡΟΔΙΑΚΙΝΗΤ ΗΤ Ο ΚΛΕΦΤ ΤΗΣ...</td>\n",
              "      <td>ΑΚΟΥΣΤ ΘΑΝΑΣ ΚΑΜΗΛΑΡ ΚΑΤΟΙΚ ΔΕΛΤ ΕΒΡ ΑΝΑΦΕΡ ΠΡ...</td>\n",
              "      <td>0.000000</td>\n",
              "      <td>0.5610</td>\n",
              "      <td>0.000000</td>\n",
              "      <td>0.547000</td>\n",
              "      <td>0.094000</td>\n",
              "      <td>0.00000</td>\n",
              "      <td>0.000000</td>\n",
              "      <td>0.422</td>\n",
              "      <td>[VERB, X, ADJ, NOUN, NOUN, PRON, VERB, ADJ, NO...</td>\n",
              "      <td>[PROPN, PROPN, PUNCT, PUNCT, X, AUX, DET, NOUN...</td>\n",
              "      <td>4</td>\n",
              "      <td>2</td>\n",
              "      <td>3</td>\n",
              "      <td>1</td>\n",
              "      <td>1</td>\n",
              "      <td>0</td>\n",
              "      <td>0</td>\n",
              "      <td>2.000000</td>\n",
              "      <td>0</td>\n",
              "      <td>0</td>\n",
              "      <td>0</td>\n",
              "    </tr>\n",
              "    <tr>\n",
              "      <th>2</th>\n",
              "      <td>Νέο σκάνδαλο με το εμβόλιο της Pfizer: Μειώνου...</td>\n",
              "      <td>https://www.pronews.gr/kosmos/eyropaiki-enosi/...</td>\n",
              "      <td>Ο Ευρωπαϊκός Οργανισμός Φαρμάκων ανακοίνωσε σή...</td>\n",
              "      <td>νέο σκάνδαλο με το εμβόλιο της pfizer μειώνουν...</td>\n",
              "      <td>ο ευρωπαϊκός οργανισμός φαρμάκων ανακοίνωσε σή...</td>\n",
              "      <td>267</td>\n",
              "      <td>19</td>\n",
              "      <td>164</td>\n",
              "      <td>ευρωπαϊκός οργανισμός φαρμάκων ανακοίνωσε σήμ...</td>\n",
              "      <td>ευρωπαϊκός οργανισμός φαρμάκας ανακοίνωσε σή...</td>\n",
              "      <td>0</td>\n",
              "      <td>13</td>\n",
              "      <td>2</td>\n",
              "      <td>0</td>\n",
              "      <td>1</td>\n",
              "      <td>9</td>\n",
              "      <td>5</td>\n",
              "      <td>1</td>\n",
              "      <td>3</td>\n",
              "      <td>3</td>\n",
              "      <td>ΝΕ ΣΚΑΝΔΑΛ ΜΕ ΤΟ ΕΜΒΟΛ ΤΗΣ PFIZER : ΜΕΙΩΝ ΤΗ Δ...</td>\n",
              "      <td>ΕΥΡΩΠΑΙΚ ΟΡΓΑΝΙΣΜ ΦΑΡΜΑΚ ΑΝΑΚΟΙΝΩΣ ΣΗΜΕΡ ΜΕ...</td>\n",
              "      <td>0.084833</td>\n",
              "      <td>0.1175</td>\n",
              "      <td>0.038611</td>\n",
              "      <td>0.136750</td>\n",
              "      <td>0.123889</td>\n",
              "      <td>0.23175</td>\n",
              "      <td>0.042333</td>\n",
              "      <td>0.000</td>\n",
              "      <td>[SPACE, ADJ, NOUN, NOUN, VERB, ADV, NOUN, NOUN...</td>\n",
              "      <td>[ADJ, NOUN, ADP, DET, NOUN, DET, X, PUNCT, VER...</td>\n",
              "      <td>55</td>\n",
              "      <td>34</td>\n",
              "      <td>15</td>\n",
              "      <td>6</td>\n",
              "      <td>2</td>\n",
              "      <td>0</td>\n",
              "      <td>2</td>\n",
              "      <td>1.617647</td>\n",
              "      <td>0</td>\n",
              "      <td>0</td>\n",
              "      <td>0</td>\n",
              "    </tr>\n",
              "    <tr>\n",
              "      <th>3</th>\n",
              "      <td>Η ΜΕΓΑΛΥΤΕΡΗ ΑΠΑΤΗ ΣΤΗΝ ΙΣΤΟΡΙΑ ΤΩΝ ΗΠΑ! – ΤΟ ...</td>\n",
              "      <td>https://www.makeleio.gr/εξωφυλλο/Η-ΜΕΓΑΛΥΤΕΡΗ-...</td>\n",
              "      <td>Διαβάστε το άρθρο του Αμερικανού οικονομολόγου...</td>\n",
              "      <td>η μεγαλυτερη απατη στην ιστορια των ηπα το λογ...</td>\n",
              "      <td>διαβάστε το άρθρο του αμερικανού οικονομολόγου...</td>\n",
              "      <td>967</td>\n",
              "      <td>39</td>\n",
              "      <td>492</td>\n",
              "      <td>διαβάστε άρθρο αμερικανού οικονομολόγου paul c...</td>\n",
              "      <td>διαβάμαι άρθρο αμερικανός οικονομολόγος paul c...</td>\n",
              "      <td>37</td>\n",
              "      <td>69</td>\n",
              "      <td>15</td>\n",
              "      <td>17</td>\n",
              "      <td>19</td>\n",
              "      <td>43</td>\n",
              "      <td>39</td>\n",
              "      <td>30</td>\n",
              "      <td>71</td>\n",
              "      <td>30</td>\n",
              "      <td>Η ΜΕΓΑΛ ΑΠΑΤ ΣΤΗΝ ΙΣΤΟΡ ΤΟ ΗΠ ! – ΤΟ ΛΟΓΙΣΜ ΠΟ...</td>\n",
              "      <td>ΔΙΑΒ ΑΡΘΡ ΑΜΕΡΙΚΑΝ ΟΙΚΟΝΟΜΟΛΟΓ PAUL CRAIG ROBE...</td>\n",
              "      <td>0.349924</td>\n",
              "      <td>0.2849</td>\n",
              "      <td>0.292826</td>\n",
              "      <td>0.143800</td>\n",
              "      <td>0.103652</td>\n",
              "      <td>0.07490</td>\n",
              "      <td>0.167408</td>\n",
              "      <td>0.164</td>\n",
              "      <td>[VERB, NOUN, PROPN, NOUN, X, ADP, NUM, NOUN, A...</td>\n",
              "      <td>[DET, PROPN, X, PROPN, NOUN, NOUN, NOUN, PUNCT...</td>\n",
              "      <td>233</td>\n",
              "      <td>107</td>\n",
              "      <td>103</td>\n",
              "      <td>15</td>\n",
              "      <td>6</td>\n",
              "      <td>1</td>\n",
              "      <td>2</td>\n",
              "      <td>2.177570</td>\n",
              "      <td>0</td>\n",
              "      <td>0</td>\n",
              "      <td>9</td>\n",
              "    </tr>\n",
              "    <tr>\n",
              "      <th>4</th>\n",
              "      <td>Συγκλονιστικό βίντεο: Αρμένιος στρατιώτης αναφ...</td>\n",
              "      <td>https://www.pronews.gr/amyna-asfaleia/enoples-...</td>\n",
              "      <td>Ενα συγκλονιστικό βίντεο που δείχνει Αρμένιο σ...</td>\n",
              "      <td>συγκλονιστικό βίντεο αρμένιος στρατιώτης αναφέ...</td>\n",
              "      <td>ενα συγκλονιστικό βίντεο που δείχνει αρμένιο σ...</td>\n",
              "      <td>108</td>\n",
              "      <td>12</td>\n",
              "      <td>88</td>\n",
              "      <td>ενα συγκλονιστικό βίντεο δείχνει αρμένιο στρατ...</td>\n",
              "      <td>ενα συγκλονιστικό βίντεο δείχνω αρμένιος στρατ...</td>\n",
              "      <td>6</td>\n",
              "      <td>9</td>\n",
              "      <td>2</td>\n",
              "      <td>0</td>\n",
              "      <td>3</td>\n",
              "      <td>5</td>\n",
              "      <td>3</td>\n",
              "      <td>3</td>\n",
              "      <td>6</td>\n",
              "      <td>6</td>\n",
              "      <td>ΣΥΓΚΛΟΝΙΣΤ ΒΙΝΤΕ : ΑΡΜΕΝ ΣΤΡΑΤΙΩΤ ΑΝΑΦΕΡ ΣΕ ΑΞ...</td>\n",
              "      <td>ΕΝ ΣΥΓΚΛΟΝΙΣΤ ΒΙΝΤΕ ΔΕΙΧΝ ΑΡΜΕΝ ΣΤΡΑΤΙΩΤ Ν ΑΝΑ...</td>\n",
              "      <td>0.246294</td>\n",
              "      <td>0.2280</td>\n",
              "      <td>0.172765</td>\n",
              "      <td>0.166667</td>\n",
              "      <td>0.094588</td>\n",
              "      <td>0.00000</td>\n",
              "      <td>0.103353</td>\n",
              "      <td>0.091</td>\n",
              "      <td>[DET, ADJ, X, VERB, ADJ, NOUN, NOUN, VERB, ADJ...</td>\n",
              "      <td>[ADJ, X, PUNCT, ADJ, NOUN, VERB, ADP, ADJ, ADV...</td>\n",
              "      <td>24</td>\n",
              "      <td>12</td>\n",
              "      <td>14</td>\n",
              "      <td>1</td>\n",
              "      <td>0</td>\n",
              "      <td>0</td>\n",
              "      <td>1</td>\n",
              "      <td>2.000000</td>\n",
              "      <td>0</td>\n",
              "      <td>0</td>\n",
              "      <td>0</td>\n",
              "    </tr>\n",
              "  </tbody>\n",
              "</table>\n",
              "</div>"
            ],
            "text/plain": [
              "                                               title  ... curses\n",
              "0  «Κλείδωσε» η υποψηφιότητα Φουρθιώτη στο πλευρό...  ...      0\n",
              "1  Θανάσης Καμηλάρης: “Λαθροδιακινητές ήταν οι κλ...  ...      0\n",
              "2  Νέο σκάνδαλο με το εμβόλιο της Pfizer: Μειώνου...  ...      0\n",
              "3  Η ΜΕΓΑΛΥΤΕΡΗ ΑΠΑΤΗ ΣΤΗΝ ΙΣΤΟΡΙΑ ΤΩΝ ΗΠΑ! – ΤΟ ...  ...      9\n",
              "4  Συγκλονιστικό βίντεο: Αρμένιος στρατιώτης αναφ...  ...      0\n",
              "\n",
              "[5 rows x 43 columns]"
            ]
          },
          "metadata": {},
          "execution_count": 217
        }
      ]
    },
    {
      "cell_type": "code",
      "metadata": {
        "id": "HCDIYiMO9h4W"
      },
      "source": [
        "data.to_csv(\"analyze_fake_news_stories.csv\", index = False)"
      ],
      "execution_count": null,
      "outputs": []
    }
  ]
}