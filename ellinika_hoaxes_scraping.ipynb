{
  "nbformat": 4,
  "nbformat_minor": 0,
  "metadata": {
    "colab": {
      "name": "Αντίγραφο ellinika_hoaxes_scraping.ipynb",
      "provenance": [],
      "collapsed_sections": []
    },
    "kernelspec": {
      "display_name": "Python 3",
      "language": "python",
      "name": "python3"
    },
    "language_info": {
      "codemirror_mode": {
        "name": "ipython",
        "version": 3
      },
      "file_extension": ".py",
      "mimetype": "text/x-python",
      "name": "python",
      "nbconvert_exporter": "python",
      "pygments_lexer": "ipython3",
      "version": "3.6.4"
    }
  },
  "cells": [
    {
      "cell_type": "code",
      "metadata": {
        "id": "Rx8rQ4fbX-_Q"
      },
      "source": [
        "!pip install selenium\n",
        "!apt-get update # to update ubuntu to correctly run apt install\n",
        "!apt install chromium-chromedriver\n",
        "!cp /usr/lib/chromium-browser/chromedriver /usr/bin\n",
        "import sys\n",
        "sys.path.insert(0,'/usr/lib/chromium-browser/chromedriver')\n",
        "from selenium import webdriver\n",
        "from selenium.webdriver.common.by import By\n",
        "from selenium.webdriver.support.ui import WebDriverWait\n",
        "from selenium.webdriver.support import expected_conditions as EC\n",
        "chrome_options = webdriver.ChromeOptions()\n",
        "chrome_options.add_argument('--headless')\n",
        "chrome_options.add_argument('--no-sandbox')\n",
        "chrome_options.add_argument('--disable-dev-shm-usage')\n",
        "chrome_options.add_argument(\"--disable-blink-features=AutomationControlled\")\n",
        "driver = webdriver.Chrome('chromedriver',chrome_options=chrome_options)\n"
      ],
      "execution_count": null,
      "outputs": []
    },
    {
      "cell_type": "code",
      "metadata": {
        "id": "HrTC0W6yQgjD"
      },
      "source": [
        "import time\n",
        "\n",
        "from bs4 import BeautifulSoup\n",
        "\n",
        "#driver = webdriver.Chrome()\n",
        "#driver.implicitly_wait(30)\n",
        "\n",
        "# download webdriver from https://chromedriver.storage.googleapis.com/index.html?path=83.0.4103.39/\n",
        "# and put the executable in /usr/local/bin\n"
      ],
      "execution_count": null,
      "outputs": []
    },
    {
      "cell_type": "code",
      "metadata": {
        "id": "4Pz-67K9ouW7"
      },
      "source": [
        "import requests\n",
        "import pandas as pd\n",
        "upperframe=[]\n",
        "page = 0\n",
        "driver.implicitly_wait(10)\n",
        "for pageNo in range(1,3):\n",
        "    pageNo += 1\n",
        "    print('processing page :', page)\n",
        "\n",
        "    wait = WebDriverWait(driver, 15)\n",
        "    driver.get('https://www.ellinikahoaxes.gr/category/kathgories/fake-news/page/'+str(pageNo)+'/')\n",
        " #   try:\n",
        "    # wait until certain element with id 'expected-id' showed up\n",
        " #       element = WebDriverWait(driver, 30).until(EC.presence_of_element_located((By.ID, 'header-widget-area')))\n",
        "    # do whatever you want with the page\n",
        "    soup = BeautifulSoup(driver.page_source, \"html.parser\")\n",
        "    print(\"The PAGE: \", soup)\n",
        "#    finally:\n",
        "#        driver.quit()\n",
        "    \n",
        "    #an exception might be thrown, so the code should be in a try-except block\n",
        "#    try:\n",
        "        #use the browser to get the url. This is suspicious command that might blow up.\n",
        " #       page = driver.page_source\n",
        "        \n",
        "        \n",
        "                                # this might throw an exception if something goes wrong.\n",
        "    \n",
        " #   except Exception as e:                                   # this describes what to do if an exception is thrown\n",
        " #       error_type, error_obj, error_info = sys.exc_info()      # get the exception information\n",
        " #       print ('ERROR FOR LINK:',url)                          #print the link that cause the problem\n",
        " #       print (error_type, 'Line:', error_info.tb_lineno)     #print error info and line that threw the exception\n",
        " #       continue                                              #ignore this page. Abandon this and go back.\n",
        "    time.sleep(10)   \n",
        "    soup = BeautifulSoup(driver.page_source, \"html.parser\")\n",
        "    frame=[]\n",
        "    links = soup.find_all('div',attrs={'class':'blog-post-content'})\n",
        "    print(len(links))\n",
        "    \n",
        "    for j in links:\n",
        "      title = j.find('h2')\n",
        "      link = j.find('a')['href']\n",
        "      print(j)\n",
        "      article = requests.get(link)\n",
        "      article_content = article.content\n",
        "      soup_article = BeautifulSoup(article_content, 'html5lib')\n",
        "      body = soup_article.find('div',attrs={'class':'single-article'})\n",
        "      print(body)\n",
        "      frame.append((title,link,body))\n",
        "    upperframe.extend(frame)\n",
        "data=pd.DataFrame(upperframe, columns=['title','link','body'])     \n"
      ],
      "execution_count": null,
      "outputs": []
    },
    {
      "cell_type": "code",
      "metadata": {
        "id": "Th9QSnN6zoF1"
      },
      "source": [
        "data.to_csv(\"hoaxes_body2.csv\", index=False)"
      ],
      "execution_count": null,
      "outputs": []
    },
    {
      "cell_type": "code",
      "metadata": {
        "colab": {
          "base_uri": "https://localhost:8080/"
        },
        "id": "ke3tyzbc8Ps6",
        "outputId": "fca48909-d397-4cd8-90ec-ea4b7e92b0b3"
      },
      "source": [
        "from google.colab import drive\n",
        "drive.mount('/gdrive')\n",
        "\n",
        "\n",
        "\n",
        "# PATH = \"/gdrive/My\\ Drive/Colab\\ Notebooks/\"\n",
        "!ls {PATH}"
      ],
      "execution_count": null,
      "outputs": [
        {
          "output_type": "stream",
          "text": [
            "Mounted at /gdrive\n",
            "ls: cannot access '{PATH}': No such file or directory\n"
          ],
          "name": "stdout"
        }
      ]
    },
    {
      "cell_type": "code",
      "metadata": {
        "colab": {
          "base_uri": "https://localhost:8080/",
          "height": 197
        },
        "id": "0_YhiQCJ9gAV",
        "outputId": "b9f48d70-8467-4f93-d212-dba50a0e3d24"
      },
      "source": [
        "import pandas as pd\n",
        "\n",
        "data = pd.read_csv(\"/gdrive/My Drive/Colab Notebooks/hoaxes_body2.csv\")\n",
        "data.head()"
      ],
      "execution_count": null,
      "outputs": [
        {
          "output_type": "execute_result",
          "data": {
            "text/html": [
              "<div>\n",
              "<style scoped>\n",
              "    .dataframe tbody tr th:only-of-type {\n",
              "        vertical-align: middle;\n",
              "    }\n",
              "\n",
              "    .dataframe tbody tr th {\n",
              "        vertical-align: top;\n",
              "    }\n",
              "\n",
              "    .dataframe thead th {\n",
              "        text-align: right;\n",
              "    }\n",
              "</style>\n",
              "<table border=\"1\" class=\"dataframe\">\n",
              "  <thead>\n",
              "    <tr style=\"text-align: right;\">\n",
              "      <th></th>\n",
              "      <th>title</th>\n",
              "      <th>link</th>\n",
              "      <th>body</th>\n",
              "    </tr>\n",
              "  </thead>\n",
              "  <tbody>\n",
              "    <tr>\n",
              "      <th>0</th>\n",
              "      <td>&lt;h2&gt;Ο Ναός του Επικούριου Απόλλωνα ΔΕΝ περιστρ...</td>\n",
              "      <td>https://www.ellinikahoaxes.gr/2020/09/25/epicu...</td>\n",
              "      <td>&lt;div class=\"single-article post-69821 post typ...</td>\n",
              "    </tr>\n",
              "    <tr>\n",
              "      <th>1</th>\n",
              "      <td>&lt;h2&gt;Όχι, κάτοχοι διπλώματος Β ΔΕΝ μπορούν να ο...</td>\n",
              "      <td>https://www.ellinikahoaxes.gr/2020/09/24/ochi-...</td>\n",
              "      <td>&lt;div class=\"single-article post-72797 post typ...</td>\n",
              "    </tr>\n",
              "    <tr>\n",
              "      <th>2</th>\n",
              "      <td>&lt;h2&gt;Καναδάς: Νόμιμα παραμένουν τα μέτρα αποφυγ...</td>\n",
              "      <td>https://www.ellinikahoaxes.gr/2020/09/23/kanad...</td>\n",
              "      <td>&lt;div class=\"single-article post-72546 post typ...</td>\n",
              "    </tr>\n",
              "    <tr>\n",
              "      <th>3</th>\n",
              "      <td>&lt;h2&gt;Όχι, η Δανία ΔΕΝ τα είπε «έξω από τα δόντι...</td>\n",
              "      <td>https://www.ellinikahoaxes.gr/2020/09/16/turke...</td>\n",
              "      <td>&lt;div class=\"single-article post-71565 post typ...</td>\n",
              "    </tr>\n",
              "    <tr>\n",
              "      <th>4</th>\n",
              "      <td>&lt;h2&gt;Ο κ. Αναστάσιος Ποτσέπης ΔΕΝ προσλήφθηκε ω...</td>\n",
              "      <td>https://www.ellinikahoaxes.gr/2020/09/15/potse...</td>\n",
              "      <td>&lt;div class=\"single-article post-71681 post typ...</td>\n",
              "    </tr>\n",
              "  </tbody>\n",
              "</table>\n",
              "</div>"
            ],
            "text/plain": [
              "                                               title  ...                                               body\n",
              "0  <h2>Ο Ναός του Επικούριου Απόλλωνα ΔΕΝ περιστρ...  ...  <div class=\"single-article post-69821 post typ...\n",
              "1  <h2>Όχι, κάτοχοι διπλώματος Β ΔΕΝ μπορούν να ο...  ...  <div class=\"single-article post-72797 post typ...\n",
              "2  <h2>Καναδάς: Νόμιμα παραμένουν τα μέτρα αποφυγ...  ...  <div class=\"single-article post-72546 post typ...\n",
              "3  <h2>Όχι, η Δανία ΔΕΝ τα είπε «έξω από τα δόντι...  ...  <div class=\"single-article post-71565 post typ...\n",
              "4  <h2>Ο κ. Αναστάσιος Ποτσέπης ΔΕΝ προσλήφθηκε ω...  ...  <div class=\"single-article post-71681 post typ...\n",
              "\n",
              "[5 rows x 3 columns]"
            ]
          },
          "metadata": {
            "tags": []
          },
          "execution_count": 3
        }
      ]
    },
    {
      "cell_type": "code",
      "metadata": {
        "colab": {
          "base_uri": "https://localhost:8080/"
        },
        "id": "Pn-RijgGxAYH",
        "outputId": "f19305ca-f9cf-41e2-ee02-f9abdbfdb122"
      },
      "source": [
        "data['title'].drop_duplicates()"
      ],
      "execution_count": null,
      "outputs": [
        {
          "output_type": "execute_result",
          "data": {
            "text/plain": [
              "0       <h2>Ο Ναός του Επικούριου Απόλλωνα ΔΕΝ περιστρ...\n",
              "1       <h2>Όχι, κάτοχοι διπλώματος Β ΔΕΝ μπορούν να ο...\n",
              "2       <h2>Καναδάς: Νόμιμα παραμένουν τα μέτρα αποφυγ...\n",
              "3       <h2>Όχι, η Δανία ΔΕΝ τα είπε «έξω από τα δόντι...\n",
              "4       <h2>Ο κ. Αναστάσιος Ποτσέπης ΔΕΝ προσλήφθηκε ω...\n",
              "                              ...                        \n",
              "1135    <h2>Μούφα η φωτογραφία στη γέφυρα από την εξέγ...\n",
              "1136    <h2>Βομβαρδίζεται η Ελλάδα με μαγνητικές καται...\n",
              "1137    <h2>Μαγνητική καταιγίδα την προσεχή Τετάρτη 28...\n",
              "1138    <h2>Προσοχή! Έρχεται μαγνητική καταιγίδα στις ...\n",
              "1139    <h2>ΕΝΑ channel και το γνωστό hoax του αιθέρα....\n",
              "Name: title, Length: 1140, dtype: object"
            ]
          },
          "metadata": {
            "tags": []
          },
          "execution_count": 4
        }
      ]
    },
    {
      "cell_type": "code",
      "metadata": {
        "id": "t39QguhT4HQ7",
        "colab": {
          "base_uri": "https://localhost:8080/",
          "height": 103
        },
        "outputId": "12649536-0036-4919-92d6-02931b354307"
      },
      "source": [
        "data['body'][0]"
      ],
      "execution_count": null,
      "outputs": [
        {
          "output_type": "execute_result",
          "data": {
            "application/vnd.google.colaboratory.intrinsic+json": {
              "type": "string"
            },
            "text/plain": [
              "'<div class=\"single-article post-69821 post type-post status-publish format-standard has-post-thumbnail hentry category-fake-news tag-naos-epikouriou-apollona tag-peristrofi\" id=\"post-69821\">\\n                    \\n<p>Δημοσίευμα που <a href=\"https://www.ellinikahoaxes.gr/2015/09/01/naos-epikouriou-apollona/\" rel=\"noreferrer noopener\" target=\"_blank\">ανακυκλώνεται εδώ και αρκετά χρόνια </a>στο διαδίκτυο, ισχυρίζεται, ψευδώς, ότι<a data-external=\"true\" href=\"https://el.wikipedia.org/wiki/%CE%9D%CE%B1%CF%8C%CF%82_%CE%95%CF%80%CE%B9%CE%BA%CE%BF%CF%8D%CF%81%CE%B9%CE%BF%CF%85_%CE%91%CF%80%CF%8C%CE%BB%CE%BB%CF%89%CE%BD%CE%B1\" rel=\"noreferrer noopener\" target=\"_blank\"> ο ναός του Επικούριου Απόλλωνα </a>περιστρέφεται γύρω από τον άξονά του.</p>\\n\\n\\n\\n<p>Παραδείγματα: <a data-external=\"true\" href=\"https://archive.vn/aAouF\" rel=\"noreferrer noopener\" target=\"_blank\">fumara.gr</a>, <a data-external=\"true\" href=\"https://archive.vn/8N3WK\" rel=\"noreferrer noopener\" target=\"_blank\">diaforetiko.gr</a>, <a data-external=\"true\" href=\"https://archive.vn/5cQat\" rel=\"noreferrer noopener\" target=\"_blank\">heptapolis.com</a>, <a data-external=\"true\" href=\"https://archive.vn/hFfmB\" rel=\"noreferrer noopener\" target=\"_blank\">activenews.gr</a>, <a data-external=\"true\" href=\"https://archive.vn/wip/LiYx0\" rel=\"noreferrer noopener\" target=\"_blank\">periergaa.blogspot.com</a>, <a href=\"https://archive.vn/wip/N8evJ\" rel=\"noreferrer noopener\" target=\"_blank\">athensmagazine.gr</a>, </p>\\n\\n\\n\\n<p class=\"has-background\" style=\"background-color:#eaeaea\"><strong><em>Μοναδικό φαινόμενο στην Ελλάδα. Ο Ναός του Επικούριου Απόλλωνα που… περιστρέφεται (βίντεο)</em></strong></p>\\n\\n\\n\\n<div class=\"wp-block-image\"><figure class=\"aligncenter\"><a href=\"https://www.ellinikahoaxes.gr/wp-content/uploads/2015/09/27601.jpg\"><img alt=\"27601\" class=\"wp-image-10056\" data-lazy-sizes=\"(max-width: 760px) 100vw, 760px\" data-lazy-src=\"https://www.ellinikahoaxes.gr/wp-content/uploads/2015/09/27601.jpg\" data-lazy-srcset=\"https://media.ellinikahoaxes.gr/uploads/2015/09/27601.jpg 760w, https://media.ellinikahoaxes.gr/uploads/2015/09/27601-300x182.jpg 300w, https://media.ellinikahoaxes.gr/uploads/2015/09/27601-696x421.jpg 696w, https://media.ellinikahoaxes.gr/uploads/2015/09/27601-694x420.jpg 694w\" height=\"460\" src=\"data:image/svg+xml,%3Csvg%20xmlns=\\'http://www.w3.org/2000/svg\\'%20viewBox=\\'0%200%20760%20460\\'%3E%3C/svg%3E\" width=\"760\"/><noscript><img alt=\"27601\" class=\"wp-image-10056\" height=\"460\" sizes=\"(max-width: 760px) 100vw, 760px\" src=\"https://www.ellinikahoaxes.gr/wp-content/uploads/2015/09/27601.jpg\" srcset=\"https://media.ellinikahoaxes.gr/uploads/2015/09/27601.jpg 760w, https://media.ellinikahoaxes.gr/uploads/2015/09/27601-300x182.jpg 300w, https://media.ellinikahoaxes.gr/uploads/2015/09/27601-696x421.jpg 696w, https://media.ellinikahoaxes.gr/uploads/2015/09/27601-694x420.jpg 694w\" width=\"760\"/></noscript></a></figure></div>\\n\\n\\n\\n<figure class=\"wp-block-image size-large\"><img alt=\"\" class=\"wp-image-69839\" data-lazy-sizes=\"(max-width: 883px) 100vw, 883px\" data-lazy-src=\"https://media.ellinikahoaxes.gr/uploads/2020/09/naos_epik.jpg\" data-lazy-srcset=\"https://media.ellinikahoaxes.gr/uploads/2020/09/naos_epik.jpg 883w, https://media.ellinikahoaxes.gr/uploads/2020/09/naos_epik-300x140.jpg 300w, https://media.ellinikahoaxes.gr/uploads/2020/09/naos_epik-768x359.jpg 768w\" height=\"413\" src=\"data:image/svg+xml,%3Csvg%20xmlns=\\'http://www.w3.org/2000/svg\\'%20viewBox=\\'0%200%20883%20413\\'%3E%3C/svg%3E\" width=\"883\"/><noscript><img alt=\"\" class=\"wp-image-69839\" height=\"413\" sizes=\"(max-width: 883px) 100vw, 883px\" src=\"https://media.ellinikahoaxes.gr/uploads/2020/09/naos_epik.jpg\" srcset=\"https://media.ellinikahoaxes.gr/uploads/2020/09/naos_epik.jpg 883w, https://media.ellinikahoaxes.gr/uploads/2020/09/naos_epik-300x140.jpg 300w, https://media.ellinikahoaxes.gr/uploads/2020/09/naos_epik-768x359.jpg 768w\" width=\"883\"/></noscript></figure>\\n\\n\\n\\n<div class=\"wp-block-group\"><div class=\"wp-block-group__inner-container\">\\n<p class=\"has-text-align-justify has-background\" style=\"background-color:#eaeaea\"><em><strong>Ναός Πυξίδα – Το θαύμα των αρχαίων επιστημών.</strong></em><br/><br/><em>Περιστρέφεται γύρω από τον άξονα του κατά 50,2 δευτερόλεπτα της μοίρας, όση είναι και η ετήσια μετάπτωση των ισημεριών με στόχο να βλέπει συνεχώς το ίδιο αστρικό σημείο και τα μυστήρια δεν τελειώνουν εκεί, καθώς η πλαγιά είναι διαμορφωμένη τεχνητά και ο ναός τοποθετήθηκε πάνω σε αυτή ακολουθώντας τον άξονα Βορρά προς Νότο σε αντίθεση με τους υπόλοιπους ναούς. </em><br/><br/><em>Για να πετύχουν την ολίσθηση του ναού τοποθέτησαν πάνω στην πλάκα και ένα στρώμα αργίλου και βότσαλα θαλάσσης και πάνω σε αυτά τα στρώματα τοποθετήθηκαν τα θεμέλια του ναού.</em> <em>Για να μην σας αφήσω με την απορία για το ποιο ποιο αστρικό σημείο στοχεύει συνεχώς ο ναός εις τους αιώνες των αιώνων και θα συνεχίσει να στοχεύει, (εκτός κι αν οι πρόσφατες παρεμβάσεις για την συντήρηση του διαμορφώσουν νέες καταστάσεις).. το αστρικό σημείο λοιπόν είναι οΣείριος, το άστρο του Κυνός, από το οποίο κατάγεται σύμφωνα με τη “μυθολογία” ο Θεός Απόλλων.</em><br/><br/><em>Ερωτηματικό παραμένει πως μπορούσαν οι αρχαίοι Έλληνες να χτίζουν Παρθενώνες και περιστρεφόμενους ναούς.. αλλά και το πως υπολόγισαν ότι για να στοχεύει ο ναός του Επικούριου Απόλλωνα τον Σείριο πρέπει να γυρνάει κατά 50,2 δευτερόλεπτα της μοίρας ίση με την ετήσια μετάπτωση των ισημεριών.. Με τα σημερινά τεχνολογικά δεδομένα δεν είναι απίθανο.. με τα τότε δεδομένα όμως; </em><br/><br/><em>Πως οι αρχαίοι Έλληνες είχαν την τεχνολογία και την τεχνογνωσία; Την κατείχαν; Τους δόθηκε; Άλλο ένα σημείο αντιπαράθεσης…. Ίσως όχι για εμάς..</em> <em>“Το 652 π.χ. οι Σπαρτιάτες κυριεύουν τη Φιγάλεια και οι κάτοικοί της την εγκαταλείπουν. Απευθύνονται στο μαντείο των Δελφών για να μάθουν πώς θα ανακτήσουν τη πόλη τους. </em><br/><br/><em>Οι Φιγαλείς επιστρέφοντας στη πατρίδα τους για να ευχαριστήσουν το θεό Απόλλωνα αφιέρωσαν ναό που έχτισαν σε ένα φυσικό πλάτωμα στη πλαγιά του Κωτίλιου και τον ονόμασαν Επικούριο. Υπάρχουν στοιχεία που δείχνουν ότι ο ναός δεν ήταν απλά ένα λατρευτικό κτίσμα αφιερωμένο στον Απόλλωνα. </em><br/><br/><em>Αν εξετάσουμε τον αρχιτεκτονικό ρυθμό του, θα δούμε ότι αν και εξωτερικά είναι ΔΩΡΙΚΟΥ ρυθμού, στο εσωτερικό του είναι ΙΩΝΙΚΟΥ ρυθμού αλλά οι κίονες του κοσμούνται με ΚΟΡΙΝΘΙΑΚΟΥ ρυθμού κιονόκρανα.</em><br/><br/><em>Είναι το μοναδικό αρχαίο οικοδόμημα που συνδιάζει και τους 3 αρχιτεκτονικούς ρυθμούς. Κατασκευάστηκε το τελευταίο τέταρτο του 5ου αιώνα π.Χ πιθανότατα από τον αρχιτέκτονα του Παρθενώνα, Ικτίνο, μετά από υπόδειξη των ιερέων του Απόλλωνα από τους Δελφούς. </em><br/><br/><em>Η πλαγιά που είναι χτισμένος ο ναός έχει έχει διαμορφωθεί τεχνητά σε οριζόντιο επίπεδο και ο ναός τοποθετήθηκε έκκεντρα πάνω σε αυτή με προσανατολισμό που και πάλι θεωρείται παράξενος διότι δεν ακολουθεί τον συνήθη προσανατολισμό του άξονα ανατολής – δύσης αλλά βορρά-νότου. Δημιουργήθηκε τεχνητά μία πέτρινη ειδική βάση που πάνω σε αυτή τοποθετήθηκε ο ναός.</em> <br/><br/><em>Η βάση αυτή είναι μοναδική στον κόσμο, διότι λόγω της μελετημένης κλίσης της, επιτρέπει στον ναό να ΟΛΙΣΘΑΙΝΕΙ πάνω σε αυτή κατά 50.2 ΔΕΥΤΕΡΟΛΕΠΤΑ ΤΗΣ ΜΟΙΡΑΣ κάθε χρόνο με σκοπό να ΣΤΟΧΕΥΕΙ ΔΙΑΡΚΩΣ ΣΤΟ ΙΔΙΟ ΑΣΤΡΙΚΟ ΣΗΜΕΙΟ. Για να κατορθώσει ο ναός να ολισθαίνει πάνω στην βάση του, τοποθετήθηκε πάνω σε αυτή ένα στρώμα άργιλου και ένα στρώμα από βότσαλα θαλάσσης. Πάνω σε αυτά, τοποθετήθηκαν οι πλάκες των θεμελίων του ναού. Κάτω από τη βάση έχουν βρεθεί τούνελ που κρατούσαν τον άξονα του ναού.</em> <em>Πάνω στη βάση του ναού τοποθετήθηκαν πολλές στρώσεις από πλάκες που ενώνοντας μεταξύ τους με ανοξείδωτους σιδερένιους συνδετήρες και στο άνοιγμα τους έχυσαν μόλυβδο για να κρατά τους κραδασμούς. </em><br/><br/><em>Στη συνέχεια έχτισαν το ναό, ο οποίος λόγω της ιδιαίτερης βάσης του και της σοφά μελετημένης κλίσης της, ολίσθαινε πάνω σε αυτή ΑΚΟΛΟΥΘΩΝΤΑΣ ΤΗ ΜΕΤΑΠΤΩΣΗ ΤΩΝ ΙΣΗΜΕΡΙΩΝ.</em> <em>Ο δεύτερος ναός στην κορυφή του βουνού Κωτύλιο έπαιζε τον ρόλο του δείκτη. Δηλαδή αν κάποιος στεκόταν στην είσοδο του μεγάλου ναού σε πλήρη στοίχιση με τον μικρό ναό της κορυφής, τότε έβλεπε το σημείο 0 του βορρά! Μία τεράστια πυξίδα δηλαδή κατασκευασμένη από γρανίτη και μάρμαρο! </em><br/><br/><em>Ο ναός κατατάσσεται στο κατάλογο της UNESCO ως παγκόσμιο μνημείο πολιτιστικής κληρονομιάς.”</em> <em>Αν το άρθρο σας άρεσε. Κοινοποιήστε το. Αναδεικνύει την πολιτιστική μας κληρονομιά.</em> <em>Στόχος μσς να γίνει το άρθρο με τις πιο πολλες κοινοποιήσεις στην Ευρώπη</em></p>\\n</div></div>\\n\\n\\n\\n<div class=\"wp-block-image\"><figure class=\"aligncenter\"><a href=\"https://www.ellinikahoaxes.gr/wp-content/uploads/2015/09/27602.jpg\"><img alt=\"27602\" class=\"wp-image-10057\" data-lazy-sizes=\"(max-width: 783px) 100vw, 783px\" data-lazy-src=\"https://www.ellinikahoaxes.gr/wp-content/uploads/2015/09/27602.jpg\" data-lazy-srcset=\"https://media.ellinikahoaxes.gr/uploads/2015/09/27602.jpg 783w, https://media.ellinikahoaxes.gr/uploads/2015/09/27602-300x231.jpg 300w, https://media.ellinikahoaxes.gr/uploads/2015/09/27602-768x590.jpg 768w, https://media.ellinikahoaxes.gr/uploads/2015/09/27602-696x535.jpg 696w, https://media.ellinikahoaxes.gr/uploads/2015/09/27602-546x420.jpg 546w\" height=\"602\" src=\"data:image/svg+xml,%3Csvg%20xmlns=\\'http://www.w3.org/2000/svg\\'%20viewBox=\\'0%200%20783%20602\\'%3E%3C/svg%3E\" width=\"783\"/><noscript><img alt=\"27602\" class=\"wp-image-10057\" height=\"602\" sizes=\"(max-width: 783px) 100vw, 783px\" src=\"https://www.ellinikahoaxes.gr/wp-content/uploads/2015/09/27602.jpg\" srcset=\"https://media.ellinikahoaxes.gr/uploads/2015/09/27602.jpg 783w, https://media.ellinikahoaxes.gr/uploads/2015/09/27602-300x231.jpg 300w, https://media.ellinikahoaxes.gr/uploads/2015/09/27602-768x590.jpg 768w, https://media.ellinikahoaxes.gr/uploads/2015/09/27602-696x535.jpg 696w, https://media.ellinikahoaxes.gr/uploads/2015/09/27602-546x420.jpg 546w\" width=\"783\"/></noscript></a></figure></div>\\n\\n\\n\\n<p class=\"has-text-align-justify\">Όπως έχουμε δείξει και σε <a href=\"https://www.ellinikahoaxes.gr/2015/09/01/naos-epikouriou-apollona/\" rel=\"noreferrer noopener\" target=\"_blank\">παλαιότερο άρθρο μας</a>, ο συγκεκριμένος ισχυρισμός έκανε την εμφάνισή του το 2009, με τη δημοσίευση του άρθρου <em>”Ο Ναός του Επικούρειου Απόλλωνα στην Ηλεία – <a data-external=\"true\" href=\"https://web.archive.org/web/20100429220726/http://www.freehellenes.org/keimena/naos/naos.htm\" rel=\"noreferrer noopener\" target=\"_blank\">Ο Ναός που περιστρέφεται και ο Ναός που δονείται..</a>.”\\xa0</em> το οποίο προέρχεται από το βιβλίο <a data-external=\"true\" href=\"https://web.archive.org/web/20100513231532/http://www.schizas.com:80/site3/el/o-naos-poy-peristrefetai-kai-o-naos-poy-doneitai.html\" rel=\"noreferrer noopener\" target=\"_blank\">“Ερευνώ βρίσκω και γράφω” </a>του μαθηματικού Στυλιανού Πετράκη. </p>\\n\\n\\n\\n<p>Όπως αναφέρει ο συγγραφέας έκανε την “ανακάλυψη” που επιβεβαιώθηκε με την παρατήρησή του ένα βράδυ. “Ιδίοις όμμασι”: </p>\\n\\n\\n\\n<p class=\"has-text-align-justify has-background\" style=\"background-color:#eaeaea\"><em>Σκέφτηκα πως αν η θεωρία μου για τη λειτουργία του Ναού και ως συσκευής παρατήρησης του Ουράνιου θόλου είναι σωστή τότε θα έπρεπε να έχουμε ακόμα και σήμερα τις αποδείξεις για την εναρμόνιση του με την ουράνια γεωμετρία. </em><br/><br/><em>Ο άξονας του, όπως διαγράφεται από τον προσανατολισμό του και από τις πλάκες του δαπέδου, είναι στραμμένος προς τον Ουράνιο Βορρά. Πριν από 2.400 χρόνια έδειχνε τον Α΄ του Δράκοντα.</em> <em>Σήμερα θα έπρεπε να «δείχνει» τον Α΄ της Μικρής ’Aρκτου» «Διαπίστωσα ιδίοις όμμασι το φαινόμενο, στις 2 Αυγούστου του 1972», Περίμενα υπομονετικά να νυχτώσει, έχοντας σταθεί πίσω από τον κυκλικό βωμό που βρίσκεται στο εσωτερικό του Ναού. Όταν τα αστέρια εμφανίστηκαν είδα πως προεκτείνοντας νοερά τις δύο βόρειες μεσαίες κολόνες προς τον ουρανό συναντούσα ανάμεσά τους, στο κέντρο ακριβώς, τον Ισημερινό Πολικό Αστέρα, τον Α΄ της Μικράς Aρκτου</em><br/><br/><em>Για πολλούς συντηρητικά σκεπτόμενους, ενδεχόμενα σαν και αυτό της τεχνητής ολίσθησης του Ναού είναι απίστευτα, ωστόσο οι μαθηματικοί και αστρονομικοί υπολογισμοί τα αποδεικνύουν υπενθυμίζοντας μας πως καμιά φορά ο πολύς ορθολογισμός ή και η επιστημονική αλαζονεία μπορεί να αποκλείσουν εκδοχές που, ενώ δείχνουν απίστευτες, είναι ίσως οι πραγματικές.</em><br/><br/><em>Απόσπασμα: Στυλιανού Πετράκη : “Ερευνώ Βρίσκω Και Γράφω”</em></p>\\n\\n\\n\\n<div class=\"wp-block-image\"><figure class=\"aligncenter size-large\"><img alt=\"\" class=\"wp-image-69847\" data-lazy-sizes=\"(max-width: 438px) 100vw, 438px\" data-lazy-src=\"https://media.ellinikahoaxes.gr/uploads/2020/09/vivliopetraki4.jpg\" data-lazy-srcset=\"https://media.ellinikahoaxes.gr/uploads/2020/09/vivliopetraki4.jpg 438w, https://media.ellinikahoaxes.gr/uploads/2020/09/vivliopetraki4-205x300.jpg 205w\" height=\"640\" src=\"data:image/svg+xml,%3Csvg%20xmlns=\\'http://www.w3.org/2000/svg\\'%20viewBox=\\'0%200%20438%20640\\'%3E%3C/svg%3E\" width=\"438\"/><noscript><img alt=\"\" class=\"wp-image-69847\" height=\"640\" sizes=\"(max-width: 438px) 100vw, 438px\" src=\"https://media.ellinikahoaxes.gr/uploads/2020/09/vivliopetraki4.jpg\" srcset=\"https://media.ellinikahoaxes.gr/uploads/2020/09/vivliopetraki4.jpg 438w, https://media.ellinikahoaxes.gr/uploads/2020/09/vivliopetraki4-205x300.jpg 205w\" width=\"438\"/></noscript></figure></div>\\n\\n\\n\\n<div class=\"wp-block-image\"><figure class=\"aligncenter size-large\"><img alt=\"\" class=\"wp-image-69843\" data-lazy-sizes=\"(max-width: 510px) 100vw, 510px\" data-lazy-src=\"https://media.ellinikahoaxes.gr/uploads/2020/09/vivliopetraki.jpg\" data-lazy-srcset=\"https://media.ellinikahoaxes.gr/uploads/2020/09/vivliopetraki.jpg 510w, https://media.ellinikahoaxes.gr/uploads/2020/09/vivliopetraki-182x300.jpg 182w\" height=\"842\" src=\"data:image/svg+xml,%3Csvg%20xmlns=\\'http://www.w3.org/2000/svg\\'%20viewBox=\\'0%200%20510%20842\\'%3E%3C/svg%3E\" width=\"510\"/><noscript><img alt=\"\" class=\"wp-image-69843\" height=\"842\" sizes=\"(max-width: 510px) 100vw, 510px\" src=\"https://media.ellinikahoaxes.gr/uploads/2020/09/vivliopetraki.jpg\" srcset=\"https://media.ellinikahoaxes.gr/uploads/2020/09/vivliopetraki.jpg 510w, https://media.ellinikahoaxes.gr/uploads/2020/09/vivliopetraki-182x300.jpg 182w\" width=\"510\"/></noscript><figcaption>Στυλιανός Πετράκης στο βιβλίο του “<em>Ερευνώ, βρίσκω και γράφω</em>” σελίδα 116</figcaption></figure></div>\\n\\n\\n\\n<div class=\"wp-block-image\"><figure class=\"aligncenter size-large\"><img alt=\"\" class=\"wp-image-69845\" data-lazy-sizes=\"(max-width: 498px) 100vw, 498px\" data-lazy-src=\"https://media.ellinikahoaxes.gr/uploads/2020/09/vivliopetraki2.jpg\" data-lazy-srcset=\"https://media.ellinikahoaxes.gr/uploads/2020/09/vivliopetraki2.jpg 498w, https://media.ellinikahoaxes.gr/uploads/2020/09/vivliopetraki2-184x300.jpg 184w\" height=\"812\" src=\"data:image/svg+xml,%3Csvg%20xmlns=\\'http://www.w3.org/2000/svg\\'%20viewBox=\\'0%200%20498%20812\\'%3E%3C/svg%3E\" width=\"498\"/><noscript><img alt=\"\" class=\"wp-image-69845\" height=\"812\" sizes=\"(max-width: 498px) 100vw, 498px\" src=\"https://media.ellinikahoaxes.gr/uploads/2020/09/vivliopetraki2.jpg\" srcset=\"https://media.ellinikahoaxes.gr/uploads/2020/09/vivliopetraki2.jpg 498w, https://media.ellinikahoaxes.gr/uploads/2020/09/vivliopetraki2-184x300.jpg 184w\" width=\"498\"/></noscript><figcaption>Στυλιανός Πετράκης στο βιβλίο του “<em>Ερευνώ, βρίσκω και γράφω</em>” σελίδα 117</figcaption></figure></div>\\n\\n\\n\\n<figure class=\"wp-block-image size-large\"><img alt=\"\" class=\"wp-image-69846\" data-lazy-sizes=\"(max-width: 800px) 100vw, 800px\" data-lazy-src=\"https://media.ellinikahoaxes.gr/uploads/2020/09/vivliopetraki3.jpg\" data-lazy-srcset=\"https://media.ellinikahoaxes.gr/uploads/2020/09/vivliopetraki3.jpg 800w, https://media.ellinikahoaxes.gr/uploads/2020/09/vivliopetraki3-300x228.jpg 300w, https://media.ellinikahoaxes.gr/uploads/2020/09/vivliopetraki3-768x584.jpg 768w\" height=\"608\" src=\"data:image/svg+xml,%3Csvg%20xmlns=\\'http://www.w3.org/2000/svg\\'%20viewBox=\\'0%200%20800%20608\\'%3E%3C/svg%3E\" width=\"800\"/><noscript><img alt=\"\" class=\"wp-image-69846\" height=\"608\" sizes=\"(max-width: 800px) 100vw, 800px\" src=\"https://media.ellinikahoaxes.gr/uploads/2020/09/vivliopetraki3.jpg\" srcset=\"https://media.ellinikahoaxes.gr/uploads/2020/09/vivliopetraki3.jpg 800w, https://media.ellinikahoaxes.gr/uploads/2020/09/vivliopetraki3-300x228.jpg 300w, https://media.ellinikahoaxes.gr/uploads/2020/09/vivliopetraki3-768x584.jpg 768w\" width=\"800\"/></noscript><figcaption>Στυλιανός Πετράκης στο βιβλίο του “<em>Ερευνώ, βρίσκω και γράφω</em>” σελίδες 159-160</figcaption></figure>\\n\\n\\n\\n<p>Τη μεθοδολογία που ακολούθησε ο συγγραφέας και τον τρόπο που ερεύνησε το θέμα και κατέληξε στην παραπάνω διαπίστωση, περιγράφει ο ίδιος: </p>\\n\\n\\n\\n<p class=\"has-text-align-justify has-background\" style=\"background-color:#eaeaea\"><em><strong>Μέ μέθοδο καί φαντασία</strong> καί προπαντός απροκατάληπτα. Ερευνά τά κείμενα τών Αρχαίων καί τούς Αρχαιολογικούς Χώρους καί συνδέει τό αποτέλεσμα μέ τή σύγχρονη Φυσική, τήν Ιατρική καί τά Μαθηματικά. Δέν παίρνει σάν αξιώματα τίς θέσεις τού Επιστημονικού κατεστημένου γιά τήν Ιστορία, τόν Πολιτισμό καί τίς Επιστήμες, αλλ’ ανοίγει παράθυρα σέ νέες πιθανότητες καί δυνατότητες.</em></p>\\n\\n\\n\\n<div class=\"wp-block-image\"><figure class=\"aligncenter\"><img alt=\"27603\" class=\"wp-image-10058\" data-lazy-sizes=\"(max-width: 749px) 100vw, 749px\" data-lazy-src=\"https://www.ellinikahoaxes.gr/wp-content/uploads/2015/09/27603.jpg\" data-lazy-srcset=\"https://media.ellinikahoaxes.gr/uploads/2015/09/27603.jpg 749w, https://media.ellinikahoaxes.gr/uploads/2015/09/27603-300x138.jpg 300w, https://media.ellinikahoaxes.gr/uploads/2015/09/27603-696x321.jpg 696w\" height=\"345\" src=\"data:image/svg+xml,%3Csvg%20xmlns=\\'http://www.w3.org/2000/svg\\'%20viewBox=\\'0%200%20749%20345\\'%3E%3C/svg%3E\" width=\"749\"/><noscript><img alt=\"27603\" class=\"wp-image-10058\" height=\"345\" sizes=\"(max-width: 749px) 100vw, 749px\" src=\"https://www.ellinikahoaxes.gr/wp-content/uploads/2015/09/27603.jpg\" srcset=\"https://media.ellinikahoaxes.gr/uploads/2015/09/27603.jpg 749w, https://media.ellinikahoaxes.gr/uploads/2015/09/27603-300x138.jpg 300w, https://media.ellinikahoaxes.gr/uploads/2015/09/27603-696x321.jpg 696w\" width=\"749\"/></noscript></figure></div>\\n\\n\\n\\n<p class=\"has-text-align-justify\">Στην πραγματικότητα δεν υπάρχει καμία απόδειξη για τον παραπάνω ισχυρισμό. Επιτροπές συντήρησης, εφορία αρχαιοτήτων, Έλληνες και ξένοι αρχαιολόγοι, συντηρητές, μηχανικοί ή άλλοι ειδικοί που μελέτησαν ή εργάστηκαν, τώρα ή στο παρελθόν, στις <a href=\"https://archive.vn/lMYO0\" rel=\"noreferrer noopener\" target=\"_blank\">ανασκαφές</a>, τις στατικές μελέτες, τις <a data-external=\"true\" href=\"https://web.archive.org/web/20070930224341/http://skopas.culture.gr/epikourios/apollon1.html\" rel=\"noreferrer noopener\" target=\"_blank\">αναστηλωτικές επεμβάσεις </a>του ναού, δεν έχουν δημοσιεύσει ποτέ κάποια επιστημονική μελέτη για κάτι τέτοιο.</p>\\n\\n\\n\\n<figure class=\"wp-block-image size-large\"><img alt=\"\" class=\"wp-image-70087\" data-lazy-sizes=\"(max-width: 800px) 100vw, 800px\" data-lazy-src=\"https://media.ellinikahoaxes.gr/uploads/2020/09/3.Atemporarytent_Efailias.jpg\" data-lazy-srcset=\"https://media.ellinikahoaxes.gr/uploads/2020/09/3.Atemporarytent_Efailias.jpg 800w, https://media.ellinikahoaxes.gr/uploads/2020/09/3.Atemporarytent_Efailias-300x200.jpg 300w, https://media.ellinikahoaxes.gr/uploads/2020/09/3.Atemporarytent_Efailias-768x513.jpg 768w\" height=\"534\" src=\"data:image/svg+xml,%3Csvg%20xmlns=\\'http://www.w3.org/2000/svg\\'%20viewBox=\\'0%200%20800%20534\\'%3E%3C/svg%3E\" width=\"800\"/><noscript><img alt=\"\" class=\"wp-image-70087\" height=\"534\" sizes=\"(max-width: 800px) 100vw, 800px\" src=\"https://media.ellinikahoaxes.gr/uploads/2020/09/3.Atemporarytent_Efailias.jpg\" srcset=\"https://media.ellinikahoaxes.gr/uploads/2020/09/3.Atemporarytent_Efailias.jpg 800w, https://media.ellinikahoaxes.gr/uploads/2020/09/3.Atemporarytent_Efailias-300x200.jpg 300w, https://media.ellinikahoaxes.gr/uploads/2020/09/3.Atemporarytent_Efailias-768x513.jpg 768w\" width=\"800\"/></noscript><figcaption>Αρχαιολογικός Χώρος Βασσών Φιγαλείας. Εναέρια λήψη.</figcaption></figure>\\n\\n\\n\\n<h3><strong>Ο Ναός</strong></h3>\\n\\n\\n\\n<p class=\"has-text-align-justify\">O ναός του Επικούριου Απόλλωνα είναι το πρώτο ελληνικό μνημείο που εντάχθηκε στον <a data-external=\"true\" href=\"https://archive.vn/SIWjd\" rel=\"noreferrer noopener\" target=\"_blank\">κατάλογο της UNESCO</a> το 1986.\\xa0Ο ναός συγκεντρώνει ορισμένες ιδιαιτερότητες που συνθέτουν τη μοναδικότητά του. Ο βόρειος προσανατολισμός του έρχεται σε αντίθεση με τον συνηθισμένο ανατολικό προσανατολισμό των αρχαιοελληνικών ναών, ενώ αρχιτεκτονικά συνδυάζονται ο δωρικός με τον ιωνικό και κορινθιακό ρυθμό στο μνημείο. Τα αρχιτεκτονικά ευρήματα των ανασκαφών δείχνουν ότι πριν από αυτόν τον ναό ναό υπήρχε αρχαϊκό τέμενος με έναν ή ίσως με δύο ναούς. </p>\\n\\n\\n\\n<figure class=\"wp-block-image size-large\"><img alt=\"\" class=\"wp-image-70258\" data-lazy-sizes=\"(max-width: 689px) 100vw, 689px\" data-lazy-src=\"https://media.ellinikahoaxes.gr/uploads/2020/09/epicgeomorp.jpg\" data-lazy-srcset=\"https://media.ellinikahoaxes.gr/uploads/2020/09/epicgeomorp.jpg 689w, https://media.ellinikahoaxes.gr/uploads/2020/09/epicgeomorp-300x254.jpg 300w\" height=\"583\" src=\"data:image/svg+xml,%3Csvg%20xmlns=\\'http://www.w3.org/2000/svg\\'%20viewBox=\\'0%200%20689%20583\\'%3E%3C/svg%3E\" width=\"689\"/><noscript><img alt=\"\" class=\"wp-image-70258\" height=\"583\" sizes=\"(max-width: 689px) 100vw, 689px\" src=\"https://media.ellinikahoaxes.gr/uploads/2020/09/epicgeomorp.jpg\" srcset=\"https://media.ellinikahoaxes.gr/uploads/2020/09/epicgeomorp.jpg 689w, https://media.ellinikahoaxes.gr/uploads/2020/09/epicgeomorp-300x254.jpg 300w\" width=\"689\"/></noscript><figcaption>The Temple of Apollo Bassitas: The architecture – Frederick A. Cooper, Nancy J. Kelly</figcaption></figure>\\n\\n\\n\\n<p class=\"has-text-align-justify\">Για την κατασκευή του χρησιμοποιήθηκε ο τοπικός στρωσιγενής ασβεστόλιθος (γκρίζα ντόπια πέτρα), εκτός από ορισμένα μέρη τόσο της οροφής, της στέγης και του σηκού, που τα οποία ήταν μαρμάρινα.  </p>\\n\\n\\n\\n<p class=\"has-text-align-justify\">Για τη διαμόρφωση του πλατώματος, στο οποίο επρόκειτο να κτιστεί ο ναός, έγιναν αλλού απολαξεύσεις του βράχου (ανατολικά) και αλλού επιχωματώσεις (δυτικά). Γι’ αυτό το λόγο, τα αντίστοιχα τμήματα τόσο του κρηπιδώματος όσο και των τοίχων του σηκού, στηρίχτηκαν στην πρώτη περίπτωση στο βράχο, είτε απευθείας είτε με τη μεσολάβηση χαμηλού θεμελίου, ενώ στη δεύτερη, λόγω της κατωφέρειας του εδάφους, με τη μεσολάβηση μεγάλου ύψους θεμελίωσης (Τζώρτζη Κ., Ο ναός του Επικούριου Απόλλωνα). </p>\\n\\n\\n\\n<p class=\"has-text-align-justify\">Εξαιτίας του σαθρού εδάφους πάνω στο οποίο οικοδομήθηκε, αλλά και το έντονο σεισμογενές της περιοχής, οι κατασκευαστές του είχαν λάβει ειδικά μέτρα για τη στήριξή του, όπως η τοποθέτηση μεταλλικών συνδέσμων (από σίδηρο και μολύβι, γνωστοί στην ελληνική αρχιτεκτονική) και πλακών στα θεμέλιά του. <br/><br/>Με το πέρασμα όμως δύο και πλέον χιλιετιών, ο ναός λόγω του εδάφους σε συνδυασμό με τον ανθρώπινο παράγοντα (η ανεύρεση του μετάλλου που κρυβόταν μέσα του έπαιξε κύριο ρόλο στην καταστροφή του κτιρίου) και των σεισμών στους οποίους οφείλονται οι επιμέρους παραμορφώσεις, όπως η διεύρυνση των αρμών ώσεως, η απόκλιση των κιόνων από την κατακόρυφο και η στρέψη ή μετατόπιση των σπονδύλων, είχε σαν αποτέλεσμα να κινδυνεύει ακόμη και με κατάρρευση.</p>\\n\\n\\n\\n<figure class=\"wp-block-image size-large\"><img alt=\"\" class=\"wp-image-70222\" data-lazy-sizes=\"(max-width: 617px) 100vw, 617px\" data-lazy-src=\"https://media.ellinikahoaxes.gr/uploads/2020/09/epic_sindesmos.jpg\" data-lazy-srcset=\"https://media.ellinikahoaxes.gr/uploads/2020/09/epic_sindesmos.jpg 617w, https://media.ellinikahoaxes.gr/uploads/2020/09/epic_sindesmos-289x300.jpg 289w\" height=\"640\" src=\"data:image/svg+xml,%3Csvg%20xmlns=\\'http://www.w3.org/2000/svg\\'%20viewBox=\\'0%200%20617%20640\\'%3E%3C/svg%3E\" width=\"617\"/><noscript><img alt=\"\" class=\"wp-image-70222\" height=\"640\" sizes=\"(max-width: 617px) 100vw, 617px\" src=\"https://media.ellinikahoaxes.gr/uploads/2020/09/epic_sindesmos.jpg\" srcset=\"https://media.ellinikahoaxes.gr/uploads/2020/09/epic_sindesmos.jpg 617w, https://media.ellinikahoaxes.gr/uploads/2020/09/epic_sindesmos-289x300.jpg 289w\" width=\"617\"/></noscript><figcaption>Περιοδικό Αρχαιολογία: Ο ναός του Eπικούριου Aπόλλωνα:<a data-external=\"true\" href=\"https://www.archaiologia.gr/wp-content/uploads/2011/06/29-2.pdf\" rel=\"noreferrer noopener\" target=\"_blank\"> ο ανθρώπινος παράγων αιτία καταστροφής του μνημείου</a> (αρχείο pdf) Θάνος Παπαθανασόπουλος – Αρχιτέκτονας </figcaption></figure>\\n\\n\\n\\n<p class=\"has-text-align-justify\">Η αναφορά του γνωστού περιηγητή της αρχαιότητας Παυσανία, ο οποίος επισκέπτεται τις Βάσσες το 174 μ.Χ., αποτελεί τη <strong>μοναδική μνεία</strong> του ναού του Επικούριου Απόλλωνα (ή του Βασσίτα Απόλλωνα, όπως αλλιώς λεγόταν στους αρχαίους χρόνους) σε αρχαία γραπτή πηγή. Ο Παυσανίας, αν και περιέργως δεν κάνει εκτενή αναφορά στο μνημείο, σχολιάζει περί του κάλλους και της αρμονίας των λίθων του, παρέχοντας έτσι έμμεσα, μεταξύ των άλλων στοιχειών που παραθέτει στο βιβλίο του, και την τεχνική πληροφορία ότι το μνημείο έξι αιώνες περίπου μετά από την ανέγερσή του δεν παρουσιάζει παραμορφώσεις, άρα ούτε αξιοσημείωτη βλάβη ή κατάρρευση (Αρκαδικά, Βιβλίο VIII, κεφ. 41, παρ. 8).</p>\\n\\n\\n\\n<p class=\"has-text-align-justify\">Λίγα επιπλέον (πραγματικά) στοιχεία για το ναό από την <a data-external=\"true\" href=\"https://archive.vn/2VY8v\" rel=\"noreferrer noopener\" target=\"_blank\">αρχαιολόγο <strong>Ολυμπία Βικάτου</strong></a>:</p>\\n\\n\\n\\n<p class=\"has-text-align-justify has-background\" style=\"background-color:#eaeaea\"><em>Η ανέγερσή του τοποθετείται στο 420-400 π.Χ. και αρχιτέκτονάς του θεωρείται ο Ικτίνος, που σε αυτό το δημιούργημά του κατόρθωσε να συνδυάσει πολλά αρχαϊκά χαρακτηριστικά, που επέβαλλε η συντηρητική θρησκευτική παράδοση των Αρκάδων, με τα νέα γνωρίσματα της κλασικής εποχής. Ο ναός που βλέπει σήμερα ο επισκέπτης δεν είναι ο αρχαιότερος που κτίσθηκε στο χώρο. </em><br/><br/><em>Ο πρώτος ναός του Απόλλωνα οικοδομήθηκε γύρω στα τέλη του 7ου αι. π.Χ., πιθανότατα στην ίδια θέση. Ακολούθησαν μία ή δύο οικοδομικές φάσεις του, γύρω στο 600 και γύρω στο 500 π.Χ., αντίστοιχα, από τις οποίες σώζονται πολυάριθμα αρχιτεκτονικά μέλη, όπως το κεντρικό δισκοειδές πήλινο ακρωτήριο με την πλούσια πολύχρωμη γραπτή διακόσμηση, κεραμίδια και πήλινα ακροκέραμα.</em> <em>Ο κλασικός ναός έχει θεμελιωθεί πάνω στο φυσικό βράχο, σε ειδικά διαμορφωμένο πλάτωμα. Δεν έχει το συνήθη προσανατολισμό Α-Δ, αλλά Β-Ν, ίσως για λατρευτικούς λόγους, που συνδέονται με την αρκαδική θρησκευτική παράδοση, δεδομένου ότι και άλλοι ναοί στην περιοχή παρουσιάζουν τον ίδιο προσανατολισμό.</em> <br/><br/><em>Ο ναός είναι ο μοναδικός που συνδυάζει στοιχεία των τριών αρχιτεκτονικών ρυθμών της αρχαιότητας. Είναι δωρικός, περίπτερος, δίστυλος εν παραστάσι, με πρόναο, σηκό, άδυτο και οπισθόδομο. Έχει 6 κίονες στις στενές και 15 στις μακρές πλευρές, αντί της καθιερωμένης για την εποχή αναλογίας 6 x 13. Έτσι, η μορφή του είναι περισσότερο επιμήκης, όπως στους αρχαϊκούς ναούς.</em> <em>Η πρώτη σημαντική καταστροφή του σημειώθηκε όταν έπεσε η στέγη του, λόγω της φυσικής φθοράς των ξύλινων δοκών που τη συγκρατούσαν, ενώ σοβαρές ζημιές υπέστη και από την ανθρώπινη επέμβαση, που έγινε για την απόσπαση του μετάλλου των συνδέσμων. Ο ναός ταυτίσθηκε επιτυχώς το 1765 από το Γάλλο αρχιτέκτονα J. Bocher και η πρώτη συστηματική ανασκαφή του έγινε το 1812 από ομάδα αρχαιόφιλων επιστημόνων. </em><br/><br/><em>Ανασκαφές και αναστηλωτικές επεμβάσεις ξεκίνησαν το 1902 από την Αρχαιολογική Εταιρεία, ενώ το 1975 συστάθηκε η Επιτροπή Συντηρήσεως του Ναού του Επικουρίου Απόλλωνος, που ανέλαβε τον προγραμματισμό και τη σύνταξη των σχετικών μελετών για τα έργα συντήρησης και αναστήλωσης. Το 1982 έγινε ανασύσταση της επιτροπής και το Υπουργείο Πολιτισμού ανέλαβε συστηματικά το εξαιρετικά δύσκολο έργο αποκατάστασης του μνημείου. Από το 1987 ο ναός προστατεύεται από τις αντίξοες καιρικές συνθήκες με ειδικό στέγαστρο, που θα απομακρυνθεί μετά την ολοκλήρωση των απαραίτητων εργασιών.</em></p>\\n\\n\\n\\n<div class=\"wp-block-image\"><figure class=\"aligncenter size-large\"><img alt=\"\" class=\"wp-image-70020\" data-lazy-sizes=\"(max-width: 479px) 100vw, 479px\" data-lazy-src=\"https://media.ellinikahoaxes.gr/uploads/2020/09/Nelsons-Atlas-of-the-Classical-World.jpg\" data-lazy-srcset=\"https://media.ellinikahoaxes.gr/uploads/2020/09/Nelsons-Atlas-of-the-Classical-World.jpg 479w, https://media.ellinikahoaxes.gr/uploads/2020/09/Nelsons-Atlas-of-the-Classical-World-225x300.jpg 225w\" height=\"640\" src=\"data:image/svg+xml,%3Csvg%20xmlns=\\'http://www.w3.org/2000/svg\\'%20viewBox=\\'0%200%20479%20640\\'%3E%3C/svg%3E\" width=\"479\"/><noscript><img alt=\"\" class=\"wp-image-70020\" height=\"640\" sizes=\"(max-width: 479px) 100vw, 479px\" src=\"https://media.ellinikahoaxes.gr/uploads/2020/09/Nelsons-Atlas-of-the-Classical-World.jpg\" srcset=\"https://media.ellinikahoaxes.gr/uploads/2020/09/Nelsons-Atlas-of-the-Classical-World.jpg 479w, https://media.ellinikahoaxes.gr/uploads/2020/09/Nelsons-Atlas-of-the-Classical-World-225x300.jpg 225w\" width=\"479\"/></noscript><figcaption><em>bassae [από τις εκδόσεις Nelson’s Atlas of the Classical World(1959)]</em></figcaption></figure></div>\\n\\n\\n\\n<p class=\"has-text-align-justify\">Για την τοποθεσία και την στατικότητα του ναού, μπορούμε να διαβάσουμε ένα απόσπασμα από την εργασία με τίτλο <em>“Η Σεισμική Απόκριση των Κιόνων της Περίστασης του Ναού του Επικούριου Απόλλωνα”</em> <a href=\"https://media.ellinikahoaxes.gr/uploads/2020/09/m2368_papadopoulos3.pdf\">των Κ. Παπαδόπουλου, (Πολιτικός Μηχανικός, Υπεύθυνος έργου αποκατάστασης ναού Επικούριου Απόλλωνα) και της καθηγήτριας Ε.Βιντζηλάου</a>:</p>\\n\\n\\n\\n<p class=\"has-text-align-justify has-background\" style=\"background-color:#eaeaea\"><em>Ο ναός του Επικούριου Απόλλωνα κτίστηκε κατά το τελευταίο τέταρτο του 5ου π.Χ. αιώνα σε ένα από τα φυσικά πλατώματα του όρους Κωτίλιου (Βάσσες), σε υψόμετρο 1130 μ., κοντά στην αρχαία αρκαδική πόλη της Φιγάλειας και σε οδική απόσταση 14 χιλιομέτρων νότια από τη σημερινή κωμόπολη της Ανδρίτσαινας. Ο ναός είναι περίπτερος, διαμορφωμένος σε πρόναο, σηκό, άδυτο και οπισθόναο· έχει κατασκευαστεί, κυρίως, από τον τοπικό λευκότεφρο πλακώδη ασβεστόλιθο. </em><br/><br/><em>Το κτήριο είναι  προσανατολισμένο από βορρά προς νότο. Ο ναός σώζεται σήμερα, ως ανοικτό ερείπιο, σε μορφή που έλαβε ύστερα από, εν πολλοίς, άγνωστες οικοδομικές περιπέτειες και την ευρεία αναστηλωτική προσπάθεια των αρχών του 20ου αιώνα, κατά την οποία αναστηλώθηκαν σχεδόν στο σύνολό τους οι τοίχοι του σηκού και οι δύο νότιοι κίονες της δυτικής πλευράς -σήμερα μόνος κατακείμενος κίονας από το περιστύλιο είναι ο νοτιοανατολικός. </em><br/><br/><em>Στην υπάρχουσα κατάστασή του το μνημείο παρουσιάζει πολλές και εκτεταμένες γεωμετρικές παραμορφώσεις: έντονες διαφορικές καθιζήσεις, αποκλίσεις κιόνων από την κατακόρυφο, μετατοπίσεις και στροφές σπονδύλων, μετακινήσεις επιστυλίων κ.α., ενώ μεγάλα είναι και τα προβλήματα με το υλικό του, αφού τα περισσότερα αρχιτεκτονικά μέλη είναι κατακερματισμένα και αποσαθρωμένα. </em><br/><br/><em>Οι βλάβες αυτές αποτελούν συνέπεια πολλών παραγόντων που συνέδρασαν στη μακρόχρονη ιστορία του ναού, οι πιο καθοριστικοί από τους οποίους θεωρούνται η αστοχία της θεμελίωσης και οι διάφορες ανθρώπινες επεμβάσεις που, με στόχο τον προσπορισμό των μετάλλων των συνδέσεων, προκάλεσαν τη κατεδάφιση των τοίχων και τις πλείστες απολαξεύσεις μελών. </em><br/><br/><em>Συγκεκριμένα, για τις παραμορφώσεις των κιόνων της περίστασης, οι αποκλίσεις από την κατακόρυφο και οι απώλειες της πλήρους έδρασης τους οφείλονται κυρίως στις καθιζήσεις της θεμελίωσης και στις συνακόλουθες θραύσεις των λίθων της κρηπίδας, ενώ οι μετακινήσεις των σπονδύλων τους προκλήθηκαν από τους σεισμούς που διέγειραν το μνημείο στην μακραίωνη ιστορία του.</em></p>\\n\\n\\n\\n<p class=\"has-text-align-justify\">Έχουμε να κάνουμε λοιπόν με έναν ναό που έμεινε όρθιος στο χρόνο, παρόλο που θεμελιώθηκε πάνω σε σαθρό έδαφος, δείχνοντας τις εντυπωσιακές ικανότητες και γνώσεις των αρχαίων, οι οποίοι σημειωτέο έχτιζαν πάνω στο\\xa0μητρικό πέτρωμα της περιοχής.  </p>\\n\\n\\n\\n<figure class=\"wp-block-image size-large\"><img alt=\"\" class=\"wp-image-70039\" data-lazy-sizes=\"(max-width: 570px) 100vw, 570px\" data-lazy-src=\"https://media.ellinikahoaxes.gr/uploads/2020/09/epic.jpg\" data-lazy-srcset=\"https://media.ellinikahoaxes.gr/uploads/2020/09/epic.jpg 570w, https://media.ellinikahoaxes.gr/uploads/2020/09/epic-300x181.jpg 300w\" height=\"344\" src=\"data:image/svg+xml,%3Csvg%20xmlns=\\'http://www.w3.org/2000/svg\\'%20viewBox=\\'0%200%20570%20344\\'%3E%3C/svg%3E\" width=\"570\"/><noscript><img alt=\"\" class=\"wp-image-70039\" height=\"344\" sizes=\"(max-width: 570px) 100vw, 570px\" src=\"https://media.ellinikahoaxes.gr/uploads/2020/09/epic.jpg\" srcset=\"https://media.ellinikahoaxes.gr/uploads/2020/09/epic.jpg 570w, https://media.ellinikahoaxes.gr/uploads/2020/09/epic-300x181.jpg 300w\" width=\"570\"/></noscript></figure>\\n\\n\\n\\n<figure class=\"wp-block-image size-large\"><img alt=\"\" class=\"wp-image-70082\" data-lazy-sizes=\"(max-width: 640px) 100vw, 640px\" data-lazy-src=\"https://media.ellinikahoaxes.gr/uploads/2020/09/apollo-epikourios-2019-1.jpg\" data-lazy-srcset=\"https://media.ellinikahoaxes.gr/uploads/2020/09/apollo-epikourios-2019-1.jpg 640w, https://media.ellinikahoaxes.gr/uploads/2020/09/apollo-epikourios-2019-1-200x300.jpg 200w\" height=\"960\" src=\"data:image/svg+xml,%3Csvg%20xmlns=\\'http://www.w3.org/2000/svg\\'%20viewBox=\\'0%200%20640%20960\\'%3E%3C/svg%3E\" width=\"640\"/><noscript><img alt=\"\" class=\"wp-image-70082\" height=\"960\" sizes=\"(max-width: 640px) 100vw, 640px\" src=\"https://media.ellinikahoaxes.gr/uploads/2020/09/apollo-epikourios-2019-1.jpg\" srcset=\"https://media.ellinikahoaxes.gr/uploads/2020/09/apollo-epikourios-2019-1.jpg 640w, https://media.ellinikahoaxes.gr/uploads/2020/09/apollo-epikourios-2019-1-200x300.jpg 200w\" width=\"640\"/></noscript><figcaption>Ναός Επικουρίου Απόλλωνα. <a href=\"https://ilia-olympia.org/%ce%b1%ce%bd%ce%b1%ce%ba%ce%bf%ce%b9%ce%bd%cf%8e%cf%83%ce%b5%ce%b9%cf%82/o%ce%bb%ce%bf%ce%ba%ce%bb%ce%ae%cf%81%cf%89%cf%83%ce%b7-%cf%84%ce%bf%cf%85-%cf%80%cf%81%cf%8e%cf%84%ce%bf%cf%85-%ce%ba%cf%8d%ce%ba%ce%bb%ce%bf%cf%85-%ce%b5%cf%81%ce%b3%ce%b1%cf%83%ce%b9%cf%8e%ce%bd/\" rel=\"noreferrer noopener\" target=\"_blank\">Άποψη εργασιών έτους 2019</a></figcaption></figure>\\n\\n\\n\\n<p class=\"has-text-align-justify\">Η μετακίνηση του ναού (ή “ολίσθηση” κατά τον συγγραφέα) οφείλεται απλά και μόνο στην αστοχία της θεμελίωσης, στις καθιζήσεις, τους σεισμούς, το έδαφος και τις ανθρώπινες επεμβάσεις (πχ απόσπαση του μετάλλου των συνδέσμων) και δεν είναι τεχνητή. Δεν υπάρχει κάποιος κρυφός μηχανισμός ούτε κάποιο άγνωστο κατασκευαστικό τέχνασμα. </p>\\n\\n\\n\\n<p class=\"has-text-align-justify\">Η κατασκευή είναι ογκώδης, μονολιθική και ιδιαίτερα άκαμπτη. Λόγω των απαραμόρφωτων υλικών, δεν υπάρχουν περιθώρια ελαστικών παραμορφώσεων. Συνεπώς εάν προσπαθούσε κάποιος να δημιουργήσει έναν περιστροφικό μηχανισμό, είναι εξαιρετικά αβέβαιο, έως απίθανο να επιτύχει περιστροφή όλης της κατασκευής πέριξ ενός άξονα, ακόμη και του άξονα συμμετρίας, χωρίς να δημιουργηθεί εντατική κατάσταση σε κάποιο κόμβο, γεγονός που θα οδηγούσε σε άμεση δημιουργία μηχανισμού κατάρρευσης. Είναι απλοϊκή σκέψη να φαντάζεται κάποιος περιστροφή μίας τεράστιας κατασκευής, βάρους χιλιάδων τόνων, η οποία θα ολισθαίνει με ακρίβεια χιλιοστού και θα περιστρέφεται χωρίς να δημιουργείται η παραμικρή εντατική φόρτιση σε κάποιο κρίσιμο στατικά σημείο.</p>\\n\\n\\n\\n<p class=\"has-text-align-justify\">Ένας τέτοιος μηχανισμός θα απαιτούσε μία λεία κυκλική πλατφόρμα που θα παρέμενε καθαρή από χώμα και άλλα εμπόδια για χιλιάδες χρόνια. Κάτι τέτοιο δεν φαίνεται να υπάρχει, ούτε από δορυφορικές εικόνες που βλέπει κανείς εύκολα από το google earth/maps, ούτε από επιτόπια παρατήρηση. Εκτιμάται δε, από αρχαιολόγους, ότι ένας λόγος για τον οποίον ο ναός κατασκευάστηκε με προσανατολισμό βορά-νότου αντί για ανατολής-δύσης ήταν η έλλειψη χώρου στην άλλη κατεύθυνση, που δεν θα ήταν πρόβλημα αν υπήρχε η απαραίτητη λεία περίμετρος για μία υποτιθέμενη περιστροφή.</p>\\n\\n\\n\\n<p class=\"has-text-align-justify\">Επίσης κατά τη διάρκεια δεκάδων ετών <a data-external=\"true\" href=\"https://web.archive.org/web/20140409040832/http://www.tdpeae.gr:80/index.php?ID=KIqQe4npXjQ9hzaE\" rel=\"noreferrer noopener\" target=\"_blank\">συντήρησης κι αποκατάστασης του ναού</a> (αναστηλωτικές εργασίες γίνονται από το 1902) δεν παρατηρήθηκε, ούτε επιβεβαιώθηκε το παραμικρό σημείο της εικασίας του συγγραφέα.</p>\\n\\n\\n\\n<p class=\"has-text-align-justify\">Εκτός των πρόσφατων παρατηρήσεων δεν υπάρχει και καμία ιστορική πηγή που να καταγράφει τον ισχυρισμό του συγγραφέα. Όπως προείπαμε, η αναφορά του Παυσανία το 174 μ.Χ., αποτελεί τη μοναδική μνεία του ναού σε αρχαία γραπτή πηγή και δεν αναφέρει τίποτα σχετικό για το υποτιθέμενο φαινόμενο.</p>\\n\\n\\n\\n<h3><strong>Σχετικά με τους ισχυρισμούς περί αστρονομικών παρατηρήσεων</strong></h3>\\n\\n\\n\\n<p class=\"has-text-align-justify\">Η μετάπτωση των ισημεριών δεν λειτουργεί όπως μάλλον τη φαντάζονται όσοι ισχυρίζονται ότι γίνεται μία περιστροφή κατά 50.2 δευτερόλεπτα της μοίρας ανά ημέρα ώστε να είναι ο ναός προσανατολισμένος με το Σείριο.<br/><br/>Αν βλέπουμε σήμερα τον Ήλιο να ανατέλλει μαζί με το Σείριο από την ανατολή στα μέσα του καλοκαιριού, τότε ύστερα από 13,000 χρόνια θα τον βλέπουμε πάλι να ανατέλλει μαζί με το Σείριο στο ίδιο μέρος – όμως τότε θα είναι χειμώνας, επειδή η περιφορά της Γης θα έχει γυρίσει έτσι ώστε το βόρειο ημισφαίριο της να είναι στραμμένο από την αντίθετη πλευρά, που είναι το φαινόμενο που δημιουργεί τις εποχές. <br/><br/>Ένας ακίνητος ναός θα βλέπει περίπου το ίδιο, αν και υπό κάπως διαφορετική γωνία γιατί η αυγή είναι αργότερα το χειμώνα από ό,τι το καλοκαίρι. Αν όμως ο ναός περιστρέφεται με τον υποτιθέμενο ρυθμό, αντί για την ανατολή θα κοιτάζει τότε προς τη δύση και δεν θα βλέπει τίποτα. Οπότε, αστρονομικά αυτή η υπόθεση δεν βγάζει νόημα. </p>\\n\\n\\n\\n<p class=\"has-text-align-justify\">Επιπλέον η μετάπτωση των ισημεριών ανακαλύφθηκε στην Ελλάδα τον 2ο αιώνα π.Χ. από τον Ίππαρχο. Αυτό είναι είναι ιστορικά κατοχυρωμένο γεγονός, αν και υπάρχουν υποθέσεις για μυστηριακή επίγνωση του φαινομένου στο Μεσοποταμιακό χώρο από παλαιότερα, χωρίς όμως αυτό να είχε καταγραφεί επιστημονικά, αν όντως είχε παρατηρηθεί. Οι κατασκευαστές του ναού δεν θα μπορούσαν να το είχαν λάβει υπόψη τόσους αιώνες νωρίτερα. </p>\\n\\n\\n\\n<p class=\"has-text-align-justify\">Ένας μηχανισμός τέτοιας ακρίβειας για περιστροφή ενός ολόκληρου ναού για χιλιάδες χρόνια θα ήταν ένα από τα θαύματα του κόσμου. Η τεχνολογία για κάτι τέτοιο σε μία εποχή χωρίς σύγχρονες πηγές ενέργειας και μηχανοκίνησης θα ήταν κάτι το τόσο εντυπωσιακή που ακόμα και αν είχε μείνει κρυφή μέχρι τις αρχαιολογικές ανασκαφές θα ήταν πλέον διασημότερο από τις Πυραμίδες και τον Παρθενώνα. Αντ’ αυτού, οι μόνες αναφορές που βρίσκουμε είναι σε κάποιες αμφιβόλου ποιότητας ελληνικές ιστοσελίδες που αναδημοσίευσαν το αρχικό άρθρο. </p>\\n\\n\\n\\n<p class=\"has-text-align-justify\">Εν κατακλείδι, δεν υπάρχει καμία επιστημονική απόδειξη ότι ο ναός περιστρέφεται ή περιστρέφονταν κάποτε στο παρελθόν. Η υπόθεση του συγγραφέα βασίζεται απλά και μόνο στη δική του φαντασία.  </p>\\n                </div>'"
            ]
          },
          "metadata": {
            "tags": []
          },
          "execution_count": 8
        }
      ]
    },
    {
      "cell_type": "code",
      "metadata": {
        "id": "Bw22XVJqCx7D"
      },
      "source": [
        "hoax = []\n",
        "\n",
        "\n",
        "for body in data['body']:\n",
        "      #print(body)\n",
        "      soup_hoax = BeautifulSoup(body, 'html.parser')\n",
        "      links = soup_hoax.find_all('a', href=True)\n",
        "      hoax.append(links)"
      ],
      "execution_count": null,
      "outputs": []
    },
    {
      "cell_type": "code",
      "metadata": {
        "id": "QGIvuPe2eTFP"
      },
      "source": [
        "soup_arch = []\n",
        "\n",
        "for h in hoax:\n",
        "   for hh in h:\n",
        "       if \"archive\" in str(hh) and \"archive.is\" not in str(hh):\n",
        "           soup_arch.append(hh['href'])"
      ],
      "execution_count": null,
      "outputs": []
    },
    {
      "cell_type": "code",
      "metadata": {
        "id": "6WPVlEqUsHoc"
      },
      "source": [
        "soup_arch"
      ],
      "execution_count": null,
      "outputs": []
    },
    {
      "cell_type": "code",
      "metadata": {
        "id": "AloTNPWwjSF0"
      },
      "source": [
        "import requests"
      ],
      "execution_count": null,
      "outputs": []
    },
    {
      "cell_type": "code",
      "metadata": {
        "id": "UdB8Cxlns7Lp"
      },
      "source": [
        "import sys\n",
        "import requests as rq\n",
        "from bs4 import BeautifulSoup as bs\n",
        "from time import sleep\n",
        "from time import time\n",
        "from random import randint\n",
        "from warnings import warn\n",
        "import json\n",
        "import pandas as pd"
      ],
      "execution_count": null,
      "outputs": []
    },
    {
      "cell_type": "code",
      "metadata": {
        "colab": {
          "base_uri": "https://localhost:8080/",
          "height": 630
        },
        "id": "gmnwiC7HtWZF",
        "outputId": "6768ea7f-51b4-4333-98aa-830b08038c4b"
      },
      "source": [
        "url = 'https://archive.fo/cGvtj'\n",
        "urls = rq.get(url).text\n",
        "parse_url = json.loads(urls)"
      ],
      "execution_count": null,
      "outputs": [
        {
          "output_type": "error",
          "ename": "ConnectionError",
          "evalue": "ignored",
          "traceback": [
            "\u001b[0;31m---------------------------------------------------------------------------\u001b[0m",
            "\u001b[0;31mgaierror\u001b[0m                                  Traceback (most recent call last)",
            "\u001b[0;32m/usr/local/lib/python3.6/dist-packages/urllib3/connection.py\u001b[0m in \u001b[0;36m_new_conn\u001b[0;34m(self)\u001b[0m\n\u001b[1;32m    158\u001b[0m             conn = connection.create_connection(\n\u001b[0;32m--> 159\u001b[0;31m                 (self._dns_host, self.port), self.timeout, **extra_kw)\n\u001b[0m\u001b[1;32m    160\u001b[0m \u001b[0;34m\u001b[0m\u001b[0m\n",
            "\u001b[0;32m/usr/local/lib/python3.6/dist-packages/urllib3/util/connection.py\u001b[0m in \u001b[0;36mcreate_connection\u001b[0;34m(address, timeout, source_address, socket_options)\u001b[0m\n\u001b[1;32m     56\u001b[0m \u001b[0;34m\u001b[0m\u001b[0m\n\u001b[0;32m---> 57\u001b[0;31m     \u001b[0;32mfor\u001b[0m \u001b[0mres\u001b[0m \u001b[0;32min\u001b[0m \u001b[0msocket\u001b[0m\u001b[0;34m.\u001b[0m\u001b[0mgetaddrinfo\u001b[0m\u001b[0;34m(\u001b[0m\u001b[0mhost\u001b[0m\u001b[0;34m,\u001b[0m \u001b[0mport\u001b[0m\u001b[0;34m,\u001b[0m \u001b[0mfamily\u001b[0m\u001b[0;34m,\u001b[0m \u001b[0msocket\u001b[0m\u001b[0;34m.\u001b[0m\u001b[0mSOCK_STREAM\u001b[0m\u001b[0;34m)\u001b[0m\u001b[0;34m:\u001b[0m\u001b[0;34m\u001b[0m\u001b[0;34m\u001b[0m\u001b[0m\n\u001b[0m\u001b[1;32m     58\u001b[0m         \u001b[0maf\u001b[0m\u001b[0;34m,\u001b[0m \u001b[0msocktype\u001b[0m\u001b[0;34m,\u001b[0m \u001b[0mproto\u001b[0m\u001b[0;34m,\u001b[0m \u001b[0mcanonname\u001b[0m\u001b[0;34m,\u001b[0m \u001b[0msa\u001b[0m \u001b[0;34m=\u001b[0m \u001b[0mres\u001b[0m\u001b[0;34m\u001b[0m\u001b[0;34m\u001b[0m\u001b[0m\n",
            "\u001b[0;32m/usr/lib/python3.6/socket.py\u001b[0m in \u001b[0;36mgetaddrinfo\u001b[0;34m(host, port, family, type, proto, flags)\u001b[0m\n\u001b[1;32m    744\u001b[0m     \u001b[0maddrlist\u001b[0m \u001b[0;34m=\u001b[0m \u001b[0;34m[\u001b[0m\u001b[0;34m]\u001b[0m\u001b[0;34m\u001b[0m\u001b[0;34m\u001b[0m\u001b[0m\n\u001b[0;32m--> 745\u001b[0;31m     \u001b[0;32mfor\u001b[0m \u001b[0mres\u001b[0m \u001b[0;32min\u001b[0m \u001b[0m_socket\u001b[0m\u001b[0;34m.\u001b[0m\u001b[0mgetaddrinfo\u001b[0m\u001b[0;34m(\u001b[0m\u001b[0mhost\u001b[0m\u001b[0;34m,\u001b[0m \u001b[0mport\u001b[0m\u001b[0;34m,\u001b[0m \u001b[0mfamily\u001b[0m\u001b[0;34m,\u001b[0m \u001b[0mtype\u001b[0m\u001b[0;34m,\u001b[0m \u001b[0mproto\u001b[0m\u001b[0;34m,\u001b[0m \u001b[0mflags\u001b[0m\u001b[0;34m)\u001b[0m\u001b[0;34m:\u001b[0m\u001b[0;34m\u001b[0m\u001b[0;34m\u001b[0m\u001b[0m\n\u001b[0m\u001b[1;32m    746\u001b[0m         \u001b[0maf\u001b[0m\u001b[0;34m,\u001b[0m \u001b[0msocktype\u001b[0m\u001b[0;34m,\u001b[0m \u001b[0mproto\u001b[0m\u001b[0;34m,\u001b[0m \u001b[0mcanonname\u001b[0m\u001b[0;34m,\u001b[0m \u001b[0msa\u001b[0m \u001b[0;34m=\u001b[0m \u001b[0mres\u001b[0m\u001b[0;34m\u001b[0m\u001b[0;34m\u001b[0m\u001b[0m\n",
            "\u001b[0;31mgaierror\u001b[0m: [Errno -5] No address associated with hostname",
            "\nDuring handling of the above exception, another exception occurred:\n",
            "\u001b[0;31mNewConnectionError\u001b[0m                        Traceback (most recent call last)",
            "\u001b[0;32m/usr/local/lib/python3.6/dist-packages/urllib3/connectionpool.py\u001b[0m in \u001b[0;36murlopen\u001b[0;34m(self, method, url, body, headers, retries, redirect, assert_same_host, timeout, pool_timeout, release_conn, chunked, body_pos, **response_kw)\u001b[0m\n\u001b[1;32m    599\u001b[0m                                                   \u001b[0mbody\u001b[0m\u001b[0;34m=\u001b[0m\u001b[0mbody\u001b[0m\u001b[0;34m,\u001b[0m \u001b[0mheaders\u001b[0m\u001b[0;34m=\u001b[0m\u001b[0mheaders\u001b[0m\u001b[0;34m,\u001b[0m\u001b[0;34m\u001b[0m\u001b[0;34m\u001b[0m\u001b[0m\n\u001b[0;32m--> 600\u001b[0;31m                                                   chunked=chunked)\n\u001b[0m\u001b[1;32m    601\u001b[0m \u001b[0;34m\u001b[0m\u001b[0m\n",
            "\u001b[0;32m/usr/local/lib/python3.6/dist-packages/urllib3/connectionpool.py\u001b[0m in \u001b[0;36m_make_request\u001b[0;34m(self, conn, method, url, timeout, chunked, **httplib_request_kw)\u001b[0m\n\u001b[1;32m    342\u001b[0m         \u001b[0;32mtry\u001b[0m\u001b[0;34m:\u001b[0m\u001b[0;34m\u001b[0m\u001b[0;34m\u001b[0m\u001b[0m\n\u001b[0;32m--> 343\u001b[0;31m             \u001b[0mself\u001b[0m\u001b[0;34m.\u001b[0m\u001b[0m_validate_conn\u001b[0m\u001b[0;34m(\u001b[0m\u001b[0mconn\u001b[0m\u001b[0;34m)\u001b[0m\u001b[0;34m\u001b[0m\u001b[0;34m\u001b[0m\u001b[0m\n\u001b[0m\u001b[1;32m    344\u001b[0m         \u001b[0;32mexcept\u001b[0m \u001b[0;34m(\u001b[0m\u001b[0mSocketTimeout\u001b[0m\u001b[0;34m,\u001b[0m \u001b[0mBaseSSLError\u001b[0m\u001b[0;34m)\u001b[0m \u001b[0;32mas\u001b[0m \u001b[0me\u001b[0m\u001b[0;34m:\u001b[0m\u001b[0;34m\u001b[0m\u001b[0;34m\u001b[0m\u001b[0m\n",
            "\u001b[0;32m/usr/local/lib/python3.6/dist-packages/urllib3/connectionpool.py\u001b[0m in \u001b[0;36m_validate_conn\u001b[0;34m(self, conn)\u001b[0m\n\u001b[1;32m    838\u001b[0m         \u001b[0;32mif\u001b[0m \u001b[0;32mnot\u001b[0m \u001b[0mgetattr\u001b[0m\u001b[0;34m(\u001b[0m\u001b[0mconn\u001b[0m\u001b[0;34m,\u001b[0m \u001b[0;34m'sock'\u001b[0m\u001b[0;34m,\u001b[0m \u001b[0;32mNone\u001b[0m\u001b[0;34m)\u001b[0m\u001b[0;34m:\u001b[0m  \u001b[0;31m# AppEngine might not have  `.sock`\u001b[0m\u001b[0;34m\u001b[0m\u001b[0;34m\u001b[0m\u001b[0m\n\u001b[0;32m--> 839\u001b[0;31m             \u001b[0mconn\u001b[0m\u001b[0;34m.\u001b[0m\u001b[0mconnect\u001b[0m\u001b[0;34m(\u001b[0m\u001b[0;34m)\u001b[0m\u001b[0;34m\u001b[0m\u001b[0;34m\u001b[0m\u001b[0m\n\u001b[0m\u001b[1;32m    840\u001b[0m \u001b[0;34m\u001b[0m\u001b[0m\n",
            "\u001b[0;32m/usr/local/lib/python3.6/dist-packages/urllib3/connection.py\u001b[0m in \u001b[0;36mconnect\u001b[0;34m(self)\u001b[0m\n\u001b[1;32m    300\u001b[0m         \u001b[0;31m# Add certificate verification\u001b[0m\u001b[0;34m\u001b[0m\u001b[0;34m\u001b[0m\u001b[0;34m\u001b[0m\u001b[0m\n\u001b[0;32m--> 301\u001b[0;31m         \u001b[0mconn\u001b[0m \u001b[0;34m=\u001b[0m \u001b[0mself\u001b[0m\u001b[0;34m.\u001b[0m\u001b[0m_new_conn\u001b[0m\u001b[0;34m(\u001b[0m\u001b[0;34m)\u001b[0m\u001b[0;34m\u001b[0m\u001b[0;34m\u001b[0m\u001b[0m\n\u001b[0m\u001b[1;32m    302\u001b[0m         \u001b[0mhostname\u001b[0m \u001b[0;34m=\u001b[0m \u001b[0mself\u001b[0m\u001b[0;34m.\u001b[0m\u001b[0mhost\u001b[0m\u001b[0;34m\u001b[0m\u001b[0;34m\u001b[0m\u001b[0m\n",
            "\u001b[0;32m/usr/local/lib/python3.6/dist-packages/urllib3/connection.py\u001b[0m in \u001b[0;36m_new_conn\u001b[0;34m(self)\u001b[0m\n\u001b[1;32m    167\u001b[0m             raise NewConnectionError(\n\u001b[0;32m--> 168\u001b[0;31m                 self, \"Failed to establish a new connection: %s\" % e)\n\u001b[0m\u001b[1;32m    169\u001b[0m \u001b[0;34m\u001b[0m\u001b[0m\n",
            "\u001b[0;31mNewConnectionError\u001b[0m: <urllib3.connection.VerifiedHTTPSConnection object at 0x7f7b808adef0>: Failed to establish a new connection: [Errno -5] No address associated with hostname",
            "\nDuring handling of the above exception, another exception occurred:\n",
            "\u001b[0;31mMaxRetryError\u001b[0m                             Traceback (most recent call last)",
            "\u001b[0;32m/usr/local/lib/python3.6/dist-packages/requests/adapters.py\u001b[0m in \u001b[0;36msend\u001b[0;34m(self, request, stream, timeout, verify, cert, proxies)\u001b[0m\n\u001b[1;32m    448\u001b[0m                     \u001b[0mretries\u001b[0m\u001b[0;34m=\u001b[0m\u001b[0mself\u001b[0m\u001b[0;34m.\u001b[0m\u001b[0mmax_retries\u001b[0m\u001b[0;34m,\u001b[0m\u001b[0;34m\u001b[0m\u001b[0;34m\u001b[0m\u001b[0m\n\u001b[0;32m--> 449\u001b[0;31m                     \u001b[0mtimeout\u001b[0m\u001b[0;34m=\u001b[0m\u001b[0mtimeout\u001b[0m\u001b[0;34m\u001b[0m\u001b[0;34m\u001b[0m\u001b[0m\n\u001b[0m\u001b[1;32m    450\u001b[0m                 )\n",
            "\u001b[0;32m/usr/local/lib/python3.6/dist-packages/urllib3/connectionpool.py\u001b[0m in \u001b[0;36murlopen\u001b[0;34m(self, method, url, body, headers, retries, redirect, assert_same_host, timeout, pool_timeout, release_conn, chunked, body_pos, **response_kw)\u001b[0m\n\u001b[1;32m    637\u001b[0m             retries = retries.increment(method, url, error=e, _pool=self,\n\u001b[0;32m--> 638\u001b[0;31m                                         _stacktrace=sys.exc_info()[2])\n\u001b[0m\u001b[1;32m    639\u001b[0m             \u001b[0mretries\u001b[0m\u001b[0;34m.\u001b[0m\u001b[0msleep\u001b[0m\u001b[0;34m(\u001b[0m\u001b[0;34m)\u001b[0m\u001b[0;34m\u001b[0m\u001b[0;34m\u001b[0m\u001b[0m\n",
            "\u001b[0;32m/usr/local/lib/python3.6/dist-packages/urllib3/util/retry.py\u001b[0m in \u001b[0;36mincrement\u001b[0;34m(self, method, url, response, error, _pool, _stacktrace)\u001b[0m\n\u001b[1;32m    398\u001b[0m         \u001b[0;32mif\u001b[0m \u001b[0mnew_retry\u001b[0m\u001b[0;34m.\u001b[0m\u001b[0mis_exhausted\u001b[0m\u001b[0;34m(\u001b[0m\u001b[0;34m)\u001b[0m\u001b[0;34m:\u001b[0m\u001b[0;34m\u001b[0m\u001b[0;34m\u001b[0m\u001b[0m\n\u001b[0;32m--> 399\u001b[0;31m             \u001b[0;32mraise\u001b[0m \u001b[0mMaxRetryError\u001b[0m\u001b[0;34m(\u001b[0m\u001b[0m_pool\u001b[0m\u001b[0;34m,\u001b[0m \u001b[0murl\u001b[0m\u001b[0;34m,\u001b[0m \u001b[0merror\u001b[0m \u001b[0;32mor\u001b[0m \u001b[0mResponseError\u001b[0m\u001b[0;34m(\u001b[0m\u001b[0mcause\u001b[0m\u001b[0;34m)\u001b[0m\u001b[0;34m)\u001b[0m\u001b[0;34m\u001b[0m\u001b[0;34m\u001b[0m\u001b[0m\n\u001b[0m\u001b[1;32m    400\u001b[0m \u001b[0;34m\u001b[0m\u001b[0m\n",
            "\u001b[0;31mMaxRetryError\u001b[0m: HTTPSConnectionPool(host='archive.fo', port=443): Max retries exceeded with url: /cGvtj (Caused by NewConnectionError('<urllib3.connection.VerifiedHTTPSConnection object at 0x7f7b808adef0>: Failed to establish a new connection: [Errno -5] No address associated with hostname',))",
            "\nDuring handling of the above exception, another exception occurred:\n",
            "\u001b[0;31mConnectionError\u001b[0m                           Traceback (most recent call last)",
            "\u001b[0;32m<ipython-input-11-7b9a0efb8893>\u001b[0m in \u001b[0;36m<module>\u001b[0;34m()\u001b[0m\n\u001b[1;32m      1\u001b[0m \u001b[0murl\u001b[0m \u001b[0;34m=\u001b[0m \u001b[0;34m'https://archive.fo/cGvtj'\u001b[0m\u001b[0;34m\u001b[0m\u001b[0;34m\u001b[0m\u001b[0m\n\u001b[0;32m----> 2\u001b[0;31m \u001b[0murls\u001b[0m \u001b[0;34m=\u001b[0m \u001b[0mrq\u001b[0m\u001b[0;34m.\u001b[0m\u001b[0mget\u001b[0m\u001b[0;34m(\u001b[0m\u001b[0murl\u001b[0m\u001b[0;34m)\u001b[0m\u001b[0;34m.\u001b[0m\u001b[0mtext\u001b[0m\u001b[0;34m\u001b[0m\u001b[0;34m\u001b[0m\u001b[0m\n\u001b[0m\u001b[1;32m      3\u001b[0m \u001b[0mparse_url\u001b[0m \u001b[0;34m=\u001b[0m \u001b[0mjson\u001b[0m\u001b[0;34m.\u001b[0m\u001b[0mloads\u001b[0m\u001b[0;34m(\u001b[0m\u001b[0murls\u001b[0m\u001b[0;34m)\u001b[0m\u001b[0;34m\u001b[0m\u001b[0;34m\u001b[0m\u001b[0m\n",
            "\u001b[0;32m/usr/local/lib/python3.6/dist-packages/requests/api.py\u001b[0m in \u001b[0;36mget\u001b[0;34m(url, params, **kwargs)\u001b[0m\n\u001b[1;32m     74\u001b[0m \u001b[0;34m\u001b[0m\u001b[0m\n\u001b[1;32m     75\u001b[0m     \u001b[0mkwargs\u001b[0m\u001b[0;34m.\u001b[0m\u001b[0msetdefault\u001b[0m\u001b[0;34m(\u001b[0m\u001b[0;34m'allow_redirects'\u001b[0m\u001b[0;34m,\u001b[0m \u001b[0;32mTrue\u001b[0m\u001b[0;34m)\u001b[0m\u001b[0;34m\u001b[0m\u001b[0;34m\u001b[0m\u001b[0m\n\u001b[0;32m---> 76\u001b[0;31m     \u001b[0;32mreturn\u001b[0m \u001b[0mrequest\u001b[0m\u001b[0;34m(\u001b[0m\u001b[0;34m'get'\u001b[0m\u001b[0;34m,\u001b[0m \u001b[0murl\u001b[0m\u001b[0;34m,\u001b[0m \u001b[0mparams\u001b[0m\u001b[0;34m=\u001b[0m\u001b[0mparams\u001b[0m\u001b[0;34m,\u001b[0m \u001b[0;34m**\u001b[0m\u001b[0mkwargs\u001b[0m\u001b[0;34m)\u001b[0m\u001b[0;34m\u001b[0m\u001b[0;34m\u001b[0m\u001b[0m\n\u001b[0m\u001b[1;32m     77\u001b[0m \u001b[0;34m\u001b[0m\u001b[0m\n\u001b[1;32m     78\u001b[0m \u001b[0;34m\u001b[0m\u001b[0m\n",
            "\u001b[0;32m/usr/local/lib/python3.6/dist-packages/requests/api.py\u001b[0m in \u001b[0;36mrequest\u001b[0;34m(method, url, **kwargs)\u001b[0m\n\u001b[1;32m     59\u001b[0m     \u001b[0;31m# cases, and look like a memory leak in others.\u001b[0m\u001b[0;34m\u001b[0m\u001b[0;34m\u001b[0m\u001b[0;34m\u001b[0m\u001b[0m\n\u001b[1;32m     60\u001b[0m     \u001b[0;32mwith\u001b[0m \u001b[0msessions\u001b[0m\u001b[0;34m.\u001b[0m\u001b[0mSession\u001b[0m\u001b[0;34m(\u001b[0m\u001b[0;34m)\u001b[0m \u001b[0;32mas\u001b[0m \u001b[0msession\u001b[0m\u001b[0;34m:\u001b[0m\u001b[0;34m\u001b[0m\u001b[0;34m\u001b[0m\u001b[0m\n\u001b[0;32m---> 61\u001b[0;31m         \u001b[0;32mreturn\u001b[0m \u001b[0msession\u001b[0m\u001b[0;34m.\u001b[0m\u001b[0mrequest\u001b[0m\u001b[0;34m(\u001b[0m\u001b[0mmethod\u001b[0m\u001b[0;34m=\u001b[0m\u001b[0mmethod\u001b[0m\u001b[0;34m,\u001b[0m \u001b[0murl\u001b[0m\u001b[0;34m=\u001b[0m\u001b[0murl\u001b[0m\u001b[0;34m,\u001b[0m \u001b[0;34m**\u001b[0m\u001b[0mkwargs\u001b[0m\u001b[0;34m)\u001b[0m\u001b[0;34m\u001b[0m\u001b[0;34m\u001b[0m\u001b[0m\n\u001b[0m\u001b[1;32m     62\u001b[0m \u001b[0;34m\u001b[0m\u001b[0m\n\u001b[1;32m     63\u001b[0m \u001b[0;34m\u001b[0m\u001b[0m\n",
            "\u001b[0;32m/usr/local/lib/python3.6/dist-packages/requests/sessions.py\u001b[0m in \u001b[0;36mrequest\u001b[0;34m(self, method, url, params, data, headers, cookies, files, auth, timeout, allow_redirects, proxies, hooks, stream, verify, cert, json)\u001b[0m\n\u001b[1;32m    528\u001b[0m         }\n\u001b[1;32m    529\u001b[0m         \u001b[0msend_kwargs\u001b[0m\u001b[0;34m.\u001b[0m\u001b[0mupdate\u001b[0m\u001b[0;34m(\u001b[0m\u001b[0msettings\u001b[0m\u001b[0;34m)\u001b[0m\u001b[0;34m\u001b[0m\u001b[0;34m\u001b[0m\u001b[0m\n\u001b[0;32m--> 530\u001b[0;31m         \u001b[0mresp\u001b[0m \u001b[0;34m=\u001b[0m \u001b[0mself\u001b[0m\u001b[0;34m.\u001b[0m\u001b[0msend\u001b[0m\u001b[0;34m(\u001b[0m\u001b[0mprep\u001b[0m\u001b[0;34m,\u001b[0m \u001b[0;34m**\u001b[0m\u001b[0msend_kwargs\u001b[0m\u001b[0;34m)\u001b[0m\u001b[0;34m\u001b[0m\u001b[0;34m\u001b[0m\u001b[0m\n\u001b[0m\u001b[1;32m    531\u001b[0m \u001b[0;34m\u001b[0m\u001b[0m\n\u001b[1;32m    532\u001b[0m         \u001b[0;32mreturn\u001b[0m \u001b[0mresp\u001b[0m\u001b[0;34m\u001b[0m\u001b[0;34m\u001b[0m\u001b[0m\n",
            "\u001b[0;32m/usr/local/lib/python3.6/dist-packages/requests/sessions.py\u001b[0m in \u001b[0;36msend\u001b[0;34m(self, request, **kwargs)\u001b[0m\n\u001b[1;32m    641\u001b[0m \u001b[0;34m\u001b[0m\u001b[0m\n\u001b[1;32m    642\u001b[0m         \u001b[0;31m# Send the request\u001b[0m\u001b[0;34m\u001b[0m\u001b[0;34m\u001b[0m\u001b[0;34m\u001b[0m\u001b[0m\n\u001b[0;32m--> 643\u001b[0;31m         \u001b[0mr\u001b[0m \u001b[0;34m=\u001b[0m \u001b[0madapter\u001b[0m\u001b[0;34m.\u001b[0m\u001b[0msend\u001b[0m\u001b[0;34m(\u001b[0m\u001b[0mrequest\u001b[0m\u001b[0;34m,\u001b[0m \u001b[0;34m**\u001b[0m\u001b[0mkwargs\u001b[0m\u001b[0;34m)\u001b[0m\u001b[0;34m\u001b[0m\u001b[0;34m\u001b[0m\u001b[0m\n\u001b[0m\u001b[1;32m    644\u001b[0m \u001b[0;34m\u001b[0m\u001b[0m\n\u001b[1;32m    645\u001b[0m         \u001b[0;31m# Total elapsed time of the request (approximately)\u001b[0m\u001b[0;34m\u001b[0m\u001b[0;34m\u001b[0m\u001b[0;34m\u001b[0m\u001b[0m\n",
            "\u001b[0;32m/usr/local/lib/python3.6/dist-packages/requests/adapters.py\u001b[0m in \u001b[0;36msend\u001b[0;34m(self, request, stream, timeout, verify, cert, proxies)\u001b[0m\n\u001b[1;32m    514\u001b[0m                 \u001b[0;32mraise\u001b[0m \u001b[0mSSLError\u001b[0m\u001b[0;34m(\u001b[0m\u001b[0me\u001b[0m\u001b[0;34m,\u001b[0m \u001b[0mrequest\u001b[0m\u001b[0;34m=\u001b[0m\u001b[0mrequest\u001b[0m\u001b[0;34m)\u001b[0m\u001b[0;34m\u001b[0m\u001b[0;34m\u001b[0m\u001b[0m\n\u001b[1;32m    515\u001b[0m \u001b[0;34m\u001b[0m\u001b[0m\n\u001b[0;32m--> 516\u001b[0;31m             \u001b[0;32mraise\u001b[0m \u001b[0mConnectionError\u001b[0m\u001b[0;34m(\u001b[0m\u001b[0me\u001b[0m\u001b[0;34m,\u001b[0m \u001b[0mrequest\u001b[0m\u001b[0;34m=\u001b[0m\u001b[0mrequest\u001b[0m\u001b[0;34m)\u001b[0m\u001b[0;34m\u001b[0m\u001b[0;34m\u001b[0m\u001b[0m\n\u001b[0m\u001b[1;32m    517\u001b[0m \u001b[0;34m\u001b[0m\u001b[0m\n\u001b[1;32m    518\u001b[0m         \u001b[0;32mexcept\u001b[0m \u001b[0mClosedPoolError\u001b[0m \u001b[0;32mas\u001b[0m \u001b[0me\u001b[0m\u001b[0;34m:\u001b[0m\u001b[0;34m\u001b[0m\u001b[0;34m\u001b[0m\u001b[0m\n",
            "\u001b[0;31mConnectionError\u001b[0m: HTTPSConnectionPool(host='archive.fo', port=443): Max retries exceeded with url: /cGvtj (Caused by NewConnectionError('<urllib3.connection.VerifiedHTTPSConnection object at 0x7f7b808adef0>: Failed to establish a new connection: [Errno -5] No address associated with hostname',))"
          ]
        }
      ]
    },
    {
      "cell_type": "code",
      "metadata": {
        "id": "61ilpOZwhHg-"
      },
      "source": [
        "for j in soup_arch:\n",
        "      title = j.find('h1')\n",
        "      link= driver.find_element_by_name('q')\n",
        "      print(j)\n",
        "      article = requests.get(j)\n",
        "      article_content = article.content\n",
        "      soup_article = BeautifulSoup(article_content, 'html5lib')\n",
        "      body = soup_article.find('div',attrs={'class':'html'})\n",
        "      print(body)\n",
        "      frame.append((title,body))\n",
        "data_arch=pd.DataFrame(frame, columns=['title','body'])"
      ],
      "execution_count": null,
      "outputs": []
    },
    {
      "cell_type": "code",
      "metadata": {
        "colab": {
          "base_uri": "https://localhost:8080/",
          "height": 425
        },
        "id": "hUllymO7S60r",
        "outputId": "e6714a97-ca5b-4d66-9f6b-b2394871bd5f"
      },
      "source": [
        "from urllib.request import urlopen\n",
        "\n",
        "for j in soup_arch:\n",
        "    soup_arch2 = BeautifulSoup(urlopen(j))\n",
        "    title=soup_arch2.find('h1')\n",
        "    print(title)"
      ],
      "execution_count": null,
      "outputs": [
        {
          "output_type": "error",
          "ename": "URLError",
          "evalue": "ignored",
          "traceback": [
            "\u001b[0;31m---------------------------------------------------------------------------\u001b[0m",
            "\u001b[0;31mOSError\u001b[0m                                   Traceback (most recent call last)",
            "\u001b[0;32m/usr/lib/python3.6/urllib/request.py\u001b[0m in \u001b[0;36mdo_open\u001b[0;34m(self, http_class, req, **http_conn_args)\u001b[0m\n\u001b[1;32m   1324\u001b[0m                 h.request(req.get_method(), req.selector, req.data, headers,\n\u001b[0;32m-> 1325\u001b[0;31m                           encode_chunked=req.has_header('Transfer-encoding'))\n\u001b[0m\u001b[1;32m   1326\u001b[0m             \u001b[0;32mexcept\u001b[0m \u001b[0mOSError\u001b[0m \u001b[0;32mas\u001b[0m \u001b[0merr\u001b[0m\u001b[0;34m:\u001b[0m \u001b[0;31m# timeout error\u001b[0m\u001b[0;34m\u001b[0m\u001b[0;34m\u001b[0m\u001b[0m\n",
            "\u001b[0;32m/usr/lib/python3.6/http/client.py\u001b[0m in \u001b[0;36mrequest\u001b[0;34m(self, method, url, body, headers, encode_chunked)\u001b[0m\n\u001b[1;32m   1280\u001b[0m         \u001b[0;34m\"\"\"Send a complete request to the server.\"\"\"\u001b[0m\u001b[0;34m\u001b[0m\u001b[0;34m\u001b[0m\u001b[0m\n\u001b[0;32m-> 1281\u001b[0;31m         \u001b[0mself\u001b[0m\u001b[0;34m.\u001b[0m\u001b[0m_send_request\u001b[0m\u001b[0;34m(\u001b[0m\u001b[0mmethod\u001b[0m\u001b[0;34m,\u001b[0m \u001b[0murl\u001b[0m\u001b[0;34m,\u001b[0m \u001b[0mbody\u001b[0m\u001b[0;34m,\u001b[0m \u001b[0mheaders\u001b[0m\u001b[0;34m,\u001b[0m \u001b[0mencode_chunked\u001b[0m\u001b[0;34m)\u001b[0m\u001b[0;34m\u001b[0m\u001b[0;34m\u001b[0m\u001b[0m\n\u001b[0m\u001b[1;32m   1282\u001b[0m \u001b[0;34m\u001b[0m\u001b[0m\n",
            "\u001b[0;32m/usr/lib/python3.6/http/client.py\u001b[0m in \u001b[0;36m_send_request\u001b[0;34m(self, method, url, body, headers, encode_chunked)\u001b[0m\n\u001b[1;32m   1326\u001b[0m             \u001b[0mbody\u001b[0m \u001b[0;34m=\u001b[0m \u001b[0m_encode\u001b[0m\u001b[0;34m(\u001b[0m\u001b[0mbody\u001b[0m\u001b[0;34m,\u001b[0m \u001b[0;34m'body'\u001b[0m\u001b[0;34m)\u001b[0m\u001b[0;34m\u001b[0m\u001b[0;34m\u001b[0m\u001b[0m\n\u001b[0;32m-> 1327\u001b[0;31m         \u001b[0mself\u001b[0m\u001b[0;34m.\u001b[0m\u001b[0mendheaders\u001b[0m\u001b[0;34m(\u001b[0m\u001b[0mbody\u001b[0m\u001b[0;34m,\u001b[0m \u001b[0mencode_chunked\u001b[0m\u001b[0;34m=\u001b[0m\u001b[0mencode_chunked\u001b[0m\u001b[0;34m)\u001b[0m\u001b[0;34m\u001b[0m\u001b[0;34m\u001b[0m\u001b[0m\n\u001b[0m\u001b[1;32m   1328\u001b[0m \u001b[0;34m\u001b[0m\u001b[0m\n",
            "\u001b[0;32m/usr/lib/python3.6/http/client.py\u001b[0m in \u001b[0;36mendheaders\u001b[0;34m(self, message_body, encode_chunked)\u001b[0m\n\u001b[1;32m   1275\u001b[0m             \u001b[0;32mraise\u001b[0m \u001b[0mCannotSendHeader\u001b[0m\u001b[0;34m(\u001b[0m\u001b[0;34m)\u001b[0m\u001b[0;34m\u001b[0m\u001b[0;34m\u001b[0m\u001b[0m\n\u001b[0;32m-> 1276\u001b[0;31m         \u001b[0mself\u001b[0m\u001b[0;34m.\u001b[0m\u001b[0m_send_output\u001b[0m\u001b[0;34m(\u001b[0m\u001b[0mmessage_body\u001b[0m\u001b[0;34m,\u001b[0m \u001b[0mencode_chunked\u001b[0m\u001b[0;34m=\u001b[0m\u001b[0mencode_chunked\u001b[0m\u001b[0;34m)\u001b[0m\u001b[0;34m\u001b[0m\u001b[0;34m\u001b[0m\u001b[0m\n\u001b[0m\u001b[1;32m   1277\u001b[0m \u001b[0;34m\u001b[0m\u001b[0m\n",
            "\u001b[0;32m/usr/lib/python3.6/http/client.py\u001b[0m in \u001b[0;36m_send_output\u001b[0;34m(self, message_body, encode_chunked)\u001b[0m\n\u001b[1;32m   1041\u001b[0m         \u001b[0;32mdel\u001b[0m \u001b[0mself\u001b[0m\u001b[0;34m.\u001b[0m\u001b[0m_buffer\u001b[0m\u001b[0;34m[\u001b[0m\u001b[0;34m:\u001b[0m\u001b[0;34m]\u001b[0m\u001b[0;34m\u001b[0m\u001b[0;34m\u001b[0m\u001b[0m\n\u001b[0;32m-> 1042\u001b[0;31m         \u001b[0mself\u001b[0m\u001b[0;34m.\u001b[0m\u001b[0msend\u001b[0m\u001b[0;34m(\u001b[0m\u001b[0mmsg\u001b[0m\u001b[0;34m)\u001b[0m\u001b[0;34m\u001b[0m\u001b[0;34m\u001b[0m\u001b[0m\n\u001b[0m\u001b[1;32m   1043\u001b[0m \u001b[0;34m\u001b[0m\u001b[0m\n",
            "\u001b[0;32m/usr/lib/python3.6/http/client.py\u001b[0m in \u001b[0;36msend\u001b[0;34m(self, data)\u001b[0m\n\u001b[1;32m    979\u001b[0m             \u001b[0;32mif\u001b[0m \u001b[0mself\u001b[0m\u001b[0;34m.\u001b[0m\u001b[0mauto_open\u001b[0m\u001b[0;34m:\u001b[0m\u001b[0;34m\u001b[0m\u001b[0;34m\u001b[0m\u001b[0m\n\u001b[0;32m--> 980\u001b[0;31m                 \u001b[0mself\u001b[0m\u001b[0;34m.\u001b[0m\u001b[0mconnect\u001b[0m\u001b[0;34m(\u001b[0m\u001b[0;34m)\u001b[0m\u001b[0;34m\u001b[0m\u001b[0;34m\u001b[0m\u001b[0m\n\u001b[0m\u001b[1;32m    981\u001b[0m             \u001b[0;32melse\u001b[0m\u001b[0;34m:\u001b[0m\u001b[0;34m\u001b[0m\u001b[0;34m\u001b[0m\u001b[0m\n",
            "\u001b[0;32m/usr/lib/python3.6/http/client.py\u001b[0m in \u001b[0;36mconnect\u001b[0;34m(self)\u001b[0m\n\u001b[1;32m   1433\u001b[0m \u001b[0;34m\u001b[0m\u001b[0m\n\u001b[0;32m-> 1434\u001b[0;31m             \u001b[0msuper\u001b[0m\u001b[0;34m(\u001b[0m\u001b[0;34m)\u001b[0m\u001b[0;34m.\u001b[0m\u001b[0mconnect\u001b[0m\u001b[0;34m(\u001b[0m\u001b[0;34m)\u001b[0m\u001b[0;34m\u001b[0m\u001b[0;34m\u001b[0m\u001b[0m\n\u001b[0m\u001b[1;32m   1435\u001b[0m \u001b[0;34m\u001b[0m\u001b[0m\n",
            "\u001b[0;32m/usr/lib/python3.6/http/client.py\u001b[0m in \u001b[0;36mconnect\u001b[0;34m(self)\u001b[0m\n\u001b[1;32m    951\u001b[0m         self.sock = self._create_connection(\n\u001b[0;32m--> 952\u001b[0;31m             (self.host,self.port), self.timeout, self.source_address)\n\u001b[0m\u001b[1;32m    953\u001b[0m         \u001b[0mself\u001b[0m\u001b[0;34m.\u001b[0m\u001b[0msock\u001b[0m\u001b[0;34m.\u001b[0m\u001b[0msetsockopt\u001b[0m\u001b[0;34m(\u001b[0m\u001b[0msocket\u001b[0m\u001b[0;34m.\u001b[0m\u001b[0mIPPROTO_TCP\u001b[0m\u001b[0;34m,\u001b[0m \u001b[0msocket\u001b[0m\u001b[0;34m.\u001b[0m\u001b[0mTCP_NODELAY\u001b[0m\u001b[0;34m,\u001b[0m \u001b[0;36m1\u001b[0m\u001b[0;34m)\u001b[0m\u001b[0;34m\u001b[0m\u001b[0;34m\u001b[0m\u001b[0m\n",
            "\u001b[0;32m/usr/lib/python3.6/socket.py\u001b[0m in \u001b[0;36mcreate_connection\u001b[0;34m(address, timeout, source_address)\u001b[0m\n\u001b[1;32m    723\u001b[0m     \u001b[0;32mif\u001b[0m \u001b[0merr\u001b[0m \u001b[0;32mis\u001b[0m \u001b[0;32mnot\u001b[0m \u001b[0;32mNone\u001b[0m\u001b[0;34m:\u001b[0m\u001b[0;34m\u001b[0m\u001b[0;34m\u001b[0m\u001b[0m\n\u001b[0;32m--> 724\u001b[0;31m         \u001b[0;32mraise\u001b[0m \u001b[0merr\u001b[0m\u001b[0;34m\u001b[0m\u001b[0;34m\u001b[0m\u001b[0m\n\u001b[0m\u001b[1;32m    725\u001b[0m     \u001b[0;32melse\u001b[0m\u001b[0;34m:\u001b[0m\u001b[0;34m\u001b[0m\u001b[0;34m\u001b[0m\u001b[0m\n",
            "\u001b[0;32m/usr/lib/python3.6/socket.py\u001b[0m in \u001b[0;36mcreate_connection\u001b[0;34m(address, timeout, source_address)\u001b[0m\n\u001b[1;32m    712\u001b[0m                 \u001b[0msock\u001b[0m\u001b[0;34m.\u001b[0m\u001b[0mbind\u001b[0m\u001b[0;34m(\u001b[0m\u001b[0msource_address\u001b[0m\u001b[0;34m)\u001b[0m\u001b[0;34m\u001b[0m\u001b[0;34m\u001b[0m\u001b[0m\n\u001b[0;32m--> 713\u001b[0;31m             \u001b[0msock\u001b[0m\u001b[0;34m.\u001b[0m\u001b[0mconnect\u001b[0m\u001b[0;34m(\u001b[0m\u001b[0msa\u001b[0m\u001b[0;34m)\u001b[0m\u001b[0;34m\u001b[0m\u001b[0;34m\u001b[0m\u001b[0m\n\u001b[0m\u001b[1;32m    714\u001b[0m             \u001b[0;31m# Break explicitly a reference cycle\u001b[0m\u001b[0;34m\u001b[0m\u001b[0;34m\u001b[0m\u001b[0;34m\u001b[0m\u001b[0m\n",
            "\u001b[0;31mOSError\u001b[0m: [Errno 99] Cannot assign requested address",
            "\nDuring handling of the above exception, another exception occurred:\n",
            "\u001b[0;31mURLError\u001b[0m                                  Traceback (most recent call last)",
            "\u001b[0;32m<ipython-input-24-433647a748ed>\u001b[0m in \u001b[0;36m<module>\u001b[0;34m()\u001b[0m\n\u001b[1;32m      2\u001b[0m \u001b[0;34m\u001b[0m\u001b[0m\n\u001b[1;32m      3\u001b[0m \u001b[0;32mfor\u001b[0m \u001b[0mj\u001b[0m \u001b[0;32min\u001b[0m \u001b[0msoup_arch\u001b[0m\u001b[0;34m:\u001b[0m\u001b[0;34m\u001b[0m\u001b[0;34m\u001b[0m\u001b[0m\n\u001b[0;32m----> 4\u001b[0;31m     \u001b[0msoup_arch2\u001b[0m \u001b[0;34m=\u001b[0m \u001b[0mBeautifulSoup\u001b[0m\u001b[0;34m(\u001b[0m\u001b[0murlopen\u001b[0m\u001b[0;34m(\u001b[0m\u001b[0mj\u001b[0m\u001b[0;34m)\u001b[0m\u001b[0;34m)\u001b[0m\u001b[0;34m\u001b[0m\u001b[0;34m\u001b[0m\u001b[0m\n\u001b[0m\u001b[1;32m      5\u001b[0m     \u001b[0mtitle\u001b[0m\u001b[0;34m=\u001b[0m\u001b[0msoup_arch2\u001b[0m\u001b[0;34m.\u001b[0m\u001b[0mfind\u001b[0m\u001b[0;34m(\u001b[0m\u001b[0;34m'h1'\u001b[0m\u001b[0;34m)\u001b[0m\u001b[0;34m\u001b[0m\u001b[0;34m\u001b[0m\u001b[0m\n\u001b[1;32m      6\u001b[0m     \u001b[0mprint\u001b[0m\u001b[0;34m(\u001b[0m\u001b[0mtitle\u001b[0m\u001b[0;34m)\u001b[0m\u001b[0;34m\u001b[0m\u001b[0;34m\u001b[0m\u001b[0m\n",
            "\u001b[0;32m/usr/lib/python3.6/urllib/request.py\u001b[0m in \u001b[0;36murlopen\u001b[0;34m(url, data, timeout, cafile, capath, cadefault, context)\u001b[0m\n\u001b[1;32m    221\u001b[0m     \u001b[0;32melse\u001b[0m\u001b[0;34m:\u001b[0m\u001b[0;34m\u001b[0m\u001b[0;34m\u001b[0m\u001b[0m\n\u001b[1;32m    222\u001b[0m         \u001b[0mopener\u001b[0m \u001b[0;34m=\u001b[0m \u001b[0m_opener\u001b[0m\u001b[0;34m\u001b[0m\u001b[0;34m\u001b[0m\u001b[0m\n\u001b[0;32m--> 223\u001b[0;31m     \u001b[0;32mreturn\u001b[0m \u001b[0mopener\u001b[0m\u001b[0;34m.\u001b[0m\u001b[0mopen\u001b[0m\u001b[0;34m(\u001b[0m\u001b[0murl\u001b[0m\u001b[0;34m,\u001b[0m \u001b[0mdata\u001b[0m\u001b[0;34m,\u001b[0m \u001b[0mtimeout\u001b[0m\u001b[0;34m)\u001b[0m\u001b[0;34m\u001b[0m\u001b[0;34m\u001b[0m\u001b[0m\n\u001b[0m\u001b[1;32m    224\u001b[0m \u001b[0;34m\u001b[0m\u001b[0m\n\u001b[1;32m    225\u001b[0m \u001b[0;32mdef\u001b[0m \u001b[0minstall_opener\u001b[0m\u001b[0;34m(\u001b[0m\u001b[0mopener\u001b[0m\u001b[0;34m)\u001b[0m\u001b[0;34m:\u001b[0m\u001b[0;34m\u001b[0m\u001b[0;34m\u001b[0m\u001b[0m\n",
            "\u001b[0;32m/usr/lib/python3.6/urllib/request.py\u001b[0m in \u001b[0;36mopen\u001b[0;34m(self, fullurl, data, timeout)\u001b[0m\n\u001b[1;32m    524\u001b[0m             \u001b[0mreq\u001b[0m \u001b[0;34m=\u001b[0m \u001b[0mmeth\u001b[0m\u001b[0;34m(\u001b[0m\u001b[0mreq\u001b[0m\u001b[0;34m)\u001b[0m\u001b[0;34m\u001b[0m\u001b[0;34m\u001b[0m\u001b[0m\n\u001b[1;32m    525\u001b[0m \u001b[0;34m\u001b[0m\u001b[0m\n\u001b[0;32m--> 526\u001b[0;31m         \u001b[0mresponse\u001b[0m \u001b[0;34m=\u001b[0m \u001b[0mself\u001b[0m\u001b[0;34m.\u001b[0m\u001b[0m_open\u001b[0m\u001b[0;34m(\u001b[0m\u001b[0mreq\u001b[0m\u001b[0;34m,\u001b[0m \u001b[0mdata\u001b[0m\u001b[0;34m)\u001b[0m\u001b[0;34m\u001b[0m\u001b[0;34m\u001b[0m\u001b[0m\n\u001b[0m\u001b[1;32m    527\u001b[0m \u001b[0;34m\u001b[0m\u001b[0m\n\u001b[1;32m    528\u001b[0m         \u001b[0;31m# post-process response\u001b[0m\u001b[0;34m\u001b[0m\u001b[0;34m\u001b[0m\u001b[0;34m\u001b[0m\u001b[0m\n",
            "\u001b[0;32m/usr/lib/python3.6/urllib/request.py\u001b[0m in \u001b[0;36m_open\u001b[0;34m(self, req, data)\u001b[0m\n\u001b[1;32m    542\u001b[0m         \u001b[0mprotocol\u001b[0m \u001b[0;34m=\u001b[0m \u001b[0mreq\u001b[0m\u001b[0;34m.\u001b[0m\u001b[0mtype\u001b[0m\u001b[0;34m\u001b[0m\u001b[0;34m\u001b[0m\u001b[0m\n\u001b[1;32m    543\u001b[0m         result = self._call_chain(self.handle_open, protocol, protocol +\n\u001b[0;32m--> 544\u001b[0;31m                                   '_open', req)\n\u001b[0m\u001b[1;32m    545\u001b[0m         \u001b[0;32mif\u001b[0m \u001b[0mresult\u001b[0m\u001b[0;34m:\u001b[0m\u001b[0;34m\u001b[0m\u001b[0;34m\u001b[0m\u001b[0m\n\u001b[1;32m    546\u001b[0m             \u001b[0;32mreturn\u001b[0m \u001b[0mresult\u001b[0m\u001b[0;34m\u001b[0m\u001b[0;34m\u001b[0m\u001b[0m\n",
            "\u001b[0;32m/usr/lib/python3.6/urllib/request.py\u001b[0m in \u001b[0;36m_call_chain\u001b[0;34m(self, chain, kind, meth_name, *args)\u001b[0m\n\u001b[1;32m    502\u001b[0m         \u001b[0;32mfor\u001b[0m \u001b[0mhandler\u001b[0m \u001b[0;32min\u001b[0m \u001b[0mhandlers\u001b[0m\u001b[0;34m:\u001b[0m\u001b[0;34m\u001b[0m\u001b[0;34m\u001b[0m\u001b[0m\n\u001b[1;32m    503\u001b[0m             \u001b[0mfunc\u001b[0m \u001b[0;34m=\u001b[0m \u001b[0mgetattr\u001b[0m\u001b[0;34m(\u001b[0m\u001b[0mhandler\u001b[0m\u001b[0;34m,\u001b[0m \u001b[0mmeth_name\u001b[0m\u001b[0;34m)\u001b[0m\u001b[0;34m\u001b[0m\u001b[0;34m\u001b[0m\u001b[0m\n\u001b[0;32m--> 504\u001b[0;31m             \u001b[0mresult\u001b[0m \u001b[0;34m=\u001b[0m \u001b[0mfunc\u001b[0m\u001b[0;34m(\u001b[0m\u001b[0;34m*\u001b[0m\u001b[0margs\u001b[0m\u001b[0;34m)\u001b[0m\u001b[0;34m\u001b[0m\u001b[0;34m\u001b[0m\u001b[0m\n\u001b[0m\u001b[1;32m    505\u001b[0m             \u001b[0;32mif\u001b[0m \u001b[0mresult\u001b[0m \u001b[0;32mis\u001b[0m \u001b[0;32mnot\u001b[0m \u001b[0;32mNone\u001b[0m\u001b[0;34m:\u001b[0m\u001b[0;34m\u001b[0m\u001b[0;34m\u001b[0m\u001b[0m\n\u001b[1;32m    506\u001b[0m                 \u001b[0;32mreturn\u001b[0m \u001b[0mresult\u001b[0m\u001b[0;34m\u001b[0m\u001b[0;34m\u001b[0m\u001b[0m\n",
            "\u001b[0;32m/usr/lib/python3.6/urllib/request.py\u001b[0m in \u001b[0;36mhttps_open\u001b[0;34m(self, req)\u001b[0m\n\u001b[1;32m   1366\u001b[0m         \u001b[0;32mdef\u001b[0m \u001b[0mhttps_open\u001b[0m\u001b[0;34m(\u001b[0m\u001b[0mself\u001b[0m\u001b[0;34m,\u001b[0m \u001b[0mreq\u001b[0m\u001b[0;34m)\u001b[0m\u001b[0;34m:\u001b[0m\u001b[0;34m\u001b[0m\u001b[0;34m\u001b[0m\u001b[0m\n\u001b[1;32m   1367\u001b[0m             return self.do_open(http.client.HTTPSConnection, req,\n\u001b[0;32m-> 1368\u001b[0;31m                 context=self._context, check_hostname=self._check_hostname)\n\u001b[0m\u001b[1;32m   1369\u001b[0m \u001b[0;34m\u001b[0m\u001b[0m\n\u001b[1;32m   1370\u001b[0m         \u001b[0mhttps_request\u001b[0m \u001b[0;34m=\u001b[0m \u001b[0mAbstractHTTPHandler\u001b[0m\u001b[0;34m.\u001b[0m\u001b[0mdo_request_\u001b[0m\u001b[0;34m\u001b[0m\u001b[0;34m\u001b[0m\u001b[0m\n",
            "\u001b[0;32m/usr/lib/python3.6/urllib/request.py\u001b[0m in \u001b[0;36mdo_open\u001b[0;34m(self, http_class, req, **http_conn_args)\u001b[0m\n\u001b[1;32m   1325\u001b[0m                           encode_chunked=req.has_header('Transfer-encoding'))\n\u001b[1;32m   1326\u001b[0m             \u001b[0;32mexcept\u001b[0m \u001b[0mOSError\u001b[0m \u001b[0;32mas\u001b[0m \u001b[0merr\u001b[0m\u001b[0;34m:\u001b[0m \u001b[0;31m# timeout error\u001b[0m\u001b[0;34m\u001b[0m\u001b[0;34m\u001b[0m\u001b[0m\n\u001b[0;32m-> 1327\u001b[0;31m                 \u001b[0;32mraise\u001b[0m \u001b[0mURLError\u001b[0m\u001b[0;34m(\u001b[0m\u001b[0merr\u001b[0m\u001b[0;34m)\u001b[0m\u001b[0;34m\u001b[0m\u001b[0;34m\u001b[0m\u001b[0m\n\u001b[0m\u001b[1;32m   1328\u001b[0m             \u001b[0mr\u001b[0m \u001b[0;34m=\u001b[0m \u001b[0mh\u001b[0m\u001b[0;34m.\u001b[0m\u001b[0mgetresponse\u001b[0m\u001b[0;34m(\u001b[0m\u001b[0;34m)\u001b[0m\u001b[0;34m\u001b[0m\u001b[0;34m\u001b[0m\u001b[0m\n\u001b[1;32m   1329\u001b[0m         \u001b[0;32mexcept\u001b[0m\u001b[0;34m:\u001b[0m\u001b[0;34m\u001b[0m\u001b[0;34m\u001b[0m\u001b[0m\n",
            "\u001b[0;31mURLError\u001b[0m: <urlopen error [Errno 99] Cannot assign requested address>"
          ]
        }
      ]
    },
    {
      "cell_type": "code",
      "metadata": {
        "id": "6Dbhcn2aS-sZ"
      },
      "source": [
        "soup = BeautifulSoup(page.text, 'html.parser')\n",
        "\n",
        "last_links = soup.find(class_='AlphaNav')\n",
        "last_links.decompose()\n",
        "\n",
        "artist_name_list = soup.find(class_='BodyText')\n",
        "artist_name_list_items = artist_name_list.find_all('a')\n",
        "\n",
        "# Use .contents to pull out the <a> tag’s children\n",
        "for artist_name in artist_name_list_items:\n",
        "    names = artist_name.contents[0]\n",
        "    print(names)"
      ],
      "execution_count": null,
      "outputs": []
    }
  ]
}